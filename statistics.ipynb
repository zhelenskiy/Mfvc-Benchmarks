{
 "cells": [
  {
   "cell_type": "code",
   "execution_count": 1,
   "outputs": [
    {
     "data": {
      "text/html": "            <div id=\"kotlin_out_0\"/>\n            <script type=\"text/javascript\">\n                            if(!window.kotlinQueues) {\n                window.kotlinQueues = {};\n            }\n            if(!window.kotlinQueues[\"kandyLetsPlot\"]) {\n                var resQueue = [];\n                window.kotlinQueues[\"kandyLetsPlot\"] = resQueue;\n                window[\"call_kandyLetsPlot\"] = function(f) {\n                    resQueue.push(f);\n                }\n            }\n            (function (){\n                var modifiers = [(function(script) {\n    script.src = \"https://cdn.jsdelivr.net/gh/JetBrains/lets-plot@v3.1.0/js-package/distr/lets-plot.min.js\"\n    script.type = \"text/javascript\";\n})];\n                var e = document.getElementById(\"kotlin_out_0\");\n                modifiers.forEach(function (gen) {\n                    var script = document.createElement(\"script\");\n                    gen(script)\n                    script.addEventListener(\"load\", function() {\n                        window[\"call_kandyLetsPlot\"] = function(f) {f();};\n                        window.kotlinQueues[\"kandyLetsPlot\"].forEach(function(f) {f();});\n                        window.kotlinQueues[\"kandyLetsPlot\"] = [];\n                    }, false);\n                    script.addEventListener(\"error\", function() {\n                        window[\"call_kandyLetsPlot\"] = function(f) {};\n                        window.kotlinQueues[\"kandyLetsPlot\"] = [];\n                        var div = document.createElement(\"div\");\n                        div.style.color = 'darkred';\n                        div.textContent = 'Error loading resource kandyLetsPlot';\n                        document.getElementById(\"kotlin_out_0\").appendChild(div);\n                    }, false);\n                    \n                    e.appendChild(script);\n                });\n            })();\n            </script>"
     },
     "metadata": {},
     "output_type": "display_data"
    }
   ],
   "source": [
    "%use kandy, dataframe"
   ],
   "metadata": {
    "collapsed": false,
    "ExecuteTime": {
     "end_time": "2023-07-09T16:55:14.539028Z",
     "start_time": "2023-07-09T16:54:34.038075Z"
    }
   }
  },
  {
   "cell_type": "code",
   "execution_count": 2,
   "outputs": [],
   "source": [
    "import java.nio.file.Files\n",
    "import java.nio.file.Path\n",
    "\n",
    "@DataSchema\n",
    "data class BenchmarkData(\n",
    "    val name: String,\n",
    "    val score: Double,\n",
    "    val error: Double,\n",
    "    val type: Type = getType(name),\n",
    ") {\n",
    "    override fun toString(): String = \"$name: $score ± $error ns/op\"\n",
    "}\n",
    "\n",
    "enum class Type { Int, Long, Float, Double }\n",
    "\n",
    "fun getType(name: String) = when {\n",
    "    name.contains(\"Float\") -> Type.Float\n",
    "    name.contains(\"Int\") -> Type.Int\n",
    "    name.contains(\"Double\") -> Type.Double\n",
    "    name.contains(\"Long\") -> Type.Long // Long must be the last as it is contained in other test names\n",
    "    else -> error(\"Unknown type: ${name}\")\n",
    "}\n",
    "\n",
    "fun List<String>.parseBenchmarkData(regex: Regex) = mapNotNull {\n",
    "    val match = regex.matchEntire(it) ?: return@mapNotNull null\n",
    "    BenchmarkData(\n",
    "        name = match.groups[\"name\"]!!.value,\n",
    "        score = match.groups[\"score\"]!!.value.toDouble(),\n",
    "        error = match.groups[\"error\"]!!.value.toDouble(),\n",
    "    )\n",
    "}.toDataFrame().sortBy(\"type\", \"name\")\n",
    "\n",
    "fun readJmhBenchmarkData(fileName: String, benchmarkName: String) = Files.readAllLines(Path.of(\"results\", \"jmh\", fileName))\n",
    "        .parseBenchmarkData(Regex(\"$benchmarkName\\\\.(?<name>[^ ]+) +avgt +\\\\d+ +(?<score>[0-9.]+) +± +(?<error>[0-9.]+) +ns/op\"))\n",
    "\n",
    "fun readHotspotBenchmarkData(benchmarkName: String) = readJmhBenchmarkData(\"Hotspot.txt\", benchmarkName)\n",
    "\n",
    "fun readGraalBenchmarkData(benchmarkName: String) = readJmhBenchmarkData(\"Graal.txt\", benchmarkName)\n",
    "\n",
    "fun readValhallaHotspotBenchmarkData(benchmarkName: String) = readJmhBenchmarkData(\"Hotspot-Valhalla.txt\", benchmarkName)"
   ],
   "metadata": {
    "collapsed": false,
    "ExecuteTime": {
     "end_time": "2023-07-09T16:55:33.029790Z",
     "start_time": "2023-07-09T16:55:14.518622Z"
    }
   }
  },
  {
   "cell_type": "code",
   "execution_count": 3,
   "outputs": [
    {
     "data": {
      "text/html": "            <iframe onload=\"o_resize_iframe_out_1()\" style=\"width:100%;\" class=\"result_container\" id=\"iframe_out_1\" frameBorder=\"0\" srcdoc=\"        &lt;html theme='dark'&gt;\n        &lt;head&gt;\n            &lt;style type=&quot;text&sol;css&quot;&gt;\n                :root {\n    --background: #fff;\n    --background-odd: #f5f5f5;\n    --background-hover: #d9edfd;\n    --header-text-color: #474747;\n    --text-color: #848484;\n    --text-color-dark: #000;\n    --text-color-medium: #737373;\n    --text-color-pale: #b3b3b3;\n    --inner-border-color: #aaa;\n    --bold-border-color: #000;\n    --link-color: #296eaa;\n    --link-color-pale: #296eaa;\n    --link-hover: #1a466c;\n}\n\n:root[theme=&quot;dark&quot;], :root [data-jp-theme-light=&quot;false&quot;], .dataframe_dark{\n    --background: #303030;\n    --background-odd: #3c3c3c;\n    --background-hover: #464646;\n    --header-text-color: #dddddd;\n    --text-color: #b3b3b3;\n    --text-color-dark: #dddddd;\n    --text-color-medium: #b2b2b2;\n    --text-color-pale: #737373;\n    --inner-border-color: #707070;\n    --bold-border-color: #777777;\n    --link-color: #008dc0;\n    --link-color-pale: #97e1fb;\n    --link-hover: #00688e;\n}\n\np.dataframe_description {\n    color: var(--text-color-dark);\n}\n\ntable.dataframe {\n    font-family: &quot;Helvetica Neue&quot;, Helvetica, Arial, sans-serif;\n    font-size: 12px;\n    background-color: var(--background);\n    color: var(--text-color-dark);\n    border: none;\n    border-collapse: collapse;\n}\n\ntable.dataframe th, td {\n    padding: 6px;\n    border: 1px solid transparent;\n    text-align: left;\n}\n\ntable.dataframe th {\n    background-color: var(--background);\n    color: var(--header-text-color);\n}\n\ntable.dataframe td {\n    vertical-align: top;\n}\n\ntable.dataframe th.bottomBorder {\n    border-bottom-color: var(--bold-border-color);\n}\n\ntable.dataframe tbody &gt; tr:nth-child(odd) {\n    background: var(--background-odd);\n}\n\ntable.dataframe tbody &gt; tr:nth-child(even) {\n    background: var(--background);\n}\n\ntable.dataframe tbody &gt; tr:hover {\n    background: var(--background-hover);\n}\n\ntable.dataframe a {\n    cursor: pointer;\n    color: var(--link-color);\n    text-decoration: none;\n}\n\ntable.dataframe tr:hover &gt; td a {\n    color: var(--link-color-pale);\n}\n\ntable.dataframe a:hover {\n    color: var(--link-hover);\n    text-decoration: underline;\n}\n\ntable.dataframe img {\n    max-width: fit-content;\n}\n\ntable.dataframe th.complex {\n    background-color: var(--background);\n    border: 1px solid var(--background);\n}\n\ntable.dataframe .leftBorder {\n    border-left-color: var(--inner-border-color);\n}\n\ntable.dataframe .rightBorder {\n    border-right-color: var(--inner-border-color);\n}\n\ntable.dataframe .rightAlign {\n    text-align: right;\n}\n\ntable.dataframe .expanderSvg {\n    width: 8px;\n    height: 8px;\n    margin-right: 3px;\n}\n\ntable.dataframe .expander {\n    display: flex;\n    align-items: center;\n}\n\n&sol;* formatting *&sol;\n\ntable.dataframe .null {\n    color: var(--text-color-pale);\n}\n\ntable.dataframe .structural {\n    color: var(--text-color-medium);\n    font-weight: bold;\n}\n\ntable.dataframe .dataFrameCaption {\n    font-weight: bold;\n}\n\ntable.dataframe .numbers {\n    color: var(--text-color-dark);\n}\n\ntable.dataframe td:hover .formatted .structural, .null {\n    color: var(--text-color-dark);\n}\n\ntable.dataframe tr:hover .formatted .structural, .null {\n    color: var(--text-color-dark);\n}\n\n\n\n\n:root {\n    --scroll-bg: #f5f5f5;\n    --scroll-fg: #b3b3b3;\n}\n:root[theme=&quot;dark&quot;], :root [data-jp-theme-light=&quot;false&quot;]{\n    --scroll-bg: #3c3c3c;\n    --scroll-fg: #97e1fb;\n}\nbody {\n    scrollbar-color: var(--scroll-fg) var(--scroll-bg);\n}\nbody::-webkit-scrollbar {\n    width: 10px; &sol;* Mostly for vertical scrollbars *&sol;\n    height: 10px; &sol;* Mostly for horizontal scrollbars *&sol;\n}\nbody::-webkit-scrollbar-thumb {\n    background-color: var(--scroll-fg);\n}\nbody::-webkit-scrollbar-track {\n    background-color: var(--scroll-bg);\n}\n            &lt;&sol;style&gt;\n        &lt;&sol;head&gt;\n        &lt;body&gt;\n            \n&lt;table class=&quot;dataframe&quot; id=&quot;df_16777216&quot;&gt;&lt;&sol;table&gt;\n\n&lt;p class=&quot;dataframe_description&quot;&gt;DataFrame: rowsCount = 16, columnsCount = 4&lt;&sol;p&gt;\n\n        &lt;&sol;body&gt;\n        &lt;script&gt;\n            (function () {\n    window.DataFrame = window.DataFrame || new (function () {\n        this.addTable = function (df) {\n            let cols = df.cols;\n            for (let i = 0; i &lt; cols.length; i++) {\n                for (let c of cols[i].children) {\n                    cols[c].parent = i;\n                }\n            }\n            df.nrow = 0\n            for (let i = 0; i &lt; df.cols.length; i++) {\n                if (df.cols[i].values.length &gt; df.nrow) df.nrow = df.cols[i].values.length\n            }\n            if (df.id === df.rootId) {\n                df.expandedFrames = new Set()\n                df.childFrames = {}\n                const table = this.getTableElement(df.id)\n                table.df = df\n                for (let i = 0; i &lt; df.cols.length; i++) {\n                    let col = df.cols[i]\n                    if (col.parent === undefined &amp;&amp; col.children.length &gt; 0) col.expanded = true\n                }\n            } else {\n                const rootDf = this.getTableData(df.rootId)\n                rootDf.childFrames[df.id] = df\n            }\n        }\n\n        this.computeRenderData = function (df) {\n            let result = []\n            let pos = 0\n            for (let col = 0; col &lt; df.cols.length; col++) {\n                if (df.cols[col].parent === undefined)\n                    pos += this.computeRenderDataRec(df.cols, col, pos, 0, result, false, false)\n            }\n            for (let i = 0; i &lt; result.length; i++) {\n                let row = result[i]\n                for (let j = 0; j &lt; row.length; j++) {\n                    let cell = row[j]\n                    if (j === 0)\n                        cell.leftBd = false\n                    if (j &lt; row.length - 1) {\n                        let nextData = row[j + 1]\n                        if (nextData.leftBd) cell.rightBd = true\n                        else if (cell.rightBd) nextData.leftBd = true\n                    } else cell.rightBd = false\n                }\n            }\n            return result\n        }\n\n        this.computeRenderDataRec = function (cols, colId, pos, depth, result, leftBorder, rightBorder) {\n            if (result.length === depth) {\n                const array = [];\n                if (pos &gt; 0) {\n                    let j = 0\n                    for (let i = 0; j &lt; pos; i++) {\n                        let c = result[depth - 1][i]\n                        j += c.span\n                        let copy = Object.assign({empty: true}, c)\n                        array.push(copy)\n                    }\n                }\n                result.push(array)\n            }\n            const col = cols[colId];\n            let size = 0;\n            if (col.expanded) {\n                let childPos = pos\n                for (let i = 0; i &lt; col.children.length; i++) {\n                    let child = col.children[i]\n                    let childLeft = i === 0 &amp;&amp; (col.children.length &gt; 1 || leftBorder)\n                    let childRight = i === col.children.length - 1 &amp;&amp; (col.children.length &gt; 1 || rightBorder)\n                    let childSize = this.computeRenderDataRec(cols, child, childPos, depth + 1, result, childLeft, childRight)\n                    childPos += childSize\n                    size += childSize\n                }\n            } else {\n                for (let i = depth + 1; i &lt; result.length; i++)\n                    result[i].push({id: colId, span: 1, leftBd: leftBorder, rightBd: rightBorder, empty: true})\n                size = 1\n            }\n            let left = leftBorder\n            let right = rightBorder\n            if (size &gt; 1) {\n                left = true\n                right = true\n            }\n            result[depth].push({id: colId, span: size, leftBd: left, rightBd: right})\n            return size\n        }\n\n        this.getTableElement = function (id) {\n            return document.getElementById(&quot;df_&quot; + id)\n        }\n\n        this.getTableData = function (id) {\n            return this.getTableElement(id).df\n        }\n\n        this.createExpander = function (isExpanded) {\n            const svgNs = &quot;http:&sol;&sol;www.w3.org&sol;2000&sol;svg&quot;\n            let svg = document.createElementNS(svgNs, &quot;svg&quot;)\n            svg.classList.add(&quot;expanderSvg&quot;)\n            let path = document.createElementNS(svgNs, &quot;path&quot;)\n            if (isExpanded) {\n                svg.setAttribute(&quot;viewBox&quot;, &quot;0 -2 8 8&quot;)\n                path.setAttribute(&quot;d&quot;, &quot;M1 0 l-1 1 4 4 4 -4 -1 -1 -3 3Z&quot;)\n            } else {\n                svg.setAttribute(&quot;viewBox&quot;, &quot;-2 0 8 8&quot;)\n                path.setAttribute(&quot;d&quot;, &quot;M1 0 l-1 1 3 3 -3 3 1 1 4 -4Z&quot;)\n            }\n            path.setAttribute(&quot;fill&quot;, &quot;currentColor&quot;)\n            svg.appendChild(path)\n            return svg\n        }\n\n        this.renderTable = function (id) {\n\n            let table = this.getTableElement(id)\n\n            if (table === null) return\n\n            table.innerHTML = &quot;&quot;\n\n            let df = table.df\n            let rootDf = df.rootId === df.id ? df : this.getTableData(df.rootId)\n\n            &sol;&sol; header\n            let header = document.createElement(&quot;thead&quot;)\n            table.appendChild(header)\n\n            let renderData = this.computeRenderData(df)\n            for (let j = 0; j &lt; renderData.length; j++) {\n                let rowData = renderData[j]\n                let tr = document.createElement(&quot;tr&quot;);\n                let isLastRow = j === renderData.length - 1\n                header.appendChild(tr);\n                for (let i = 0; i &lt; rowData.length; i++) {\n                    let cell = rowData[i]\n                    let th = document.createElement(&quot;th&quot;);\n                    th.setAttribute(&quot;colspan&quot;, cell.span)\n                    let colId = cell.id\n                    let col = df.cols[colId];\n                    if (!cell.empty) {\n                        if (col.children.length === 0) {\n                            th.innerHTML = col.name\n                        } else {\n                            let link = document.createElement(&quot;a&quot;)\n                            link.className = &quot;expander&quot;\n                            let that = this\n                            link.onclick = function () {\n                                col.expanded = !col.expanded\n                                that.renderTable(id)\n                            }\n                            link.appendChild(this.createExpander(col.expanded))\n                            link.innerHTML += col.name\n                            th.appendChild(link)\n                        }\n                    }\n                    let classes = (cell.leftBd ? &quot; leftBorder&quot; : &quot;&quot;) + (cell.rightBd ? &quot; rightBorder&quot; : &quot;&quot;)\n                    if (col.rightAlign)\n                        classes += &quot; rightAlign&quot;\n                    if (isLastRow)\n                        classes += &quot; bottomBorder&quot;\n                    if (classes.length &gt; 0)\n                        th.setAttribute(&quot;class&quot;, classes)\n                    tr.appendChild(th)\n                }\n            }\n\n            &sol;&sol; body\n            let body = document.createElement(&quot;tbody&quot;)\n            table.appendChild(body)\n\n            let columns = renderData.pop()\n            for (let row = 0; row &lt; df.nrow; row++) {\n                let tr = document.createElement(&quot;tr&quot;);\n                body.appendChild(tr)\n                for (let i = 0; i &lt; columns.length; i++) {\n                    let cell = columns[i]\n                    let td = document.createElement(&quot;td&quot;);\n                    let colId = cell.id\n                    let col = df.cols[colId]\n                    let classes = (cell.leftBd ? &quot; leftBorder&quot; : &quot;&quot;) + (cell.rightBd ? &quot; rightBorder&quot; : &quot;&quot;)\n                    if (col.rightAlign)\n                        classes += &quot; rightAlign&quot;\n                    if (classes.length &gt; 0)\n                        td.setAttribute(&quot;class&quot;, classes)\n                    tr.appendChild(td)\n                    let value = col.values[row]\n                    if (value.frameId !== undefined) {\n                        let frameId = value.frameId\n                        let expanded = rootDf.expandedFrames.has(frameId)\n                        let link = document.createElement(&quot;a&quot;)\n                        link.className = &quot;expander&quot;\n                        let that = this\n                        link.onclick = function () {\n                            if (rootDf.expandedFrames.has(frameId))\n                                rootDf.expandedFrames.delete(frameId)\n                            else rootDf.expandedFrames.add(frameId)\n                            that.renderTable(id)\n                        }\n                        link.appendChild(this.createExpander(expanded))\n                        link.innerHTML += value.value\n                        if (expanded) {\n                            td.appendChild(link)\n                            td.appendChild(document.createElement(&quot;p&quot;))\n                            const childTable = document.createElement(&quot;table&quot;)\n                            childTable.className = &quot;dataframe&quot;\n                            childTable.id = &quot;df_&quot; + frameId\n                            let childDf = rootDf.childFrames[frameId]\n                            childTable.df = childDf\n                            td.appendChild(childTable)\n                            this.renderTable(frameId)\n                            if (childDf.nrow !== childDf.totalRows) {\n                                const footer = document.createElement(&quot;p&quot;)\n                                footer.innerText = `... showing only top ${childDf.nrow} of ${childDf.totalRows} rows`\n                                td.appendChild(footer)\n                            }\n                        } else {\n                            td.appendChild(link)\n                        }\n                    } else if (value.style !== undefined) {\n                        td.innerHTML = value.value\n                        td.setAttribute(&quot;style&quot;, value.style)\n                    } else td.innerHTML = value\n                    this.nodeScriptReplace(td)\n                }\n            }\n        }\n\n        this.nodeScriptReplace = function (node) {\n            if (this.nodeScriptIs(node) === true) {\n                node.parentNode.replaceChild(this.nodeScriptClone(node), node);\n            } else {\n                let i = -1, children = node.childNodes;\n                while (++i &lt; children.length) {\n                    this.nodeScriptReplace(children[i]);\n                }\n            }\n\n            return node;\n        }\n\n        this.nodeScriptClone = function (node) {\n            let script = document.createElement(&quot;script&quot;);\n            script.text = node.innerHTML;\n\n            let i = -1, attrs = node.attributes, attr;\n            while (++i &lt; attrs.length) {\n                script.setAttribute((attr = attrs[i]).name, attr.value);\n            }\n            return script;\n        }\n\n        this.nodeScriptIs = function (node) {\n            return node.tagName === 'SCRIPT';\n        }\n    })()\n\n    window.call_DataFrame = function (f) {\n        return f();\n    };\n\n    let funQueue = window[&quot;kotlinQueues&quot;] &amp;&amp; window[&quot;kotlinQueues&quot;][&quot;DataFrame&quot;];\n    if (funQueue) {\n        funQueue.forEach(function (f) {\n            f();\n        });\n        funQueue = [];\n    }\n})()\n\n&sol;*&lt;!--*&sol;\ncall_DataFrame(function() { DataFrame.addTable({ cols: [{ name: &quot;&lt;span title=&bsol;&quot;name: String&bsol;&quot;&gt;name&lt;&sol;span&gt;&quot;, children: [], rightAlign: false, values: [&quot;baselineFloat&quot;,&quot;inlineFloat&quot;,&quot;longPackFloat&quot;,&quot;mutableSpecificRefFloat&quot;,&quot;mutableUniversalRefFloatIn1Long&quot;,&quot;mutableUniversalRefFloatIn2Longs&quot;,&quot;valueFloat&quot;,&quot;valueInlineFloat&quot;,&quot;valuePreserveBoxFloat&quot;,&quot;baselineDouble&quot;,&quot;inlineDouble&quot;,&quot;mutableSpecificRefDouble&quot;,&quot;mutableUniversalRefDouble&quot;,&quot;valueDouble&quot;,&quot;valueInlineDouble&quot;,&quot;valuePreserveBoxDouble&quot;] }, \n{ name: &quot;&lt;span title=&bsol;&quot;score: Double&bsol;&quot;&gt;score&lt;&sol;span&gt;&quot;, children: [], rightAlign: true, values: [&quot;&lt;span class=&bsol;&quot;formatted&bsol;&quot; title=&bsol;&quot;&bsol;&quot;&gt;&lt;span class=&bsol;&quot;numbers&bsol;&quot;&gt;32777794.122&lt;&sol;span&gt;&lt;&sol;span&gt;&quot;,&quot;&lt;span class=&bsol;&quot;formatted&bsol;&quot; title=&bsol;&quot;&bsol;&quot;&gt;&lt;span class=&bsol;&quot;numbers&bsol;&quot;&gt;32454402.942&lt;&sol;span&gt;&lt;&sol;span&gt;&quot;,&quot;&lt;span class=&bsol;&quot;formatted&bsol;&quot; title=&bsol;&quot;&bsol;&quot;&gt;&lt;span class=&bsol;&quot;numbers&bsol;&quot;&gt;56637237.703&lt;&sol;span&gt;&lt;&sol;span&gt;&quot;,&quot;&lt;span class=&bsol;&quot;formatted&bsol;&quot; title=&bsol;&quot;&bsol;&quot;&gt;&lt;span class=&bsol;&quot;numbers&bsol;&quot;&gt;23727817.417&lt;&sol;span&gt;&lt;&sol;span&gt;&quot;,&quot;&lt;span class=&bsol;&quot;formatted&bsol;&quot; title=&bsol;&quot;&bsol;&quot;&gt;&lt;span class=&bsol;&quot;numbers&bsol;&quot;&gt;63879335.429&lt;&sol;span&gt;&lt;&sol;span&gt;&quot;,&quot;&lt;span class=&bsol;&quot;formatted&bsol;&quot; title=&bsol;&quot;&bsol;&quot;&gt;&lt;span class=&bsol;&quot;numbers&bsol;&quot;&gt;38662847.293&lt;&sol;span&gt;&lt;&sol;span&gt;&quot;,&quot;&lt;span class=&bsol;&quot;formatted&bsol;&quot; title=&bsol;&quot;&bsol;&quot;&gt;&lt;span class=&bsol;&quot;numbers&bsol;&quot;&gt;24604456.636&lt;&sol;span&gt;&lt;&sol;span&gt;&quot;,&quot;&lt;span class=&bsol;&quot;formatted&bsol;&quot; title=&bsol;&quot;&bsol;&quot;&gt;&lt;span class=&bsol;&quot;numbers&bsol;&quot;&gt;24917343.507&lt;&sol;span&gt;&lt;&sol;span&gt;&quot;,&quot;&lt;span class=&bsol;&quot;formatted&bsol;&quot; title=&bsol;&quot;&bsol;&quot;&gt;&lt;span class=&bsol;&quot;numbers&bsol;&quot;&gt;25026109.333&lt;&sol;span&gt;&lt;&sol;span&gt;&quot;,&quot;&lt;span class=&bsol;&quot;formatted&bsol;&quot; title=&bsol;&quot;&bsol;&quot;&gt;&lt;span class=&bsol;&quot;numbers&bsol;&quot;&gt;33724536.015&lt;&sol;span&gt;&lt;&sol;span&gt;&quot;,&quot;&lt;span class=&bsol;&quot;formatted&bsol;&quot; title=&bsol;&quot;&bsol;&quot;&gt;&lt;span class=&bsol;&quot;numbers&bsol;&quot;&gt;34364489.472&lt;&sol;span&gt;&lt;&sol;span&gt;&quot;,&quot;&lt;span class=&bsol;&quot;formatted&bsol;&quot; title=&bsol;&quot;&bsol;&quot;&gt;&lt;span class=&bsol;&quot;numbers&bsol;&quot;&gt;23247218.375&lt;&sol;span&gt;&lt;&sol;span&gt;&quot;,&quot;&lt;span class=&bsol;&quot;formatted&bsol;&quot; title=&bsol;&quot;&bsol;&quot;&gt;&lt;span class=&bsol;&quot;numbers&bsol;&quot;&gt;39424299.820&lt;&sol;span&gt;&lt;&sol;span&gt;&quot;,&quot;&lt;span class=&bsol;&quot;formatted&bsol;&quot; title=&bsol;&quot;&bsol;&quot;&gt;&lt;span class=&bsol;&quot;numbers&bsol;&quot;&gt;24616159.057&lt;&sol;span&gt;&lt;&sol;span&gt;&quot;,&quot;&lt;span class=&bsol;&quot;formatted&bsol;&quot; title=&bsol;&quot;&bsol;&quot;&gt;&lt;span class=&bsol;&quot;numbers&bsol;&quot;&gt;24570258.084&lt;&sol;span&gt;&lt;&sol;span&gt;&quot;,&quot;&lt;span class=&bsol;&quot;formatted&bsol;&quot; title=&bsol;&quot;&bsol;&quot;&gt;&lt;span class=&bsol;&quot;numbers&bsol;&quot;&gt;24515243.674&lt;&sol;span&gt;&lt;&sol;span&gt;&quot;] }, \n{ name: &quot;&lt;span title=&bsol;&quot;error: Double&bsol;&quot;&gt;error&lt;&sol;span&gt;&quot;, children: [], rightAlign: true, values: [&quot;&lt;span class=&bsol;&quot;formatted&bsol;&quot; title=&bsol;&quot;&bsol;&quot;&gt;&lt;span class=&bsol;&quot;numbers&bsol;&quot;&gt;117599.149&lt;&sol;span&gt;&lt;&sol;span&gt;&quot;,&quot;&lt;span class=&bsol;&quot;formatted&bsol;&quot; title=&bsol;&quot;&bsol;&quot;&gt;&lt;span class=&bsol;&quot;numbers&bsol;&quot;&gt;71914.263&lt;&sol;span&gt;&lt;&sol;span&gt;&quot;,&quot;&lt;span class=&bsol;&quot;formatted&bsol;&quot; title=&bsol;&quot;&bsol;&quot;&gt;&lt;span class=&bsol;&quot;numbers&bsol;&quot;&gt;30654.969&lt;&sol;span&gt;&lt;&sol;span&gt;&quot;,&quot;&lt;span class=&bsol;&quot;formatted&bsol;&quot; title=&bsol;&quot;&bsol;&quot;&gt;&lt;span class=&bsol;&quot;numbers&bsol;&quot;&gt;38906.477&lt;&sol;span&gt;&lt;&sol;span&gt;&quot;,&quot;&lt;span class=&bsol;&quot;formatted&bsol;&quot; title=&bsol;&quot;&bsol;&quot;&gt;&lt;span class=&bsol;&quot;numbers&bsol;&quot;&gt;207183.718&lt;&sol;span&gt;&lt;&sol;span&gt;&quot;,&quot;&lt;span class=&bsol;&quot;formatted&bsol;&quot; title=&bsol;&quot;&bsol;&quot;&gt;&lt;span class=&bsol;&quot;numbers&bsol;&quot;&gt;62597.210&lt;&sol;span&gt;&lt;&sol;span&gt;&quot;,&quot;&lt;span class=&bsol;&quot;formatted&bsol;&quot; title=&bsol;&quot;&bsol;&quot;&gt;&lt;span class=&bsol;&quot;numbers&bsol;&quot;&gt;363608.407&lt;&sol;span&gt;&lt;&sol;span&gt;&quot;,&quot;&lt;span class=&bsol;&quot;formatted&bsol;&quot; title=&bsol;&quot;&bsol;&quot;&gt;&lt;span class=&bsol;&quot;numbers&bsol;&quot;&gt;35561.195&lt;&sol;span&gt;&lt;&sol;span&gt;&quot;,&quot;&lt;span class=&bsol;&quot;formatted&bsol;&quot; title=&bsol;&quot;&bsol;&quot;&gt;&lt;span class=&bsol;&quot;numbers&bsol;&quot;&gt;75842.585&lt;&sol;span&gt;&lt;&sol;span&gt;&quot;,&quot;&lt;span class=&bsol;&quot;formatted&bsol;&quot; title=&bsol;&quot;&bsol;&quot;&gt;&lt;span class=&bsol;&quot;numbers&bsol;&quot;&gt;90546.797&lt;&sol;span&gt;&lt;&sol;span&gt;&quot;,&quot;&lt;span class=&bsol;&quot;formatted&bsol;&quot; title=&bsol;&quot;&bsol;&quot;&gt;&lt;span class=&bsol;&quot;numbers&bsol;&quot;&gt;204342.150&lt;&sol;span&gt;&lt;&sol;span&gt;&quot;,&quot;&lt;span class=&bsol;&quot;formatted&bsol;&quot; title=&bsol;&quot;&bsol;&quot;&gt;&lt;span class=&bsol;&quot;numbers&bsol;&quot;&gt;37047.305&lt;&sol;span&gt;&lt;&sol;span&gt;&quot;,&quot;&lt;span class=&bsol;&quot;formatted&bsol;&quot; title=&bsol;&quot;&bsol;&quot;&gt;&lt;span class=&bsol;&quot;numbers&bsol;&quot;&gt;65405.138&lt;&sol;span&gt;&lt;&sol;span&gt;&quot;,&quot;&lt;span class=&bsol;&quot;formatted&bsol;&quot; title=&bsol;&quot;&bsol;&quot;&gt;&lt;span class=&bsol;&quot;numbers&bsol;&quot;&gt;108055.950&lt;&sol;span&gt;&lt;&sol;span&gt;&quot;,&quot;&lt;span class=&bsol;&quot;formatted&bsol;&quot; title=&bsol;&quot;&bsol;&quot;&gt;&lt;span class=&bsol;&quot;numbers&bsol;&quot;&gt;157137.427&lt;&sol;span&gt;&lt;&sol;span&gt;&quot;,&quot;&lt;span class=&bsol;&quot;formatted&bsol;&quot; title=&bsol;&quot;&bsol;&quot;&gt;&lt;span class=&bsol;&quot;numbers&bsol;&quot;&gt;99634.239&lt;&sol;span&gt;&lt;&sol;span&gt;&quot;] }, \n{ name: &quot;&lt;span title=&bsol;&quot;type: Line_9_jupyter.Type&bsol;&quot;&gt;type&lt;&sol;span&gt;&quot;, children: [], rightAlign: false, values: [&quot;Float&quot;,&quot;Float&quot;,&quot;Float&quot;,&quot;Float&quot;,&quot;Float&quot;,&quot;Float&quot;,&quot;Float&quot;,&quot;Float&quot;,&quot;Float&quot;,&quot;Double&quot;,&quot;Double&quot;,&quot;Double&quot;,&quot;Double&quot;,&quot;Double&quot;,&quot;Double&quot;,&quot;Double&quot;] }, \n], id: 16777216, rootId: 16777216, totalRows: 16 } ) });\n&sol;*--&gt;*&sol;\n\ncall_DataFrame(function() { DataFrame.renderTable(16777216) });\n\n\n\n        &lt;&sol;script&gt;\n        &lt;&sol;html&gt;\"></iframe>\n            <script>\n                function o_resize_iframe_out_1() {\n                    let elem = document.getElementById(\"iframe_out_1\");\n                    resize_iframe_out_1(elem);\n                    setInterval(resize_iframe_out_1, 5000, elem);\n                }\n                function resize_iframe_out_1(el) {\n                    let h = el.contentWindow.document.body.scrollHeight;\n                    el.height = h === 0 ? 0 : h + 41;\n                }\n            </script>",
      "application/kotlindataframe+json": "{\"nrow\":16,\"ncol\":4,\"columns\":[\"name\",\"score\",\"error\",\"type\"],\"kotlin_dataframe\":[{\"name\":\"baselineFloat\",\"score\":3.2777794122E7,\"error\":117599.149,\"type\":\"Float\"},{\"name\":\"inlineFloat\",\"score\":3.2454402942E7,\"error\":71914.263,\"type\":\"Float\"},{\"name\":\"longPackFloat\",\"score\":5.6637237703E7,\"error\":30654.969,\"type\":\"Float\"},{\"name\":\"mutableSpecificRefFloat\",\"score\":2.3727817417E7,\"error\":38906.477,\"type\":\"Float\"},{\"name\":\"mutableUniversalRefFloatIn1Long\",\"score\":6.3879335429E7,\"error\":207183.718,\"type\":\"Float\"},{\"name\":\"mutableUniversalRefFloatIn2Longs\",\"score\":3.8662847293E7,\"error\":62597.21,\"type\":\"Float\"},{\"name\":\"valueFloat\",\"score\":2.4604456636E7,\"error\":363608.407,\"type\":\"Float\"},{\"name\":\"valueInlineFloat\",\"score\":2.4917343507E7,\"error\":35561.195,\"type\":\"Float\"},{\"name\":\"valuePreserveBoxFloat\",\"score\":2.5026109333E7,\"error\":75842.585,\"type\":\"Float\"},{\"name\":\"baselineDouble\",\"score\":3.3724536015E7,\"error\":90546.797,\"type\":\"Double\"},{\"name\":\"inlineDouble\",\"score\":3.4364489472E7,\"error\":204342.15,\"type\":\"Double\"},{\"name\":\"mutableSpecificRefDouble\",\"score\":2.3247218375E7,\"error\":37047.305,\"type\":\"Double\"},{\"name\":\"mutableUniversalRefDouble\",\"score\":3.942429982E7,\"error\":65405.138,\"type\":\"Double\"},{\"name\":\"valueDouble\",\"score\":2.4616159057E7,\"error\":108055.95,\"type\":\"Double\"},{\"name\":\"valueInlineDouble\",\"score\":2.4570258084E7,\"error\":157137.427,\"type\":\"Double\"},{\"name\":\"valuePreserveBoxDouble\",\"score\":2.4515243674E7,\"error\":99634.239,\"type\":\"Double\"}]}"
     },
     "execution_count": 3,
     "metadata": {},
     "output_type": "execute_result"
    }
   ],
   "source": [
    "readHotspotBenchmarkData(\"Wolf3dBenchmark\")"
   ],
   "metadata": {
    "collapsed": false,
    "ExecuteTime": {
     "end_time": "2023-07-09T16:55:33.873825Z",
     "start_time": "2023-07-09T16:55:33.029385Z"
    }
   }
  },
  {
   "cell_type": "code",
   "execution_count": 4,
   "outputs": [
    {
     "data": {
      "text/html": "            <iframe onload=\"o_resize_iframe_out_2()\" style=\"width:100%;\" class=\"result_container\" id=\"iframe_out_2\" frameBorder=\"0\" srcdoc=\"        &lt;html theme='dark'&gt;\n        &lt;head&gt;\n            &lt;style type=&quot;text&sol;css&quot;&gt;\n                :root {\n    --background: #fff;\n    --background-odd: #f5f5f5;\n    --background-hover: #d9edfd;\n    --header-text-color: #474747;\n    --text-color: #848484;\n    --text-color-dark: #000;\n    --text-color-medium: #737373;\n    --text-color-pale: #b3b3b3;\n    --inner-border-color: #aaa;\n    --bold-border-color: #000;\n    --link-color: #296eaa;\n    --link-color-pale: #296eaa;\n    --link-hover: #1a466c;\n}\n\n:root[theme=&quot;dark&quot;], :root [data-jp-theme-light=&quot;false&quot;], .dataframe_dark{\n    --background: #303030;\n    --background-odd: #3c3c3c;\n    --background-hover: #464646;\n    --header-text-color: #dddddd;\n    --text-color: #b3b3b3;\n    --text-color-dark: #dddddd;\n    --text-color-medium: #b2b2b2;\n    --text-color-pale: #737373;\n    --inner-border-color: #707070;\n    --bold-border-color: #777777;\n    --link-color: #008dc0;\n    --link-color-pale: #97e1fb;\n    --link-hover: #00688e;\n}\n\np.dataframe_description {\n    color: var(--text-color-dark);\n}\n\ntable.dataframe {\n    font-family: &quot;Helvetica Neue&quot;, Helvetica, Arial, sans-serif;\n    font-size: 12px;\n    background-color: var(--background);\n    color: var(--text-color-dark);\n    border: none;\n    border-collapse: collapse;\n}\n\ntable.dataframe th, td {\n    padding: 6px;\n    border: 1px solid transparent;\n    text-align: left;\n}\n\ntable.dataframe th {\n    background-color: var(--background);\n    color: var(--header-text-color);\n}\n\ntable.dataframe td {\n    vertical-align: top;\n}\n\ntable.dataframe th.bottomBorder {\n    border-bottom-color: var(--bold-border-color);\n}\n\ntable.dataframe tbody &gt; tr:nth-child(odd) {\n    background: var(--background-odd);\n}\n\ntable.dataframe tbody &gt; tr:nth-child(even) {\n    background: var(--background);\n}\n\ntable.dataframe tbody &gt; tr:hover {\n    background: var(--background-hover);\n}\n\ntable.dataframe a {\n    cursor: pointer;\n    color: var(--link-color);\n    text-decoration: none;\n}\n\ntable.dataframe tr:hover &gt; td a {\n    color: var(--link-color-pale);\n}\n\ntable.dataframe a:hover {\n    color: var(--link-hover);\n    text-decoration: underline;\n}\n\ntable.dataframe img {\n    max-width: fit-content;\n}\n\ntable.dataframe th.complex {\n    background-color: var(--background);\n    border: 1px solid var(--background);\n}\n\ntable.dataframe .leftBorder {\n    border-left-color: var(--inner-border-color);\n}\n\ntable.dataframe .rightBorder {\n    border-right-color: var(--inner-border-color);\n}\n\ntable.dataframe .rightAlign {\n    text-align: right;\n}\n\ntable.dataframe .expanderSvg {\n    width: 8px;\n    height: 8px;\n    margin-right: 3px;\n}\n\ntable.dataframe .expander {\n    display: flex;\n    align-items: center;\n}\n\n&sol;* formatting *&sol;\n\ntable.dataframe .null {\n    color: var(--text-color-pale);\n}\n\ntable.dataframe .structural {\n    color: var(--text-color-medium);\n    font-weight: bold;\n}\n\ntable.dataframe .dataFrameCaption {\n    font-weight: bold;\n}\n\ntable.dataframe .numbers {\n    color: var(--text-color-dark);\n}\n\ntable.dataframe td:hover .formatted .structural, .null {\n    color: var(--text-color-dark);\n}\n\ntable.dataframe tr:hover .formatted .structural, .null {\n    color: var(--text-color-dark);\n}\n\n\n\n\n:root {\n    --scroll-bg: #f5f5f5;\n    --scroll-fg: #b3b3b3;\n}\n:root[theme=&quot;dark&quot;], :root [data-jp-theme-light=&quot;false&quot;]{\n    --scroll-bg: #3c3c3c;\n    --scroll-fg: #97e1fb;\n}\nbody {\n    scrollbar-color: var(--scroll-fg) var(--scroll-bg);\n}\nbody::-webkit-scrollbar {\n    width: 10px; &sol;* Mostly for vertical scrollbars *&sol;\n    height: 10px; &sol;* Mostly for horizontal scrollbars *&sol;\n}\nbody::-webkit-scrollbar-thumb {\n    background-color: var(--scroll-fg);\n}\nbody::-webkit-scrollbar-track {\n    background-color: var(--scroll-bg);\n}\n            &lt;&sol;style&gt;\n        &lt;&sol;head&gt;\n        &lt;body&gt;\n            \n&lt;table class=&quot;dataframe&quot; id=&quot;df_16777217&quot;&gt;&lt;&sol;table&gt;\n\n&lt;p class=&quot;dataframe_description&quot;&gt;DataFrame: rowsCount = 16, columnsCount = 4&lt;&sol;p&gt;\n\n        &lt;&sol;body&gt;\n        &lt;script&gt;\n            (function () {\n    window.DataFrame = window.DataFrame || new (function () {\n        this.addTable = function (df) {\n            let cols = df.cols;\n            for (let i = 0; i &lt; cols.length; i++) {\n                for (let c of cols[i].children) {\n                    cols[c].parent = i;\n                }\n            }\n            df.nrow = 0\n            for (let i = 0; i &lt; df.cols.length; i++) {\n                if (df.cols[i].values.length &gt; df.nrow) df.nrow = df.cols[i].values.length\n            }\n            if (df.id === df.rootId) {\n                df.expandedFrames = new Set()\n                df.childFrames = {}\n                const table = this.getTableElement(df.id)\n                table.df = df\n                for (let i = 0; i &lt; df.cols.length; i++) {\n                    let col = df.cols[i]\n                    if (col.parent === undefined &amp;&amp; col.children.length &gt; 0) col.expanded = true\n                }\n            } else {\n                const rootDf = this.getTableData(df.rootId)\n                rootDf.childFrames[df.id] = df\n            }\n        }\n\n        this.computeRenderData = function (df) {\n            let result = []\n            let pos = 0\n            for (let col = 0; col &lt; df.cols.length; col++) {\n                if (df.cols[col].parent === undefined)\n                    pos += this.computeRenderDataRec(df.cols, col, pos, 0, result, false, false)\n            }\n            for (let i = 0; i &lt; result.length; i++) {\n                let row = result[i]\n                for (let j = 0; j &lt; row.length; j++) {\n                    let cell = row[j]\n                    if (j === 0)\n                        cell.leftBd = false\n                    if (j &lt; row.length - 1) {\n                        let nextData = row[j + 1]\n                        if (nextData.leftBd) cell.rightBd = true\n                        else if (cell.rightBd) nextData.leftBd = true\n                    } else cell.rightBd = false\n                }\n            }\n            return result\n        }\n\n        this.computeRenderDataRec = function (cols, colId, pos, depth, result, leftBorder, rightBorder) {\n            if (result.length === depth) {\n                const array = [];\n                if (pos &gt; 0) {\n                    let j = 0\n                    for (let i = 0; j &lt; pos; i++) {\n                        let c = result[depth - 1][i]\n                        j += c.span\n                        let copy = Object.assign({empty: true}, c)\n                        array.push(copy)\n                    }\n                }\n                result.push(array)\n            }\n            const col = cols[colId];\n            let size = 0;\n            if (col.expanded) {\n                let childPos = pos\n                for (let i = 0; i &lt; col.children.length; i++) {\n                    let child = col.children[i]\n                    let childLeft = i === 0 &amp;&amp; (col.children.length &gt; 1 || leftBorder)\n                    let childRight = i === col.children.length - 1 &amp;&amp; (col.children.length &gt; 1 || rightBorder)\n                    let childSize = this.computeRenderDataRec(cols, child, childPos, depth + 1, result, childLeft, childRight)\n                    childPos += childSize\n                    size += childSize\n                }\n            } else {\n                for (let i = depth + 1; i &lt; result.length; i++)\n                    result[i].push({id: colId, span: 1, leftBd: leftBorder, rightBd: rightBorder, empty: true})\n                size = 1\n            }\n            let left = leftBorder\n            let right = rightBorder\n            if (size &gt; 1) {\n                left = true\n                right = true\n            }\n            result[depth].push({id: colId, span: size, leftBd: left, rightBd: right})\n            return size\n        }\n\n        this.getTableElement = function (id) {\n            return document.getElementById(&quot;df_&quot; + id)\n        }\n\n        this.getTableData = function (id) {\n            return this.getTableElement(id).df\n        }\n\n        this.createExpander = function (isExpanded) {\n            const svgNs = &quot;http:&sol;&sol;www.w3.org&sol;2000&sol;svg&quot;\n            let svg = document.createElementNS(svgNs, &quot;svg&quot;)\n            svg.classList.add(&quot;expanderSvg&quot;)\n            let path = document.createElementNS(svgNs, &quot;path&quot;)\n            if (isExpanded) {\n                svg.setAttribute(&quot;viewBox&quot;, &quot;0 -2 8 8&quot;)\n                path.setAttribute(&quot;d&quot;, &quot;M1 0 l-1 1 4 4 4 -4 -1 -1 -3 3Z&quot;)\n            } else {\n                svg.setAttribute(&quot;viewBox&quot;, &quot;-2 0 8 8&quot;)\n                path.setAttribute(&quot;d&quot;, &quot;M1 0 l-1 1 3 3 -3 3 1 1 4 -4Z&quot;)\n            }\n            path.setAttribute(&quot;fill&quot;, &quot;currentColor&quot;)\n            svg.appendChild(path)\n            return svg\n        }\n\n        this.renderTable = function (id) {\n\n            let table = this.getTableElement(id)\n\n            if (table === null) return\n\n            table.innerHTML = &quot;&quot;\n\n            let df = table.df\n            let rootDf = df.rootId === df.id ? df : this.getTableData(df.rootId)\n\n            &sol;&sol; header\n            let header = document.createElement(&quot;thead&quot;)\n            table.appendChild(header)\n\n            let renderData = this.computeRenderData(df)\n            for (let j = 0; j &lt; renderData.length; j++) {\n                let rowData = renderData[j]\n                let tr = document.createElement(&quot;tr&quot;);\n                let isLastRow = j === renderData.length - 1\n                header.appendChild(tr);\n                for (let i = 0; i &lt; rowData.length; i++) {\n                    let cell = rowData[i]\n                    let th = document.createElement(&quot;th&quot;);\n                    th.setAttribute(&quot;colspan&quot;, cell.span)\n                    let colId = cell.id\n                    let col = df.cols[colId];\n                    if (!cell.empty) {\n                        if (col.children.length === 0) {\n                            th.innerHTML = col.name\n                        } else {\n                            let link = document.createElement(&quot;a&quot;)\n                            link.className = &quot;expander&quot;\n                            let that = this\n                            link.onclick = function () {\n                                col.expanded = !col.expanded\n                                that.renderTable(id)\n                            }\n                            link.appendChild(this.createExpander(col.expanded))\n                            link.innerHTML += col.name\n                            th.appendChild(link)\n                        }\n                    }\n                    let classes = (cell.leftBd ? &quot; leftBorder&quot; : &quot;&quot;) + (cell.rightBd ? &quot; rightBorder&quot; : &quot;&quot;)\n                    if (col.rightAlign)\n                        classes += &quot; rightAlign&quot;\n                    if (isLastRow)\n                        classes += &quot; bottomBorder&quot;\n                    if (classes.length &gt; 0)\n                        th.setAttribute(&quot;class&quot;, classes)\n                    tr.appendChild(th)\n                }\n            }\n\n            &sol;&sol; body\n            let body = document.createElement(&quot;tbody&quot;)\n            table.appendChild(body)\n\n            let columns = renderData.pop()\n            for (let row = 0; row &lt; df.nrow; row++) {\n                let tr = document.createElement(&quot;tr&quot;);\n                body.appendChild(tr)\n                for (let i = 0; i &lt; columns.length; i++) {\n                    let cell = columns[i]\n                    let td = document.createElement(&quot;td&quot;);\n                    let colId = cell.id\n                    let col = df.cols[colId]\n                    let classes = (cell.leftBd ? &quot; leftBorder&quot; : &quot;&quot;) + (cell.rightBd ? &quot; rightBorder&quot; : &quot;&quot;)\n                    if (col.rightAlign)\n                        classes += &quot; rightAlign&quot;\n                    if (classes.length &gt; 0)\n                        td.setAttribute(&quot;class&quot;, classes)\n                    tr.appendChild(td)\n                    let value = col.values[row]\n                    if (value.frameId !== undefined) {\n                        let frameId = value.frameId\n                        let expanded = rootDf.expandedFrames.has(frameId)\n                        let link = document.createElement(&quot;a&quot;)\n                        link.className = &quot;expander&quot;\n                        let that = this\n                        link.onclick = function () {\n                            if (rootDf.expandedFrames.has(frameId))\n                                rootDf.expandedFrames.delete(frameId)\n                            else rootDf.expandedFrames.add(frameId)\n                            that.renderTable(id)\n                        }\n                        link.appendChild(this.createExpander(expanded))\n                        link.innerHTML += value.value\n                        if (expanded) {\n                            td.appendChild(link)\n                            td.appendChild(document.createElement(&quot;p&quot;))\n                            const childTable = document.createElement(&quot;table&quot;)\n                            childTable.className = &quot;dataframe&quot;\n                            childTable.id = &quot;df_&quot; + frameId\n                            let childDf = rootDf.childFrames[frameId]\n                            childTable.df = childDf\n                            td.appendChild(childTable)\n                            this.renderTable(frameId)\n                            if (childDf.nrow !== childDf.totalRows) {\n                                const footer = document.createElement(&quot;p&quot;)\n                                footer.innerText = `... showing only top ${childDf.nrow} of ${childDf.totalRows} rows`\n                                td.appendChild(footer)\n                            }\n                        } else {\n                            td.appendChild(link)\n                        }\n                    } else if (value.style !== undefined) {\n                        td.innerHTML = value.value\n                        td.setAttribute(&quot;style&quot;, value.style)\n                    } else td.innerHTML = value\n                    this.nodeScriptReplace(td)\n                }\n            }\n        }\n\n        this.nodeScriptReplace = function (node) {\n            if (this.nodeScriptIs(node) === true) {\n                node.parentNode.replaceChild(this.nodeScriptClone(node), node);\n            } else {\n                let i = -1, children = node.childNodes;\n                while (++i &lt; children.length) {\n                    this.nodeScriptReplace(children[i]);\n                }\n            }\n\n            return node;\n        }\n\n        this.nodeScriptClone = function (node) {\n            let script = document.createElement(&quot;script&quot;);\n            script.text = node.innerHTML;\n\n            let i = -1, attrs = node.attributes, attr;\n            while (++i &lt; attrs.length) {\n                script.setAttribute((attr = attrs[i]).name, attr.value);\n            }\n            return script;\n        }\n\n        this.nodeScriptIs = function (node) {\n            return node.tagName === 'SCRIPT';\n        }\n    })()\n\n    window.call_DataFrame = function (f) {\n        return f();\n    };\n\n    let funQueue = window[&quot;kotlinQueues&quot;] &amp;&amp; window[&quot;kotlinQueues&quot;][&quot;DataFrame&quot;];\n    if (funQueue) {\n        funQueue.forEach(function (f) {\n            f();\n        });\n        funQueue = [];\n    }\n})()\n\n&sol;*&lt;!--*&sol;\ncall_DataFrame(function() { DataFrame.addTable({ cols: [{ name: &quot;&lt;span title=&bsol;&quot;name: String&bsol;&quot;&gt;name&lt;&sol;span&gt;&quot;, children: [], rightAlign: false, values: [&quot;baselineFloat&quot;,&quot;inlineFloat&quot;,&quot;longPackFloat&quot;,&quot;mutableSpecificRefFloat&quot;,&quot;mutableUniversalRefFloatIn1Long&quot;,&quot;mutableUniversalRefFloatIn2Longs&quot;,&quot;valueFloat&quot;,&quot;valueInlineFloat&quot;,&quot;valuePreserveBoxFloat&quot;,&quot;baselineDouble&quot;,&quot;inlineDouble&quot;,&quot;mutableSpecificRefDouble&quot;,&quot;mutableUniversalRefDouble&quot;,&quot;valueDouble&quot;,&quot;valueInlineDouble&quot;,&quot;valuePreserveBoxDouble&quot;] }, \n{ name: &quot;&lt;span title=&bsol;&quot;score: Double&bsol;&quot;&gt;score&lt;&sol;span&gt;&quot;, children: [], rightAlign: true, values: [&quot;&lt;span class=&bsol;&quot;formatted&bsol;&quot; title=&bsol;&quot;&bsol;&quot;&gt;&lt;span class=&bsol;&quot;numbers&bsol;&quot;&gt;31267926.487&lt;&sol;span&gt;&lt;&sol;span&gt;&quot;,&quot;&lt;span class=&bsol;&quot;formatted&bsol;&quot; title=&bsol;&quot;&bsol;&quot;&gt;&lt;span class=&bsol;&quot;numbers&bsol;&quot;&gt;31407003.291&lt;&sol;span&gt;&lt;&sol;span&gt;&quot;,&quot;&lt;span class=&bsol;&quot;formatted&bsol;&quot; title=&bsol;&quot;&bsol;&quot;&gt;&lt;span class=&bsol;&quot;numbers&bsol;&quot;&gt;62640333.155&lt;&sol;span&gt;&lt;&sol;span&gt;&quot;,&quot;&lt;span class=&bsol;&quot;formatted&bsol;&quot; title=&bsol;&quot;&bsol;&quot;&gt;&lt;span class=&bsol;&quot;numbers&bsol;&quot;&gt;22641175.345&lt;&sol;span&gt;&lt;&sol;span&gt;&quot;,&quot;&lt;span class=&bsol;&quot;formatted&bsol;&quot; title=&bsol;&quot;&bsol;&quot;&gt;&lt;span class=&bsol;&quot;numbers&bsol;&quot;&gt;62505813.268&lt;&sol;span&gt;&lt;&sol;span&gt;&quot;,&quot;&lt;span class=&bsol;&quot;formatted&bsol;&quot; title=&bsol;&quot;&bsol;&quot;&gt;&lt;span class=&bsol;&quot;numbers&bsol;&quot;&gt;25785582.099&lt;&sol;span&gt;&lt;&sol;span&gt;&quot;,&quot;&lt;span class=&bsol;&quot;formatted&bsol;&quot; title=&bsol;&quot;&bsol;&quot;&gt;&lt;span class=&bsol;&quot;numbers&bsol;&quot;&gt;23615583.767&lt;&sol;span&gt;&lt;&sol;span&gt;&quot;,&quot;&lt;span class=&bsol;&quot;formatted&bsol;&quot; title=&bsol;&quot;&bsol;&quot;&gt;&lt;span class=&bsol;&quot;numbers&bsol;&quot;&gt;23766726.155&lt;&sol;span&gt;&lt;&sol;span&gt;&quot;,&quot;&lt;span class=&bsol;&quot;formatted&bsol;&quot; title=&bsol;&quot;&bsol;&quot;&gt;&lt;span class=&bsol;&quot;numbers&bsol;&quot;&gt;23750361.882&lt;&sol;span&gt;&lt;&sol;span&gt;&quot;,&quot;&lt;span class=&bsol;&quot;formatted&bsol;&quot; title=&bsol;&quot;&bsol;&quot;&gt;&lt;span class=&bsol;&quot;numbers&bsol;&quot;&gt;31812011.572&lt;&sol;span&gt;&lt;&sol;span&gt;&quot;,&quot;&lt;span class=&bsol;&quot;formatted&bsol;&quot; title=&bsol;&quot;&bsol;&quot;&gt;&lt;span class=&bsol;&quot;numbers&bsol;&quot;&gt;31750810.176&lt;&sol;span&gt;&lt;&sol;span&gt;&quot;,&quot;&lt;span class=&bsol;&quot;formatted&bsol;&quot; title=&bsol;&quot;&bsol;&quot;&gt;&lt;span class=&bsol;&quot;numbers&bsol;&quot;&gt;22904311.003&lt;&sol;span&gt;&lt;&sol;span&gt;&quot;,&quot;&lt;span class=&bsol;&quot;formatted&bsol;&quot; title=&bsol;&quot;&bsol;&quot;&gt;&lt;span class=&bsol;&quot;numbers&bsol;&quot;&gt;26214300.814&lt;&sol;span&gt;&lt;&sol;span&gt;&quot;,&quot;&lt;span class=&bsol;&quot;formatted&bsol;&quot; title=&bsol;&quot;&bsol;&quot;&gt;&lt;span class=&bsol;&quot;numbers&bsol;&quot;&gt;23965700.864&lt;&sol;span&gt;&lt;&sol;span&gt;&quot;,&quot;&lt;span class=&bsol;&quot;formatted&bsol;&quot; title=&bsol;&quot;&bsol;&quot;&gt;&lt;span class=&bsol;&quot;numbers&bsol;&quot;&gt;23840402.132&lt;&sol;span&gt;&lt;&sol;span&gt;&quot;,&quot;&lt;span class=&bsol;&quot;formatted&bsol;&quot; title=&bsol;&quot;&bsol;&quot;&gt;&lt;span class=&bsol;&quot;numbers&bsol;&quot;&gt;24041514.909&lt;&sol;span&gt;&lt;&sol;span&gt;&quot;] }, \n{ name: &quot;&lt;span title=&bsol;&quot;error: Double&bsol;&quot;&gt;error&lt;&sol;span&gt;&quot;, children: [], rightAlign: true, values: [&quot;&lt;span class=&bsol;&quot;formatted&bsol;&quot; title=&bsol;&quot;&bsol;&quot;&gt;&lt;span class=&bsol;&quot;numbers&bsol;&quot;&gt;93397.032&lt;&sol;span&gt;&lt;&sol;span&gt;&quot;,&quot;&lt;span class=&bsol;&quot;formatted&bsol;&quot; title=&bsol;&quot;&bsol;&quot;&gt;&lt;span class=&bsol;&quot;numbers&bsol;&quot;&gt;155635.311&lt;&sol;span&gt;&lt;&sol;span&gt;&quot;,&quot;&lt;span class=&bsol;&quot;formatted&bsol;&quot; title=&bsol;&quot;&bsol;&quot;&gt;&lt;span class=&bsol;&quot;numbers&bsol;&quot;&gt;164457.709&lt;&sol;span&gt;&lt;&sol;span&gt;&quot;,&quot;&lt;span class=&bsol;&quot;formatted&bsol;&quot; title=&bsol;&quot;&bsol;&quot;&gt;&lt;span class=&bsol;&quot;numbers&bsol;&quot;&gt;69672.066&lt;&sol;span&gt;&lt;&sol;span&gt;&quot;,&quot;&lt;span class=&bsol;&quot;formatted&bsol;&quot; title=&bsol;&quot;&bsol;&quot;&gt;&lt;span class=&bsol;&quot;numbers&bsol;&quot;&gt;117473.611&lt;&sol;span&gt;&lt;&sol;span&gt;&quot;,&quot;&lt;span class=&bsol;&quot;formatted&bsol;&quot; title=&bsol;&quot;&bsol;&quot;&gt;&lt;span class=&bsol;&quot;numbers&bsol;&quot;&gt;108057.401&lt;&sol;span&gt;&lt;&sol;span&gt;&quot;,&quot;&lt;span class=&bsol;&quot;formatted&bsol;&quot; title=&bsol;&quot;&bsol;&quot;&gt;&lt;span class=&bsol;&quot;numbers&bsol;&quot;&gt;81316.166&lt;&sol;span&gt;&lt;&sol;span&gt;&quot;,&quot;&lt;span class=&bsol;&quot;formatted&bsol;&quot; title=&bsol;&quot;&bsol;&quot;&gt;&lt;span class=&bsol;&quot;numbers&bsol;&quot;&gt;53093.979&lt;&sol;span&gt;&lt;&sol;span&gt;&quot;,&quot;&lt;span class=&bsol;&quot;formatted&bsol;&quot; title=&bsol;&quot;&bsol;&quot;&gt;&lt;span class=&bsol;&quot;numbers&bsol;&quot;&gt;138217.105&lt;&sol;span&gt;&lt;&sol;span&gt;&quot;,&quot;&lt;span class=&bsol;&quot;formatted&bsol;&quot; title=&bsol;&quot;&bsol;&quot;&gt;&lt;span class=&bsol;&quot;numbers&bsol;&quot;&gt;125017.406&lt;&sol;span&gt;&lt;&sol;span&gt;&quot;,&quot;&lt;span class=&bsol;&quot;formatted&bsol;&quot; title=&bsol;&quot;&bsol;&quot;&gt;&lt;span class=&bsol;&quot;numbers&bsol;&quot;&gt;99914.497&lt;&sol;span&gt;&lt;&sol;span&gt;&quot;,&quot;&lt;span class=&bsol;&quot;formatted&bsol;&quot; title=&bsol;&quot;&bsol;&quot;&gt;&lt;span class=&bsol;&quot;numbers&bsol;&quot;&gt;80562.723&lt;&sol;span&gt;&lt;&sol;span&gt;&quot;,&quot;&lt;span class=&bsol;&quot;formatted&bsol;&quot; title=&bsol;&quot;&bsol;&quot;&gt;&lt;span class=&bsol;&quot;numbers&bsol;&quot;&gt;150572.044&lt;&sol;span&gt;&lt;&sol;span&gt;&quot;,&quot;&lt;span class=&bsol;&quot;formatted&bsol;&quot; title=&bsol;&quot;&bsol;&quot;&gt;&lt;span class=&bsol;&quot;numbers&bsol;&quot;&gt;101720.659&lt;&sol;span&gt;&lt;&sol;span&gt;&quot;,&quot;&lt;span class=&bsol;&quot;formatted&bsol;&quot; title=&bsol;&quot;&bsol;&quot;&gt;&lt;span class=&bsol;&quot;numbers&bsol;&quot;&gt;104639.726&lt;&sol;span&gt;&lt;&sol;span&gt;&quot;,&quot;&lt;span class=&bsol;&quot;formatted&bsol;&quot; title=&bsol;&quot;&bsol;&quot;&gt;&lt;span class=&bsol;&quot;numbers&bsol;&quot;&gt;129140.022&lt;&sol;span&gt;&lt;&sol;span&gt;&quot;] }, \n{ name: &quot;&lt;span title=&bsol;&quot;type: Line_9_jupyter.Type&bsol;&quot;&gt;type&lt;&sol;span&gt;&quot;, children: [], rightAlign: false, values: [&quot;Float&quot;,&quot;Float&quot;,&quot;Float&quot;,&quot;Float&quot;,&quot;Float&quot;,&quot;Float&quot;,&quot;Float&quot;,&quot;Float&quot;,&quot;Float&quot;,&quot;Double&quot;,&quot;Double&quot;,&quot;Double&quot;,&quot;Double&quot;,&quot;Double&quot;,&quot;Double&quot;,&quot;Double&quot;] }, \n], id: 16777217, rootId: 16777217, totalRows: 16 } ) });\n&sol;*--&gt;*&sol;\n\ncall_DataFrame(function() { DataFrame.renderTable(16777217) });\n\n\n\n        &lt;&sol;script&gt;\n        &lt;&sol;html&gt;\"></iframe>\n            <script>\n                function o_resize_iframe_out_2() {\n                    let elem = document.getElementById(\"iframe_out_2\");\n                    resize_iframe_out_2(elem);\n                    setInterval(resize_iframe_out_2, 5000, elem);\n                }\n                function resize_iframe_out_2(el) {\n                    let h = el.contentWindow.document.body.scrollHeight;\n                    el.height = h === 0 ? 0 : h + 41;\n                }\n            </script>",
      "application/kotlindataframe+json": "{\"nrow\":16,\"ncol\":4,\"columns\":[\"name\",\"score\",\"error\",\"type\"],\"kotlin_dataframe\":[{\"name\":\"baselineFloat\",\"score\":3.1267926487E7,\"error\":93397.032,\"type\":\"Float\"},{\"name\":\"inlineFloat\",\"score\":3.1407003291E7,\"error\":155635.311,\"type\":\"Float\"},{\"name\":\"longPackFloat\",\"score\":6.2640333155E7,\"error\":164457.709,\"type\":\"Float\"},{\"name\":\"mutableSpecificRefFloat\",\"score\":2.2641175345E7,\"error\":69672.066,\"type\":\"Float\"},{\"name\":\"mutableUniversalRefFloatIn1Long\",\"score\":6.2505813268E7,\"error\":117473.611,\"type\":\"Float\"},{\"name\":\"mutableUniversalRefFloatIn2Longs\",\"score\":2.5785582099E7,\"error\":108057.401,\"type\":\"Float\"},{\"name\":\"valueFloat\",\"score\":2.3615583767E7,\"error\":81316.166,\"type\":\"Float\"},{\"name\":\"valueInlineFloat\",\"score\":2.3766726155E7,\"error\":53093.979,\"type\":\"Float\"},{\"name\":\"valuePreserveBoxFloat\",\"score\":2.3750361882E7,\"error\":138217.105,\"type\":\"Float\"},{\"name\":\"baselineDouble\",\"score\":3.1812011572E7,\"error\":125017.406,\"type\":\"Double\"},{\"name\":\"inlineDouble\",\"score\":3.1750810176E7,\"error\":99914.497,\"type\":\"Double\"},{\"name\":\"mutableSpecificRefDouble\",\"score\":2.2904311003E7,\"error\":80562.723,\"type\":\"Double\"},{\"name\":\"mutableUniversalRefDouble\",\"score\":2.6214300814E7,\"error\":150572.044,\"type\":\"Double\"},{\"name\":\"valueDouble\",\"score\":2.3965700864E7,\"error\":101720.659,\"type\":\"Double\"},{\"name\":\"valueInlineDouble\",\"score\":2.3840402132E7,\"error\":104639.726,\"type\":\"Double\"},{\"name\":\"valuePreserveBoxDouble\",\"score\":2.4041514909E7,\"error\":129140.022,\"type\":\"Double\"}]}"
     },
     "execution_count": 4,
     "metadata": {},
     "output_type": "execute_result"
    }
   ],
   "source": [
    "readGraalBenchmarkData(\"Wolf3dBenchmark\")"
   ],
   "metadata": {
    "collapsed": false,
    "ExecuteTime": {
     "end_time": "2023-07-09T16:55:34.229062Z",
     "start_time": "2023-07-09T16:55:33.804724Z"
    }
   }
  },
  {
   "cell_type": "code",
   "execution_count": 5,
   "outputs": [],
   "source": [
    "import org.jetbrains.kotlinx.kandy.ir.Plot\n",
    "import org.jetbrains.letsPlot.intern.PosKind\n",
    "import org.jetbrains.letsPlot.intern.StatKind\n",
    "import org.jetbrains.letsPlot.intern.layer.PosOptions\n",
    "import org.jetbrains.letsPlot.intern.layer.StatOptions\n",
    "import org.jetbrains.letsPlot.pos.positionIdentity\n",
    "\n",
    "fun makePlot(benchmarkName: String, platform: String, df: DataFrame<BenchmarkData>): Plot? {\n",
    "    if (df.isEmpty()) return null\n",
    "    val nameWithoutType by column<String>()\n",
    "\n",
    "    val data = df.add(nameWithoutType) {\n",
    "        name.replace(type.name, \"\")\n",
    "    }\n",
    "    val shortNames = data.map { name to it[nameWithoutType] }\n",
    "    val maxScore = data.maxOf { score + error }\n",
    "    return data.sortBy { type }.plot {\n",
    "        layout {\n",
    "            size = 800 to 600\n",
    "            title = benchmarkName\n",
    "            flavor = Flavor.SOLARIZED_LIGHT\n",
    "            subtitle = platform\n",
    "        }\n",
    "        bars {\n",
    "            x(name) {\n",
    "                axis {\n",
    "                    name = \"Benchmark\"\n",
    "                    breaksLabeled(*shortNames.toTypedArray())\n",
    "                }\n",
    "            }\n",
    "            y(score) { axis { name = \"ns/op\" } }\n",
    "            fillColor(type) {\n",
    "                legend {\n",
    "                    type = discreteLegend()\n",
    "                    name = \"Type\"\n",
    "                }\n",
    "                scale = categorical()\n",
    "            }\n",
    "            tooltips {\n",
    "                line(\"Type\", \"${value(type)}\")\n",
    "                line(\"Benchmark\", \"${value(name)}\")\n",
    "                line(\"Score\", \"${value(score)}\")\n",
    "            }\n",
    "        }\n",
    "        errorBar {\n",
    "            x(name)\n",
    "            width = 0.5\n",
    "            yMin(getColumn { expr { score - error } named \"minErr\" })\n",
    "            yMax(getColumn { expr { score + error } named \"maxErr\" })\n",
    "        }\n",
    "        text {\n",
    "            x(name)\n",
    "            y(getColumn {\n",
    "                expr {\n",
    "                    val threshold = 0.12\n",
    "                    if (score < maxScore * threshold) score + threshold * maxScore / 2\n",
    "                    else score / 2\n",
    "                } named \"textPosition\"\n",
    "            })\n",
    "            label(getColumn {\n",
    "                expr { currentRow ->\n",
    "                    val baselineScore = df().single {\n",
    "                        type == currentRow.type && it[nameWithoutType] == \"baseline\"\n",
    "                    }.score\n",
    "                    val score = score / baselineScore\n",
    "                    val error = error / baselineScore\n",
    "                    \"${String.format(\"%.0f\", score * 100)}%\\n±\\n${String.format(\"%.1f\", error * 100)}%\\n${type}\"\n",
    "                } named \"label\"\n",
    "            })\n",
    "            font.size = 8.0 - data.rowsCount().toDouble() / 5\n",
    "        }\n",
    "    }.apply { save(\"$benchmarkName ($platform).svg\") }\n",
    "}\n"
   ],
   "metadata": {
    "collapsed": false,
    "ExecuteTime": {
     "end_time": "2023-07-09T16:55:53.942789Z",
     "start_time": "2023-07-09T16:55:34.103129Z"
    }
   }
  },
  {
   "cell_type": "code",
   "execution_count": 6,
   "outputs": [
    {
     "data": {
      "text/html": "            <script type=\"text/javascript\" data-lets-plot-script=\"library\" src=\"https://cdn.jsdelivr.net/gh/JetBrains/lets-plot@v3.1.0/js-package/distr/lets-plot.min.js\"></script>    \n               <div id=\"9fjuiL\"></div>\n   <script type=\"text/javascript\" data-lets-plot-script=\"plot\">\n       var plotSpec={\n\"ggtitle\":{\n\"text\":\"Wolf3d\",\n\"subtitle\":\"Hotspot\"\n},\n\"mapping\":{\n},\n\"data\":{\n\"score\":[3.2777794122E7,3.2454402942E7,5.6637237703E7,2.3727817417E7,6.3879335429E7,3.8662847293E7,2.4604456636E7,2.4917343507E7,2.5026109333E7,3.3724536015E7,3.4364489472E7,2.3247218375E7,3.942429982E7,2.4616159057E7,2.4570258084E7,2.4515243674E7],\n\"textPosition\":[1.6388897061E7,1.6227201471E7,2.83186188515E7,1.18639087085E7,3.19396677145E7,1.93314236465E7,1.2302228318E7,1.24586717535E7,1.25130546665E7,1.68622680075E7,1.7182244736E7,1.16236091875E7,1.971214991E7,1.23080795285E7,1.2285129042E7,1.2257621837E7],\n\"name\":[\"baselineFloat\",\"inlineFloat\",\"longPackFloat\",\"mutableSpecificRefFloat\",\"mutableUniversalRefFloatIn1Long\",\"mutableUniversalRefFloatIn2Longs\",\"valueFloat\",\"valueInlineFloat\",\"valuePreserveBoxFloat\",\"baselineDouble\",\"inlineDouble\",\"mutableSpecificRefDouble\",\"mutableUniversalRefDouble\",\"valueDouble\",\"valueInlineDouble\",\"valuePreserveBoxDouble\"],\n\"minErr\":[3.2660194973E7,3.2382488679E7,5.6606582734000005E7,2.3688910939999998E7,6.3672151710999995E7,3.8600250083E7,2.4240848229E7,2.4881782312E7,2.4950266748E7,3.3633989218E7,3.4160147322000004E7,2.321017107E7,3.9358894682000004E7,2.4508103107E7,2.4413120656999998E7,2.4415609435E7],\n\"label\":[\"100%\\n±\\n0.4%\\nFloat\",\"99%\\n±\\n0.2%\\nFloat\",\"173%\\n±\\n0.1%\\nFloat\",\"72%\\n±\\n0.1%\\nFloat\",\"195%\\n±\\n0.6%\\nFloat\",\"118%\\n±\\n0.2%\\nFloat\",\"75%\\n±\\n1.1%\\nFloat\",\"76%\\n±\\n0.1%\\nFloat\",\"76%\\n±\\n0.2%\\nFloat\",\"100%\\n±\\n0.3%\\nDouble\",\"102%\\n±\\n0.6%\\nDouble\",\"69%\\n±\\n0.1%\\nDouble\",\"117%\\n±\\n0.2%\\nDouble\",\"73%\\n±\\n0.3%\\nDouble\",\"73%\\n±\\n0.5%\\nDouble\",\"73%\\n±\\n0.3%\\nDouble\"],\n\"type\":[\"Float\",\"Float\",\"Float\",\"Float\",\"Float\",\"Float\",\"Float\",\"Float\",\"Float\",\"Double\",\"Double\",\"Double\",\"Double\",\"Double\",\"Double\",\"Double\"],\n\"maxErr\":[3.2895393271E7,3.2526317205000002E7,5.6667892672E7,2.3766723894E7,6.4086519147E7,3.8725444503E7,2.4968065043E7,2.4952904702E7,2.5101951918E7,3.3815082812E7,3.4568831622E7,2.328426568E7,3.9489704958E7,2.4724215007E7,2.4727395511E7,2.4614877913E7]\n},\n\"ggsize\":{\n\"width\":800.0,\n\"height\":600.0\n},\n\"kind\":\"plot\",\n\"scales\":[{\n\"aesthetic\":\"x\",\n\"breaks\":[\"baselineFloat\",\"inlineFloat\",\"longPackFloat\",\"mutableSpecificRefFloat\",\"mutableUniversalRefFloatIn1Long\",\"mutableUniversalRefFloatIn2Longs\",\"valueFloat\",\"valueInlineFloat\",\"valuePreserveBoxFloat\",\"baselineDouble\",\"inlineDouble\",\"mutableSpecificRefDouble\",\"mutableUniversalRefDouble\",\"valueDouble\",\"valueInlineDouble\",\"valuePreserveBoxDouble\"],\n\"name\":\"Benchmark\",\n\"labels\":[\"baseline\",\"inline\",\"longPack\",\"mutableSpecificRef\",\"mutableUniversalRefIn1Long\",\"mutableUniversalRefIn2Longs\",\"value\",\"valueInline\",\"valuePreserveBox\",\"baseline\",\"inline\",\"mutableSpecificRef\",\"mutableUniversalRef\",\"value\",\"valueInline\",\"valuePreserveBox\"]\n},{\n\"aesthetic\":\"y\",\n\"name\":\"ns/op\",\n\"limits\":[null,null]\n},{\n\"aesthetic\":\"fill\",\n\"discrete\":true,\n\"name\":\"Type\",\n\"guide\":{\n\"name\":\"legend\"\n}\n},{\n\"aesthetic\":\"x\"\n},{\n\"aesthetic\":\"x\"\n},{\n\"aesthetic\":\"y\",\n\"limits\":[null,null]\n}],\n\"layers\":[{\n\"mapping\":{\n\"x\":\"name\",\n\"y\":\"score\",\n\"fill\":\"type\"\n},\n\"stat\":\"identity\",\n\"sampling\":\"none\",\n\"position\":\"dodge\",\n\"geom\":\"bar\",\n\"tooltips\":{\n\"lines\":[\"Type|@type\",\"Benchmark|@name\",\"Score|@score\"]\n},\n\"data\":{\n}\n},{\n\"mapping\":{\n\"x\":\"name\",\n\"ymin\":\"minErr\",\n\"ymax\":\"maxErr\"\n},\n\"stat\":\"identity\",\n\"sampling\":\"none\",\n\"width\":0.5,\n\"position\":\"identity\",\n\"geom\":\"errorbar\",\n\"data\":{\n}\n},{\n\"mapping\":{\n\"x\":\"name\",\n\"y\":\"textPosition\",\n\"label\":\"label\"\n},\n\"stat\":\"identity\",\n\"size\":4.8,\n\"sampling\":\"none\",\n\"position\":\"identity\",\n\"geom\":\"text\",\n\"data\":{\n}\n}],\n\"theme\":{\n\"flavor\":\"solarized_light\"\n}\n};\n       var plotContainer = document.getElementById(\"9fjuiL\");\n       LetsPlot.buildPlotFromProcessedSpecs(plotSpec, -1, -1, plotContainer);\n   </script>    ",
      "application/plot+json": {
       "output_type": "lets_plot_spec",
       "output": {
        "ggtitle": {
         "text": "Wolf3d",
         "subtitle": "Hotspot"
        },
        "mapping": {},
        "data": {
         "score": [
          3.2777794E7,
          3.2454402E7,
          5.6637236E7,
          2.3727818E7,
          6.3879336E7,
          3.8662848E7,
          2.4604456E7,
          2.4917344E7,
          2.502611E7,
          3.3724536E7,
          3.4364488E7,
          2.3247218E7,
          3.94243E7,
          2.461616E7,
          2.4570258E7,
          2.4515244E7
         ],
         "textPosition": [
          1.6388897E7,
          1.6227201E7,
          2.8318618E7,
          1.1863909E7,
          3.1939668E7,
          1.9331424E7,
          1.2302228E7,
          1.2458672E7,
          1.2513055E7,
          1.6862268E7,
          1.7182244E7,
          1.1623609E7,
          1.971215E7,
          1.230808E7,
          1.2285129E7,
          1.2257622E7
         ],
         "name": [
          "baselineFloat",
          "inlineFloat",
          "longPackFloat",
          "mutableSpecificRefFloat",
          "mutableUniversalRefFloatIn1Long",
          "mutableUniversalRefFloatIn2Longs",
          "valueFloat",
          "valueInlineFloat",
          "valuePreserveBoxFloat",
          "baselineDouble",
          "inlineDouble",
          "mutableSpecificRefDouble",
          "mutableUniversalRefDouble",
          "valueDouble",
          "valueInlineDouble",
          "valuePreserveBoxDouble"
         ],
         "minErr": [
          3.2660194E7,
          3.2382488E7,
          5.6606584E7,
          2.368891E7,
          6.3672152E7,
          3.8600252E7,
          2.4240848E7,
          2.4881782E7,
          2.4950266E7,
          3.3633988E7,
          3.4160148E7,
          2.3210172E7,
          3.9358896E7,
          2.4508104E7,
          2.441312E7,
          2.441561E7
         ],
         "label": [
          "100%\n±\n0.4%\nFloat",
          "99%\n±\n0.2%\nFloat",
          "173%\n±\n0.1%\nFloat",
          "72%\n±\n0.1%\nFloat",
          "195%\n±\n0.6%\nFloat",
          "118%\n±\n0.2%\nFloat",
          "75%\n±\n1.1%\nFloat",
          "76%\n±\n0.1%\nFloat",
          "76%\n±\n0.2%\nFloat",
          "100%\n±\n0.3%\nDouble",
          "102%\n±\n0.6%\nDouble",
          "69%\n±\n0.1%\nDouble",
          "117%\n±\n0.2%\nDouble",
          "73%\n±\n0.3%\nDouble",
          "73%\n±\n0.5%\nDouble",
          "73%\n±\n0.3%\nDouble"
         ],
         "type": [
          "Float",
          "Float",
          "Float",
          "Float",
          "Float",
          "Float",
          "Float",
          "Float",
          "Float",
          "Double",
          "Double",
          "Double",
          "Double",
          "Double",
          "Double",
          "Double"
         ],
         "maxErr": [
          3.2895394E7,
          3.2526318E7,
          5.6667892E7,
          2.3766724E7,
          6.408652E7,
          3.8725444E7,
          2.4968066E7,
          2.4952904E7,
          2.5101952E7,
          3.3815084E7,
          3.4568832E7,
          2.3284266E7,
          3.9489704E7,
          2.4724216E7,
          2.4727396E7,
          2.4614878E7
         ]
        },
        "ggsize": {
         "width": 800.0,
         "height": 600.0
        },
        "kind": "plot",
        "scales": [
         {
          "aesthetic": "x",
          "breaks": [
           "baselineFloat",
           "inlineFloat",
           "longPackFloat",
           "mutableSpecificRefFloat",
           "mutableUniversalRefFloatIn1Long",
           "mutableUniversalRefFloatIn2Longs",
           "valueFloat",
           "valueInlineFloat",
           "valuePreserveBoxFloat",
           "baselineDouble",
           "inlineDouble",
           "mutableSpecificRefDouble",
           "mutableUniversalRefDouble",
           "valueDouble",
           "valueInlineDouble",
           "valuePreserveBoxDouble"
          ],
          "name": "Benchmark",
          "labels": [
           "baseline",
           "inline",
           "longPack",
           "mutableSpecificRef",
           "mutableUniversalRefIn1Long",
           "mutableUniversalRefIn2Longs",
           "value",
           "valueInline",
           "valuePreserveBox",
           "baseline",
           "inline",
           "mutableSpecificRef",
           "mutableUniversalRef",
           "value",
           "valueInline",
           "valuePreserveBox"
          ]
         },
         {
          "aesthetic": "y",
          "name": "ns/op",
          "limits": [
           null,
           null
          ]
         },
         {
          "aesthetic": "fill",
          "discrete": true,
          "name": "Type",
          "guide": {
           "name": "legend"
          }
         },
         {
          "aesthetic": "x"
         },
         {
          "aesthetic": "x"
         },
         {
          "aesthetic": "y",
          "limits": [
           null,
           null
          ]
         }
        ],
        "layers": [
         {
          "mapping": {
           "x": "name",
           "y": "score",
           "fill": "type"
          },
          "stat": "identity",
          "sampling": "none",
          "position": "dodge",
          "geom": "bar",
          "tooltips": {
           "lines": [
            "Type|@type",
            "Benchmark|@name",
            "Score|@score"
           ]
          }
         },
         {
          "mapping": {
           "x": "name",
           "ymin": "minErr",
           "ymax": "maxErr"
          },
          "stat": "identity",
          "sampling": "none",
          "width": 0.5,
          "position": "identity",
          "geom": "errorbar"
         },
         {
          "mapping": {
           "x": "name",
           "y": "textPosition",
           "label": "label"
          },
          "stat": "identity",
          "size": 4.8,
          "sampling": "none",
          "position": "identity",
          "geom": "text"
         }
        ],
        "theme": {
         "flavor": "solarized_light"
        }
       },
       "apply_color_scheme": true,
       "swing_enabled": true
      }
     },
     "metadata": {},
     "output_type": "display_data"
    },
    {
     "data": {
      "text/html": "            <script type=\"text/javascript\" data-lets-plot-script=\"library\" src=\"https://cdn.jsdelivr.net/gh/JetBrains/lets-plot@v3.1.0/js-package/distr/lets-plot.min.js\"></script>    \n               <div id=\"TtBBsk\"></div>\n   <script type=\"text/javascript\" data-lets-plot-script=\"plot\">\n       var plotSpec={\n\"ggtitle\":{\n\"text\":\"Ackermann\",\n\"subtitle\":\"Hotspot\"\n},\n\"mapping\":{\n},\n\"data\":{\n\"score\":[16706.888,8798.778,10009.3,10395.76,10728.522,12545.294,12183.677,20998.324,10745.603,10610.873,14384.498,14127.382,16757.997,16572.572,11432.889,23735.494,19835.003,13197.878,13384.458,22531.406,12295.09,17881.186,15124.234,15250.282],\n\"textPosition\":[8353.444,4399.389,5004.65,5197.88,5364.261,6272.647,6091.8385,10499.162,5372.8015,5305.4365,7192.249,7063.691,8378.9985,8286.286,5716.4445,11867.747,9917.5015,6598.939,6692.229,11265.703,6147.545,8940.593,7562.117,7625.141],\n\"name\":[\"baselineInt\",\"longPackInt\",\"mutableSpecificRefInt\",\"mutableUniversalRefIntIn1Long\",\"mutableUniversalRefIntIn2Longs\",\"valueInt\",\"valuePreserveBoxInt\",\"baselineLong\",\"mutableSpecificRefLong\",\"mutableUniversalRefLong\",\"valueLong\",\"valuePreserveBoxLong\",\"baselineFloat\",\"longPackFloat\",\"mutableSpecificRefFloat\",\"mutableUniversalRefFloatIn1Long\",\"mutableUniversalRefFloatIn2Longs\",\"valueFloat\",\"valuePreserveBoxFloat\",\"baselineDouble\",\"mutableSpecificRefDouble\",\"mutableUniversalRefDouble\",\"valueDouble\",\"valuePreserveBoxDouble\"],\n\"minErr\":[16372.142,8605.293,9956.902,10328.876,10416.084,12305.387,12074.705,15800.093,10490.125999999998,10523.984999999999,14214.553,13982.869999999999,16604.555,16524.116,11354.182999999999,18879.353,14093.212,13096.497000000001,13168.512,17240.310999999998,12225.826000000001,12530.562000000002,14892.007,14937.590999999999],\n\"label\":[\"100%\\n±\\n2.0%\\nInt\",\"53%\\n±\\n1.2%\\nInt\",\"60%\\n±\\n0.3%\\nInt\",\"62%\\n±\\n0.4%\\nInt\",\"64%\\n±\\n1.9%\\nInt\",\"75%\\n±\\n1.4%\\nInt\",\"73%\\n±\\n0.7%\\nInt\",\"100%\\n±\\n24.8%\\nLong\",\"51%\\n±\\n1.2%\\nLong\",\"51%\\n±\\n0.4%\\nLong\",\"69%\\n±\\n0.8%\\nLong\",\"67%\\n±\\n0.7%\\nLong\",\"100%\\n±\\n0.9%\\nFloat\",\"99%\\n±\\n0.3%\\nFloat\",\"68%\\n±\\n0.5%\\nFloat\",\"142%\\n±\\n29.0%\\nFloat\",\"118%\\n±\\n34.3%\\nFloat\",\"79%\\n±\\n0.6%\\nFloat\",\"80%\\n±\\n1.3%\\nFloat\",\"100%\\n±\\n23.5%\\nDouble\",\"55%\\n±\\n0.3%\\nDouble\",\"79%\\n±\\n23.7%\\nDouble\",\"67%\\n±\\n1.0%\\nDouble\",\"68%\\n±\\n1.4%\\nDouble\"],\n\"type\":[\"Int\",\"Int\",\"Int\",\"Int\",\"Int\",\"Int\",\"Int\",\"Long\",\"Long\",\"Long\",\"Long\",\"Long\",\"Float\",\"Float\",\"Float\",\"Float\",\"Float\",\"Float\",\"Float\",\"Double\",\"Double\",\"Double\",\"Double\",\"Double\"],\n\"maxErr\":[17041.634,8992.263,10061.697999999999,10462.644,11040.960000000001,12785.201,12292.649,26196.555,11001.08,10697.761,14554.443,14271.894,16911.439,16621.028,11511.595,28591.635,25576.794,13299.259,13600.404,27822.501,12364.354,23231.81,15356.461000000001,15562.973]\n},\n\"ggsize\":{\n\"width\":800.0,\n\"height\":600.0\n},\n\"kind\":\"plot\",\n\"scales\":[{\n\"aesthetic\":\"x\",\n\"breaks\":[\"baselineInt\",\"longPackInt\",\"mutableSpecificRefInt\",\"mutableUniversalRefIntIn1Long\",\"mutableUniversalRefIntIn2Longs\",\"valueInt\",\"valuePreserveBoxInt\",\"baselineLong\",\"mutableSpecificRefLong\",\"mutableUniversalRefLong\",\"valueLong\",\"valuePreserveBoxLong\",\"baselineFloat\",\"longPackFloat\",\"mutableSpecificRefFloat\",\"mutableUniversalRefFloatIn1Long\",\"mutableUniversalRefFloatIn2Longs\",\"valueFloat\",\"valuePreserveBoxFloat\",\"baselineDouble\",\"mutableSpecificRefDouble\",\"mutableUniversalRefDouble\",\"valueDouble\",\"valuePreserveBoxDouble\"],\n\"name\":\"Benchmark\",\n\"labels\":[\"baseline\",\"longPack\",\"mutableSpecificRef\",\"mutableUniversalRefIn1Long\",\"mutableUniversalRefIn2Longs\",\"value\",\"valuePreserveBox\",\"baseline\",\"mutableSpecificRef\",\"mutableUniversalRef\",\"value\",\"valuePreserveBox\",\"baseline\",\"longPack\",\"mutableSpecificRef\",\"mutableUniversalRefIn1Long\",\"mutableUniversalRefIn2Longs\",\"value\",\"valuePreserveBox\",\"baseline\",\"mutableSpecificRef\",\"mutableUniversalRef\",\"value\",\"valuePreserveBox\"]\n},{\n\"aesthetic\":\"y\",\n\"name\":\"ns/op\",\n\"limits\":[null,null]\n},{\n\"aesthetic\":\"fill\",\n\"discrete\":true,\n\"name\":\"Type\",\n\"guide\":{\n\"name\":\"legend\"\n}\n},{\n\"aesthetic\":\"x\"\n},{\n\"aesthetic\":\"x\"\n},{\n\"aesthetic\":\"y\",\n\"limits\":[null,null]\n}],\n\"layers\":[{\n\"mapping\":{\n\"x\":\"name\",\n\"y\":\"score\",\n\"fill\":\"type\"\n},\n\"stat\":\"identity\",\n\"sampling\":\"none\",\n\"position\":\"dodge\",\n\"geom\":\"bar\",\n\"tooltips\":{\n\"lines\":[\"Type|@type\",\"Benchmark|@name\",\"Score|@score\"]\n},\n\"data\":{\n}\n},{\n\"mapping\":{\n\"x\":\"name\",\n\"ymin\":\"minErr\",\n\"ymax\":\"maxErr\"\n},\n\"stat\":\"identity\",\n\"sampling\":\"none\",\n\"width\":0.5,\n\"position\":\"identity\",\n\"geom\":\"errorbar\",\n\"data\":{\n}\n},{\n\"mapping\":{\n\"x\":\"name\",\n\"y\":\"textPosition\",\n\"label\":\"label\"\n},\n\"stat\":\"identity\",\n\"size\":3.2,\n\"sampling\":\"none\",\n\"position\":\"identity\",\n\"geom\":\"text\",\n\"data\":{\n}\n}],\n\"theme\":{\n\"flavor\":\"solarized_light\"\n}\n};\n       var plotContainer = document.getElementById(\"TtBBsk\");\n       LetsPlot.buildPlotFromProcessedSpecs(plotSpec, -1, -1, plotContainer);\n   </script>    ",
      "application/plot+json": {
       "output_type": "lets_plot_spec",
       "output": {
        "ggtitle": {
         "text": "Ackermann",
         "subtitle": "Hotspot"
        },
        "mapping": {},
        "data": {
         "score": [
          16706.889,
          8798.778,
          10009.3,
          10395.76,
          10728.522,
          12545.294,
          12183.677,
          20998.324,
          10745.603,
          10610.873,
          14384.498,
          14127.382,
          16757.996,
          16572.572,
          11432.889,
          23735.494,
          19835.004,
          13197.878,
          13384.458,
          22531.406,
          12295.09,
          17881.186,
          15124.234,
          15250.282
         ],
         "textPosition": [
          8353.444,
          4399.389,
          5004.65,
          5197.88,
          5364.261,
          6272.647,
          6091.8384,
          10499.162,
          5372.8013,
          5305.4365,
          7192.249,
          7063.691,
          8378.998,
          8286.286,
          5716.4443,
          11867.747,
          9917.502,
          6598.939,
          6692.229,
          11265.703,
          6147.545,
          8940.593,
          7562.117,
          7625.141
         ],
         "name": [
          "baselineInt",
          "longPackInt",
          "mutableSpecificRefInt",
          "mutableUniversalRefIntIn1Long",
          "mutableUniversalRefIntIn2Longs",
          "valueInt",
          "valuePreserveBoxInt",
          "baselineLong",
          "mutableSpecificRefLong",
          "mutableUniversalRefLong",
          "valueLong",
          "valuePreserveBoxLong",
          "baselineFloat",
          "longPackFloat",
          "mutableSpecificRefFloat",
          "mutableUniversalRefFloatIn1Long",
          "mutableUniversalRefFloatIn2Longs",
          "valueFloat",
          "valuePreserveBoxFloat",
          "baselineDouble",
          "mutableSpecificRefDouble",
          "mutableUniversalRefDouble",
          "valueDouble",
          "valuePreserveBoxDouble"
         ],
         "minErr": [
          16372.142,
          8605.293,
          9956.902,
          10328.876,
          10416.084,
          12305.387,
          12074.705,
          15800.093,
          10490.126,
          10523.985,
          14214.553,
          13982.87,
          16604.555,
          16524.115,
          11354.183,
          18879.354,
          14093.212,
          13096.497,
          13168.512,
          17240.31,
          12225.826,
          12530.562,
          14892.007,
          14937.591
         ],
         "label": [
          "100%\n±\n2.0%\nInt",
          "53%\n±\n1.2%\nInt",
          "60%\n±\n0.3%\nInt",
          "62%\n±\n0.4%\nInt",
          "64%\n±\n1.9%\nInt",
          "75%\n±\n1.4%\nInt",
          "73%\n±\n0.7%\nInt",
          "100%\n±\n24.8%\nLong",
          "51%\n±\n1.2%\nLong",
          "51%\n±\n0.4%\nLong",
          "69%\n±\n0.8%\nLong",
          "67%\n±\n0.7%\nLong",
          "100%\n±\n0.9%\nFloat",
          "99%\n±\n0.3%\nFloat",
          "68%\n±\n0.5%\nFloat",
          "142%\n±\n29.0%\nFloat",
          "118%\n±\n34.3%\nFloat",
          "79%\n±\n0.6%\nFloat",
          "80%\n±\n1.3%\nFloat",
          "100%\n±\n23.5%\nDouble",
          "55%\n±\n0.3%\nDouble",
          "79%\n±\n23.7%\nDouble",
          "67%\n±\n1.0%\nDouble",
          "68%\n±\n1.4%\nDouble"
         ],
         "type": [
          "Int",
          "Int",
          "Int",
          "Int",
          "Int",
          "Int",
          "Int",
          "Long",
          "Long",
          "Long",
          "Long",
          "Long",
          "Float",
          "Float",
          "Float",
          "Float",
          "Float",
          "Float",
          "Float",
          "Double",
          "Double",
          "Double",
          "Double",
          "Double"
         ],
         "maxErr": [
          17041.635,
          8992.263,
          10061.698,
          10462.644,
          11040.96,
          12785.201,
          12292.649,
          26196.555,
          11001.08,
          10697.761,
          14554.443,
          14271.894,
          16911.44,
          16621.027,
          11511.595,
          28591.635,
          25576.795,
          13299.259,
          13600.404,
          27822.502,
          12364.354,
          23231.81,
          15356.461,
          15562.973
         ]
        },
        "ggsize": {
         "width": 800.0,
         "height": 600.0
        },
        "kind": "plot",
        "scales": [
         {
          "aesthetic": "x",
          "breaks": [
           "baselineInt",
           "longPackInt",
           "mutableSpecificRefInt",
           "mutableUniversalRefIntIn1Long",
           "mutableUniversalRefIntIn2Longs",
           "valueInt",
           "valuePreserveBoxInt",
           "baselineLong",
           "mutableSpecificRefLong",
           "mutableUniversalRefLong",
           "valueLong",
           "valuePreserveBoxLong",
           "baselineFloat",
           "longPackFloat",
           "mutableSpecificRefFloat",
           "mutableUniversalRefFloatIn1Long",
           "mutableUniversalRefFloatIn2Longs",
           "valueFloat",
           "valuePreserveBoxFloat",
           "baselineDouble",
           "mutableSpecificRefDouble",
           "mutableUniversalRefDouble",
           "valueDouble",
           "valuePreserveBoxDouble"
          ],
          "name": "Benchmark",
          "labels": [
           "baseline",
           "longPack",
           "mutableSpecificRef",
           "mutableUniversalRefIn1Long",
           "mutableUniversalRefIn2Longs",
           "value",
           "valuePreserveBox",
           "baseline",
           "mutableSpecificRef",
           "mutableUniversalRef",
           "value",
           "valuePreserveBox",
           "baseline",
           "longPack",
           "mutableSpecificRef",
           "mutableUniversalRefIn1Long",
           "mutableUniversalRefIn2Longs",
           "value",
           "valuePreserveBox",
           "baseline",
           "mutableSpecificRef",
           "mutableUniversalRef",
           "value",
           "valuePreserveBox"
          ]
         },
         {
          "aesthetic": "y",
          "name": "ns/op",
          "limits": [
           null,
           null
          ]
         },
         {
          "aesthetic": "fill",
          "discrete": true,
          "name": "Type",
          "guide": {
           "name": "legend"
          }
         },
         {
          "aesthetic": "x"
         },
         {
          "aesthetic": "x"
         },
         {
          "aesthetic": "y",
          "limits": [
           null,
           null
          ]
         }
        ],
        "layers": [
         {
          "mapping": {
           "x": "name",
           "y": "score",
           "fill": "type"
          },
          "stat": "identity",
          "sampling": "none",
          "position": "dodge",
          "geom": "bar",
          "tooltips": {
           "lines": [
            "Type|@type",
            "Benchmark|@name",
            "Score|@score"
           ]
          }
         },
         {
          "mapping": {
           "x": "name",
           "ymin": "minErr",
           "ymax": "maxErr"
          },
          "stat": "identity",
          "sampling": "none",
          "width": 0.5,
          "position": "identity",
          "geom": "errorbar"
         },
         {
          "mapping": {
           "x": "name",
           "y": "textPosition",
           "label": "label"
          },
          "stat": "identity",
          "size": 3.2,
          "sampling": "none",
          "position": "identity",
          "geom": "text"
         }
        ],
        "theme": {
         "flavor": "solarized_light"
        }
       },
       "apply_color_scheme": true,
       "swing_enabled": true
      }
     },
     "metadata": {},
     "output_type": "display_data"
    },
    {
     "data": {
      "text/html": "            <script type=\"text/javascript\" data-lets-plot-script=\"library\" src=\"https://cdn.jsdelivr.net/gh/JetBrains/lets-plot@v3.1.0/js-package/distr/lets-plot.min.js\"></script>    \n               <div id=\"eu0cDt\"></div>\n   <script type=\"text/javascript\" data-lets-plot-script=\"plot\">\n       var plotSpec={\n\"ggtitle\":{\n\"text\":\"BoxRecreation\",\n\"subtitle\":\"Hotspot\"\n},\n\"mapping\":{\n},\n\"data\":{\n\"score\":[63.495,592.82,619.262,61.855,65.777,650.124,66.623,64.785,613.593,621.495,61.182,67.827,648.595,63.997],\n\"textPosition\":[102.63018,296.41,309.631,100.99018,104.91218,325.062,105.75818000000001,103.92017999999999,306.7965,310.7475,100.31718000000001,106.96217999999999,324.2975,103.13218],\n\"name\":[\"baselineInt\",\"longPackInt\",\"valueInt\",\"valuePreserveBoxInt\",\"baselineLong\",\"valueLong\",\"valuePreserveBoxLong\",\"baselineFloat\",\"longPackFloat\",\"valueFloat\",\"valuePreserveBoxFloat\",\"baselineDouble\",\"valueDouble\",\"valuePreserveBoxDouble\"],\n\"minErr\":[63.401999999999994,592.1940000000001,617.531,61.72,65.513,647.995,66.412,64.553,612.015,620.175,61.059000000000005,67.611,647.217,63.706],\n\"label\":[\"100%\\n±\\n0.1%\\nInt\",\"934%\\n±\\n1.0%\\nInt\",\"975%\\n±\\n2.7%\\nInt\",\"97%\\n±\\n0.2%\\nInt\",\"100%\\n±\\n0.4%\\nLong\",\"988%\\n±\\n3.2%\\nLong\",\"101%\\n±\\n0.3%\\nLong\",\"100%\\n±\\n0.4%\\nFloat\",\"947%\\n±\\n2.4%\\nFloat\",\"959%\\n±\\n2.0%\\nFloat\",\"94%\\n±\\n0.2%\\nFloat\",\"100%\\n±\\n0.3%\\nDouble\",\"956%\\n±\\n2.0%\\nDouble\",\"94%\\n±\\n0.4%\\nDouble\"],\n\"type\":[\"Int\",\"Int\",\"Int\",\"Int\",\"Long\",\"Long\",\"Long\",\"Float\",\"Float\",\"Float\",\"Float\",\"Double\",\"Double\",\"Double\"],\n\"maxErr\":[63.588,593.446,620.9929999999999,61.989999999999995,66.041,652.253,66.834,65.017,615.1709999999999,622.815,61.305,68.04299999999999,649.9730000000001,64.288]\n},\n\"ggsize\":{\n\"width\":800.0,\n\"height\":600.0\n},\n\"kind\":\"plot\",\n\"scales\":[{\n\"aesthetic\":\"x\",\n\"breaks\":[\"baselineInt\",\"longPackInt\",\"valueInt\",\"valuePreserveBoxInt\",\"baselineLong\",\"valueLong\",\"valuePreserveBoxLong\",\"baselineFloat\",\"longPackFloat\",\"valueFloat\",\"valuePreserveBoxFloat\",\"baselineDouble\",\"valueDouble\",\"valuePreserveBoxDouble\"],\n\"name\":\"Benchmark\",\n\"labels\":[\"baseline\",\"longPack\",\"value\",\"valuePreserveBox\",\"baseline\",\"value\",\"valuePreserveBox\",\"baseline\",\"longPack\",\"value\",\"valuePreserveBox\",\"baseline\",\"value\",\"valuePreserveBox\"]\n},{\n\"aesthetic\":\"y\",\n\"name\":\"ns/op\",\n\"limits\":[null,null]\n},{\n\"aesthetic\":\"fill\",\n\"discrete\":true,\n\"name\":\"Type\",\n\"guide\":{\n\"name\":\"legend\"\n}\n},{\n\"aesthetic\":\"x\"\n},{\n\"aesthetic\":\"x\"\n},{\n\"aesthetic\":\"y\",\n\"limits\":[null,null]\n}],\n\"layers\":[{\n\"mapping\":{\n\"x\":\"name\",\n\"y\":\"score\",\n\"fill\":\"type\"\n},\n\"stat\":\"identity\",\n\"sampling\":\"none\",\n\"position\":\"dodge\",\n\"geom\":\"bar\",\n\"tooltips\":{\n\"lines\":[\"Type|@type\",\"Benchmark|@name\",\"Score|@score\"]\n},\n\"data\":{\n}\n},{\n\"mapping\":{\n\"x\":\"name\",\n\"ymin\":\"minErr\",\n\"ymax\":\"maxErr\"\n},\n\"stat\":\"identity\",\n\"sampling\":\"none\",\n\"width\":0.5,\n\"position\":\"identity\",\n\"geom\":\"errorbar\",\n\"data\":{\n}\n},{\n\"mapping\":{\n\"x\":\"name\",\n\"y\":\"textPosition\",\n\"label\":\"label\"\n},\n\"stat\":\"identity\",\n\"size\":5.2,\n\"sampling\":\"none\",\n\"position\":\"identity\",\n\"geom\":\"text\",\n\"data\":{\n}\n}],\n\"theme\":{\n\"flavor\":\"solarized_light\"\n}\n};\n       var plotContainer = document.getElementById(\"eu0cDt\");\n       LetsPlot.buildPlotFromProcessedSpecs(plotSpec, -1, -1, plotContainer);\n   </script>    ",
      "application/plot+json": {
       "output_type": "lets_plot_spec",
       "output": {
        "ggtitle": {
         "text": "BoxRecreation",
         "subtitle": "Hotspot"
        },
        "mapping": {},
        "data": {
         "score": [
          63.495,
          592.82,
          619.262,
          61.855,
          65.777,
          650.124,
          66.623,
          64.785,
          613.593,
          621.495,
          61.182,
          67.827,
          648.595,
          63.997
         ],
         "textPosition": [
          102.63018,
          296.41,
          309.631,
          100.99018,
          104.91218,
          325.062,
          105.75818,
          103.92018,
          306.7965,
          310.7475,
          100.31718,
          106.96218,
          324.2975,
          103.13218
         ],
         "name": [
          "baselineInt",
          "longPackInt",
          "valueInt",
          "valuePreserveBoxInt",
          "baselineLong",
          "valueLong",
          "valuePreserveBoxLong",
          "baselineFloat",
          "longPackFloat",
          "valueFloat",
          "valuePreserveBoxFloat",
          "baselineDouble",
          "valueDouble",
          "valuePreserveBoxDouble"
         ],
         "minErr": [
          63.402,
          592.194,
          617.531,
          61.72,
          65.513,
          647.995,
          66.412,
          64.553,
          612.015,
          620.175,
          61.059,
          67.611,
          647.217,
          63.706
         ],
         "label": [
          "100%\n±\n0.1%\nInt",
          "934%\n±\n1.0%\nInt",
          "975%\n±\n2.7%\nInt",
          "97%\n±\n0.2%\nInt",
          "100%\n±\n0.4%\nLong",
          "988%\n±\n3.2%\nLong",
          "101%\n±\n0.3%\nLong",
          "100%\n±\n0.4%\nFloat",
          "947%\n±\n2.4%\nFloat",
          "959%\n±\n2.0%\nFloat",
          "94%\n±\n0.2%\nFloat",
          "100%\n±\n0.3%\nDouble",
          "956%\n±\n2.0%\nDouble",
          "94%\n±\n0.4%\nDouble"
         ],
         "type": [
          "Int",
          "Int",
          "Int",
          "Int",
          "Long",
          "Long",
          "Long",
          "Float",
          "Float",
          "Float",
          "Float",
          "Double",
          "Double",
          "Double"
         ],
         "maxErr": [
          63.588,
          593.446,
          620.993,
          61.99,
          66.041,
          652.253,
          66.834,
          65.017,
          615.171,
          622.815,
          61.305,
          68.043,
          649.973,
          64.288
         ]
        },
        "ggsize": {
         "width": 800.0,
         "height": 600.0
        },
        "kind": "plot",
        "scales": [
         {
          "aesthetic": "x",
          "breaks": [
           "baselineInt",
           "longPackInt",
           "valueInt",
           "valuePreserveBoxInt",
           "baselineLong",
           "valueLong",
           "valuePreserveBoxLong",
           "baselineFloat",
           "longPackFloat",
           "valueFloat",
           "valuePreserveBoxFloat",
           "baselineDouble",
           "valueDouble",
           "valuePreserveBoxDouble"
          ],
          "name": "Benchmark",
          "labels": [
           "baseline",
           "longPack",
           "value",
           "valuePreserveBox",
           "baseline",
           "value",
           "valuePreserveBox",
           "baseline",
           "longPack",
           "value",
           "valuePreserveBox",
           "baseline",
           "value",
           "valuePreserveBox"
          ]
         },
         {
          "aesthetic": "y",
          "name": "ns/op",
          "limits": [
           null,
           null
          ]
         },
         {
          "aesthetic": "fill",
          "discrete": true,
          "name": "Type",
          "guide": {
           "name": "legend"
          }
         },
         {
          "aesthetic": "x"
         },
         {
          "aesthetic": "x"
         },
         {
          "aesthetic": "y",
          "limits": [
           null,
           null
          ]
         }
        ],
        "layers": [
         {
          "mapping": {
           "x": "name",
           "y": "score",
           "fill": "type"
          },
          "stat": "identity",
          "sampling": "none",
          "position": "dodge",
          "geom": "bar",
          "tooltips": {
           "lines": [
            "Type|@type",
            "Benchmark|@name",
            "Score|@score"
           ]
          }
         },
         {
          "mapping": {
           "x": "name",
           "ymin": "minErr",
           "ymax": "maxErr"
          },
          "stat": "identity",
          "sampling": "none",
          "width": 0.5,
          "position": "identity",
          "geom": "errorbar"
         },
         {
          "mapping": {
           "x": "name",
           "y": "textPosition",
           "label": "label"
          },
          "stat": "identity",
          "size": 5.2,
          "sampling": "none",
          "position": "identity",
          "geom": "text"
         }
        ],
        "theme": {
         "flavor": "solarized_light"
        }
       },
       "apply_color_scheme": true,
       "swing_enabled": true
      }
     },
     "metadata": {},
     "output_type": "display_data"
    }
   ],
   "source": [
    "makePlot(\"Wolf3d\", \"Hotspot\", readHotspotBenchmarkData(\"Wolf3dBenchmark\"))?.let { DISPLAY(it) }\n",
    "makePlot(\"Ackermann\", \"Hotspot\", readHotspotBenchmarkData(\"AckermannBenchmark\"))?.let { DISPLAY(it) }\n",
    "makePlot(\"BoxRecreation\", \"Hotspot\", readHotspotBenchmarkData(\"BoxRecreationBenchmark\"))?.let { DISPLAY(it) }"
   ],
   "metadata": {
    "collapsed": false,
    "ExecuteTime": {
     "end_time": "2023-07-09T16:55:58.932107Z",
     "start_time": "2023-07-09T16:55:53.931877Z"
    }
   }
  },
  {
   "cell_type": "code",
   "execution_count": 7,
   "outputs": [
    {
     "data": {
      "text/html": "            <script type=\"text/javascript\" data-lets-plot-script=\"library\" src=\"https://cdn.jsdelivr.net/gh/JetBrains/lets-plot@v3.1.0/js-package/distr/lets-plot.min.js\"></script>    \n               <div id=\"QRokLz\"></div>\n   <script type=\"text/javascript\" data-lets-plot-script=\"plot\">\n       var plotSpec={\n\"ggtitle\":{\n\"text\":\"Wolf3d\",\n\"subtitle\":\"Graal\"\n},\n\"mapping\":{\n},\n\"data\":{\n\"score\":[3.1267926487E7,3.1407003291E7,6.2640333155E7,2.2641175345E7,6.2505813268E7,2.5785582099E7,2.3615583767E7,2.3766726155E7,2.3750361882E7,3.1812011572E7,3.1750810176E7,2.2904311003E7,2.6214300814E7,2.3965700864E7,2.3840402132E7,2.4041514909E7],\n\"textPosition\":[1.56339632435E7,1.57035016455E7,3.13201665775E7,1.13205876725E7,3.1252906634E7,1.28927910495E7,1.18077918835E7,1.18833630775E7,1.1875180941E7,1.5906005786E7,1.5875405088E7,1.14521555015E7,1.3107150407E7,1.1982850432E7,1.1920201066E7,1.20207574545E7],\n\"name\":[\"baselineFloat\",\"inlineFloat\",\"longPackFloat\",\"mutableSpecificRefFloat\",\"mutableUniversalRefFloatIn1Long\",\"mutableUniversalRefFloatIn2Longs\",\"valueFloat\",\"valueInlineFloat\",\"valuePreserveBoxFloat\",\"baselineDouble\",\"inlineDouble\",\"mutableSpecificRefDouble\",\"mutableUniversalRefDouble\",\"valueDouble\",\"valueInlineDouble\",\"valuePreserveBoxDouble\"],\n\"minErr\":[3.1174529455E7,3.125136798E7,6.2475875446E7,2.2571503279E7,6.2388339657E7,2.5677524698E7,2.3534267601E7,2.3713632176000003E7,2.3612144777E7,3.1686994166E7,3.1650895678999998E7,2.2823748279999997E7,2.606372877E7,2.3863980205E7,2.3735762406E7,2.3912374887000002E7],\n\"label\":[\"100%\\n±\\n0.3%\\nFloat\",\"100%\\n±\\n0.5%\\nFloat\",\"200%\\n±\\n0.5%\\nFloat\",\"72%\\n±\\n0.2%\\nFloat\",\"200%\\n±\\n0.4%\\nFloat\",\"82%\\n±\\n0.3%\\nFloat\",\"76%\\n±\\n0.3%\\nFloat\",\"76%\\n±\\n0.2%\\nFloat\",\"76%\\n±\\n0.4%\\nFloat\",\"100%\\n±\\n0.4%\\nDouble\",\"100%\\n±\\n0.3%\\nDouble\",\"72%\\n±\\n0.3%\\nDouble\",\"82%\\n±\\n0.5%\\nDouble\",\"75%\\n±\\n0.3%\\nDouble\",\"75%\\n±\\n0.3%\\nDouble\",\"76%\\n±\\n0.4%\\nDouble\"],\n\"type\":[\"Float\",\"Float\",\"Float\",\"Float\",\"Float\",\"Float\",\"Float\",\"Float\",\"Float\",\"Double\",\"Double\",\"Double\",\"Double\",\"Double\",\"Double\",\"Double\"],\n\"maxErr\":[3.1361323519E7,3.1562638602E7,6.2804790864E7,2.2710847411E7,6.2623286879E7,2.58936395E7,2.3696899933000002E7,2.3819820134E7,2.3888578987E7,3.1937028978E7,3.1850724673E7,2.2984873726E7,2.6364872858E7,2.4067421523000002E7,2.3945041858E7,2.4170654931E7]\n},\n\"ggsize\":{\n\"width\":800.0,\n\"height\":600.0\n},\n\"kind\":\"plot\",\n\"scales\":[{\n\"aesthetic\":\"x\",\n\"breaks\":[\"baselineFloat\",\"inlineFloat\",\"longPackFloat\",\"mutableSpecificRefFloat\",\"mutableUniversalRefFloatIn1Long\",\"mutableUniversalRefFloatIn2Longs\",\"valueFloat\",\"valueInlineFloat\",\"valuePreserveBoxFloat\",\"baselineDouble\",\"inlineDouble\",\"mutableSpecificRefDouble\",\"mutableUniversalRefDouble\",\"valueDouble\",\"valueInlineDouble\",\"valuePreserveBoxDouble\"],\n\"name\":\"Benchmark\",\n\"labels\":[\"baseline\",\"inline\",\"longPack\",\"mutableSpecificRef\",\"mutableUniversalRefIn1Long\",\"mutableUniversalRefIn2Longs\",\"value\",\"valueInline\",\"valuePreserveBox\",\"baseline\",\"inline\",\"mutableSpecificRef\",\"mutableUniversalRef\",\"value\",\"valueInline\",\"valuePreserveBox\"]\n},{\n\"aesthetic\":\"y\",\n\"name\":\"ns/op\",\n\"limits\":[null,null]\n},{\n\"aesthetic\":\"fill\",\n\"discrete\":true,\n\"name\":\"Type\",\n\"guide\":{\n\"name\":\"legend\"\n}\n},{\n\"aesthetic\":\"x\"\n},{\n\"aesthetic\":\"x\"\n},{\n\"aesthetic\":\"y\",\n\"limits\":[null,null]\n}],\n\"layers\":[{\n\"mapping\":{\n\"x\":\"name\",\n\"y\":\"score\",\n\"fill\":\"type\"\n},\n\"stat\":\"identity\",\n\"sampling\":\"none\",\n\"position\":\"dodge\",\n\"geom\":\"bar\",\n\"tooltips\":{\n\"lines\":[\"Type|@type\",\"Benchmark|@name\",\"Score|@score\"]\n},\n\"data\":{\n}\n},{\n\"mapping\":{\n\"x\":\"name\",\n\"ymin\":\"minErr\",\n\"ymax\":\"maxErr\"\n},\n\"stat\":\"identity\",\n\"sampling\":\"none\",\n\"width\":0.5,\n\"position\":\"identity\",\n\"geom\":\"errorbar\",\n\"data\":{\n}\n},{\n\"mapping\":{\n\"x\":\"name\",\n\"y\":\"textPosition\",\n\"label\":\"label\"\n},\n\"stat\":\"identity\",\n\"size\":4.8,\n\"sampling\":\"none\",\n\"position\":\"identity\",\n\"geom\":\"text\",\n\"data\":{\n}\n}],\n\"theme\":{\n\"flavor\":\"solarized_light\"\n}\n};\n       var plotContainer = document.getElementById(\"QRokLz\");\n       LetsPlot.buildPlotFromProcessedSpecs(plotSpec, -1, -1, plotContainer);\n   </script>    ",
      "application/plot+json": {
       "output_type": "lets_plot_spec",
       "output": {
        "ggtitle": {
         "text": "Wolf3d",
         "subtitle": "Graal"
        },
        "mapping": {},
        "data": {
         "score": [
          3.1267926E7,
          3.1407004E7,
          6.2640332E7,
          2.2641176E7,
          6.2505812E7,
          2.5785582E7,
          2.3615584E7,
          2.3766726E7,
          2.3750362E7,
          3.1812012E7,
          3.175081E7,
          2.2904312E7,
          2.62143E7,
          2.39657E7,
          2.3840402E7,
          2.4041514E7
         ],
         "textPosition": [
          1.5633963E7,
          1.5703502E7,
          3.1320166E7,
          1.1320588E7,
          3.1252906E7,
          1.2892791E7,
          1.1807792E7,
          1.1883363E7,
          1.1875181E7,
          1.5906006E7,
          1.5875405E7,
          1.1452156E7,
          1.310715E7,
          1.198285E7,
          1.1920201E7,
          1.2020757E7
         ],
         "name": [
          "baselineFloat",
          "inlineFloat",
          "longPackFloat",
          "mutableSpecificRefFloat",
          "mutableUniversalRefFloatIn1Long",
          "mutableUniversalRefFloatIn2Longs",
          "valueFloat",
          "valueInlineFloat",
          "valuePreserveBoxFloat",
          "baselineDouble",
          "inlineDouble",
          "mutableSpecificRefDouble",
          "mutableUniversalRefDouble",
          "valueDouble",
          "valueInlineDouble",
          "valuePreserveBoxDouble"
         ],
         "minErr": [
          3.117453E7,
          3.1251368E7,
          6.2475876E7,
          2.2571504E7,
          6.238834E7,
          2.5677524E7,
          2.3534268E7,
          2.3713632E7,
          2.3612144E7,
          3.1686994E7,
          3.1650896E7,
          2.2823748E7,
          2.6063728E7,
          2.386398E7,
          2.3735762E7,
          2.3912374E7
         ],
         "label": [
          "100%\n±\n0.3%\nFloat",
          "100%\n±\n0.5%\nFloat",
          "200%\n±\n0.5%\nFloat",
          "72%\n±\n0.2%\nFloat",
          "200%\n±\n0.4%\nFloat",
          "82%\n±\n0.3%\nFloat",
          "76%\n±\n0.3%\nFloat",
          "76%\n±\n0.2%\nFloat",
          "76%\n±\n0.4%\nFloat",
          "100%\n±\n0.4%\nDouble",
          "100%\n±\n0.3%\nDouble",
          "72%\n±\n0.3%\nDouble",
          "82%\n±\n0.5%\nDouble",
          "75%\n±\n0.3%\nDouble",
          "75%\n±\n0.3%\nDouble",
          "76%\n±\n0.4%\nDouble"
         ],
         "type": [
          "Float",
          "Float",
          "Float",
          "Float",
          "Float",
          "Float",
          "Float",
          "Float",
          "Float",
          "Double",
          "Double",
          "Double",
          "Double",
          "Double",
          "Double",
          "Double"
         ],
         "maxErr": [
          3.1361324E7,
          3.1562638E7,
          6.2804792E7,
          2.2710848E7,
          6.2623288E7,
          2.589364E7,
          2.36969E7,
          2.381982E7,
          2.3888578E7,
          3.1937028E7,
          3.1850724E7,
          2.2984874E7,
          2.6364872E7,
          2.4067422E7,
          2.3945042E7,
          2.4170654E7
         ]
        },
        "ggsize": {
         "width": 800.0,
         "height": 600.0
        },
        "kind": "plot",
        "scales": [
         {
          "aesthetic": "x",
          "breaks": [
           "baselineFloat",
           "inlineFloat",
           "longPackFloat",
           "mutableSpecificRefFloat",
           "mutableUniversalRefFloatIn1Long",
           "mutableUniversalRefFloatIn2Longs",
           "valueFloat",
           "valueInlineFloat",
           "valuePreserveBoxFloat",
           "baselineDouble",
           "inlineDouble",
           "mutableSpecificRefDouble",
           "mutableUniversalRefDouble",
           "valueDouble",
           "valueInlineDouble",
           "valuePreserveBoxDouble"
          ],
          "name": "Benchmark",
          "labels": [
           "baseline",
           "inline",
           "longPack",
           "mutableSpecificRef",
           "mutableUniversalRefIn1Long",
           "mutableUniversalRefIn2Longs",
           "value",
           "valueInline",
           "valuePreserveBox",
           "baseline",
           "inline",
           "mutableSpecificRef",
           "mutableUniversalRef",
           "value",
           "valueInline",
           "valuePreserveBox"
          ]
         },
         {
          "aesthetic": "y",
          "name": "ns/op",
          "limits": [
           null,
           null
          ]
         },
         {
          "aesthetic": "fill",
          "discrete": true,
          "name": "Type",
          "guide": {
           "name": "legend"
          }
         },
         {
          "aesthetic": "x"
         },
         {
          "aesthetic": "x"
         },
         {
          "aesthetic": "y",
          "limits": [
           null,
           null
          ]
         }
        ],
        "layers": [
         {
          "mapping": {
           "x": "name",
           "y": "score",
           "fill": "type"
          },
          "stat": "identity",
          "sampling": "none",
          "position": "dodge",
          "geom": "bar",
          "tooltips": {
           "lines": [
            "Type|@type",
            "Benchmark|@name",
            "Score|@score"
           ]
          }
         },
         {
          "mapping": {
           "x": "name",
           "ymin": "minErr",
           "ymax": "maxErr"
          },
          "stat": "identity",
          "sampling": "none",
          "width": 0.5,
          "position": "identity",
          "geom": "errorbar"
         },
         {
          "mapping": {
           "x": "name",
           "y": "textPosition",
           "label": "label"
          },
          "stat": "identity",
          "size": 4.8,
          "sampling": "none",
          "position": "identity",
          "geom": "text"
         }
        ],
        "theme": {
         "flavor": "solarized_light"
        }
       },
       "apply_color_scheme": true,
       "swing_enabled": true
      }
     },
     "metadata": {},
     "output_type": "display_data"
    },
    {
     "data": {
      "text/html": "            <script type=\"text/javascript\" data-lets-plot-script=\"library\" src=\"https://cdn.jsdelivr.net/gh/JetBrains/lets-plot@v3.1.0/js-package/distr/lets-plot.min.js\"></script>    \n               <div id=\"IMep2H\"></div>\n   <script type=\"text/javascript\" data-lets-plot-script=\"plot\">\n       var plotSpec={\n\"ggtitle\":{\n\"text\":\"Ackermann\",\n\"subtitle\":\"Graal\"\n},\n\"mapping\":{\n},\n\"data\":{\n\"score\":[12430.384,9173.753,7842.778,9774.265,7745.047,10369.162,10460.282,14230.448,7696.586,7698.283,12713.429,12624.947,13088.041,17129.602,9221.231,19052.896,11220.653,10876.946,10861.61,15109.068,9342.68,9353.865,12772.074,12755.105],\n\"textPosition\":[6215.192,4586.8765,3921.389,4887.1325,3872.5235,5184.581,5230.141,7115.224,3848.293,3849.1415,6356.7145,6312.4735,6544.0205,8564.801,4610.6155,9526.448,5610.3265,5438.473,5430.805,7554.534,4671.34,4676.9325,6386.037,6377.5525],\n\"name\":[\"baselineInt\",\"longPackInt\",\"mutableSpecificRefInt\",\"mutableUniversalRefIntIn1Long\",\"mutableUniversalRefIntIn2Longs\",\"valueInt\",\"valuePreserveBoxInt\",\"baselineLong\",\"mutableSpecificRefLong\",\"mutableUniversalRefLong\",\"valueLong\",\"valuePreserveBoxLong\",\"baselineFloat\",\"longPackFloat\",\"mutableSpecificRefFloat\",\"mutableUniversalRefFloatIn1Long\",\"mutableUniversalRefFloatIn2Longs\",\"valueFloat\",\"valuePreserveBoxFloat\",\"baselineDouble\",\"mutableSpecificRefDouble\",\"mutableUniversalRefDouble\",\"valueDouble\",\"valuePreserveBoxDouble\"],\n\"minErr\":[12230.588,9066.092,7641.002,9749.445,7716.597,10141.628,10338.599999999999,14181.07,7663.9220000000005,7654.944,12416.363,12468.799,13029.836,17097.154,9192.46,19029.085,11164.703,10809.737,10804.567000000001,15001.803,9310.372,9311.646,12606.596000000001,12606.712],\n\"label\":[\"100%\\n±\\n1.6%\\nInt\",\"74%\\n±\\n0.9%\\nInt\",\"63%\\n±\\n1.6%\\nInt\",\"79%\\n±\\n0.2%\\nInt\",\"62%\\n±\\n0.2%\\nInt\",\"83%\\n±\\n1.8%\\nInt\",\"84%\\n±\\n1.0%\\nInt\",\"100%\\n±\\n0.3%\\nLong\",\"54%\\n±\\n0.2%\\nLong\",\"54%\\n±\\n0.3%\\nLong\",\"89%\\n±\\n2.1%\\nLong\",\"89%\\n±\\n1.1%\\nLong\",\"100%\\n±\\n0.4%\\nFloat\",\"131%\\n±\\n0.2%\\nFloat\",\"70%\\n±\\n0.2%\\nFloat\",\"146%\\n±\\n0.2%\\nFloat\",\"86%\\n±\\n0.4%\\nFloat\",\"83%\\n±\\n0.5%\\nFloat\",\"83%\\n±\\n0.4%\\nFloat\",\"100%\\n±\\n0.7%\\nDouble\",\"62%\\n±\\n0.2%\\nDouble\",\"62%\\n±\\n0.3%\\nDouble\",\"85%\\n±\\n1.1%\\nDouble\",\"84%\\n±\\n1.0%\\nDouble\"],\n\"type\":[\"Int\",\"Int\",\"Int\",\"Int\",\"Int\",\"Int\",\"Int\",\"Long\",\"Long\",\"Long\",\"Long\",\"Long\",\"Float\",\"Float\",\"Float\",\"Float\",\"Float\",\"Float\",\"Float\",\"Double\",\"Double\",\"Double\",\"Double\",\"Double\"],\n\"maxErr\":[12630.18,9281.414,8044.554,9799.085,7773.496999999999,10596.696,10581.964,14279.826000000001,7729.25,7741.622,13010.495,12781.095,13146.246,17162.05,9250.002,19076.707000000002,11276.603000000001,10944.155,10918.653,15216.332999999999,9374.988000000001,9396.083999999999,12937.552,12903.498]\n},\n\"ggsize\":{\n\"width\":800.0,\n\"height\":600.0\n},\n\"kind\":\"plot\",\n\"scales\":[{\n\"aesthetic\":\"x\",\n\"breaks\":[\"baselineInt\",\"longPackInt\",\"mutableSpecificRefInt\",\"mutableUniversalRefIntIn1Long\",\"mutableUniversalRefIntIn2Longs\",\"valueInt\",\"valuePreserveBoxInt\",\"baselineLong\",\"mutableSpecificRefLong\",\"mutableUniversalRefLong\",\"valueLong\",\"valuePreserveBoxLong\",\"baselineFloat\",\"longPackFloat\",\"mutableSpecificRefFloat\",\"mutableUniversalRefFloatIn1Long\",\"mutableUniversalRefFloatIn2Longs\",\"valueFloat\",\"valuePreserveBoxFloat\",\"baselineDouble\",\"mutableSpecificRefDouble\",\"mutableUniversalRefDouble\",\"valueDouble\",\"valuePreserveBoxDouble\"],\n\"name\":\"Benchmark\",\n\"labels\":[\"baseline\",\"longPack\",\"mutableSpecificRef\",\"mutableUniversalRefIn1Long\",\"mutableUniversalRefIn2Longs\",\"value\",\"valuePreserveBox\",\"baseline\",\"mutableSpecificRef\",\"mutableUniversalRef\",\"value\",\"valuePreserveBox\",\"baseline\",\"longPack\",\"mutableSpecificRef\",\"mutableUniversalRefIn1Long\",\"mutableUniversalRefIn2Longs\",\"value\",\"valuePreserveBox\",\"baseline\",\"mutableSpecificRef\",\"mutableUniversalRef\",\"value\",\"valuePreserveBox\"]\n},{\n\"aesthetic\":\"y\",\n\"name\":\"ns/op\",\n\"limits\":[null,null]\n},{\n\"aesthetic\":\"fill\",\n\"discrete\":true,\n\"name\":\"Type\",\n\"guide\":{\n\"name\":\"legend\"\n}\n},{\n\"aesthetic\":\"x\"\n},{\n\"aesthetic\":\"x\"\n},{\n\"aesthetic\":\"y\",\n\"limits\":[null,null]\n}],\n\"layers\":[{\n\"mapping\":{\n\"x\":\"name\",\n\"y\":\"score\",\n\"fill\":\"type\"\n},\n\"stat\":\"identity\",\n\"sampling\":\"none\",\n\"position\":\"dodge\",\n\"geom\":\"bar\",\n\"tooltips\":{\n\"lines\":[\"Type|@type\",\"Benchmark|@name\",\"Score|@score\"]\n},\n\"data\":{\n}\n},{\n\"mapping\":{\n\"x\":\"name\",\n\"ymin\":\"minErr\",\n\"ymax\":\"maxErr\"\n},\n\"stat\":\"identity\",\n\"sampling\":\"none\",\n\"width\":0.5,\n\"position\":\"identity\",\n\"geom\":\"errorbar\",\n\"data\":{\n}\n},{\n\"mapping\":{\n\"x\":\"name\",\n\"y\":\"textPosition\",\n\"label\":\"label\"\n},\n\"stat\":\"identity\",\n\"size\":3.2,\n\"sampling\":\"none\",\n\"position\":\"identity\",\n\"geom\":\"text\",\n\"data\":{\n}\n}],\n\"theme\":{\n\"flavor\":\"solarized_light\"\n}\n};\n       var plotContainer = document.getElementById(\"IMep2H\");\n       LetsPlot.buildPlotFromProcessedSpecs(plotSpec, -1, -1, plotContainer);\n   </script>    ",
      "application/plot+json": {
       "output_type": "lets_plot_spec",
       "output": {
        "ggtitle": {
         "text": "Ackermann",
         "subtitle": "Graal"
        },
        "mapping": {},
        "data": {
         "score": [
          12430.384,
          9173.753,
          7842.778,
          9774.265,
          7745.047,
          10369.162,
          10460.282,
          14230.448,
          7696.586,
          7698.283,
          12713.429,
          12624.947,
          13088.041,
          17129.602,
          9221.231,
          19052.896,
          11220.653,
          10876.946,
          10861.61,
          15109.068,
          9342.68,
          9353.865,
          12772.074,
          12755.105
         ],
         "textPosition": [
          6215.192,
          4586.8765,
          3921.389,
          4887.1323,
          3872.5234,
          5184.581,
          5230.141,
          7115.224,
          3848.293,
          3849.1416,
          6356.7144,
          6312.4736,
          6544.0205,
          8564.801,
          4610.6157,
          9526.448,
          5610.3267,
          5438.473,
          5430.805,
          7554.534,
          4671.34,
          4676.9326,
          6386.037,
          6377.5527
         ],
         "name": [
          "baselineInt",
          "longPackInt",
          "mutableSpecificRefInt",
          "mutableUniversalRefIntIn1Long",
          "mutableUniversalRefIntIn2Longs",
          "valueInt",
          "valuePreserveBoxInt",
          "baselineLong",
          "mutableSpecificRefLong",
          "mutableUniversalRefLong",
          "valueLong",
          "valuePreserveBoxLong",
          "baselineFloat",
          "longPackFloat",
          "mutableSpecificRefFloat",
          "mutableUniversalRefFloatIn1Long",
          "mutableUniversalRefFloatIn2Longs",
          "valueFloat",
          "valuePreserveBoxFloat",
          "baselineDouble",
          "mutableSpecificRefDouble",
          "mutableUniversalRefDouble",
          "valueDouble",
          "valuePreserveBoxDouble"
         ],
         "minErr": [
          12230.588,
          9066.092,
          7641.002,
          9749.445,
          7716.597,
          10141.628,
          10338.6,
          14181.07,
          7663.922,
          7654.944,
          12416.363,
          12468.799,
          13029.836,
          17097.154,
          9192.46,
          19029.086,
          11164.703,
          10809.737,
          10804.567,
          15001.803,
          9310.372,
          9311.646,
          12606.596,
          12606.712
         ],
         "label": [
          "100%\n±\n1.6%\nInt",
          "74%\n±\n0.9%\nInt",
          "63%\n±\n1.6%\nInt",
          "79%\n±\n0.2%\nInt",
          "62%\n±\n0.2%\nInt",
          "83%\n±\n1.8%\nInt",
          "84%\n±\n1.0%\nInt",
          "100%\n±\n0.3%\nLong",
          "54%\n±\n0.2%\nLong",
          "54%\n±\n0.3%\nLong",
          "89%\n±\n2.1%\nLong",
          "89%\n±\n1.1%\nLong",
          "100%\n±\n0.4%\nFloat",
          "131%\n±\n0.2%\nFloat",
          "70%\n±\n0.2%\nFloat",
          "146%\n±\n0.2%\nFloat",
          "86%\n±\n0.4%\nFloat",
          "83%\n±\n0.5%\nFloat",
          "83%\n±\n0.4%\nFloat",
          "100%\n±\n0.7%\nDouble",
          "62%\n±\n0.2%\nDouble",
          "62%\n±\n0.3%\nDouble",
          "85%\n±\n1.1%\nDouble",
          "84%\n±\n1.0%\nDouble"
         ],
         "type": [
          "Int",
          "Int",
          "Int",
          "Int",
          "Int",
          "Int",
          "Int",
          "Long",
          "Long",
          "Long",
          "Long",
          "Long",
          "Float",
          "Float",
          "Float",
          "Float",
          "Float",
          "Float",
          "Float",
          "Double",
          "Double",
          "Double",
          "Double",
          "Double"
         ],
         "maxErr": [
          12630.18,
          9281.414,
          8044.554,
          9799.085,
          7773.497,
          10596.696,
          10581.964,
          14279.826,
          7729.25,
          7741.622,
          13010.495,
          12781.095,
          13146.246,
          17162.05,
          9250.002,
          19076.707,
          11276.603,
          10944.155,
          10918.653,
          15216.333,
          9374.988,
          9396.084,
          12937.552,
          12903.498
         ]
        },
        "ggsize": {
         "width": 800.0,
         "height": 600.0
        },
        "kind": "plot",
        "scales": [
         {
          "aesthetic": "x",
          "breaks": [
           "baselineInt",
           "longPackInt",
           "mutableSpecificRefInt",
           "mutableUniversalRefIntIn1Long",
           "mutableUniversalRefIntIn2Longs",
           "valueInt",
           "valuePreserveBoxInt",
           "baselineLong",
           "mutableSpecificRefLong",
           "mutableUniversalRefLong",
           "valueLong",
           "valuePreserveBoxLong",
           "baselineFloat",
           "longPackFloat",
           "mutableSpecificRefFloat",
           "mutableUniversalRefFloatIn1Long",
           "mutableUniversalRefFloatIn2Longs",
           "valueFloat",
           "valuePreserveBoxFloat",
           "baselineDouble",
           "mutableSpecificRefDouble",
           "mutableUniversalRefDouble",
           "valueDouble",
           "valuePreserveBoxDouble"
          ],
          "name": "Benchmark",
          "labels": [
           "baseline",
           "longPack",
           "mutableSpecificRef",
           "mutableUniversalRefIn1Long",
           "mutableUniversalRefIn2Longs",
           "value",
           "valuePreserveBox",
           "baseline",
           "mutableSpecificRef",
           "mutableUniversalRef",
           "value",
           "valuePreserveBox",
           "baseline",
           "longPack",
           "mutableSpecificRef",
           "mutableUniversalRefIn1Long",
           "mutableUniversalRefIn2Longs",
           "value",
           "valuePreserveBox",
           "baseline",
           "mutableSpecificRef",
           "mutableUniversalRef",
           "value",
           "valuePreserveBox"
          ]
         },
         {
          "aesthetic": "y",
          "name": "ns/op",
          "limits": [
           null,
           null
          ]
         },
         {
          "aesthetic": "fill",
          "discrete": true,
          "name": "Type",
          "guide": {
           "name": "legend"
          }
         },
         {
          "aesthetic": "x"
         },
         {
          "aesthetic": "x"
         },
         {
          "aesthetic": "y",
          "limits": [
           null,
           null
          ]
         }
        ],
        "layers": [
         {
          "mapping": {
           "x": "name",
           "y": "score",
           "fill": "type"
          },
          "stat": "identity",
          "sampling": "none",
          "position": "dodge",
          "geom": "bar",
          "tooltips": {
           "lines": [
            "Type|@type",
            "Benchmark|@name",
            "Score|@score"
           ]
          }
         },
         {
          "mapping": {
           "x": "name",
           "ymin": "minErr",
           "ymax": "maxErr"
          },
          "stat": "identity",
          "sampling": "none",
          "width": 0.5,
          "position": "identity",
          "geom": "errorbar"
         },
         {
          "mapping": {
           "x": "name",
           "y": "textPosition",
           "label": "label"
          },
          "stat": "identity",
          "size": 3.2,
          "sampling": "none",
          "position": "identity",
          "geom": "text"
         }
        ],
        "theme": {
         "flavor": "solarized_light"
        }
       },
       "apply_color_scheme": true,
       "swing_enabled": true
      }
     },
     "metadata": {},
     "output_type": "display_data"
    },
    {
     "data": {
      "text/html": "            <script type=\"text/javascript\" data-lets-plot-script=\"library\" src=\"https://cdn.jsdelivr.net/gh/JetBrains/lets-plot@v3.1.0/js-package/distr/lets-plot.min.js\"></script>    \n               <div id=\"fliELD\"></div>\n   <script type=\"text/javascript\" data-lets-plot-script=\"plot\">\n       var plotSpec={\n\"ggtitle\":{\n\"text\":\"BoxRecreation\",\n\"subtitle\":\"Graal\"\n},\n\"mapping\":{\n},\n\"data\":{\n\"score\":[65.703,619.643,645.335,68.451,76.027,724.556,80.188,69.208,617.233,649.494,67.719,76.465,722.782,80.538],\n\"textPosition\":[109.36896000000002,309.8215,322.6675,112.11696,119.69296,362.278,123.85396,112.87396000000001,308.6165,324.747,111.38496,120.13096000000002,361.391,124.20396],\n\"name\":[\"baselineInt\",\"longPackInt\",\"valueInt\",\"valuePreserveBoxInt\",\"baselineLong\",\"valueLong\",\"valuePreserveBoxLong\",\"baselineFloat\",\"longPackFloat\",\"valueFloat\",\"valuePreserveBoxFloat\",\"baselineDouble\",\"valueDouble\",\"valuePreserveBoxDouble\"],\n\"minErr\":[64.989,617.363,641.205,66.487,73.74,721.346,79.898,66.667,613.5889999999999,645.046,66.07799999999999,74.489,719.4960000000001,80.14999999999999],\n\"label\":[\"100%\\n±\\n1.1%\\nInt\",\"943%\\n±\\n3.5%\\nInt\",\"982%\\n±\\n6.3%\\nInt\",\"104%\\n±\\n3.0%\\nInt\",\"100%\\n±\\n3.0%\\nLong\",\"953%\\n±\\n4.2%\\nLong\",\"105%\\n±\\n0.4%\\nLong\",\"100%\\n±\\n3.7%\\nFloat\",\"892%\\n±\\n5.3%\\nFloat\",\"938%\\n±\\n6.4%\\nFloat\",\"98%\\n±\\n2.4%\\nFloat\",\"100%\\n±\\n2.6%\\nDouble\",\"945%\\n±\\n4.3%\\nDouble\",\"105%\\n±\\n0.5%\\nDouble\"],\n\"type\":[\"Int\",\"Int\",\"Int\",\"Int\",\"Long\",\"Long\",\"Long\",\"Float\",\"Float\",\"Float\",\"Float\",\"Double\",\"Double\",\"Double\"],\n\"maxErr\":[66.417,621.923,649.465,70.41499999999999,78.31400000000001,727.7660000000001,80.47800000000001,71.749,620.877,653.942,69.36,78.441,726.068,80.926]\n},\n\"ggsize\":{\n\"width\":800.0,\n\"height\":600.0\n},\n\"kind\":\"plot\",\n\"scales\":[{\n\"aesthetic\":\"x\",\n\"breaks\":[\"baselineInt\",\"longPackInt\",\"valueInt\",\"valuePreserveBoxInt\",\"baselineLong\",\"valueLong\",\"valuePreserveBoxLong\",\"baselineFloat\",\"longPackFloat\",\"valueFloat\",\"valuePreserveBoxFloat\",\"baselineDouble\",\"valueDouble\",\"valuePreserveBoxDouble\"],\n\"name\":\"Benchmark\",\n\"labels\":[\"baseline\",\"longPack\",\"value\",\"valuePreserveBox\",\"baseline\",\"value\",\"valuePreserveBox\",\"baseline\",\"longPack\",\"value\",\"valuePreserveBox\",\"baseline\",\"value\",\"valuePreserveBox\"]\n},{\n\"aesthetic\":\"y\",\n\"name\":\"ns/op\",\n\"limits\":[null,null]\n},{\n\"aesthetic\":\"fill\",\n\"discrete\":true,\n\"name\":\"Type\",\n\"guide\":{\n\"name\":\"legend\"\n}\n},{\n\"aesthetic\":\"x\"\n},{\n\"aesthetic\":\"x\"\n},{\n\"aesthetic\":\"y\",\n\"limits\":[null,null]\n}],\n\"layers\":[{\n\"mapping\":{\n\"x\":\"name\",\n\"y\":\"score\",\n\"fill\":\"type\"\n},\n\"stat\":\"identity\",\n\"sampling\":\"none\",\n\"position\":\"dodge\",\n\"geom\":\"bar\",\n\"tooltips\":{\n\"lines\":[\"Type|@type\",\"Benchmark|@name\",\"Score|@score\"]\n},\n\"data\":{\n}\n},{\n\"mapping\":{\n\"x\":\"name\",\n\"ymin\":\"minErr\",\n\"ymax\":\"maxErr\"\n},\n\"stat\":\"identity\",\n\"sampling\":\"none\",\n\"width\":0.5,\n\"position\":\"identity\",\n\"geom\":\"errorbar\",\n\"data\":{\n}\n},{\n\"mapping\":{\n\"x\":\"name\",\n\"y\":\"textPosition\",\n\"label\":\"label\"\n},\n\"stat\":\"identity\",\n\"size\":5.2,\n\"sampling\":\"none\",\n\"position\":\"identity\",\n\"geom\":\"text\",\n\"data\":{\n}\n}],\n\"theme\":{\n\"flavor\":\"solarized_light\"\n}\n};\n       var plotContainer = document.getElementById(\"fliELD\");\n       LetsPlot.buildPlotFromProcessedSpecs(plotSpec, -1, -1, plotContainer);\n   </script>    ",
      "application/plot+json": {
       "output_type": "lets_plot_spec",
       "output": {
        "ggtitle": {
         "text": "BoxRecreation",
         "subtitle": "Graal"
        },
        "mapping": {},
        "data": {
         "score": [
          65.703,
          619.643,
          645.335,
          68.451,
          76.027,
          724.556,
          80.188,
          69.208,
          617.233,
          649.494,
          67.719,
          76.465,
          722.782,
          80.538
         ],
         "textPosition": [
          109.36896,
          309.8215,
          322.6675,
          112.11696,
          119.69296,
          362.278,
          123.85396,
          112.87396,
          308.6165,
          324.747,
          111.38496,
          120.13096,
          361.391,
          124.20396
         ],
         "name": [
          "baselineInt",
          "longPackInt",
          "valueInt",
          "valuePreserveBoxInt",
          "baselineLong",
          "valueLong",
          "valuePreserveBoxLong",
          "baselineFloat",
          "longPackFloat",
          "valueFloat",
          "valuePreserveBoxFloat",
          "baselineDouble",
          "valueDouble",
          "valuePreserveBoxDouble"
         ],
         "minErr": [
          64.989,
          617.363,
          641.205,
          66.487,
          73.74,
          721.346,
          79.898,
          66.667,
          613.589,
          645.046,
          66.078,
          74.489,
          719.496,
          80.15
         ],
         "label": [
          "100%\n±\n1.1%\nInt",
          "943%\n±\n3.5%\nInt",
          "982%\n±\n6.3%\nInt",
          "104%\n±\n3.0%\nInt",
          "100%\n±\n3.0%\nLong",
          "953%\n±\n4.2%\nLong",
          "105%\n±\n0.4%\nLong",
          "100%\n±\n3.7%\nFloat",
          "892%\n±\n5.3%\nFloat",
          "938%\n±\n6.4%\nFloat",
          "98%\n±\n2.4%\nFloat",
          "100%\n±\n2.6%\nDouble",
          "945%\n±\n4.3%\nDouble",
          "105%\n±\n0.5%\nDouble"
         ],
         "type": [
          "Int",
          "Int",
          "Int",
          "Int",
          "Long",
          "Long",
          "Long",
          "Float",
          "Float",
          "Float",
          "Float",
          "Double",
          "Double",
          "Double"
         ],
         "maxErr": [
          66.417,
          621.923,
          649.465,
          70.415,
          78.314,
          727.766,
          80.478,
          71.749,
          620.877,
          653.942,
          69.36,
          78.441,
          726.068,
          80.926
         ]
        },
        "ggsize": {
         "width": 800.0,
         "height": 600.0
        },
        "kind": "plot",
        "scales": [
         {
          "aesthetic": "x",
          "breaks": [
           "baselineInt",
           "longPackInt",
           "valueInt",
           "valuePreserveBoxInt",
           "baselineLong",
           "valueLong",
           "valuePreserveBoxLong",
           "baselineFloat",
           "longPackFloat",
           "valueFloat",
           "valuePreserveBoxFloat",
           "baselineDouble",
           "valueDouble",
           "valuePreserveBoxDouble"
          ],
          "name": "Benchmark",
          "labels": [
           "baseline",
           "longPack",
           "value",
           "valuePreserveBox",
           "baseline",
           "value",
           "valuePreserveBox",
           "baseline",
           "longPack",
           "value",
           "valuePreserveBox",
           "baseline",
           "value",
           "valuePreserveBox"
          ]
         },
         {
          "aesthetic": "y",
          "name": "ns/op",
          "limits": [
           null,
           null
          ]
         },
         {
          "aesthetic": "fill",
          "discrete": true,
          "name": "Type",
          "guide": {
           "name": "legend"
          }
         },
         {
          "aesthetic": "x"
         },
         {
          "aesthetic": "x"
         },
         {
          "aesthetic": "y",
          "limits": [
           null,
           null
          ]
         }
        ],
        "layers": [
         {
          "mapping": {
           "x": "name",
           "y": "score",
           "fill": "type"
          },
          "stat": "identity",
          "sampling": "none",
          "position": "dodge",
          "geom": "bar",
          "tooltips": {
           "lines": [
            "Type|@type",
            "Benchmark|@name",
            "Score|@score"
           ]
          }
         },
         {
          "mapping": {
           "x": "name",
           "ymin": "minErr",
           "ymax": "maxErr"
          },
          "stat": "identity",
          "sampling": "none",
          "width": 0.5,
          "position": "identity",
          "geom": "errorbar"
         },
         {
          "mapping": {
           "x": "name",
           "y": "textPosition",
           "label": "label"
          },
          "stat": "identity",
          "size": 5.2,
          "sampling": "none",
          "position": "identity",
          "geom": "text"
         }
        ],
        "theme": {
         "flavor": "solarized_light"
        }
       },
       "apply_color_scheme": true,
       "swing_enabled": true
      }
     },
     "metadata": {},
     "output_type": "display_data"
    }
   ],
   "source": [
    "makePlot(\"Wolf3d\", \"Graal\", readGraalBenchmarkData(\"Wolf3dBenchmark\"))?.let { DISPLAY(it) }\n",
    "makePlot(\"Ackermann\", \"Graal\", readGraalBenchmarkData(\"AckermannBenchmark\"))?.let { DISPLAY(it) }\n",
    "makePlot(\"BoxRecreation\", \"Graal\", readGraalBenchmarkData(\"BoxRecreationBenchmark\"))?.let { DISPLAY(it) }"
   ],
   "metadata": {
    "collapsed": false,
    "ExecuteTime": {
     "end_time": "2023-07-09T16:56:00.311118Z",
     "start_time": "2023-07-09T16:55:58.841320Z"
    }
   }
  },
  {
   "cell_type": "code",
   "execution_count": 8,
   "outputs": [],
   "source": [
    "import java.io.FileFilter\n",
    "import kotlin.io.path.listDirectoryEntries\n",
    "\n",
    "fun readArtBenchmarkData(benchmarkName: String) = Path.of(\"android-benchmark/build/outputs/androidTest-results/connected\")\n",
    "    .toFile().listFiles(FileFilter { it.isDirectory })!!.single()\n",
    "    .listFiles { _, name -> name.startsWith(\"logcat-org.jetbrains.\") }!!.flatMap { it.readLines() }\n",
    "    .parseBenchmarkData(Regex(\"^\\\\d{2}-\\\\d{2} +\\\\d+:\\\\d+:\\\\d+.\\\\d+ +\\\\d+ +\\\\d+ +I +Benchmark: +$benchmarkName\\\\.(?<name>[^\\\\[]+)\\\\[Metric \\\\(timeNs\\\\) +results: +median +(?<score>[^,]+), +min [^,]+, +max [^,]+, +standardDeviation: +(?<error>[^,]+), +.*\"))"
   ],
   "metadata": {
    "collapsed": false,
    "ExecuteTime": {
     "end_time": "2023-07-09T16:56:03.535880Z",
     "start_time": "2023-07-09T16:56:00.271771Z"
    }
   }
  },
  {
   "cell_type": "code",
   "execution_count": 9,
   "outputs": [
    {
     "data": {
      "text/html": "            <iframe onload=\"o_resize_iframe_out_3()\" style=\"width:100%;\" class=\"result_container\" id=\"iframe_out_3\" frameBorder=\"0\" srcdoc=\"        &lt;html theme='dark'&gt;\n        &lt;head&gt;\n            &lt;style type=&quot;text&sol;css&quot;&gt;\n                :root {\n    --background: #fff;\n    --background-odd: #f5f5f5;\n    --background-hover: #d9edfd;\n    --header-text-color: #474747;\n    --text-color: #848484;\n    --text-color-dark: #000;\n    --text-color-medium: #737373;\n    --text-color-pale: #b3b3b3;\n    --inner-border-color: #aaa;\n    --bold-border-color: #000;\n    --link-color: #296eaa;\n    --link-color-pale: #296eaa;\n    --link-hover: #1a466c;\n}\n\n:root[theme=&quot;dark&quot;], :root [data-jp-theme-light=&quot;false&quot;], .dataframe_dark{\n    --background: #303030;\n    --background-odd: #3c3c3c;\n    --background-hover: #464646;\n    --header-text-color: #dddddd;\n    --text-color: #b3b3b3;\n    --text-color-dark: #dddddd;\n    --text-color-medium: #b2b2b2;\n    --text-color-pale: #737373;\n    --inner-border-color: #707070;\n    --bold-border-color: #777777;\n    --link-color: #008dc0;\n    --link-color-pale: #97e1fb;\n    --link-hover: #00688e;\n}\n\np.dataframe_description {\n    color: var(--text-color-dark);\n}\n\ntable.dataframe {\n    font-family: &quot;Helvetica Neue&quot;, Helvetica, Arial, sans-serif;\n    font-size: 12px;\n    background-color: var(--background);\n    color: var(--text-color-dark);\n    border: none;\n    border-collapse: collapse;\n}\n\ntable.dataframe th, td {\n    padding: 6px;\n    border: 1px solid transparent;\n    text-align: left;\n}\n\ntable.dataframe th {\n    background-color: var(--background);\n    color: var(--header-text-color);\n}\n\ntable.dataframe td {\n    vertical-align: top;\n}\n\ntable.dataframe th.bottomBorder {\n    border-bottom-color: var(--bold-border-color);\n}\n\ntable.dataframe tbody &gt; tr:nth-child(odd) {\n    background: var(--background-odd);\n}\n\ntable.dataframe tbody &gt; tr:nth-child(even) {\n    background: var(--background);\n}\n\ntable.dataframe tbody &gt; tr:hover {\n    background: var(--background-hover);\n}\n\ntable.dataframe a {\n    cursor: pointer;\n    color: var(--link-color);\n    text-decoration: none;\n}\n\ntable.dataframe tr:hover &gt; td a {\n    color: var(--link-color-pale);\n}\n\ntable.dataframe a:hover {\n    color: var(--link-hover);\n    text-decoration: underline;\n}\n\ntable.dataframe img {\n    max-width: fit-content;\n}\n\ntable.dataframe th.complex {\n    background-color: var(--background);\n    border: 1px solid var(--background);\n}\n\ntable.dataframe .leftBorder {\n    border-left-color: var(--inner-border-color);\n}\n\ntable.dataframe .rightBorder {\n    border-right-color: var(--inner-border-color);\n}\n\ntable.dataframe .rightAlign {\n    text-align: right;\n}\n\ntable.dataframe .expanderSvg {\n    width: 8px;\n    height: 8px;\n    margin-right: 3px;\n}\n\ntable.dataframe .expander {\n    display: flex;\n    align-items: center;\n}\n\n&sol;* formatting *&sol;\n\ntable.dataframe .null {\n    color: var(--text-color-pale);\n}\n\ntable.dataframe .structural {\n    color: var(--text-color-medium);\n    font-weight: bold;\n}\n\ntable.dataframe .dataFrameCaption {\n    font-weight: bold;\n}\n\ntable.dataframe .numbers {\n    color: var(--text-color-dark);\n}\n\ntable.dataframe td:hover .formatted .structural, .null {\n    color: var(--text-color-dark);\n}\n\ntable.dataframe tr:hover .formatted .structural, .null {\n    color: var(--text-color-dark);\n}\n\n\n\n\n:root {\n    --scroll-bg: #f5f5f5;\n    --scroll-fg: #b3b3b3;\n}\n:root[theme=&quot;dark&quot;], :root [data-jp-theme-light=&quot;false&quot;]{\n    --scroll-bg: #3c3c3c;\n    --scroll-fg: #97e1fb;\n}\nbody {\n    scrollbar-color: var(--scroll-fg) var(--scroll-bg);\n}\nbody::-webkit-scrollbar {\n    width: 10px; &sol;* Mostly for vertical scrollbars *&sol;\n    height: 10px; &sol;* Mostly for horizontal scrollbars *&sol;\n}\nbody::-webkit-scrollbar-thumb {\n    background-color: var(--scroll-fg);\n}\nbody::-webkit-scrollbar-track {\n    background-color: var(--scroll-bg);\n}\n            &lt;&sol;style&gt;\n        &lt;&sol;head&gt;\n        &lt;body&gt;\n            \n&lt;table class=&quot;dataframe&quot; id=&quot;df_16777218&quot;&gt;&lt;&sol;table&gt;\n\n&lt;p class=&quot;dataframe_description&quot;&gt;DataFrame: rowsCount = 18, columnsCount = 4&lt;&sol;p&gt;\n\n        &lt;&sol;body&gt;\n        &lt;script&gt;\n            (function () {\n    window.DataFrame = window.DataFrame || new (function () {\n        this.addTable = function (df) {\n            let cols = df.cols;\n            for (let i = 0; i &lt; cols.length; i++) {\n                for (let c of cols[i].children) {\n                    cols[c].parent = i;\n                }\n            }\n            df.nrow = 0\n            for (let i = 0; i &lt; df.cols.length; i++) {\n                if (df.cols[i].values.length &gt; df.nrow) df.nrow = df.cols[i].values.length\n            }\n            if (df.id === df.rootId) {\n                df.expandedFrames = new Set()\n                df.childFrames = {}\n                const table = this.getTableElement(df.id)\n                table.df = df\n                for (let i = 0; i &lt; df.cols.length; i++) {\n                    let col = df.cols[i]\n                    if (col.parent === undefined &amp;&amp; col.children.length &gt; 0) col.expanded = true\n                }\n            } else {\n                const rootDf = this.getTableData(df.rootId)\n                rootDf.childFrames[df.id] = df\n            }\n        }\n\n        this.computeRenderData = function (df) {\n            let result = []\n            let pos = 0\n            for (let col = 0; col &lt; df.cols.length; col++) {\n                if (df.cols[col].parent === undefined)\n                    pos += this.computeRenderDataRec(df.cols, col, pos, 0, result, false, false)\n            }\n            for (let i = 0; i &lt; result.length; i++) {\n                let row = result[i]\n                for (let j = 0; j &lt; row.length; j++) {\n                    let cell = row[j]\n                    if (j === 0)\n                        cell.leftBd = false\n                    if (j &lt; row.length - 1) {\n                        let nextData = row[j + 1]\n                        if (nextData.leftBd) cell.rightBd = true\n                        else if (cell.rightBd) nextData.leftBd = true\n                    } else cell.rightBd = false\n                }\n            }\n            return result\n        }\n\n        this.computeRenderDataRec = function (cols, colId, pos, depth, result, leftBorder, rightBorder) {\n            if (result.length === depth) {\n                const array = [];\n                if (pos &gt; 0) {\n                    let j = 0\n                    for (let i = 0; j &lt; pos; i++) {\n                        let c = result[depth - 1][i]\n                        j += c.span\n                        let copy = Object.assign({empty: true}, c)\n                        array.push(copy)\n                    }\n                }\n                result.push(array)\n            }\n            const col = cols[colId];\n            let size = 0;\n            if (col.expanded) {\n                let childPos = pos\n                for (let i = 0; i &lt; col.children.length; i++) {\n                    let child = col.children[i]\n                    let childLeft = i === 0 &amp;&amp; (col.children.length &gt; 1 || leftBorder)\n                    let childRight = i === col.children.length - 1 &amp;&amp; (col.children.length &gt; 1 || rightBorder)\n                    let childSize = this.computeRenderDataRec(cols, child, childPos, depth + 1, result, childLeft, childRight)\n                    childPos += childSize\n                    size += childSize\n                }\n            } else {\n                for (let i = depth + 1; i &lt; result.length; i++)\n                    result[i].push({id: colId, span: 1, leftBd: leftBorder, rightBd: rightBorder, empty: true})\n                size = 1\n            }\n            let left = leftBorder\n            let right = rightBorder\n            if (size &gt; 1) {\n                left = true\n                right = true\n            }\n            result[depth].push({id: colId, span: size, leftBd: left, rightBd: right})\n            return size\n        }\n\n        this.getTableElement = function (id) {\n            return document.getElementById(&quot;df_&quot; + id)\n        }\n\n        this.getTableData = function (id) {\n            return this.getTableElement(id).df\n        }\n\n        this.createExpander = function (isExpanded) {\n            const svgNs = &quot;http:&sol;&sol;www.w3.org&sol;2000&sol;svg&quot;\n            let svg = document.createElementNS(svgNs, &quot;svg&quot;)\n            svg.classList.add(&quot;expanderSvg&quot;)\n            let path = document.createElementNS(svgNs, &quot;path&quot;)\n            if (isExpanded) {\n                svg.setAttribute(&quot;viewBox&quot;, &quot;0 -2 8 8&quot;)\n                path.setAttribute(&quot;d&quot;, &quot;M1 0 l-1 1 4 4 4 -4 -1 -1 -3 3Z&quot;)\n            } else {\n                svg.setAttribute(&quot;viewBox&quot;, &quot;-2 0 8 8&quot;)\n                path.setAttribute(&quot;d&quot;, &quot;M1 0 l-1 1 3 3 -3 3 1 1 4 -4Z&quot;)\n            }\n            path.setAttribute(&quot;fill&quot;, &quot;currentColor&quot;)\n            svg.appendChild(path)\n            return svg\n        }\n\n        this.renderTable = function (id) {\n\n            let table = this.getTableElement(id)\n\n            if (table === null) return\n\n            table.innerHTML = &quot;&quot;\n\n            let df = table.df\n            let rootDf = df.rootId === df.id ? df : this.getTableData(df.rootId)\n\n            &sol;&sol; header\n            let header = document.createElement(&quot;thead&quot;)\n            table.appendChild(header)\n\n            let renderData = this.computeRenderData(df)\n            for (let j = 0; j &lt; renderData.length; j++) {\n                let rowData = renderData[j]\n                let tr = document.createElement(&quot;tr&quot;);\n                let isLastRow = j === renderData.length - 1\n                header.appendChild(tr);\n                for (let i = 0; i &lt; rowData.length; i++) {\n                    let cell = rowData[i]\n                    let th = document.createElement(&quot;th&quot;);\n                    th.setAttribute(&quot;colspan&quot;, cell.span)\n                    let colId = cell.id\n                    let col = df.cols[colId];\n                    if (!cell.empty) {\n                        if (col.children.length === 0) {\n                            th.innerHTML = col.name\n                        } else {\n                            let link = document.createElement(&quot;a&quot;)\n                            link.className = &quot;expander&quot;\n                            let that = this\n                            link.onclick = function () {\n                                col.expanded = !col.expanded\n                                that.renderTable(id)\n                            }\n                            link.appendChild(this.createExpander(col.expanded))\n                            link.innerHTML += col.name\n                            th.appendChild(link)\n                        }\n                    }\n                    let classes = (cell.leftBd ? &quot; leftBorder&quot; : &quot;&quot;) + (cell.rightBd ? &quot; rightBorder&quot; : &quot;&quot;)\n                    if (col.rightAlign)\n                        classes += &quot; rightAlign&quot;\n                    if (isLastRow)\n                        classes += &quot; bottomBorder&quot;\n                    if (classes.length &gt; 0)\n                        th.setAttribute(&quot;class&quot;, classes)\n                    tr.appendChild(th)\n                }\n            }\n\n            &sol;&sol; body\n            let body = document.createElement(&quot;tbody&quot;)\n            table.appendChild(body)\n\n            let columns = renderData.pop()\n            for (let row = 0; row &lt; df.nrow; row++) {\n                let tr = document.createElement(&quot;tr&quot;);\n                body.appendChild(tr)\n                for (let i = 0; i &lt; columns.length; i++) {\n                    let cell = columns[i]\n                    let td = document.createElement(&quot;td&quot;);\n                    let colId = cell.id\n                    let col = df.cols[colId]\n                    let classes = (cell.leftBd ? &quot; leftBorder&quot; : &quot;&quot;) + (cell.rightBd ? &quot; rightBorder&quot; : &quot;&quot;)\n                    if (col.rightAlign)\n                        classes += &quot; rightAlign&quot;\n                    if (classes.length &gt; 0)\n                        td.setAttribute(&quot;class&quot;, classes)\n                    tr.appendChild(td)\n                    let value = col.values[row]\n                    if (value.frameId !== undefined) {\n                        let frameId = value.frameId\n                        let expanded = rootDf.expandedFrames.has(frameId)\n                        let link = document.createElement(&quot;a&quot;)\n                        link.className = &quot;expander&quot;\n                        let that = this\n                        link.onclick = function () {\n                            if (rootDf.expandedFrames.has(frameId))\n                                rootDf.expandedFrames.delete(frameId)\n                            else rootDf.expandedFrames.add(frameId)\n                            that.renderTable(id)\n                        }\n                        link.appendChild(this.createExpander(expanded))\n                        link.innerHTML += value.value\n                        if (expanded) {\n                            td.appendChild(link)\n                            td.appendChild(document.createElement(&quot;p&quot;))\n                            const childTable = document.createElement(&quot;table&quot;)\n                            childTable.className = &quot;dataframe&quot;\n                            childTable.id = &quot;df_&quot; + frameId\n                            let childDf = rootDf.childFrames[frameId]\n                            childTable.df = childDf\n                            td.appendChild(childTable)\n                            this.renderTable(frameId)\n                            if (childDf.nrow !== childDf.totalRows) {\n                                const footer = document.createElement(&quot;p&quot;)\n                                footer.innerText = `... showing only top ${childDf.nrow} of ${childDf.totalRows} rows`\n                                td.appendChild(footer)\n                            }\n                        } else {\n                            td.appendChild(link)\n                        }\n                    } else if (value.style !== undefined) {\n                        td.innerHTML = value.value\n                        td.setAttribute(&quot;style&quot;, value.style)\n                    } else td.innerHTML = value\n                    this.nodeScriptReplace(td)\n                }\n            }\n        }\n\n        this.nodeScriptReplace = function (node) {\n            if (this.nodeScriptIs(node) === true) {\n                node.parentNode.replaceChild(this.nodeScriptClone(node), node);\n            } else {\n                let i = -1, children = node.childNodes;\n                while (++i &lt; children.length) {\n                    this.nodeScriptReplace(children[i]);\n                }\n            }\n\n            return node;\n        }\n\n        this.nodeScriptClone = function (node) {\n            let script = document.createElement(&quot;script&quot;);\n            script.text = node.innerHTML;\n\n            let i = -1, attrs = node.attributes, attr;\n            while (++i &lt; attrs.length) {\n                script.setAttribute((attr = attrs[i]).name, attr.value);\n            }\n            return script;\n        }\n\n        this.nodeScriptIs = function (node) {\n            return node.tagName === 'SCRIPT';\n        }\n    })()\n\n    window.call_DataFrame = function (f) {\n        return f();\n    };\n\n    let funQueue = window[&quot;kotlinQueues&quot;] &amp;&amp; window[&quot;kotlinQueues&quot;][&quot;DataFrame&quot;];\n    if (funQueue) {\n        funQueue.forEach(function (f) {\n            f();\n        });\n        funQueue = [];\n    }\n})()\n\n&sol;*&lt;!--*&sol;\ncall_DataFrame(function() { DataFrame.addTable({ cols: [{ name: &quot;&lt;span title=&bsol;&quot;name: String&bsol;&quot;&gt;name&lt;&sol;span&gt;&quot;, children: [], rightAlign: false, values: [&quot;baselineFloat&quot;,&quot;inlineFloat&quot;,&quot;longPackFloat&quot;,&quot;mutableSpecificRefFloat&quot;,&quot;mutableUniversalRefFloatIn1Long&quot;,&quot;mutableUniversalRefFloatIn2Longs&quot;,&quot;valueFloat&quot;,&quot;valueInlineFloat&quot;,&quot;valueInlineOnlyBodiesFloat&quot;,&quot;valuePreserveBoxFloat&quot;,&quot;baselineDouble&quot;,&quot;inlineDouble&quot;,&quot;mutableSpecificRefDouble&quot;,&quot;mutableUniversalRefDouble&quot;,&quot;valueDouble&quot;,&quot;valueInlineDouble&quot;,&quot;valueInlineOnlyBodiesDouble&quot;,&quot;valuePreserveBoxDouble&quot;] }, \n{ name: &quot;&lt;span title=&bsol;&quot;score: Double&bsol;&quot;&gt;score&lt;&sol;span&gt;&quot;, children: [], rightAlign: true, values: [&quot;&lt;span class=&bsol;&quot;formatted&bsol;&quot; title=&bsol;&quot;&bsol;&quot;&gt;&lt;span class=&bsol;&quot;numbers&bsol;&quot;&gt;675073826.000000&lt;&sol;span&gt;&lt;&sol;span&gt;&quot;,&quot;&lt;span class=&bsol;&quot;formatted&bsol;&quot; title=&bsol;&quot;&bsol;&quot;&gt;&lt;span class=&bsol;&quot;numbers&bsol;&quot;&gt;1299236326.500000&lt;&sol;span&gt;&lt;&sol;span&gt;&quot;,&quot;&lt;span class=&bsol;&quot;formatted&bsol;&quot; title=&bsol;&quot;&bsol;&quot;&gt;&lt;span class=&bsol;&quot;numbers&bsol;&quot;&gt;108050096.000000&lt;&sol;span&gt;&lt;&sol;span&gt;&quot;,&quot;&lt;span class=&bsol;&quot;formatted&bsol;&quot; title=&bsol;&quot;&bsol;&quot;&gt;&lt;span class=&bsol;&quot;numbers&bsol;&quot;&gt;66019711.500000&lt;&sol;span&gt;&lt;&sol;span&gt;&quot;,&quot;&lt;span class=&bsol;&quot;formatted&bsol;&quot; title=&bsol;&quot;&bsol;&quot;&gt;&lt;span class=&bsol;&quot;numbers&bsol;&quot;&gt;221751711.500000&lt;&sol;span&gt;&lt;&sol;span&gt;&quot;,&quot;&lt;span class=&bsol;&quot;formatted&bsol;&quot; title=&bsol;&quot;&bsol;&quot;&gt;&lt;span class=&bsol;&quot;numbers&bsol;&quot;&gt;141497384.500000&lt;&sol;span&gt;&lt;&sol;span&gt;&quot;,&quot;&lt;span class=&bsol;&quot;formatted&bsol;&quot; title=&bsol;&quot;&bsol;&quot;&gt;&lt;span class=&bsol;&quot;numbers&bsol;&quot;&gt;606402307.000000&lt;&sol;span&gt;&lt;&sol;span&gt;&quot;,&quot;&lt;span class=&bsol;&quot;formatted&bsol;&quot; title=&bsol;&quot;&bsol;&quot;&gt;&lt;span class=&bsol;&quot;numbers&bsol;&quot;&gt;24492740.375000&lt;&sol;span&gt;&lt;&sol;span&gt;&quot;,&quot;&lt;span class=&bsol;&quot;formatted&bsol;&quot; title=&bsol;&quot;&bsol;&quot;&gt;&lt;span class=&bsol;&quot;numbers&bsol;&quot;&gt;24474418.250000&lt;&sol;span&gt;&lt;&sol;span&gt;&quot;,&quot;&lt;span class=&bsol;&quot;formatted&bsol;&quot; title=&bsol;&quot;&bsol;&quot;&gt;&lt;span class=&bsol;&quot;numbers&bsol;&quot;&gt;600123115.000000&lt;&sol;span&gt;&lt;&sol;span&gt;&quot;,&quot;&lt;span class=&bsol;&quot;formatted&bsol;&quot; title=&bsol;&quot;&bsol;&quot;&gt;&lt;span class=&bsol;&quot;numbers&bsol;&quot;&gt;813721172.500000&lt;&sol;span&gt;&lt;&sol;span&gt;&quot;,&quot;&lt;span class=&bsol;&quot;formatted&bsol;&quot; title=&bsol;&quot;&bsol;&quot;&gt;&lt;span class=&bsol;&quot;numbers&bsol;&quot;&gt;1697821460.500000&lt;&sol;span&gt;&lt;&sol;span&gt;&quot;,&quot;&lt;span class=&bsol;&quot;formatted&bsol;&quot; title=&bsol;&quot;&bsol;&quot;&gt;&lt;span class=&bsol;&quot;numbers&bsol;&quot;&gt;112790326.000000&lt;&sol;span&gt;&lt;&sol;span&gt;&quot;,&quot;&lt;span class=&bsol;&quot;formatted&bsol;&quot; title=&bsol;&quot;&bsol;&quot;&gt;&lt;span class=&bsol;&quot;numbers&bsol;&quot;&gt;148606538.000000&lt;&sol;span&gt;&lt;&sol;span&gt;&quot;,&quot;&lt;span class=&bsol;&quot;formatted&bsol;&quot; title=&bsol;&quot;&bsol;&quot;&gt;&lt;span class=&bsol;&quot;numbers&bsol;&quot;&gt;909479788.000000&lt;&sol;span&gt;&lt;&sol;span&gt;&quot;,&quot;&lt;span class=&bsol;&quot;formatted&bsol;&quot; title=&bsol;&quot;&bsol;&quot;&gt;&lt;span class=&bsol;&quot;numbers&bsol;&quot;&gt;25936974.333333&lt;&sol;span&gt;&lt;&sol;span&gt;&quot;,&quot;&lt;span class=&bsol;&quot;formatted&bsol;&quot; title=&bsol;&quot;&bsol;&quot;&gt;&lt;span class=&bsol;&quot;numbers&bsol;&quot;&gt;25907794.833333&lt;&sol;span&gt;&lt;&sol;span&gt;&quot;,&quot;&lt;span class=&bsol;&quot;formatted&bsol;&quot; title=&bsol;&quot;&bsol;&quot;&gt;&lt;span class=&bsol;&quot;numbers&bsol;&quot;&gt;884614576.500000&lt;&sol;span&gt;&lt;&sol;span&gt;&quot;] }, \n{ name: &quot;&lt;span title=&bsol;&quot;error: Double&bsol;&quot;&gt;error&lt;&sol;span&gt;&quot;, children: [], rightAlign: true, values: [&quot;&lt;span class=&bsol;&quot;formatted&bsol;&quot; title=&bsol;&quot;&bsol;&quot;&gt;&lt;span class=&bsol;&quot;numbers&bsol;&quot;&gt;13246527.967861&lt;&sol;span&gt;&lt;&sol;span&gt;&quot;,&quot;&lt;span class=&bsol;&quot;formatted&bsol;&quot; title=&bsol;&quot;&bsol;&quot;&gt;&lt;span class=&bsol;&quot;numbers&bsol;&quot;&gt;15561006.119059&lt;&sol;span&gt;&lt;&sol;span&gt;&quot;,&quot;&lt;span class=&bsol;&quot;formatted&bsol;&quot; title=&bsol;&quot;&bsol;&quot;&gt;&lt;span class=&bsol;&quot;numbers&bsol;&quot;&gt;95549.041176&lt;&sol;span&gt;&lt;&sol;span&gt;&quot;,&quot;&lt;span class=&bsol;&quot;formatted&bsol;&quot; title=&bsol;&quot;&bsol;&quot;&gt;&lt;span class=&bsol;&quot;numbers&bsol;&quot;&gt;105330.192424&lt;&sol;span&gt;&lt;&sol;span&gt;&quot;,&quot;&lt;span class=&bsol;&quot;formatted&bsol;&quot; title=&bsol;&quot;&bsol;&quot;&gt;&lt;span class=&bsol;&quot;numbers&bsol;&quot;&gt;895068.701554&lt;&sol;span&gt;&lt;&sol;span&gt;&quot;,&quot;&lt;span class=&bsol;&quot;formatted&bsol;&quot; title=&bsol;&quot;&bsol;&quot;&gt;&lt;span class=&bsol;&quot;numbers&bsol;&quot;&gt;148342.316429&lt;&sol;span&gt;&lt;&sol;span&gt;&quot;,&quot;&lt;span class=&bsol;&quot;formatted&bsol;&quot; title=&bsol;&quot;&bsol;&quot;&gt;&lt;span class=&bsol;&quot;numbers&bsol;&quot;&gt;15753866.220041&lt;&sol;span&gt;&lt;&sol;span&gt;&quot;,&quot;&lt;span class=&bsol;&quot;formatted&bsol;&quot; title=&bsol;&quot;&bsol;&quot;&gt;&lt;span class=&bsol;&quot;numbers&bsol;&quot;&gt;34194.038203&lt;&sol;span&gt;&lt;&sol;span&gt;&quot;,&quot;&lt;span class=&bsol;&quot;formatted&bsol;&quot; title=&bsol;&quot;&bsol;&quot;&gt;&lt;span class=&bsol;&quot;numbers&bsol;&quot;&gt;242653.091010&lt;&sol;span&gt;&lt;&sol;span&gt;&quot;,&quot;&lt;span class=&bsol;&quot;formatted&bsol;&quot; title=&bsol;&quot;&bsol;&quot;&gt;&lt;span class=&bsol;&quot;numbers&bsol;&quot;&gt;7410862.283007&lt;&sol;span&gt;&lt;&sol;span&gt;&quot;,&quot;&lt;span class=&bsol;&quot;formatted&bsol;&quot; title=&bsol;&quot;&bsol;&quot;&gt;&lt;span class=&bsol;&quot;numbers&bsol;&quot;&gt;12588214.671772&lt;&sol;span&gt;&lt;&sol;span&gt;&quot;,&quot;&lt;span class=&bsol;&quot;formatted&bsol;&quot; title=&bsol;&quot;&bsol;&quot;&gt;&lt;span class=&bsol;&quot;numbers&bsol;&quot;&gt;40814004.868823&lt;&sol;span&gt;&lt;&sol;span&gt;&quot;,&quot;&lt;span class=&bsol;&quot;formatted&bsol;&quot; title=&bsol;&quot;&bsol;&quot;&gt;&lt;span class=&bsol;&quot;numbers&bsol;&quot;&gt;503251.326511&lt;&sol;span&gt;&lt;&sol;span&gt;&quot;,&quot;&lt;span class=&bsol;&quot;formatted&bsol;&quot; title=&bsol;&quot;&bsol;&quot;&gt;&lt;span class=&bsol;&quot;numbers&bsol;&quot;&gt;341406.240359&lt;&sol;span&gt;&lt;&sol;span&gt;&quot;,&quot;&lt;span class=&bsol;&quot;formatted&bsol;&quot; title=&bsol;&quot;&bsol;&quot;&gt;&lt;span class=&bsol;&quot;numbers&bsol;&quot;&gt;15548225.834905&lt;&sol;span&gt;&lt;&sol;span&gt;&quot;,&quot;&lt;span class=&bsol;&quot;formatted&bsol;&quot; title=&bsol;&quot;&bsol;&quot;&gt;&lt;span class=&bsol;&quot;numbers&bsol;&quot;&gt;198404.101785&lt;&sol;span&gt;&lt;&sol;span&gt;&quot;,&quot;&lt;span class=&bsol;&quot;formatted&bsol;&quot; title=&bsol;&quot;&bsol;&quot;&gt;&lt;span class=&bsol;&quot;numbers&bsol;&quot;&gt;207569.226646&lt;&sol;span&gt;&lt;&sol;span&gt;&quot;,&quot;&lt;span class=&bsol;&quot;formatted&bsol;&quot; title=&bsol;&quot;&bsol;&quot;&gt;&lt;span class=&bsol;&quot;numbers&bsol;&quot;&gt;21042764.069780&lt;&sol;span&gt;&lt;&sol;span&gt;&quot;] }, \n{ name: &quot;&lt;span title=&bsol;&quot;type: Line_9_jupyter.Type&bsol;&quot;&gt;type&lt;&sol;span&gt;&quot;, children: [], rightAlign: false, values: [&quot;Float&quot;,&quot;Float&quot;,&quot;Float&quot;,&quot;Float&quot;,&quot;Float&quot;,&quot;Float&quot;,&quot;Float&quot;,&quot;Float&quot;,&quot;Float&quot;,&quot;Float&quot;,&quot;Double&quot;,&quot;Double&quot;,&quot;Double&quot;,&quot;Double&quot;,&quot;Double&quot;,&quot;Double&quot;,&quot;Double&quot;,&quot;Double&quot;] }, \n], id: 16777218, rootId: 16777218, totalRows: 18 } ) });\n&sol;*--&gt;*&sol;\n\ncall_DataFrame(function() { DataFrame.renderTable(16777218) });\n\n\n\n        &lt;&sol;script&gt;\n        &lt;&sol;html&gt;\"></iframe>\n            <script>\n                function o_resize_iframe_out_3() {\n                    let elem = document.getElementById(\"iframe_out_3\");\n                    resize_iframe_out_3(elem);\n                    setInterval(resize_iframe_out_3, 5000, elem);\n                }\n                function resize_iframe_out_3(el) {\n                    let h = el.contentWindow.document.body.scrollHeight;\n                    el.height = h === 0 ? 0 : h + 41;\n                }\n            </script>",
      "application/kotlindataframe+json": "{\"nrow\":18,\"ncol\":4,\"columns\":[\"name\",\"score\",\"error\",\"type\"],\"kotlin_dataframe\":[{\"name\":\"baselineFloat\",\"score\":6.75073826E8,\"error\":1.3246527967860911E7,\"type\":\"Float\"},{\"name\":\"inlineFloat\",\"score\":1.2992363265E9,\"error\":1.5561006119059324E7,\"type\":\"Float\"},{\"name\":\"longPackFloat\",\"score\":1.08050096E8,\"error\":95549.04117585966,\"type\":\"Float\"},{\"name\":\"mutableSpecificRefFloat\",\"score\":6.60197115E7,\"error\":105330.19242409235,\"type\":\"Float\"},{\"name\":\"mutableUniversalRefFloatIn1Long\",\"score\":2.217517115E8,\"error\":895068.7015538582,\"type\":\"Float\"},{\"name\":\"mutableUniversalRefFloatIn2Longs\",\"score\":1.414973845E8,\"error\":148342.31642899613,\"type\":\"Float\"},{\"name\":\"valueFloat\",\"score\":6.06402307E8,\"error\":1.5753866220040528E7,\"type\":\"Float\"},{\"name\":\"valueInlineFloat\",\"score\":2.4492740375E7,\"error\":34194.038202665266,\"type\":\"Float\"},{\"name\":\"valueInlineOnlyBodiesFloat\",\"score\":2.447441825E7,\"error\":242653.09100974523,\"type\":\"Float\"},{\"name\":\"valuePreserveBoxFloat\",\"score\":6.00123115E8,\"error\":7410862.283006833,\"type\":\"Float\"},{\"name\":\"baselineDouble\",\"score\":8.137211725E8,\"error\":1.258821467177218E7,\"type\":\"Double\"},{\"name\":\"inlineDouble\",\"score\":1.6978214605E9,\"error\":4.081400486882321E7,\"type\":\"Double\"},{\"name\":\"mutableSpecificRefDouble\",\"score\":1.12790326E8,\"error\":503251.3265107839,\"type\":\"Double\"},{\"name\":\"mutableUniversalRefDouble\",\"score\":1.48606538E8,\"error\":341406.24035929656,\"type\":\"Double\"},{\"name\":\"valueDouble\",\"score\":9.09479788E8,\"error\":1.5548225834905155E7,\"type\":\"Double\"},{\"name\":\"valueInlineDouble\",\"score\":2.5936974333333332E7,\"error\":198404.10178542853,\"type\":\"Double\"},{\"name\":\"valueInlineOnlyBodiesDouble\",\"score\":2.5907794833333332E7,\"error\":207569.22664636152,\"type\":\"Double\"},{\"name\":\"valuePreserveBoxDouble\",\"score\":8.846145765E8,\"error\":2.1042764069780312E7,\"type\":\"Double\"}]}"
     },
     "execution_count": 9,
     "metadata": {},
     "output_type": "execute_result"
    }
   ],
   "source": [
    "readArtBenchmarkData(\"Wolf3dBenchmark\")"
   ],
   "metadata": {
    "collapsed": false,
    "ExecuteTime": {
     "end_time": "2023-07-09T16:56:03.926404Z",
     "start_time": "2023-07-09T16:56:03.539815Z"
    }
   }
  },
  {
   "cell_type": "code",
   "execution_count": 10,
   "outputs": [
    {
     "data": {
      "text/html": "            <script type=\"text/javascript\" data-lets-plot-script=\"library\" src=\"https://cdn.jsdelivr.net/gh/JetBrains/lets-plot@v3.1.0/js-package/distr/lets-plot.min.js\"></script>    \n               <div id=\"aJcPxY\"></div>\n   <script type=\"text/javascript\" data-lets-plot-script=\"plot\">\n       var plotSpec={\n\"ggtitle\":{\n\"text\":\"Wolf3d\",\n\"subtitle\":\"ART\"\n},\n\"mapping\":{\n},\n\"data\":{\n\"score\":[6.75073826E8,1.2992363265E9,1.08050096E8,6.60197115E7,2.217517115E8,1.414973845E8,6.06402307E8,2.4492740375E7,2.447441825E7,6.00123115E8,8.137211725E8,1.6978214605E9,1.12790326E8,1.48606538E8,9.09479788E8,2.5936974333333332E7,2.5907794833333332E7,8.846145765E8],\n\"textPosition\":[3.37536913E8,6.4961816325E8,2.123682239221294E8,1.703378394221294E8,1.1087585575E8,2.458155124221294E8,3.032011535E8,1.288108682971294E8,1.287925461721294E8,3.000615575E8,4.0686058625E8,8.4891073025E8,2.171084539221294E8,2.529246659221294E8,4.54739894E8,1.3025510225546272E8,1.3022592275546272E8,4.4230728825E8],\n\"name\":[\"baselineFloat\",\"inlineFloat\",\"longPackFloat\",\"mutableSpecificRefFloat\",\"mutableUniversalRefFloatIn1Long\",\"mutableUniversalRefFloatIn2Longs\",\"valueFloat\",\"valueInlineFloat\",\"valueInlineOnlyBodiesFloat\",\"valuePreserveBoxFloat\",\"baselineDouble\",\"inlineDouble\",\"mutableSpecificRefDouble\",\"mutableUniversalRefDouble\",\"valueDouble\",\"valueInlineDouble\",\"valueInlineOnlyBodiesDouble\",\"valuePreserveBoxDouble\"],\n\"minErr\":[6.618272980321391E8,1.2836753203809407E9,1.0795454695882414E8,6.591438130757591E7,2.2085664279844615E8,1.41349042183571E8,5.906484407799594E8,2.4458546336797334E7,2.4231765158990256E7,5.927122527169932E8,8.011329578282279E8,1.6570074556311767E9,1.1228707467348921E8,1.482651317596407E8,8.939315621650949E8,2.5738570231547903E7,2.5700225606686972E7,8.635718124302197E8],\n\"label\":[\"100%\\n±\\n2.0%\\nFloat\",\"192%\\n±\\n2.3%\\nFloat\",\"16%\\n±\\n0.0%\\nFloat\",\"10%\\n±\\n0.0%\\nFloat\",\"33%\\n±\\n0.1%\\nFloat\",\"21%\\n±\\n0.0%\\nFloat\",\"90%\\n±\\n2.3%\\nFloat\",\"4%\\n±\\n0.0%\\nFloat\",\"4%\\n±\\n0.0%\\nFloat\",\"89%\\n±\\n1.1%\\nFloat\",\"100%\\n±\\n1.5%\\nDouble\",\"209%\\n±\\n5.0%\\nDouble\",\"14%\\n±\\n0.1%\\nDouble\",\"18%\\n±\\n0.0%\\nDouble\",\"112%\\n±\\n1.9%\\nDouble\",\"3%\\n±\\n0.0%\\nDouble\",\"3%\\n±\\n0.0%\\nDouble\",\"109%\\n±\\n2.6%\\nDouble\"],\n\"type\":[\"Float\",\"Float\",\"Float\",\"Float\",\"Float\",\"Float\",\"Float\",\"Float\",\"Float\",\"Float\",\"Double\",\"Double\",\"Double\",\"Double\",\"Double\",\"Double\",\"Double\",\"Double\"],\n\"maxErr\":[6.883203539678609E8,1.3147973326190593E9,1.0814564504117586E8,6.612504169242409E7,2.2264678020155385E8,1.41645726816429E8,6.221561732200406E8,2.4526934413202666E7,2.4717071341009744E7,6.075339772830068E8,8.263093871717721E8,1.7386354653688233E9,1.1329357732651079E8,1.489479442403593E8,9.250280138349051E8,2.613537843511876E7,2.6115364059979692E7,9.056573405697803E8]\n},\n\"ggsize\":{\n\"width\":800.0,\n\"height\":600.0\n},\n\"kind\":\"plot\",\n\"scales\":[{\n\"aesthetic\":\"x\",\n\"breaks\":[\"baselineFloat\",\"inlineFloat\",\"longPackFloat\",\"mutableSpecificRefFloat\",\"mutableUniversalRefFloatIn1Long\",\"mutableUniversalRefFloatIn2Longs\",\"valueFloat\",\"valueInlineFloat\",\"valueInlineOnlyBodiesFloat\",\"valuePreserveBoxFloat\",\"baselineDouble\",\"inlineDouble\",\"mutableSpecificRefDouble\",\"mutableUniversalRefDouble\",\"valueDouble\",\"valueInlineDouble\",\"valueInlineOnlyBodiesDouble\",\"valuePreserveBoxDouble\"],\n\"name\":\"Benchmark\",\n\"labels\":[\"baseline\",\"inline\",\"longPack\",\"mutableSpecificRef\",\"mutableUniversalRefIn1Long\",\"mutableUniversalRefIn2Longs\",\"value\",\"valueInline\",\"valueInlineOnlyBodies\",\"valuePreserveBox\",\"baseline\",\"inline\",\"mutableSpecificRef\",\"mutableUniversalRef\",\"value\",\"valueInline\",\"valueInlineOnlyBodies\",\"valuePreserveBox\"]\n},{\n\"aesthetic\":\"y\",\n\"name\":\"ns/op\",\n\"limits\":[null,null]\n},{\n\"aesthetic\":\"fill\",\n\"discrete\":true,\n\"name\":\"Type\",\n\"guide\":{\n\"name\":\"legend\"\n}\n},{\n\"aesthetic\":\"x\"\n},{\n\"aesthetic\":\"x\"\n},{\n\"aesthetic\":\"y\",\n\"limits\":[null,null]\n}],\n\"layers\":[{\n\"mapping\":{\n\"x\":\"name\",\n\"y\":\"score\",\n\"fill\":\"type\"\n},\n\"stat\":\"identity\",\n\"sampling\":\"none\",\n\"position\":\"dodge\",\n\"geom\":\"bar\",\n\"tooltips\":{\n\"lines\":[\"Type|@type\",\"Benchmark|@name\",\"Score|@score\"]\n},\n\"data\":{\n}\n},{\n\"mapping\":{\n\"x\":\"name\",\n\"ymin\":\"minErr\",\n\"ymax\":\"maxErr\"\n},\n\"stat\":\"identity\",\n\"sampling\":\"none\",\n\"width\":0.5,\n\"position\":\"identity\",\n\"geom\":\"errorbar\",\n\"data\":{\n}\n},{\n\"mapping\":{\n\"x\":\"name\",\n\"y\":\"textPosition\",\n\"label\":\"label\"\n},\n\"stat\":\"identity\",\n\"size\":4.4,\n\"sampling\":\"none\",\n\"position\":\"identity\",\n\"geom\":\"text\",\n\"data\":{\n}\n}],\n\"theme\":{\n\"flavor\":\"solarized_light\"\n}\n};\n       var plotContainer = document.getElementById(\"aJcPxY\");\n       LetsPlot.buildPlotFromProcessedSpecs(plotSpec, -1, -1, plotContainer);\n   </script>    ",
      "application/plot+json": {
       "output_type": "lets_plot_spec",
       "output": {
        "ggtitle": {
         "text": "Wolf3d",
         "subtitle": "ART"
        },
        "mapping": {},
        "data": {
         "score": [
          6.7507386E8,
          1.29923635E9,
          1.08050096E8,
          6.6019712E7,
          2.21751712E8,
          1.41497392E8,
          6.064023E8,
          2.449274E7,
          2.4474418E7,
          6.0012314E8,
          8.1372115E8,
          1.69782144E9,
          1.12790328E8,
          1.48606544E8,
          9.0947981E8,
          2.5936974E7,
          2.5907794E7,
          8.8461459E8
         ],
         "textPosition": [
          3.37536928E8,
          6.4961818E8,
          2.12368224E8,
          1.7033784E8,
          1.10875856E8,
          2.4581552E8,
          3.03201152E8,
          1.28810872E8,
          1.28792544E8,
          3.00061568E8,
          4.06860576E8,
          8.4891072E8,
          2.17108448E8,
          2.52924672E8,
          4.54739904E8,
          1.30255104E8,
          1.3022592E8,
          4.42307296E8
         ],
         "name": [
          "baselineFloat",
          "inlineFloat",
          "longPackFloat",
          "mutableSpecificRefFloat",
          "mutableUniversalRefFloatIn1Long",
          "mutableUniversalRefFloatIn2Longs",
          "valueFloat",
          "valueInlineFloat",
          "valueInlineOnlyBodiesFloat",
          "valuePreserveBoxFloat",
          "baselineDouble",
          "inlineDouble",
          "mutableSpecificRefDouble",
          "mutableUniversalRefDouble",
          "valueDouble",
          "valueInlineDouble",
          "valueInlineOnlyBodiesDouble",
          "valuePreserveBoxDouble"
         ],
         "minErr": [
          6.6182733E8,
          1.28367526E9,
          1.07954544E8,
          6.591438E7,
          2.2085664E8,
          1.4134904E8,
          5.9064845E8,
          2.4458546E7,
          2.4231766E7,
          5.9271226E8,
          8.0113293E8,
          1.65700749E9,
          1.12287072E8,
          1.48265136E8,
          8.9393158E8,
          2.573857E7,
          2.5700226E7,
          8.6357184E8
         ],
         "label": [
          "100%\n±\n2.0%\nFloat",
          "192%\n±\n2.3%\nFloat",
          "16%\n±\n0.0%\nFloat",
          "10%\n±\n0.0%\nFloat",
          "33%\n±\n0.1%\nFloat",
          "21%\n±\n0.0%\nFloat",
          "90%\n±\n2.3%\nFloat",
          "4%\n±\n0.0%\nFloat",
          "4%\n±\n0.0%\nFloat",
          "89%\n±\n1.1%\nFloat",
          "100%\n±\n1.5%\nDouble",
          "209%\n±\n5.0%\nDouble",
          "14%\n±\n0.1%\nDouble",
          "18%\n±\n0.0%\nDouble",
          "112%\n±\n1.9%\nDouble",
          "3%\n±\n0.0%\nDouble",
          "3%\n±\n0.0%\nDouble",
          "109%\n±\n2.6%\nDouble"
         ],
         "type": [
          "Float",
          "Float",
          "Float",
          "Float",
          "Float",
          "Float",
          "Float",
          "Float",
          "Float",
          "Float",
          "Double",
          "Double",
          "Double",
          "Double",
          "Double",
          "Double",
          "Double",
          "Double"
         ],
         "maxErr": [
          6.8832038E8,
          1.31479731E9,
          1.08145648E8,
          6.612504E7,
          2.22646784E8,
          1.41645728E8,
          6.2215616E8,
          2.4526934E7,
          2.4717072E7,
          6.0753395E8,
          8.2630938E8,
          1.73863552E9,
          1.13293576E8,
          1.48947952E8,
          9.2502803E8,
          2.6135378E7,
          2.6115364E7,
          9.0565734E8
         ]
        },
        "ggsize": {
         "width": 800.0,
         "height": 600.0
        },
        "kind": "plot",
        "scales": [
         {
          "aesthetic": "x",
          "breaks": [
           "baselineFloat",
           "inlineFloat",
           "longPackFloat",
           "mutableSpecificRefFloat",
           "mutableUniversalRefFloatIn1Long",
           "mutableUniversalRefFloatIn2Longs",
           "valueFloat",
           "valueInlineFloat",
           "valueInlineOnlyBodiesFloat",
           "valuePreserveBoxFloat",
           "baselineDouble",
           "inlineDouble",
           "mutableSpecificRefDouble",
           "mutableUniversalRefDouble",
           "valueDouble",
           "valueInlineDouble",
           "valueInlineOnlyBodiesDouble",
           "valuePreserveBoxDouble"
          ],
          "name": "Benchmark",
          "labels": [
           "baseline",
           "inline",
           "longPack",
           "mutableSpecificRef",
           "mutableUniversalRefIn1Long",
           "mutableUniversalRefIn2Longs",
           "value",
           "valueInline",
           "valueInlineOnlyBodies",
           "valuePreserveBox",
           "baseline",
           "inline",
           "mutableSpecificRef",
           "mutableUniversalRef",
           "value",
           "valueInline",
           "valueInlineOnlyBodies",
           "valuePreserveBox"
          ]
         },
         {
          "aesthetic": "y",
          "name": "ns/op",
          "limits": [
           null,
           null
          ]
         },
         {
          "aesthetic": "fill",
          "discrete": true,
          "name": "Type",
          "guide": {
           "name": "legend"
          }
         },
         {
          "aesthetic": "x"
         },
         {
          "aesthetic": "x"
         },
         {
          "aesthetic": "y",
          "limits": [
           null,
           null
          ]
         }
        ],
        "layers": [
         {
          "mapping": {
           "x": "name",
           "y": "score",
           "fill": "type"
          },
          "stat": "identity",
          "sampling": "none",
          "position": "dodge",
          "geom": "bar",
          "tooltips": {
           "lines": [
            "Type|@type",
            "Benchmark|@name",
            "Score|@score"
           ]
          }
         },
         {
          "mapping": {
           "x": "name",
           "ymin": "minErr",
           "ymax": "maxErr"
          },
          "stat": "identity",
          "sampling": "none",
          "width": 0.5,
          "position": "identity",
          "geom": "errorbar"
         },
         {
          "mapping": {
           "x": "name",
           "y": "textPosition",
           "label": "label"
          },
          "stat": "identity",
          "size": 4.4,
          "sampling": "none",
          "position": "identity",
          "geom": "text"
         }
        ],
        "theme": {
         "flavor": "solarized_light"
        }
       },
       "apply_color_scheme": true,
       "swing_enabled": true
      }
     },
     "metadata": {},
     "output_type": "display_data"
    },
    {
     "data": {
      "text/html": "            <script type=\"text/javascript\" data-lets-plot-script=\"library\" src=\"https://cdn.jsdelivr.net/gh/JetBrains/lets-plot@v3.1.0/js-package/distr/lets-plot.min.js\"></script>    \n               <div id=\"cLqGjf\"></div>\n   <script type=\"text/javascript\" data-lets-plot-script=\"plot\">\n       var plotSpec={\n\"ggtitle\":{\n\"text\":\"Ackermann\",\n\"subtitle\":\"ART\"\n},\n\"mapping\":{\n},\n\"data\":{\n\"score\":[116589.97844827586,15659.056633048875,27821.741970689116,31161.395796223725,25033.90281730222,67721.85698769009,64067.90776699029,151235.7443267776,38601.4550342131,37381.98808578237,152257.45709570957,155747.7989457831,116597.86006825938,21289.059912573925,28687.605390008765,30338.662341772153,28668.898994811934,75537.26059479555,66174.61562696913,155877.50235109718,36443.299409448824,37612.2977326969,177677.93683083513,150534.6626746507],\n\"textPosition\":[58294.98922413793,27036.404099203035,13910.870985344558,15580.697898111863,12516.95140865111,33860.928493845044,32033.953883495145,75617.8721633888,19300.72751710655,18690.994042891183,76128.72854785479,77873.89947289156,58298.93003412969,32666.407378728087,14343.802695004382,15169.331170886077,14334.449497405967,37768.63029739777,33087.307813484564,77938.75117554859,18221.649704724412,18806.14886634845,88838.96841541756,75267.33133732535],\n\"name\":[\"baselineInt\",\"longPackInt\",\"mutableSpecificRefInt\",\"mutableUniversalRefIntIn1Long\",\"mutableUniversalRefIntIn2Longs\",\"valueInt\",\"valuePreserveBoxInt\",\"baselineLong\",\"mutableSpecificRefLong\",\"mutableUniversalRefLong\",\"valueLong\",\"valuePreserveBoxLong\",\"baselineFloat\",\"longPackFloat\",\"mutableSpecificRefFloat\",\"mutableUniversalRefFloatIn1Long\",\"mutableUniversalRefFloatIn2Longs\",\"valueFloat\",\"valuePreserveBoxFloat\",\"baselineDouble\",\"mutableSpecificRefDouble\",\"mutableUniversalRefDouble\",\"valueDouble\",\"valuePreserveBoxDouble\"],\n\"minErr\":[110069.51479050479,15567.918600864958,26733.132474712293,30053.39778962087,24555.344288266737,63993.81053460304,60904.25001589728,145006.2126232992,37760.04385510021,36117.622505007464,143965.74100428147,147850.06459530164,111267.2359462093,21117.680118752207,26722.410685489805,29430.3842475225,28031.477822387253,72279.10020989325,61336.16838978797,148009.61507891762,35264.91885833164,35689.862724365456,165733.41589243422,136900.7941424552],\n\"label\":[\"100%\\n±\\n5.6%\\nInt\",\"13%\\n±\\n0.1%\\nInt\",\"24%\\n±\\n0.9%\\nInt\",\"27%\\n±\\n1.0%\\nInt\",\"21%\\n±\\n0.4%\\nInt\",\"58%\\n±\\n3.2%\\nInt\",\"55%\\n±\\n2.7%\\nInt\",\"100%\\n±\\n4.1%\\nLong\",\"26%\\n±\\n0.6%\\nLong\",\"25%\\n±\\n0.8%\\nLong\",\"101%\\n±\\n5.5%\\nLong\",\"103%\\n±\\n5.2%\\nLong\",\"100%\\n±\\n4.6%\\nFloat\",\"18%\\n±\\n0.1%\\nFloat\",\"25%\\n±\\n1.7%\\nFloat\",\"26%\\n±\\n0.8%\\nFloat\",\"25%\\n±\\n0.5%\\nFloat\",\"65%\\n±\\n2.8%\\nFloat\",\"57%\\n±\\n4.1%\\nFloat\",\"100%\\n±\\n5.0%\\nDouble\",\"23%\\n±\\n0.8%\\nDouble\",\"24%\\n±\\n1.2%\\nDouble\",\"114%\\n±\\n7.7%\\nDouble\",\"97%\\n±\\n8.7%\\nDouble\"],\n\"type\":[\"Int\",\"Int\",\"Int\",\"Int\",\"Int\",\"Int\",\"Int\",\"Long\",\"Long\",\"Long\",\"Long\",\"Long\",\"Float\",\"Float\",\"Float\",\"Float\",\"Float\",\"Float\",\"Float\",\"Double\",\"Double\",\"Double\",\"Double\",\"Double\"],\n\"maxErr\":[123110.44210604692,15750.194665232792,28910.35146666594,32269.39380282658,25512.461346337703,71449.90344077714,67231.5655180833,157465.27603025603,39442.866213325986,38646.35366655727,160549.17318713767,163645.5332962646,121928.48419030946,21460.439706395642,30652.800094527724,31246.940436021807,29306.320167236616,78795.42097969784,71013.06286415028,163745.38962327674,37621.679960566005,39534.73274102834,189622.45776923603,164168.53120684618]\n},\n\"ggsize\":{\n\"width\":800.0,\n\"height\":600.0\n},\n\"kind\":\"plot\",\n\"scales\":[{\n\"aesthetic\":\"x\",\n\"breaks\":[\"baselineInt\",\"longPackInt\",\"mutableSpecificRefInt\",\"mutableUniversalRefIntIn1Long\",\"mutableUniversalRefIntIn2Longs\",\"valueInt\",\"valuePreserveBoxInt\",\"baselineLong\",\"mutableSpecificRefLong\",\"mutableUniversalRefLong\",\"valueLong\",\"valuePreserveBoxLong\",\"baselineFloat\",\"longPackFloat\",\"mutableSpecificRefFloat\",\"mutableUniversalRefFloatIn1Long\",\"mutableUniversalRefFloatIn2Longs\",\"valueFloat\",\"valuePreserveBoxFloat\",\"baselineDouble\",\"mutableSpecificRefDouble\",\"mutableUniversalRefDouble\",\"valueDouble\",\"valuePreserveBoxDouble\"],\n\"name\":\"Benchmark\",\n\"labels\":[\"baseline\",\"longPack\",\"mutableSpecificRef\",\"mutableUniversalRefIn1Long\",\"mutableUniversalRefIn2Longs\",\"value\",\"valuePreserveBox\",\"baseline\",\"mutableSpecificRef\",\"mutableUniversalRef\",\"value\",\"valuePreserveBox\",\"baseline\",\"longPack\",\"mutableSpecificRef\",\"mutableUniversalRefIn1Long\",\"mutableUniversalRefIn2Longs\",\"value\",\"valuePreserveBox\",\"baseline\",\"mutableSpecificRef\",\"mutableUniversalRef\",\"value\",\"valuePreserveBox\"]\n},{\n\"aesthetic\":\"y\",\n\"name\":\"ns/op\",\n\"limits\":[null,null]\n},{\n\"aesthetic\":\"fill\",\n\"discrete\":true,\n\"name\":\"Type\",\n\"guide\":{\n\"name\":\"legend\"\n}\n},{\n\"aesthetic\":\"x\"\n},{\n\"aesthetic\":\"x\"\n},{\n\"aesthetic\":\"y\",\n\"limits\":[null,null]\n}],\n\"layers\":[{\n\"mapping\":{\n\"x\":\"name\",\n\"y\":\"score\",\n\"fill\":\"type\"\n},\n\"stat\":\"identity\",\n\"sampling\":\"none\",\n\"position\":\"dodge\",\n\"geom\":\"bar\",\n\"tooltips\":{\n\"lines\":[\"Type|@type\",\"Benchmark|@name\",\"Score|@score\"]\n},\n\"data\":{\n}\n},{\n\"mapping\":{\n\"x\":\"name\",\n\"ymin\":\"minErr\",\n\"ymax\":\"maxErr\"\n},\n\"stat\":\"identity\",\n\"sampling\":\"none\",\n\"width\":0.5,\n\"position\":\"identity\",\n\"geom\":\"errorbar\",\n\"data\":{\n}\n},{\n\"mapping\":{\n\"x\":\"name\",\n\"y\":\"textPosition\",\n\"label\":\"label\"\n},\n\"stat\":\"identity\",\n\"size\":3.2,\n\"sampling\":\"none\",\n\"position\":\"identity\",\n\"geom\":\"text\",\n\"data\":{\n}\n}],\n\"theme\":{\n\"flavor\":\"solarized_light\"\n}\n};\n       var plotContainer = document.getElementById(\"cLqGjf\");\n       LetsPlot.buildPlotFromProcessedSpecs(plotSpec, -1, -1, plotContainer);\n   </script>    ",
      "application/plot+json": {
       "output_type": "lets_plot_spec",
       "output": {
        "ggtitle": {
         "text": "Ackermann",
         "subtitle": "ART"
        },
        "mapping": {},
        "data": {
         "score": [
          116589.98,
          15659.057,
          27821.742,
          31161.396,
          25033.902,
          67721.86,
          64067.906,
          151235.75,
          38601.453,
          37381.99,
          152257.45,
          155747.8,
          116597.86,
          21289.06,
          28687.605,
          30338.662,
          28668.898,
          75537.26,
          66174.62,
          155877.5,
          36443.3,
          37612.297,
          177677.94,
          150534.66
         ],
         "textPosition": [
          58294.99,
          27036.404,
          13910.871,
          15580.698,
          12516.951,
          33860.93,
          32033.953,
          75617.875,
          19300.727,
          18690.994,
          76128.73,
          77873.9,
          58298.93,
          32666.408,
          14343.803,
          15169.331,
          14334.449,
          37768.63,
          33087.31,
          77938.75,
          18221.65,
          18806.148,
          88838.97,
          75267.33
         ],
         "name": [
          "baselineInt",
          "longPackInt",
          "mutableSpecificRefInt",
          "mutableUniversalRefIntIn1Long",
          "mutableUniversalRefIntIn2Longs",
          "valueInt",
          "valuePreserveBoxInt",
          "baselineLong",
          "mutableSpecificRefLong",
          "mutableUniversalRefLong",
          "valueLong",
          "valuePreserveBoxLong",
          "baselineFloat",
          "longPackFloat",
          "mutableSpecificRefFloat",
          "mutableUniversalRefFloatIn1Long",
          "mutableUniversalRefFloatIn2Longs",
          "valueFloat",
          "valuePreserveBoxFloat",
          "baselineDouble",
          "mutableSpecificRefDouble",
          "mutableUniversalRefDouble",
          "valueDouble",
          "valuePreserveBoxDouble"
         ],
         "minErr": [
          110069.516,
          15567.919,
          26733.133,
          30053.398,
          24555.344,
          63993.81,
          60904.25,
          145006.22,
          37760.043,
          36117.62,
          143965.73,
          147850.06,
          111267.234,
          21117.68,
          26722.41,
          29430.385,
          28031.479,
          72279.1,
          61336.168,
          148009.61,
          35264.918,
          35689.863,
          165733.42,
          136900.8
         ],
         "label": [
          "100%\n±\n5.6%\nInt",
          "13%\n±\n0.1%\nInt",
          "24%\n±\n0.9%\nInt",
          "27%\n±\n1.0%\nInt",
          "21%\n±\n0.4%\nInt",
          "58%\n±\n3.2%\nInt",
          "55%\n±\n2.7%\nInt",
          "100%\n±\n4.1%\nLong",
          "26%\n±\n0.6%\nLong",
          "25%\n±\n0.8%\nLong",
          "101%\n±\n5.5%\nLong",
          "103%\n±\n5.2%\nLong",
          "100%\n±\n4.6%\nFloat",
          "18%\n±\n0.1%\nFloat",
          "25%\n±\n1.7%\nFloat",
          "26%\n±\n0.8%\nFloat",
          "25%\n±\n0.5%\nFloat",
          "65%\n±\n2.8%\nFloat",
          "57%\n±\n4.1%\nFloat",
          "100%\n±\n5.0%\nDouble",
          "23%\n±\n0.8%\nDouble",
          "24%\n±\n1.2%\nDouble",
          "114%\n±\n7.7%\nDouble",
          "97%\n±\n8.7%\nDouble"
         ],
         "type": [
          "Int",
          "Int",
          "Int",
          "Int",
          "Int",
          "Int",
          "Int",
          "Long",
          "Long",
          "Long",
          "Long",
          "Long",
          "Float",
          "Float",
          "Float",
          "Float",
          "Float",
          "Float",
          "Float",
          "Double",
          "Double",
          "Double",
          "Double",
          "Double"
         ],
         "maxErr": [
          123110.445,
          15750.194,
          28910.352,
          32269.395,
          25512.46,
          71449.91,
          67231.56,
          157465.28,
          39442.867,
          38646.355,
          160549.17,
          163645.53,
          121928.484,
          21460.44,
          30652.8,
          31246.941,
          29306.32,
          78795.42,
          71013.06,
          163745.39,
          37621.68,
          39534.734,
          189622.45,
          164168.53
         ]
        },
        "ggsize": {
         "width": 800.0,
         "height": 600.0
        },
        "kind": "plot",
        "scales": [
         {
          "aesthetic": "x",
          "breaks": [
           "baselineInt",
           "longPackInt",
           "mutableSpecificRefInt",
           "mutableUniversalRefIntIn1Long",
           "mutableUniversalRefIntIn2Longs",
           "valueInt",
           "valuePreserveBoxInt",
           "baselineLong",
           "mutableSpecificRefLong",
           "mutableUniversalRefLong",
           "valueLong",
           "valuePreserveBoxLong",
           "baselineFloat",
           "longPackFloat",
           "mutableSpecificRefFloat",
           "mutableUniversalRefFloatIn1Long",
           "mutableUniversalRefFloatIn2Longs",
           "valueFloat",
           "valuePreserveBoxFloat",
           "baselineDouble",
           "mutableSpecificRefDouble",
           "mutableUniversalRefDouble",
           "valueDouble",
           "valuePreserveBoxDouble"
          ],
          "name": "Benchmark",
          "labels": [
           "baseline",
           "longPack",
           "mutableSpecificRef",
           "mutableUniversalRefIn1Long",
           "mutableUniversalRefIn2Longs",
           "value",
           "valuePreserveBox",
           "baseline",
           "mutableSpecificRef",
           "mutableUniversalRef",
           "value",
           "valuePreserveBox",
           "baseline",
           "longPack",
           "mutableSpecificRef",
           "mutableUniversalRefIn1Long",
           "mutableUniversalRefIn2Longs",
           "value",
           "valuePreserveBox",
           "baseline",
           "mutableSpecificRef",
           "mutableUniversalRef",
           "value",
           "valuePreserveBox"
          ]
         },
         {
          "aesthetic": "y",
          "name": "ns/op",
          "limits": [
           null,
           null
          ]
         },
         {
          "aesthetic": "fill",
          "discrete": true,
          "name": "Type",
          "guide": {
           "name": "legend"
          }
         },
         {
          "aesthetic": "x"
         },
         {
          "aesthetic": "x"
         },
         {
          "aesthetic": "y",
          "limits": [
           null,
           null
          ]
         }
        ],
        "layers": [
         {
          "mapping": {
           "x": "name",
           "y": "score",
           "fill": "type"
          },
          "stat": "identity",
          "sampling": "none",
          "position": "dodge",
          "geom": "bar",
          "tooltips": {
           "lines": [
            "Type|@type",
            "Benchmark|@name",
            "Score|@score"
           ]
          }
         },
         {
          "mapping": {
           "x": "name",
           "ymin": "minErr",
           "ymax": "maxErr"
          },
          "stat": "identity",
          "sampling": "none",
          "width": 0.5,
          "position": "identity",
          "geom": "errorbar"
         },
         {
          "mapping": {
           "x": "name",
           "y": "textPosition",
           "label": "label"
          },
          "stat": "identity",
          "size": 3.2,
          "sampling": "none",
          "position": "identity",
          "geom": "text"
         }
        ],
        "theme": {
         "flavor": "solarized_light"
        }
       },
       "apply_color_scheme": true,
       "swing_enabled": true
      }
     },
     "metadata": {},
     "output_type": "display_data"
    },
    {
     "data": {
      "text/html": "            <script type=\"text/javascript\" data-lets-plot-script=\"library\" src=\"https://cdn.jsdelivr.net/gh/JetBrains/lets-plot@v3.1.0/js-package/distr/lets-plot.min.js\"></script>    \n               <div id=\"HoBoy3\"></div>\n   <script type=\"text/javascript\" data-lets-plot-script=\"plot\">\n       var plotSpec={\n\"ggtitle\":{\n\"text\":\"BoxRecreation\",\n\"subtitle\":\"ART\"\n},\n\"mapping\":{\n},\n\"data\":{\n\"score\":[953.6192886674442,6291.10190957153,6453.974978659838,971.0856171039845,1207.225352112676,8802.409048288795,1226.7933312279595,996.24632390483,6280.301304459033,6392.150616157006,966.4356154841278,1249.1116968464848,8602.530334948387,1218.6515926640927],\n\"textPosition\":[1498.1384311243141,3145.550954785765,3226.987489329919,1515.6047595608545,603.612676056338,4401.2045241443975,613.3966656139797,1540.7654663617,3140.1506522295167,3196.075308078503,1510.9547579409978,624.5558484232424,4301.265167474194,609.3257963320464],\n\"name\":[\"baselineInt\",\"longPackInt\",\"valueInt\",\"valuePreserveBoxInt\",\"baselineLong\",\"valueLong\",\"valuePreserveBoxLong\",\"baselineFloat\",\"longPackFloat\",\"valueFloat\",\"valuePreserveBoxFloat\",\"baselineDouble\",\"valueDouble\",\"valuePreserveBoxDouble\"],\n\"minErr\":[881.2999030491351,6092.049427733537,6171.909886992933,934.5192970182269,1147.2493904080638,8529.499055629756,1137.490767902075,941.7945274820161,6071.916327795084,6110.228865386645,915.471037737175,1189.8459690653026,8212.047821940196,1167.8317071134013],\n\"label\":[\"100%\\n±\\n7.6%\\nInt\",\"660%\\n±\\n20.9%\\nInt\",\"677%\\n±\\n29.6%\\nInt\",\"102%\\n±\\n3.8%\\nInt\",\"100%\\n±\\n5.0%\\nLong\",\"729%\\n±\\n22.6%\\nLong\",\"102%\\n±\\n7.4%\\nLong\",\"100%\\n±\\n5.5%\\nFloat\",\"630%\\n±\\n20.9%\\nFloat\",\"642%\\n±\\n28.3%\\nFloat\",\"97%\\n±\\n5.1%\\nFloat\",\"100%\\n±\\n4.7%\\nDouble\",\"689%\\n±\\n31.3%\\nDouble\",\"98%\\n±\\n4.1%\\nDouble\"],\n\"type\":[\"Int\",\"Int\",\"Int\",\"Int\",\"Long\",\"Long\",\"Long\",\"Float\",\"Float\",\"Float\",\"Float\",\"Double\",\"Double\",\"Double\"],\n\"maxErr\":[1025.9386742857532,6490.154391409523,6736.040070326742,1007.6519371897422,1267.2013138172883,9075.319040947834,1316.095894553844,1050.698120327644,6488.686281122983,6674.072366927367,1017.4001932310805,1308.377424627667,8993.01284795658,1269.4714782147842]\n},\n\"ggsize\":{\n\"width\":800.0,\n\"height\":600.0\n},\n\"kind\":\"plot\",\n\"scales\":[{\n\"aesthetic\":\"x\",\n\"breaks\":[\"baselineInt\",\"longPackInt\",\"valueInt\",\"valuePreserveBoxInt\",\"baselineLong\",\"valueLong\",\"valuePreserveBoxLong\",\"baselineFloat\",\"longPackFloat\",\"valueFloat\",\"valuePreserveBoxFloat\",\"baselineDouble\",\"valueDouble\",\"valuePreserveBoxDouble\"],\n\"name\":\"Benchmark\",\n\"labels\":[\"baseline\",\"longPack\",\"value\",\"valuePreserveBox\",\"baseline\",\"value\",\"valuePreserveBox\",\"baseline\",\"longPack\",\"value\",\"valuePreserveBox\",\"baseline\",\"value\",\"valuePreserveBox\"]\n},{\n\"aesthetic\":\"y\",\n\"name\":\"ns/op\",\n\"limits\":[null,null]\n},{\n\"aesthetic\":\"fill\",\n\"discrete\":true,\n\"name\":\"Type\",\n\"guide\":{\n\"name\":\"legend\"\n}\n},{\n\"aesthetic\":\"x\"\n},{\n\"aesthetic\":\"x\"\n},{\n\"aesthetic\":\"y\",\n\"limits\":[null,null]\n}],\n\"layers\":[{\n\"mapping\":{\n\"x\":\"name\",\n\"y\":\"score\",\n\"fill\":\"type\"\n},\n\"stat\":\"identity\",\n\"sampling\":\"none\",\n\"position\":\"dodge\",\n\"geom\":\"bar\",\n\"tooltips\":{\n\"lines\":[\"Type|@type\",\"Benchmark|@name\",\"Score|@score\"]\n},\n\"data\":{\n}\n},{\n\"mapping\":{\n\"x\":\"name\",\n\"ymin\":\"minErr\",\n\"ymax\":\"maxErr\"\n},\n\"stat\":\"identity\",\n\"sampling\":\"none\",\n\"width\":0.5,\n\"position\":\"identity\",\n\"geom\":\"errorbar\",\n\"data\":{\n}\n},{\n\"mapping\":{\n\"x\":\"name\",\n\"y\":\"textPosition\",\n\"label\":\"label\"\n},\n\"stat\":\"identity\",\n\"size\":5.2,\n\"sampling\":\"none\",\n\"position\":\"identity\",\n\"geom\":\"text\",\n\"data\":{\n}\n}],\n\"theme\":{\n\"flavor\":\"solarized_light\"\n}\n};\n       var plotContainer = document.getElementById(\"HoBoy3\");\n       LetsPlot.buildPlotFromProcessedSpecs(plotSpec, -1, -1, plotContainer);\n   </script>    ",
      "application/plot+json": {
       "output_type": "lets_plot_spec",
       "output": {
        "ggtitle": {
         "text": "BoxRecreation",
         "subtitle": "ART"
        },
        "mapping": {},
        "data": {
         "score": [
          953.61926,
          6291.102,
          6453.975,
          971.08563,
          1207.2253,
          8802.409,
          1226.7933,
          996.24634,
          6280.3013,
          6392.1504,
          966.4356,
          1249.1117,
          8602.53,
          1218.6516
         ],
         "textPosition": [
          1498.1384,
          3145.551,
          3226.9875,
          1515.6047,
          603.6127,
          4401.2046,
          613.39667,
          1540.7655,
          3140.1506,
          3196.0752,
          1510.9547,
          624.55585,
          4301.265,
          609.3258
         ],
         "name": [
          "baselineInt",
          "longPackInt",
          "valueInt",
          "valuePreserveBoxInt",
          "baselineLong",
          "valueLong",
          "valuePreserveBoxLong",
          "baselineFloat",
          "longPackFloat",
          "valueFloat",
          "valuePreserveBoxFloat",
          "baselineDouble",
          "valueDouble",
          "valuePreserveBoxDouble"
         ],
         "minErr": [
          881.2999,
          6092.0493,
          6171.9097,
          934.5193,
          1147.2494,
          8529.499,
          1137.4907,
          941.79456,
          6071.9165,
          6110.229,
          915.471,
          1189.846,
          8212.048,
          1167.8317
         ],
         "label": [
          "100%\n±\n7.6%\nInt",
          "660%\n±\n20.9%\nInt",
          "677%\n±\n29.6%\nInt",
          "102%\n±\n3.8%\nInt",
          "100%\n±\n5.0%\nLong",
          "729%\n±\n22.6%\nLong",
          "102%\n±\n7.4%\nLong",
          "100%\n±\n5.5%\nFloat",
          "630%\n±\n20.9%\nFloat",
          "642%\n±\n28.3%\nFloat",
          "97%\n±\n5.1%\nFloat",
          "100%\n±\n4.7%\nDouble",
          "689%\n±\n31.3%\nDouble",
          "98%\n±\n4.1%\nDouble"
         ],
         "type": [
          "Int",
          "Int",
          "Int",
          "Int",
          "Long",
          "Long",
          "Long",
          "Float",
          "Float",
          "Float",
          "Float",
          "Double",
          "Double",
          "Double"
         ],
         "maxErr": [
          1025.9387,
          6490.1543,
          6736.04,
          1007.6519,
          1267.2013,
          9075.319,
          1316.096,
          1050.6981,
          6488.6865,
          6674.0723,
          1017.4002,
          1308.3774,
          8993.013,
          1269.4714
         ]
        },
        "ggsize": {
         "width": 800.0,
         "height": 600.0
        },
        "kind": "plot",
        "scales": [
         {
          "aesthetic": "x",
          "breaks": [
           "baselineInt",
           "longPackInt",
           "valueInt",
           "valuePreserveBoxInt",
           "baselineLong",
           "valueLong",
           "valuePreserveBoxLong",
           "baselineFloat",
           "longPackFloat",
           "valueFloat",
           "valuePreserveBoxFloat",
           "baselineDouble",
           "valueDouble",
           "valuePreserveBoxDouble"
          ],
          "name": "Benchmark",
          "labels": [
           "baseline",
           "longPack",
           "value",
           "valuePreserveBox",
           "baseline",
           "value",
           "valuePreserveBox",
           "baseline",
           "longPack",
           "value",
           "valuePreserveBox",
           "baseline",
           "value",
           "valuePreserveBox"
          ]
         },
         {
          "aesthetic": "y",
          "name": "ns/op",
          "limits": [
           null,
           null
          ]
         },
         {
          "aesthetic": "fill",
          "discrete": true,
          "name": "Type",
          "guide": {
           "name": "legend"
          }
         },
         {
          "aesthetic": "x"
         },
         {
          "aesthetic": "x"
         },
         {
          "aesthetic": "y",
          "limits": [
           null,
           null
          ]
         }
        ],
        "layers": [
         {
          "mapping": {
           "x": "name",
           "y": "score",
           "fill": "type"
          },
          "stat": "identity",
          "sampling": "none",
          "position": "dodge",
          "geom": "bar",
          "tooltips": {
           "lines": [
            "Type|@type",
            "Benchmark|@name",
            "Score|@score"
           ]
          }
         },
         {
          "mapping": {
           "x": "name",
           "ymin": "minErr",
           "ymax": "maxErr"
          },
          "stat": "identity",
          "sampling": "none",
          "width": 0.5,
          "position": "identity",
          "geom": "errorbar"
         },
         {
          "mapping": {
           "x": "name",
           "y": "textPosition",
           "label": "label"
          },
          "stat": "identity",
          "size": 5.2,
          "sampling": "none",
          "position": "identity",
          "geom": "text"
         }
        ],
        "theme": {
         "flavor": "solarized_light"
        }
       },
       "apply_color_scheme": true,
       "swing_enabled": true
      }
     },
     "metadata": {},
     "output_type": "display_data"
    }
   ],
   "source": [
    "makePlot(\"Wolf3d\", \"ART\", readArtBenchmarkData(\"Wolf3dBenchmark\"))?.let { DISPLAY(it) }\n",
    "makePlot(\"Ackermann\", \"ART\", readArtBenchmarkData(\"AckermannBenchmark\"))?.let { DISPLAY(it) }\n",
    "makePlot(\"BoxRecreation\", \"ART\", readArtBenchmarkData(\"BoxRecreationBenchmark\"))?.let { DISPLAY(it) }"
   ],
   "metadata": {
    "collapsed": false,
    "ExecuteTime": {
     "end_time": "2023-07-09T16:56:05.108810Z",
     "start_time": "2023-07-09T16:56:03.933722Z"
    }
   }
  },
  {
   "cell_type": "code",
   "execution_count": 11,
   "outputs": [
    {
     "data": {
      "text/html": "            <iframe onload=\"o_resize_iframe_out_4()\" style=\"width:100%;\" class=\"result_container\" id=\"iframe_out_4\" frameBorder=\"0\" srcdoc=\"        &lt;html theme='dark'&gt;\n        &lt;head&gt;\n            &lt;style type=&quot;text&sol;css&quot;&gt;\n                :root {\n    --background: #fff;\n    --background-odd: #f5f5f5;\n    --background-hover: #d9edfd;\n    --header-text-color: #474747;\n    --text-color: #848484;\n    --text-color-dark: #000;\n    --text-color-medium: #737373;\n    --text-color-pale: #b3b3b3;\n    --inner-border-color: #aaa;\n    --bold-border-color: #000;\n    --link-color: #296eaa;\n    --link-color-pale: #296eaa;\n    --link-hover: #1a466c;\n}\n\n:root[theme=&quot;dark&quot;], :root [data-jp-theme-light=&quot;false&quot;], .dataframe_dark{\n    --background: #303030;\n    --background-odd: #3c3c3c;\n    --background-hover: #464646;\n    --header-text-color: #dddddd;\n    --text-color: #b3b3b3;\n    --text-color-dark: #dddddd;\n    --text-color-medium: #b2b2b2;\n    --text-color-pale: #737373;\n    --inner-border-color: #707070;\n    --bold-border-color: #777777;\n    --link-color: #008dc0;\n    --link-color-pale: #97e1fb;\n    --link-hover: #00688e;\n}\n\np.dataframe_description {\n    color: var(--text-color-dark);\n}\n\ntable.dataframe {\n    font-family: &quot;Helvetica Neue&quot;, Helvetica, Arial, sans-serif;\n    font-size: 12px;\n    background-color: var(--background);\n    color: var(--text-color-dark);\n    border: none;\n    border-collapse: collapse;\n}\n\ntable.dataframe th, td {\n    padding: 6px;\n    border: 1px solid transparent;\n    text-align: left;\n}\n\ntable.dataframe th {\n    background-color: var(--background);\n    color: var(--header-text-color);\n}\n\ntable.dataframe td {\n    vertical-align: top;\n}\n\ntable.dataframe th.bottomBorder {\n    border-bottom-color: var(--bold-border-color);\n}\n\ntable.dataframe tbody &gt; tr:nth-child(odd) {\n    background: var(--background-odd);\n}\n\ntable.dataframe tbody &gt; tr:nth-child(even) {\n    background: var(--background);\n}\n\ntable.dataframe tbody &gt; tr:hover {\n    background: var(--background-hover);\n}\n\ntable.dataframe a {\n    cursor: pointer;\n    color: var(--link-color);\n    text-decoration: none;\n}\n\ntable.dataframe tr:hover &gt; td a {\n    color: var(--link-color-pale);\n}\n\ntable.dataframe a:hover {\n    color: var(--link-hover);\n    text-decoration: underline;\n}\n\ntable.dataframe img {\n    max-width: fit-content;\n}\n\ntable.dataframe th.complex {\n    background-color: var(--background);\n    border: 1px solid var(--background);\n}\n\ntable.dataframe .leftBorder {\n    border-left-color: var(--inner-border-color);\n}\n\ntable.dataframe .rightBorder {\n    border-right-color: var(--inner-border-color);\n}\n\ntable.dataframe .rightAlign {\n    text-align: right;\n}\n\ntable.dataframe .expanderSvg {\n    width: 8px;\n    height: 8px;\n    margin-right: 3px;\n}\n\ntable.dataframe .expander {\n    display: flex;\n    align-items: center;\n}\n\n&sol;* formatting *&sol;\n\ntable.dataframe .null {\n    color: var(--text-color-pale);\n}\n\ntable.dataframe .structural {\n    color: var(--text-color-medium);\n    font-weight: bold;\n}\n\ntable.dataframe .dataFrameCaption {\n    font-weight: bold;\n}\n\ntable.dataframe .numbers {\n    color: var(--text-color-dark);\n}\n\ntable.dataframe td:hover .formatted .structural, .null {\n    color: var(--text-color-dark);\n}\n\ntable.dataframe tr:hover .formatted .structural, .null {\n    color: var(--text-color-dark);\n}\n\n\n\n\n:root {\n    --scroll-bg: #f5f5f5;\n    --scroll-fg: #b3b3b3;\n}\n:root[theme=&quot;dark&quot;], :root [data-jp-theme-light=&quot;false&quot;]{\n    --scroll-bg: #3c3c3c;\n    --scroll-fg: #97e1fb;\n}\nbody {\n    scrollbar-color: var(--scroll-fg) var(--scroll-bg);\n}\nbody::-webkit-scrollbar {\n    width: 10px; &sol;* Mostly for vertical scrollbars *&sol;\n    height: 10px; &sol;* Mostly for horizontal scrollbars *&sol;\n}\nbody::-webkit-scrollbar-thumb {\n    background-color: var(--scroll-fg);\n}\nbody::-webkit-scrollbar-track {\n    background-color: var(--scroll-bg);\n}\n            &lt;&sol;style&gt;\n        &lt;&sol;head&gt;\n        &lt;body&gt;\n            \n&lt;table class=&quot;dataframe&quot; id=&quot;df_16777219&quot;&gt;&lt;&sol;table&gt;\n\n&lt;p class=&quot;dataframe_description&quot;&gt;DataFrame: rowsCount = 18, columnsCount = 4&lt;&sol;p&gt;\n\n        &lt;&sol;body&gt;\n        &lt;script&gt;\n            (function () {\n    window.DataFrame = window.DataFrame || new (function () {\n        this.addTable = function (df) {\n            let cols = df.cols;\n            for (let i = 0; i &lt; cols.length; i++) {\n                for (let c of cols[i].children) {\n                    cols[c].parent = i;\n                }\n            }\n            df.nrow = 0\n            for (let i = 0; i &lt; df.cols.length; i++) {\n                if (df.cols[i].values.length &gt; df.nrow) df.nrow = df.cols[i].values.length\n            }\n            if (df.id === df.rootId) {\n                df.expandedFrames = new Set()\n                df.childFrames = {}\n                const table = this.getTableElement(df.id)\n                table.df = df\n                for (let i = 0; i &lt; df.cols.length; i++) {\n                    let col = df.cols[i]\n                    if (col.parent === undefined &amp;&amp; col.children.length &gt; 0) col.expanded = true\n                }\n            } else {\n                const rootDf = this.getTableData(df.rootId)\n                rootDf.childFrames[df.id] = df\n            }\n        }\n\n        this.computeRenderData = function (df) {\n            let result = []\n            let pos = 0\n            for (let col = 0; col &lt; df.cols.length; col++) {\n                if (df.cols[col].parent === undefined)\n                    pos += this.computeRenderDataRec(df.cols, col, pos, 0, result, false, false)\n            }\n            for (let i = 0; i &lt; result.length; i++) {\n                let row = result[i]\n                for (let j = 0; j &lt; row.length; j++) {\n                    let cell = row[j]\n                    if (j === 0)\n                        cell.leftBd = false\n                    if (j &lt; row.length - 1) {\n                        let nextData = row[j + 1]\n                        if (nextData.leftBd) cell.rightBd = true\n                        else if (cell.rightBd) nextData.leftBd = true\n                    } else cell.rightBd = false\n                }\n            }\n            return result\n        }\n\n        this.computeRenderDataRec = function (cols, colId, pos, depth, result, leftBorder, rightBorder) {\n            if (result.length === depth) {\n                const array = [];\n                if (pos &gt; 0) {\n                    let j = 0\n                    for (let i = 0; j &lt; pos; i++) {\n                        let c = result[depth - 1][i]\n                        j += c.span\n                        let copy = Object.assign({empty: true}, c)\n                        array.push(copy)\n                    }\n                }\n                result.push(array)\n            }\n            const col = cols[colId];\n            let size = 0;\n            if (col.expanded) {\n                let childPos = pos\n                for (let i = 0; i &lt; col.children.length; i++) {\n                    let child = col.children[i]\n                    let childLeft = i === 0 &amp;&amp; (col.children.length &gt; 1 || leftBorder)\n                    let childRight = i === col.children.length - 1 &amp;&amp; (col.children.length &gt; 1 || rightBorder)\n                    let childSize = this.computeRenderDataRec(cols, child, childPos, depth + 1, result, childLeft, childRight)\n                    childPos += childSize\n                    size += childSize\n                }\n            } else {\n                for (let i = depth + 1; i &lt; result.length; i++)\n                    result[i].push({id: colId, span: 1, leftBd: leftBorder, rightBd: rightBorder, empty: true})\n                size = 1\n            }\n            let left = leftBorder\n            let right = rightBorder\n            if (size &gt; 1) {\n                left = true\n                right = true\n            }\n            result[depth].push({id: colId, span: size, leftBd: left, rightBd: right})\n            return size\n        }\n\n        this.getTableElement = function (id) {\n            return document.getElementById(&quot;df_&quot; + id)\n        }\n\n        this.getTableData = function (id) {\n            return this.getTableElement(id).df\n        }\n\n        this.createExpander = function (isExpanded) {\n            const svgNs = &quot;http:&sol;&sol;www.w3.org&sol;2000&sol;svg&quot;\n            let svg = document.createElementNS(svgNs, &quot;svg&quot;)\n            svg.classList.add(&quot;expanderSvg&quot;)\n            let path = document.createElementNS(svgNs, &quot;path&quot;)\n            if (isExpanded) {\n                svg.setAttribute(&quot;viewBox&quot;, &quot;0 -2 8 8&quot;)\n                path.setAttribute(&quot;d&quot;, &quot;M1 0 l-1 1 4 4 4 -4 -1 -1 -3 3Z&quot;)\n            } else {\n                svg.setAttribute(&quot;viewBox&quot;, &quot;-2 0 8 8&quot;)\n                path.setAttribute(&quot;d&quot;, &quot;M1 0 l-1 1 3 3 -3 3 1 1 4 -4Z&quot;)\n            }\n            path.setAttribute(&quot;fill&quot;, &quot;currentColor&quot;)\n            svg.appendChild(path)\n            return svg\n        }\n\n        this.renderTable = function (id) {\n\n            let table = this.getTableElement(id)\n\n            if (table === null) return\n\n            table.innerHTML = &quot;&quot;\n\n            let df = table.df\n            let rootDf = df.rootId === df.id ? df : this.getTableData(df.rootId)\n\n            &sol;&sol; header\n            let header = document.createElement(&quot;thead&quot;)\n            table.appendChild(header)\n\n            let renderData = this.computeRenderData(df)\n            for (let j = 0; j &lt; renderData.length; j++) {\n                let rowData = renderData[j]\n                let tr = document.createElement(&quot;tr&quot;);\n                let isLastRow = j === renderData.length - 1\n                header.appendChild(tr);\n                for (let i = 0; i &lt; rowData.length; i++) {\n                    let cell = rowData[i]\n                    let th = document.createElement(&quot;th&quot;);\n                    th.setAttribute(&quot;colspan&quot;, cell.span)\n                    let colId = cell.id\n                    let col = df.cols[colId];\n                    if (!cell.empty) {\n                        if (col.children.length === 0) {\n                            th.innerHTML = col.name\n                        } else {\n                            let link = document.createElement(&quot;a&quot;)\n                            link.className = &quot;expander&quot;\n                            let that = this\n                            link.onclick = function () {\n                                col.expanded = !col.expanded\n                                that.renderTable(id)\n                            }\n                            link.appendChild(this.createExpander(col.expanded))\n                            link.innerHTML += col.name\n                            th.appendChild(link)\n                        }\n                    }\n                    let classes = (cell.leftBd ? &quot; leftBorder&quot; : &quot;&quot;) + (cell.rightBd ? &quot; rightBorder&quot; : &quot;&quot;)\n                    if (col.rightAlign)\n                        classes += &quot; rightAlign&quot;\n                    if (isLastRow)\n                        classes += &quot; bottomBorder&quot;\n                    if (classes.length &gt; 0)\n                        th.setAttribute(&quot;class&quot;, classes)\n                    tr.appendChild(th)\n                }\n            }\n\n            &sol;&sol; body\n            let body = document.createElement(&quot;tbody&quot;)\n            table.appendChild(body)\n\n            let columns = renderData.pop()\n            for (let row = 0; row &lt; df.nrow; row++) {\n                let tr = document.createElement(&quot;tr&quot;);\n                body.appendChild(tr)\n                for (let i = 0; i &lt; columns.length; i++) {\n                    let cell = columns[i]\n                    let td = document.createElement(&quot;td&quot;);\n                    let colId = cell.id\n                    let col = df.cols[colId]\n                    let classes = (cell.leftBd ? &quot; leftBorder&quot; : &quot;&quot;) + (cell.rightBd ? &quot; rightBorder&quot; : &quot;&quot;)\n                    if (col.rightAlign)\n                        classes += &quot; rightAlign&quot;\n                    if (classes.length &gt; 0)\n                        td.setAttribute(&quot;class&quot;, classes)\n                    tr.appendChild(td)\n                    let value = col.values[row]\n                    if (value.frameId !== undefined) {\n                        let frameId = value.frameId\n                        let expanded = rootDf.expandedFrames.has(frameId)\n                        let link = document.createElement(&quot;a&quot;)\n                        link.className = &quot;expander&quot;\n                        let that = this\n                        link.onclick = function () {\n                            if (rootDf.expandedFrames.has(frameId))\n                                rootDf.expandedFrames.delete(frameId)\n                            else rootDf.expandedFrames.add(frameId)\n                            that.renderTable(id)\n                        }\n                        link.appendChild(this.createExpander(expanded))\n                        link.innerHTML += value.value\n                        if (expanded) {\n                            td.appendChild(link)\n                            td.appendChild(document.createElement(&quot;p&quot;))\n                            const childTable = document.createElement(&quot;table&quot;)\n                            childTable.className = &quot;dataframe&quot;\n                            childTable.id = &quot;df_&quot; + frameId\n                            let childDf = rootDf.childFrames[frameId]\n                            childTable.df = childDf\n                            td.appendChild(childTable)\n                            this.renderTable(frameId)\n                            if (childDf.nrow !== childDf.totalRows) {\n                                const footer = document.createElement(&quot;p&quot;)\n                                footer.innerText = `... showing only top ${childDf.nrow} of ${childDf.totalRows} rows`\n                                td.appendChild(footer)\n                            }\n                        } else {\n                            td.appendChild(link)\n                        }\n                    } else if (value.style !== undefined) {\n                        td.innerHTML = value.value\n                        td.setAttribute(&quot;style&quot;, value.style)\n                    } else td.innerHTML = value\n                    this.nodeScriptReplace(td)\n                }\n            }\n        }\n\n        this.nodeScriptReplace = function (node) {\n            if (this.nodeScriptIs(node) === true) {\n                node.parentNode.replaceChild(this.nodeScriptClone(node), node);\n            } else {\n                let i = -1, children = node.childNodes;\n                while (++i &lt; children.length) {\n                    this.nodeScriptReplace(children[i]);\n                }\n            }\n\n            return node;\n        }\n\n        this.nodeScriptClone = function (node) {\n            let script = document.createElement(&quot;script&quot;);\n            script.text = node.innerHTML;\n\n            let i = -1, attrs = node.attributes, attr;\n            while (++i &lt; attrs.length) {\n                script.setAttribute((attr = attrs[i]).name, attr.value);\n            }\n            return script;\n        }\n\n        this.nodeScriptIs = function (node) {\n            return node.tagName === 'SCRIPT';\n        }\n    })()\n\n    window.call_DataFrame = function (f) {\n        return f();\n    };\n\n    let funQueue = window[&quot;kotlinQueues&quot;] &amp;&amp; window[&quot;kotlinQueues&quot;][&quot;DataFrame&quot;];\n    if (funQueue) {\n        funQueue.forEach(function (f) {\n            f();\n        });\n        funQueue = [];\n    }\n})()\n\n&sol;*&lt;!--*&sol;\ncall_DataFrame(function() { DataFrame.addTable({ cols: [{ name: &quot;&lt;span title=&bsol;&quot;name: String&bsol;&quot;&gt;name&lt;&sol;span&gt;&quot;, children: [], rightAlign: false, values: [&quot;baselineFloat&quot;,&quot;inlineFloat&quot;,&quot;longPackFloat&quot;,&quot;mutableSpecificRefFloat&quot;,&quot;mutableUniversalRefFloatIn1Long&quot;,&quot;mutableUniversalRefFloatIn2Longs&quot;,&quot;valhallaFloat&quot;,&quot;valueFloat&quot;,&quot;valueInlineFloat&quot;,&quot;valuePreserveBoxFloat&quot;,&quot;baselineDouble&quot;,&quot;inlineDouble&quot;,&quot;mutableSpecificRefDouble&quot;,&quot;mutableUniversalRefDouble&quot;,&quot;valhallaDouble&quot;,&quot;valueDouble&quot;,&quot;valueInlineDouble&quot;,&quot;valuePreserveBoxDouble&quot;] }, \n{ name: &quot;&lt;span title=&bsol;&quot;score: Double&bsol;&quot;&gt;score&lt;&sol;span&gt;&quot;, children: [], rightAlign: true, values: [&quot;&lt;span class=&bsol;&quot;formatted&bsol;&quot; title=&bsol;&quot;&bsol;&quot;&gt;&lt;span class=&bsol;&quot;numbers&bsol;&quot;&gt;33606712.712&lt;&sol;span&gt;&lt;&sol;span&gt;&quot;,&quot;&lt;span class=&bsol;&quot;formatted&bsol;&quot; title=&bsol;&quot;&bsol;&quot;&gt;&lt;span class=&bsol;&quot;numbers&bsol;&quot;&gt;39763340.669&lt;&sol;span&gt;&lt;&sol;span&gt;&quot;,&quot;&lt;span class=&bsol;&quot;formatted&bsol;&quot; title=&bsol;&quot;&bsol;&quot;&gt;&lt;span class=&bsol;&quot;numbers&bsol;&quot;&gt;55698676.574&lt;&sol;span&gt;&lt;&sol;span&gt;&quot;,&quot;&lt;span class=&bsol;&quot;formatted&bsol;&quot; title=&bsol;&quot;&bsol;&quot;&gt;&lt;span class=&bsol;&quot;numbers&bsol;&quot;&gt;23492609.412&lt;&sol;span&gt;&lt;&sol;span&gt;&quot;,&quot;&lt;span class=&bsol;&quot;formatted&bsol;&quot; title=&bsol;&quot;&bsol;&quot;&gt;&lt;span class=&bsol;&quot;numbers&bsol;&quot;&gt;64025888.364&lt;&sol;span&gt;&lt;&sol;span&gt;&quot;,&quot;&lt;span class=&bsol;&quot;formatted&bsol;&quot; title=&bsol;&quot;&bsol;&quot;&gt;&lt;span class=&bsol;&quot;numbers&bsol;&quot;&gt;36311543.354&lt;&sol;span&gt;&lt;&sol;span&gt;&quot;,&quot;&lt;span class=&bsol;&quot;formatted&bsol;&quot; title=&bsol;&quot;&bsol;&quot;&gt;&lt;span class=&bsol;&quot;numbers&bsol;&quot;&gt;24131777.825&lt;&sol;span&gt;&lt;&sol;span&gt;&quot;,&quot;&lt;span class=&bsol;&quot;formatted&bsol;&quot; title=&bsol;&quot;&bsol;&quot;&gt;&lt;span class=&bsol;&quot;numbers&bsol;&quot;&gt;24381105.268&lt;&sol;span&gt;&lt;&sol;span&gt;&quot;,&quot;&lt;span class=&bsol;&quot;formatted&bsol;&quot; title=&bsol;&quot;&bsol;&quot;&gt;&lt;span class=&bsol;&quot;numbers&bsol;&quot;&gt;24763629.497&lt;&sol;span&gt;&lt;&sol;span&gt;&quot;,&quot;&lt;span class=&bsol;&quot;formatted&bsol;&quot; title=&bsol;&quot;&bsol;&quot;&gt;&lt;span class=&bsol;&quot;numbers&bsol;&quot;&gt;24762376.960&lt;&sol;span&gt;&lt;&sol;span&gt;&quot;,&quot;&lt;span class=&bsol;&quot;formatted&bsol;&quot; title=&bsol;&quot;&bsol;&quot;&gt;&lt;span class=&bsol;&quot;numbers&bsol;&quot;&gt;34639168.206&lt;&sol;span&gt;&lt;&sol;span&gt;&quot;,&quot;&lt;span class=&bsol;&quot;formatted&bsol;&quot; title=&bsol;&quot;&bsol;&quot;&gt;&lt;span class=&bsol;&quot;numbers&bsol;&quot;&gt;34275488.211&lt;&sol;span&gt;&lt;&sol;span&gt;&quot;,&quot;&lt;span class=&bsol;&quot;formatted&bsol;&quot; title=&bsol;&quot;&bsol;&quot;&gt;&lt;span class=&bsol;&quot;numbers&bsol;&quot;&gt;23309379.618&lt;&sol;span&gt;&lt;&sol;span&gt;&quot;,&quot;&lt;span class=&bsol;&quot;formatted&bsol;&quot; title=&bsol;&quot;&bsol;&quot;&gt;&lt;span class=&bsol;&quot;numbers&bsol;&quot;&gt;36531182.870&lt;&sol;span&gt;&lt;&sol;span&gt;&quot;,&quot;&lt;span class=&bsol;&quot;formatted&bsol;&quot; title=&bsol;&quot;&bsol;&quot;&gt;&lt;span class=&bsol;&quot;numbers&bsol;&quot;&gt;24384128.327&lt;&sol;span&gt;&lt;&sol;span&gt;&quot;,&quot;&lt;span class=&bsol;&quot;formatted&bsol;&quot; title=&bsol;&quot;&bsol;&quot;&gt;&lt;span class=&bsol;&quot;numbers&bsol;&quot;&gt;24264047.634&lt;&sol;span&gt;&lt;&sol;span&gt;&quot;,&quot;&lt;span class=&bsol;&quot;formatted&bsol;&quot; title=&bsol;&quot;&bsol;&quot;&gt;&lt;span class=&bsol;&quot;numbers&bsol;&quot;&gt;24465991.005&lt;&sol;span&gt;&lt;&sol;span&gt;&quot;,&quot;&lt;span class=&bsol;&quot;formatted&bsol;&quot; title=&bsol;&quot;&bsol;&quot;&gt;&lt;span class=&bsol;&quot;numbers&bsol;&quot;&gt;24310870.209&lt;&sol;span&gt;&lt;&sol;span&gt;&quot;] }, \n{ name: &quot;&lt;span title=&bsol;&quot;error: Double&bsol;&quot;&gt;error&lt;&sol;span&gt;&quot;, children: [], rightAlign: true, values: [&quot;&lt;span class=&bsol;&quot;formatted&bsol;&quot; title=&bsol;&quot;&bsol;&quot;&gt;&lt;span class=&bsol;&quot;numbers&bsol;&quot;&gt;47991.314&lt;&sol;span&gt;&lt;&sol;span&gt;&quot;,&quot;&lt;span class=&bsol;&quot;formatted&bsol;&quot; title=&bsol;&quot;&bsol;&quot;&gt;&lt;span class=&bsol;&quot;numbers&bsol;&quot;&gt;242654.038&lt;&sol;span&gt;&lt;&sol;span&gt;&quot;,&quot;&lt;span class=&bsol;&quot;formatted&bsol;&quot; title=&bsol;&quot;&bsol;&quot;&gt;&lt;span class=&bsol;&quot;numbers&bsol;&quot;&gt;27008.243&lt;&sol;span&gt;&lt;&sol;span&gt;&quot;,&quot;&lt;span class=&bsol;&quot;formatted&bsol;&quot; title=&bsol;&quot;&bsol;&quot;&gt;&lt;span class=&bsol;&quot;numbers&bsol;&quot;&gt;66253.892&lt;&sol;span&gt;&lt;&sol;span&gt;&quot;,&quot;&lt;span class=&bsol;&quot;formatted&bsol;&quot; title=&bsol;&quot;&bsol;&quot;&gt;&lt;span class=&bsol;&quot;numbers&bsol;&quot;&gt;75433.279&lt;&sol;span&gt;&lt;&sol;span&gt;&quot;,&quot;&lt;span class=&bsol;&quot;formatted&bsol;&quot; title=&bsol;&quot;&bsol;&quot;&gt;&lt;span class=&bsol;&quot;numbers&bsol;&quot;&gt;159509.422&lt;&sol;span&gt;&lt;&sol;span&gt;&quot;,&quot;&lt;span class=&bsol;&quot;formatted&bsol;&quot; title=&bsol;&quot;&bsol;&quot;&gt;&lt;span class=&bsol;&quot;numbers&bsol;&quot;&gt;141186.716&lt;&sol;span&gt;&lt;&sol;span&gt;&quot;,&quot;&lt;span class=&bsol;&quot;formatted&bsol;&quot; title=&bsol;&quot;&bsol;&quot;&gt;&lt;span class=&bsol;&quot;numbers&bsol;&quot;&gt;46075.659&lt;&sol;span&gt;&lt;&sol;span&gt;&quot;,&quot;&lt;span class=&bsol;&quot;formatted&bsol;&quot; title=&bsol;&quot;&bsol;&quot;&gt;&lt;span class=&bsol;&quot;numbers&bsol;&quot;&gt;25496.917&lt;&sol;span&gt;&lt;&sol;span&gt;&quot;,&quot;&lt;span class=&bsol;&quot;formatted&bsol;&quot; title=&bsol;&quot;&bsol;&quot;&gt;&lt;span class=&bsol;&quot;numbers&bsol;&quot;&gt;23667.547&lt;&sol;span&gt;&lt;&sol;span&gt;&quot;,&quot;&lt;span class=&bsol;&quot;formatted&bsol;&quot; title=&bsol;&quot;&bsol;&quot;&gt;&lt;span class=&bsol;&quot;numbers&bsol;&quot;&gt;67615.581&lt;&sol;span&gt;&lt;&sol;span&gt;&quot;,&quot;&lt;span class=&bsol;&quot;formatted&bsol;&quot; title=&bsol;&quot;&bsol;&quot;&gt;&lt;span class=&bsol;&quot;numbers&bsol;&quot;&gt;131410.587&lt;&sol;span&gt;&lt;&sol;span&gt;&quot;,&quot;&lt;span class=&bsol;&quot;formatted&bsol;&quot; title=&bsol;&quot;&bsol;&quot;&gt;&lt;span class=&bsol;&quot;numbers&bsol;&quot;&gt;107394.525&lt;&sol;span&gt;&lt;&sol;span&gt;&quot;,&quot;&lt;span class=&bsol;&quot;formatted&bsol;&quot; title=&bsol;&quot;&bsol;&quot;&gt;&lt;span class=&bsol;&quot;numbers&bsol;&quot;&gt;157397.455&lt;&sol;span&gt;&lt;&sol;span&gt;&quot;,&quot;&lt;span class=&bsol;&quot;formatted&bsol;&quot; title=&bsol;&quot;&bsol;&quot;&gt;&lt;span class=&bsol;&quot;numbers&bsol;&quot;&gt;14605.901&lt;&sol;span&gt;&lt;&sol;span&gt;&quot;,&quot;&lt;span class=&bsol;&quot;formatted&bsol;&quot; title=&bsol;&quot;&bsol;&quot;&gt;&lt;span class=&bsol;&quot;numbers&bsol;&quot;&gt;23546.940&lt;&sol;span&gt;&lt;&sol;span&gt;&quot;,&quot;&lt;span class=&bsol;&quot;formatted&bsol;&quot; title=&bsol;&quot;&bsol;&quot;&gt;&lt;span class=&bsol;&quot;numbers&bsol;&quot;&gt;47707.620&lt;&sol;span&gt;&lt;&sol;span&gt;&quot;,&quot;&lt;span class=&bsol;&quot;formatted&bsol;&quot; title=&bsol;&quot;&bsol;&quot;&gt;&lt;span class=&bsol;&quot;numbers&bsol;&quot;&gt;53864.313&lt;&sol;span&gt;&lt;&sol;span&gt;&quot;] }, \n{ name: &quot;&lt;span title=&bsol;&quot;type: Line_9_jupyter.Type&bsol;&quot;&gt;type&lt;&sol;span&gt;&quot;, children: [], rightAlign: false, values: [&quot;Float&quot;,&quot;Float&quot;,&quot;Float&quot;,&quot;Float&quot;,&quot;Float&quot;,&quot;Float&quot;,&quot;Float&quot;,&quot;Float&quot;,&quot;Float&quot;,&quot;Float&quot;,&quot;Double&quot;,&quot;Double&quot;,&quot;Double&quot;,&quot;Double&quot;,&quot;Double&quot;,&quot;Double&quot;,&quot;Double&quot;,&quot;Double&quot;] }, \n], id: 16777219, rootId: 16777219, totalRows: 18 } ) });\n&sol;*--&gt;*&sol;\n\ncall_DataFrame(function() { DataFrame.renderTable(16777219) });\n\n\n\n        &lt;&sol;script&gt;\n        &lt;&sol;html&gt;\"></iframe>\n            <script>\n                function o_resize_iframe_out_4() {\n                    let elem = document.getElementById(\"iframe_out_4\");\n                    resize_iframe_out_4(elem);\n                    setInterval(resize_iframe_out_4, 5000, elem);\n                }\n                function resize_iframe_out_4(el) {\n                    let h = el.contentWindow.document.body.scrollHeight;\n                    el.height = h === 0 ? 0 : h + 41;\n                }\n            </script>",
      "application/kotlindataframe+json": "{\"nrow\":18,\"ncol\":4,\"columns\":[\"name\",\"score\",\"error\",\"type\"],\"kotlin_dataframe\":[{\"name\":\"baselineFloat\",\"score\":3.3606712712E7,\"error\":47991.314,\"type\":\"Float\"},{\"name\":\"inlineFloat\",\"score\":3.9763340669E7,\"error\":242654.038,\"type\":\"Float\"},{\"name\":\"longPackFloat\",\"score\":5.5698676574E7,\"error\":27008.243,\"type\":\"Float\"},{\"name\":\"mutableSpecificRefFloat\",\"score\":2.3492609412E7,\"error\":66253.892,\"type\":\"Float\"},{\"name\":\"mutableUniversalRefFloatIn1Long\",\"score\":6.4025888364E7,\"error\":75433.279,\"type\":\"Float\"},{\"name\":\"mutableUniversalRefFloatIn2Longs\",\"score\":3.6311543354E7,\"error\":159509.422,\"type\":\"Float\"},{\"name\":\"valhallaFloat\",\"score\":2.4131777825E7,\"error\":141186.716,\"type\":\"Float\"},{\"name\":\"valueFloat\",\"score\":2.4381105268E7,\"error\":46075.659,\"type\":\"Float\"},{\"name\":\"valueInlineFloat\",\"score\":2.4763629497E7,\"error\":25496.917,\"type\":\"Float\"},{\"name\":\"valuePreserveBoxFloat\",\"score\":2.476237696E7,\"error\":23667.547,\"type\":\"Float\"},{\"name\":\"baselineDouble\",\"score\":3.4639168206E7,\"error\":67615.581,\"type\":\"Double\"},{\"name\":\"inlineDouble\",\"score\":3.4275488211E7,\"error\":131410.587,\"type\":\"Double\"},{\"name\":\"mutableSpecificRefDouble\",\"score\":2.3309379618E7,\"error\":107394.525,\"type\":\"Double\"},{\"name\":\"mutableUniversalRefDouble\",\"score\":3.653118287E7,\"error\":157397.455,\"type\":\"Double\"},{\"name\":\"valhallaDouble\",\"score\":2.4384128327E7,\"error\":14605.901,\"type\":\"Double\"},{\"name\":\"valueDouble\",\"score\":2.4264047634E7,\"error\":23546.94,\"type\":\"Double\"},{\"name\":\"valueInlineDouble\",\"score\":2.4465991005E7,\"error\":47707.62,\"type\":\"Double\"},{\"name\":\"valuePreserveBoxDouble\",\"score\":2.4310870209E7,\"error\":53864.313,\"type\":\"Double\"}]}"
     },
     "execution_count": 11,
     "metadata": {},
     "output_type": "execute_result"
    }
   ],
   "source": [
    "readValhallaHotspotBenchmarkData(\"Wolf3dBenchmark\")"
   ],
   "metadata": {
    "collapsed": false,
    "ExecuteTime": {
     "end_time": "2023-07-09T16:56:05.390560Z",
     "start_time": "2023-07-09T16:56:05.097513Z"
    }
   }
  },
  {
   "cell_type": "code",
   "execution_count": 12,
   "outputs": [
    {
     "data": {
      "text/html": "            <script type=\"text/javascript\" data-lets-plot-script=\"library\" src=\"https://cdn.jsdelivr.net/gh/JetBrains/lets-plot@v3.1.0/js-package/distr/lets-plot.min.js\"></script>    \n               <div id=\"IbxBfF\"></div>\n   <script type=\"text/javascript\" data-lets-plot-script=\"plot\">\n       var plotSpec={\n\"ggtitle\":{\n\"text\":\"Wolf3d\",\n\"subtitle\":\"Hotspot with Valhalla\"\n},\n\"mapping\":{\n},\n\"data\":{\n\"score\":[3.3606712712E7,3.9763340669E7,5.5698676574E7,2.3492609412E7,6.4025888364E7,3.6311543354E7,2.4131777825E7,2.4381105268E7,2.4763629497E7,2.476237696E7,3.4639168206E7,3.4275488211E7,2.3309379618E7,3.653118287E7,2.4384128327E7,2.4264047634E7,2.4465991005E7,2.4310870209E7],\n\"textPosition\":[1.6803356356E7,1.98816703345E7,2.7849338287E7,1.1746304706E7,3.2012944182E7,1.8155771677E7,1.20658889125E7,1.2190552634E7,1.23818147485E7,1.238118848E7,1.7319584103E7,1.71377441055E7,1.1654689809E7,1.8265591435E7,1.21920641635E7,1.2132023817E7,1.22329955025E7,1.21554351045E7],\n\"name\":[\"baselineFloat\",\"inlineFloat\",\"longPackFloat\",\"mutableSpecificRefFloat\",\"mutableUniversalRefFloatIn1Long\",\"mutableUniversalRefFloatIn2Longs\",\"valhallaFloat\",\"valueFloat\",\"valueInlineFloat\",\"valuePreserveBoxFloat\",\"baselineDouble\",\"inlineDouble\",\"mutableSpecificRefDouble\",\"mutableUniversalRefDouble\",\"valhallaDouble\",\"valueDouble\",\"valueInlineDouble\",\"valuePreserveBoxDouble\"],\n\"minErr\":[3.3558721397999994E7,3.9520686631E7,5.5671668331E7,2.342635552E7,6.3950455085E7,3.6152033932000004E7,2.3990591109E7,2.4335029608999997E7,2.4738132580000002E7,2.4738709413000003E7,3.4571552625E7,3.4144077624000005E7,2.3201985093000002E7,3.6373785415E7,2.4369522426E7,2.4240500694E7,2.4418283384999998E7,2.4257005895999998E7],\n\"label\":[\"100%\\n±\\n0.1%\\nFloat\",\"118%\\n±\\n0.7%\\nFloat\",\"166%\\n±\\n0.1%\\nFloat\",\"70%\\n±\\n0.2%\\nFloat\",\"191%\\n±\\n0.2%\\nFloat\",\"108%\\n±\\n0.5%\\nFloat\",\"72%\\n±\\n0.4%\\nFloat\",\"73%\\n±\\n0.1%\\nFloat\",\"74%\\n±\\n0.1%\\nFloat\",\"74%\\n±\\n0.1%\\nFloat\",\"100%\\n±\\n0.2%\\nDouble\",\"99%\\n±\\n0.4%\\nDouble\",\"67%\\n±\\n0.3%\\nDouble\",\"105%\\n±\\n0.5%\\nDouble\",\"70%\\n±\\n0.0%\\nDouble\",\"70%\\n±\\n0.1%\\nDouble\",\"71%\\n±\\n0.1%\\nDouble\",\"70%\\n±\\n0.2%\\nDouble\"],\n\"type\":[\"Float\",\"Float\",\"Float\",\"Float\",\"Float\",\"Float\",\"Float\",\"Float\",\"Float\",\"Float\",\"Double\",\"Double\",\"Double\",\"Double\",\"Double\",\"Double\",\"Double\",\"Double\"],\n\"maxErr\":[3.3654704026E7,4.0005994707E7,5.5725684817E7,2.3558863304E7,6.4101321643E7,3.6471052776E7,2.4272964540999997E7,2.4427180927E7,2.4789126414E7,2.4786044507E7,3.4706783787E7,3.4406898798E7,2.3416774143E7,3.6688580324999996E7,2.4398734228E7,2.4287594574E7,2.4513698625E7,2.4364734522E7]\n},\n\"ggsize\":{\n\"width\":800.0,\n\"height\":600.0\n},\n\"kind\":\"plot\",\n\"scales\":[{\n\"aesthetic\":\"x\",\n\"breaks\":[\"baselineFloat\",\"inlineFloat\",\"longPackFloat\",\"mutableSpecificRefFloat\",\"mutableUniversalRefFloatIn1Long\",\"mutableUniversalRefFloatIn2Longs\",\"valhallaFloat\",\"valueFloat\",\"valueInlineFloat\",\"valuePreserveBoxFloat\",\"baselineDouble\",\"inlineDouble\",\"mutableSpecificRefDouble\",\"mutableUniversalRefDouble\",\"valhallaDouble\",\"valueDouble\",\"valueInlineDouble\",\"valuePreserveBoxDouble\"],\n\"name\":\"Benchmark\",\n\"labels\":[\"baseline\",\"inline\",\"longPack\",\"mutableSpecificRef\",\"mutableUniversalRefIn1Long\",\"mutableUniversalRefIn2Longs\",\"valhalla\",\"value\",\"valueInline\",\"valuePreserveBox\",\"baseline\",\"inline\",\"mutableSpecificRef\",\"mutableUniversalRef\",\"valhalla\",\"value\",\"valueInline\",\"valuePreserveBox\"]\n},{\n\"aesthetic\":\"y\",\n\"name\":\"ns/op\",\n\"limits\":[null,null]\n},{\n\"aesthetic\":\"fill\",\n\"discrete\":true,\n\"name\":\"Type\",\n\"guide\":{\n\"name\":\"legend\"\n}\n},{\n\"aesthetic\":\"x\"\n},{\n\"aesthetic\":\"x\"\n},{\n\"aesthetic\":\"y\",\n\"limits\":[null,null]\n}],\n\"layers\":[{\n\"mapping\":{\n\"x\":\"name\",\n\"y\":\"score\",\n\"fill\":\"type\"\n},\n\"stat\":\"identity\",\n\"sampling\":\"none\",\n\"position\":\"dodge\",\n\"geom\":\"bar\",\n\"tooltips\":{\n\"lines\":[\"Type|@type\",\"Benchmark|@name\",\"Score|@score\"]\n},\n\"data\":{\n}\n},{\n\"mapping\":{\n\"x\":\"name\",\n\"ymin\":\"minErr\",\n\"ymax\":\"maxErr\"\n},\n\"stat\":\"identity\",\n\"sampling\":\"none\",\n\"width\":0.5,\n\"position\":\"identity\",\n\"geom\":\"errorbar\",\n\"data\":{\n}\n},{\n\"mapping\":{\n\"x\":\"name\",\n\"y\":\"textPosition\",\n\"label\":\"label\"\n},\n\"stat\":\"identity\",\n\"size\":4.4,\n\"sampling\":\"none\",\n\"position\":\"identity\",\n\"geom\":\"text\",\n\"data\":{\n}\n}],\n\"theme\":{\n\"flavor\":\"solarized_light\"\n}\n};\n       var plotContainer = document.getElementById(\"IbxBfF\");\n       LetsPlot.buildPlotFromProcessedSpecs(plotSpec, -1, -1, plotContainer);\n   </script>    ",
      "application/plot+json": {
       "output_type": "lets_plot_spec",
       "output": {
        "ggtitle": {
         "text": "Wolf3d",
         "subtitle": "Hotspot with Valhalla"
        },
        "mapping": {},
        "data": {
         "score": [
          3.3606712E7,
          3.976334E7,
          5.5698676E7,
          2.349261E7,
          6.4025888E7,
          3.6311544E7,
          2.4131778E7,
          2.4381106E7,
          2.476363E7,
          2.4762376E7,
          3.4639168E7,
          3.4275488E7,
          2.330938E7,
          3.6531184E7,
          2.4384128E7,
          2.4264048E7,
          2.4465992E7,
          2.431087E7
         ],
         "textPosition": [
          1.6803356E7,
          1.988167E7,
          2.7849338E7,
          1.1746305E7,
          3.2012944E7,
          1.8155772E7,
          1.2065889E7,
          1.2190553E7,
          1.2381815E7,
          1.2381188E7,
          1.7319584E7,
          1.7137744E7,
          1.165469E7,
          1.8265592E7,
          1.2192064E7,
          1.2132024E7,
          1.2232996E7,
          1.2155435E7
         ],
         "name": [
          "baselineFloat",
          "inlineFloat",
          "longPackFloat",
          "mutableSpecificRefFloat",
          "mutableUniversalRefFloatIn1Long",
          "mutableUniversalRefFloatIn2Longs",
          "valhallaFloat",
          "valueFloat",
          "valueInlineFloat",
          "valuePreserveBoxFloat",
          "baselineDouble",
          "inlineDouble",
          "mutableSpecificRefDouble",
          "mutableUniversalRefDouble",
          "valhallaDouble",
          "valueDouble",
          "valueInlineDouble",
          "valuePreserveBoxDouble"
         ],
         "minErr": [
          3.355872E7,
          3.9520688E7,
          5.5671668E7,
          2.3426356E7,
          6.3950456E7,
          3.6152032E7,
          2.3990592E7,
          2.433503E7,
          2.4738132E7,
          2.473871E7,
          3.4571552E7,
          3.4144076E7,
          2.3201986E7,
          3.6373784E7,
          2.4369522E7,
          2.42405E7,
          2.4418284E7,
          2.4257006E7
         ],
         "label": [
          "100%\n±\n0.1%\nFloat",
          "118%\n±\n0.7%\nFloat",
          "166%\n±\n0.1%\nFloat",
          "70%\n±\n0.2%\nFloat",
          "191%\n±\n0.2%\nFloat",
          "108%\n±\n0.5%\nFloat",
          "72%\n±\n0.4%\nFloat",
          "73%\n±\n0.1%\nFloat",
          "74%\n±\n0.1%\nFloat",
          "74%\n±\n0.1%\nFloat",
          "100%\n±\n0.2%\nDouble",
          "99%\n±\n0.4%\nDouble",
          "67%\n±\n0.3%\nDouble",
          "105%\n±\n0.5%\nDouble",
          "70%\n±\n0.0%\nDouble",
          "70%\n±\n0.1%\nDouble",
          "71%\n±\n0.1%\nDouble",
          "70%\n±\n0.2%\nDouble"
         ],
         "type": [
          "Float",
          "Float",
          "Float",
          "Float",
          "Float",
          "Float",
          "Float",
          "Float",
          "Float",
          "Float",
          "Double",
          "Double",
          "Double",
          "Double",
          "Double",
          "Double",
          "Double",
          "Double"
         ],
         "maxErr": [
          3.3654704E7,
          4.0005996E7,
          5.5725684E7,
          2.3558864E7,
          6.410132E7,
          3.6471052E7,
          2.4272964E7,
          2.442718E7,
          2.4789126E7,
          2.4786044E7,
          3.4706784E7,
          3.44069E7,
          2.3416774E7,
          3.668858E7,
          2.4398734E7,
          2.4287594E7,
          2.4513698E7,
          2.4364734E7
         ]
        },
        "ggsize": {
         "width": 800.0,
         "height": 600.0
        },
        "kind": "plot",
        "scales": [
         {
          "aesthetic": "x",
          "breaks": [
           "baselineFloat",
           "inlineFloat",
           "longPackFloat",
           "mutableSpecificRefFloat",
           "mutableUniversalRefFloatIn1Long",
           "mutableUniversalRefFloatIn2Longs",
           "valhallaFloat",
           "valueFloat",
           "valueInlineFloat",
           "valuePreserveBoxFloat",
           "baselineDouble",
           "inlineDouble",
           "mutableSpecificRefDouble",
           "mutableUniversalRefDouble",
           "valhallaDouble",
           "valueDouble",
           "valueInlineDouble",
           "valuePreserveBoxDouble"
          ],
          "name": "Benchmark",
          "labels": [
           "baseline",
           "inline",
           "longPack",
           "mutableSpecificRef",
           "mutableUniversalRefIn1Long",
           "mutableUniversalRefIn2Longs",
           "valhalla",
           "value",
           "valueInline",
           "valuePreserveBox",
           "baseline",
           "inline",
           "mutableSpecificRef",
           "mutableUniversalRef",
           "valhalla",
           "value",
           "valueInline",
           "valuePreserveBox"
          ]
         },
         {
          "aesthetic": "y",
          "name": "ns/op",
          "limits": [
           null,
           null
          ]
         },
         {
          "aesthetic": "fill",
          "discrete": true,
          "name": "Type",
          "guide": {
           "name": "legend"
          }
         },
         {
          "aesthetic": "x"
         },
         {
          "aesthetic": "x"
         },
         {
          "aesthetic": "y",
          "limits": [
           null,
           null
          ]
         }
        ],
        "layers": [
         {
          "mapping": {
           "x": "name",
           "y": "score",
           "fill": "type"
          },
          "stat": "identity",
          "sampling": "none",
          "position": "dodge",
          "geom": "bar",
          "tooltips": {
           "lines": [
            "Type|@type",
            "Benchmark|@name",
            "Score|@score"
           ]
          }
         },
         {
          "mapping": {
           "x": "name",
           "ymin": "minErr",
           "ymax": "maxErr"
          },
          "stat": "identity",
          "sampling": "none",
          "width": 0.5,
          "position": "identity",
          "geom": "errorbar"
         },
         {
          "mapping": {
           "x": "name",
           "y": "textPosition",
           "label": "label"
          },
          "stat": "identity",
          "size": 4.4,
          "sampling": "none",
          "position": "identity",
          "geom": "text"
         }
        ],
        "theme": {
         "flavor": "solarized_light"
        }
       },
       "apply_color_scheme": true,
       "swing_enabled": true
      }
     },
     "metadata": {},
     "output_type": "display_data"
    },
    {
     "data": {
      "text/html": "            <script type=\"text/javascript\" data-lets-plot-script=\"library\" src=\"https://cdn.jsdelivr.net/gh/JetBrains/lets-plot@v3.1.0/js-package/distr/lets-plot.min.js\"></script>    \n               <div id=\"6VRa6s\"></div>\n   <script type=\"text/javascript\" data-lets-plot-script=\"plot\">\n       var plotSpec={\n\"ggtitle\":{\n\"text\":\"Ackermann\",\n\"subtitle\":\"Hotspot with Valhalla\"\n},\n\"mapping\":{\n},\n\"data\":{\n\"score\":[17269.495,8533.159,10005.877,10648.45,10883.969,12880.629,12936.526,13013.833,17703.588,10674.405,10703.397,13893.183,13764.259,13604.684,17310.952,16798.258,11094.346,18669.809,13668.613,10389.499,13684.109,13560.944,19392.562,11710.385,11531.054,10806.193,14921.16,14985.316],\n\"textPosition\":[8634.7475,4266.5795,5002.9385,5324.225,5441.9845,6440.3145,6468.263,6506.9165,8851.794,5337.2025,5351.6985,6946.5915,6882.1295,6802.342,8655.476,8399.129,5547.173,9334.9045,6834.3065,5194.7495,6842.0545,6780.472,9696.281,5855.1925,5765.527,5403.0965,7460.58,7492.658],\n\"name\":[\"baselineInt\",\"longPackInt\",\"mutableSpecificRefInt\",\"mutableUniversalRefIntIn1Long\",\"mutableUniversalRefIntIn2Longs\",\"valhallaInt\",\"valueInt\",\"valuePreserveBoxInt\",\"baselineLong\",\"mutableSpecificRefLong\",\"mutableUniversalRefLong\",\"valhallaLong\",\"valueLong\",\"valuePreserveBoxLong\",\"baselineFloat\",\"longPackFloat\",\"mutableSpecificRefFloat\",\"mutableUniversalRefFloatIn1Long\",\"mutableUniversalRefFloatIn2Longs\",\"valhallaFloat\",\"valueFloat\",\"valuePreserveBoxFloat\",\"baselineDouble\",\"mutableSpecificRefDouble\",\"mutableUniversalRefDouble\",\"valhallaDouble\",\"valueDouble\",\"valuePreserveBoxDouble\"],\n\"minErr\":[16795.087,8360.137999999999,9959.347,10514.297,10851.526,12805.612000000001,12786.279,12845.49,17533.781,10609.798,10621.961000000001,13839.319000000001,13629.964,13480.633,17157.824,16692.016000000003,11039.985999999999,18632.995000000003,13633.534,10342.734,13300.752,13204.112,19040.698,11549.004,11446.017,10769.444,14751.780999999999,14670.835000000001],\n\"label\":[\"100%\\n±\\n2.7%\\nInt\",\"49%\\n±\\n1.0%\\nInt\",\"58%\\n±\\n0.3%\\nInt\",\"62%\\n±\\n0.8%\\nInt\",\"63%\\n±\\n0.2%\\nInt\",\"75%\\n±\\n0.4%\\nInt\",\"75%\\n±\\n0.9%\\nInt\",\"75%\\n±\\n1.0%\\nInt\",\"100%\\n±\\n1.0%\\nLong\",\"60%\\n±\\n0.4%\\nLong\",\"60%\\n±\\n0.5%\\nLong\",\"78%\\n±\\n0.3%\\nLong\",\"78%\\n±\\n0.8%\\nLong\",\"77%\\n±\\n0.7%\\nLong\",\"100%\\n±\\n0.9%\\nFloat\",\"97%\\n±\\n0.6%\\nFloat\",\"64%\\n±\\n0.3%\\nFloat\",\"108%\\n±\\n0.2%\\nFloat\",\"79%\\n±\\n0.2%\\nFloat\",\"60%\\n±\\n0.3%\\nFloat\",\"79%\\n±\\n2.2%\\nFloat\",\"78%\\n±\\n2.1%\\nFloat\",\"100%\\n±\\n1.8%\\nDouble\",\"60%\\n±\\n0.8%\\nDouble\",\"59%\\n±\\n0.4%\\nDouble\",\"56%\\n±\\n0.2%\\nDouble\",\"77%\\n±\\n0.9%\\nDouble\",\"77%\\n±\\n1.6%\\nDouble\"],\n\"type\":[\"Int\",\"Int\",\"Int\",\"Int\",\"Int\",\"Int\",\"Int\",\"Int\",\"Long\",\"Long\",\"Long\",\"Long\",\"Long\",\"Long\",\"Float\",\"Float\",\"Float\",\"Float\",\"Float\",\"Float\",\"Float\",\"Float\",\"Double\",\"Double\",\"Double\",\"Double\",\"Double\",\"Double\"],\n\"maxErr\":[17743.903,8706.18,10052.407000000001,10782.603000000001,10916.411999999998,12955.646,13086.773,13182.176000000001,17873.395,10739.012,10784.833,13947.047,13898.554,13728.734999999999,17464.08,16904.5,11148.706,18706.623,13703.692,10436.264,14067.466,13917.776,19744.426000000003,11871.766,11616.091,10842.942,15090.539,15299.797]\n},\n\"ggsize\":{\n\"width\":800.0,\n\"height\":600.0\n},\n\"kind\":\"plot\",\n\"scales\":[{\n\"aesthetic\":\"x\",\n\"breaks\":[\"baselineInt\",\"longPackInt\",\"mutableSpecificRefInt\",\"mutableUniversalRefIntIn1Long\",\"mutableUniversalRefIntIn2Longs\",\"valhallaInt\",\"valueInt\",\"valuePreserveBoxInt\",\"baselineLong\",\"mutableSpecificRefLong\",\"mutableUniversalRefLong\",\"valhallaLong\",\"valueLong\",\"valuePreserveBoxLong\",\"baselineFloat\",\"longPackFloat\",\"mutableSpecificRefFloat\",\"mutableUniversalRefFloatIn1Long\",\"mutableUniversalRefFloatIn2Longs\",\"valhallaFloat\",\"valueFloat\",\"valuePreserveBoxFloat\",\"baselineDouble\",\"mutableSpecificRefDouble\",\"mutableUniversalRefDouble\",\"valhallaDouble\",\"valueDouble\",\"valuePreserveBoxDouble\"],\n\"name\":\"Benchmark\",\n\"labels\":[\"baseline\",\"longPack\",\"mutableSpecificRef\",\"mutableUniversalRefIn1Long\",\"mutableUniversalRefIn2Longs\",\"valhalla\",\"value\",\"valuePreserveBox\",\"baseline\",\"mutableSpecificRef\",\"mutableUniversalRef\",\"valhalla\",\"value\",\"valuePreserveBox\",\"baseline\",\"longPack\",\"mutableSpecificRef\",\"mutableUniversalRefIn1Long\",\"mutableUniversalRefIn2Longs\",\"valhalla\",\"value\",\"valuePreserveBox\",\"baseline\",\"mutableSpecificRef\",\"mutableUniversalRef\",\"valhalla\",\"value\",\"valuePreserveBox\"]\n},{\n\"aesthetic\":\"y\",\n\"name\":\"ns/op\",\n\"limits\":[null,null]\n},{\n\"aesthetic\":\"fill\",\n\"discrete\":true,\n\"name\":\"Type\",\n\"guide\":{\n\"name\":\"legend\"\n}\n},{\n\"aesthetic\":\"x\"\n},{\n\"aesthetic\":\"x\"\n},{\n\"aesthetic\":\"y\",\n\"limits\":[null,null]\n}],\n\"layers\":[{\n\"mapping\":{\n\"x\":\"name\",\n\"y\":\"score\",\n\"fill\":\"type\"\n},\n\"stat\":\"identity\",\n\"sampling\":\"none\",\n\"position\":\"dodge\",\n\"geom\":\"bar\",\n\"tooltips\":{\n\"lines\":[\"Type|@type\",\"Benchmark|@name\",\"Score|@score\"]\n},\n\"data\":{\n}\n},{\n\"mapping\":{\n\"x\":\"name\",\n\"ymin\":\"minErr\",\n\"ymax\":\"maxErr\"\n},\n\"stat\":\"identity\",\n\"sampling\":\"none\",\n\"width\":0.5,\n\"position\":\"identity\",\n\"geom\":\"errorbar\",\n\"data\":{\n}\n},{\n\"mapping\":{\n\"x\":\"name\",\n\"y\":\"textPosition\",\n\"label\":\"label\"\n},\n\"stat\":\"identity\",\n\"size\":2.4000000000000004,\n\"sampling\":\"none\",\n\"position\":\"identity\",\n\"geom\":\"text\",\n\"data\":{\n}\n}],\n\"theme\":{\n\"flavor\":\"solarized_light\"\n}\n};\n       var plotContainer = document.getElementById(\"6VRa6s\");\n       LetsPlot.buildPlotFromProcessedSpecs(plotSpec, -1, -1, plotContainer);\n   </script>    ",
      "application/plot+json": {
       "output_type": "lets_plot_spec",
       "output": {
        "ggtitle": {
         "text": "Ackermann",
         "subtitle": "Hotspot with Valhalla"
        },
        "mapping": {},
        "data": {
         "score": [
          17269.494,
          8533.159,
          10005.877,
          10648.45,
          10883.969,
          12880.629,
          12936.526,
          13013.833,
          17703.588,
          10674.405,
          10703.397,
          13893.183,
          13764.259,
          13604.684,
          17310.951,
          16798.258,
          11094.346,
          18669.809,
          13668.613,
          10389.499,
          13684.109,
          13560.944,
          19392.562,
          11710.385,
          11531.054,
          10806.193,
          14921.16,
          14985.316
         ],
         "textPosition": [
          8634.747,
          4266.5796,
          5002.9385,
          5324.225,
          5441.9844,
          6440.3145,
          6468.263,
          6506.9165,
          8851.794,
          5337.2026,
          5351.6987,
          6946.5913,
          6882.1294,
          6802.342,
          8655.476,
          8399.129,
          5547.173,
          9334.904,
          6834.3066,
          5194.7495,
          6842.0547,
          6780.472,
          9696.281,
          5855.1924,
          5765.527,
          5403.0967,
          7460.58,
          7492.658
         ],
         "name": [
          "baselineInt",
          "longPackInt",
          "mutableSpecificRefInt",
          "mutableUniversalRefIntIn1Long",
          "mutableUniversalRefIntIn2Longs",
          "valhallaInt",
          "valueInt",
          "valuePreserveBoxInt",
          "baselineLong",
          "mutableSpecificRefLong",
          "mutableUniversalRefLong",
          "valhallaLong",
          "valueLong",
          "valuePreserveBoxLong",
          "baselineFloat",
          "longPackFloat",
          "mutableSpecificRefFloat",
          "mutableUniversalRefFloatIn1Long",
          "mutableUniversalRefFloatIn2Longs",
          "valhallaFloat",
          "valueFloat",
          "valuePreserveBoxFloat",
          "baselineDouble",
          "mutableSpecificRefDouble",
          "mutableUniversalRefDouble",
          "valhallaDouble",
          "valueDouble",
          "valuePreserveBoxDouble"
         ],
         "minErr": [
          16795.088,
          8360.138,
          9959.347,
          10514.297,
          10851.526,
          12805.612,
          12786.279,
          12845.49,
          17533.781,
          10609.798,
          10621.961,
          13839.319,
          13629.964,
          13480.633,
          17157.824,
          16692.016,
          11039.986,
          18632.994,
          13633.534,
          10342.734,
          13300.752,
          13204.112,
          19040.697,
          11549.004,
          11446.017,
          10769.444,
          14751.781,
          14670.835
         ],
         "label": [
          "100%\n±\n2.7%\nInt",
          "49%\n±\n1.0%\nInt",
          "58%\n±\n0.3%\nInt",
          "62%\n±\n0.8%\nInt",
          "63%\n±\n0.2%\nInt",
          "75%\n±\n0.4%\nInt",
          "75%\n±\n0.9%\nInt",
          "75%\n±\n1.0%\nInt",
          "100%\n±\n1.0%\nLong",
          "60%\n±\n0.4%\nLong",
          "60%\n±\n0.5%\nLong",
          "78%\n±\n0.3%\nLong",
          "78%\n±\n0.8%\nLong",
          "77%\n±\n0.7%\nLong",
          "100%\n±\n0.9%\nFloat",
          "97%\n±\n0.6%\nFloat",
          "64%\n±\n0.3%\nFloat",
          "108%\n±\n0.2%\nFloat",
          "79%\n±\n0.2%\nFloat",
          "60%\n±\n0.3%\nFloat",
          "79%\n±\n2.2%\nFloat",
          "78%\n±\n2.1%\nFloat",
          "100%\n±\n1.8%\nDouble",
          "60%\n±\n0.8%\nDouble",
          "59%\n±\n0.4%\nDouble",
          "56%\n±\n0.2%\nDouble",
          "77%\n±\n0.9%\nDouble",
          "77%\n±\n1.6%\nDouble"
         ],
         "type": [
          "Int",
          "Int",
          "Int",
          "Int",
          "Int",
          "Int",
          "Int",
          "Int",
          "Long",
          "Long",
          "Long",
          "Long",
          "Long",
          "Long",
          "Float",
          "Float",
          "Float",
          "Float",
          "Float",
          "Float",
          "Float",
          "Float",
          "Double",
          "Double",
          "Double",
          "Double",
          "Double",
          "Double"
         ],
         "maxErr": [
          17743.902,
          8706.18,
          10052.407,
          10782.603,
          10916.412,
          12955.646,
          13086.773,
          13182.176,
          17873.395,
          10739.012,
          10784.833,
          13947.047,
          13898.554,
          13728.735,
          17464.08,
          16904.5,
          11148.706,
          18706.623,
          13703.692,
          10436.264,
          14067.466,
          13917.776,
          19744.426,
          11871.766,
          11616.091,
          10842.942,
          15090.539,
          15299.797
         ]
        },
        "ggsize": {
         "width": 800.0,
         "height": 600.0
        },
        "kind": "plot",
        "scales": [
         {
          "aesthetic": "x",
          "breaks": [
           "baselineInt",
           "longPackInt",
           "mutableSpecificRefInt",
           "mutableUniversalRefIntIn1Long",
           "mutableUniversalRefIntIn2Longs",
           "valhallaInt",
           "valueInt",
           "valuePreserveBoxInt",
           "baselineLong",
           "mutableSpecificRefLong",
           "mutableUniversalRefLong",
           "valhallaLong",
           "valueLong",
           "valuePreserveBoxLong",
           "baselineFloat",
           "longPackFloat",
           "mutableSpecificRefFloat",
           "mutableUniversalRefFloatIn1Long",
           "mutableUniversalRefFloatIn2Longs",
           "valhallaFloat",
           "valueFloat",
           "valuePreserveBoxFloat",
           "baselineDouble",
           "mutableSpecificRefDouble",
           "mutableUniversalRefDouble",
           "valhallaDouble",
           "valueDouble",
           "valuePreserveBoxDouble"
          ],
          "name": "Benchmark",
          "labels": [
           "baseline",
           "longPack",
           "mutableSpecificRef",
           "mutableUniversalRefIn1Long",
           "mutableUniversalRefIn2Longs",
           "valhalla",
           "value",
           "valuePreserveBox",
           "baseline",
           "mutableSpecificRef",
           "mutableUniversalRef",
           "valhalla",
           "value",
           "valuePreserveBox",
           "baseline",
           "longPack",
           "mutableSpecificRef",
           "mutableUniversalRefIn1Long",
           "mutableUniversalRefIn2Longs",
           "valhalla",
           "value",
           "valuePreserveBox",
           "baseline",
           "mutableSpecificRef",
           "mutableUniversalRef",
           "valhalla",
           "value",
           "valuePreserveBox"
          ]
         },
         {
          "aesthetic": "y",
          "name": "ns/op",
          "limits": [
           null,
           null
          ]
         },
         {
          "aesthetic": "fill",
          "discrete": true,
          "name": "Type",
          "guide": {
           "name": "legend"
          }
         },
         {
          "aesthetic": "x"
         },
         {
          "aesthetic": "x"
         },
         {
          "aesthetic": "y",
          "limits": [
           null,
           null
          ]
         }
        ],
        "layers": [
         {
          "mapping": {
           "x": "name",
           "y": "score",
           "fill": "type"
          },
          "stat": "identity",
          "sampling": "none",
          "position": "dodge",
          "geom": "bar",
          "tooltips": {
           "lines": [
            "Type|@type",
            "Benchmark|@name",
            "Score|@score"
           ]
          }
         },
         {
          "mapping": {
           "x": "name",
           "ymin": "minErr",
           "ymax": "maxErr"
          },
          "stat": "identity",
          "sampling": "none",
          "width": 0.5,
          "position": "identity",
          "geom": "errorbar"
         },
         {
          "mapping": {
           "x": "name",
           "y": "textPosition",
           "label": "label"
          },
          "stat": "identity",
          "size": 2.4,
          "sampling": "none",
          "position": "identity",
          "geom": "text"
         }
        ],
        "theme": {
         "flavor": "solarized_light"
        }
       },
       "apply_color_scheme": true,
       "swing_enabled": true
      }
     },
     "metadata": {},
     "output_type": "display_data"
    }
   ],
   "source": [
    "makePlot(\"Wolf3d\", \"Hotspot with Valhalla\", readValhallaHotspotBenchmarkData(\"Wolf3dBenchmark\"))?.let { DISPLAY(it) }\n",
    "makePlot(\"Ackermann\", \"Hotspot with Valhalla\", readValhallaHotspotBenchmarkData(\"AckermannBenchmark\"))?.let { DISPLAY(it) }"
   ],
   "metadata": {
    "collapsed": false,
    "ExecuteTime": {
     "end_time": "2023-07-09T16:56:06.067140Z",
     "start_time": "2023-07-09T16:56:05.390007Z"
    }
   }
  }
 ],
 "metadata": {
  "kernelspec": {
   "display_name": "Kotlin",
   "language": "kotlin",
   "name": "kotlin"
  },
  "language_info": {
   "name": "kotlin",
   "version": "1.8.0",
   "mimetype": "text/x-kotlin",
   "file_extension": ".kt",
   "pygments_lexer": "kotlin",
   "codemirror_mode": "text/x-kotlin",
   "nbconvert_exporter": ""
  },
  "ktnbPluginMetadata": {
   "projectLibraries": []
  }
 },
 "nbformat": 4,
 "nbformat_minor": 0
}
