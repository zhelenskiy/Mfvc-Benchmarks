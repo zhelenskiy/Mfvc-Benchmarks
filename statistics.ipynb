{
 "cells": [
  {
   "cell_type": "code",
   "execution_count": 1,
   "outputs": [
    {
     "data": {
      "text/html": "            <div id=\"kotlin_out_0\"/>\n            <script type=\"text/javascript\">\n                            if(!window.kotlinQueues) {\n                window.kotlinQueues = {};\n            }\n            if(!window.kotlinQueues[\"kandyLetsPlot\"]) {\n                var resQueue = [];\n                window.kotlinQueues[\"kandyLetsPlot\"] = resQueue;\n                window[\"call_kandyLetsPlot\"] = function(f) {\n                    resQueue.push(f);\n                }\n            }\n            (function (){\n                var modifiers = [(function(script) {\n    script.src = \"https://cdn.jsdelivr.net/gh/JetBrains/lets-plot@v3.1.0/js-package/distr/lets-plot.min.js\"\n    script.type = \"text/javascript\";\n})];\n                var e = document.getElementById(\"kotlin_out_0\");\n                modifiers.forEach(function (gen) {\n                    var script = document.createElement(\"script\");\n                    gen(script)\n                    script.addEventListener(\"load\", function() {\n                        window[\"call_kandyLetsPlot\"] = function(f) {f();};\n                        window.kotlinQueues[\"kandyLetsPlot\"].forEach(function(f) {f();});\n                        window.kotlinQueues[\"kandyLetsPlot\"] = [];\n                    }, false);\n                    script.addEventListener(\"error\", function() {\n                        window[\"call_kandyLetsPlot\"] = function(f) {};\n                        window.kotlinQueues[\"kandyLetsPlot\"] = [];\n                        var div = document.createElement(\"div\");\n                        div.style.color = 'darkred';\n                        div.textContent = 'Error loading resource kandyLetsPlot';\n                        document.getElementById(\"kotlin_out_0\").appendChild(div);\n                    }, false);\n                    \n                    e.appendChild(script);\n                });\n            })();\n            </script>"
     },
     "metadata": {},
     "output_type": "display_data"
    }
   ],
   "source": [
    "%use kandy, dataframe"
   ],
   "metadata": {
    "collapsed": false,
    "ExecuteTime": {
     "end_time": "2023-07-13T01:46:56.503362Z",
     "start_time": "2023-07-13T01:46:38.308456Z"
    }
   }
  },
  {
   "cell_type": "code",
   "execution_count": 2,
   "outputs": [],
   "source": [
    "import java.nio.file.Files\n",
    "import java.nio.file.Path\n",
    "\n",
    "@DataSchema\n",
    "data class BenchmarkData(\n",
    "    val name: String,\n",
    "    val score: Double,\n",
    "    val error: Double,\n",
    "    val type: Type = getType(name),\n",
    ") {\n",
    "    override fun toString(): String = \"$name: $score ± $error ns/op\"\n",
    "}\n",
    "\n",
    "enum class Type { Int, Long, Float, Double }\n",
    "\n",
    "fun getType(name: String) = when {\n",
    "    name.contains(\"Float\") -> Type.Float\n",
    "    name.contains(\"Int\") -> Type.Int\n",
    "    name.contains(\"Double\") -> Type.Double\n",
    "    name.contains(\"Long\") -> Type.Long // Long must be the last as it is contained in other test names\n",
    "    else -> error(\"Unknown type: ${name}\")\n",
    "}\n",
    "\n",
    "fun List<String>.parseBenchmarkData(regex: Regex) = mapNotNull {\n",
    "    val match = regex.matchEntire(it) ?: return@mapNotNull null\n",
    "    BenchmarkData(\n",
    "        name = match.groups[\"name\"]!!.value,\n",
    "        score = match.groups[\"score\"]!!.value.toDouble(),\n",
    "        error = match.groups[\"error\"]!!.value.toDouble(),\n",
    "    )\n",
    "}.toDataFrame().sortBy(\"type\", \"name\")\n",
    "\n",
    "fun readJmhBenchmarkData(fileName: String, benchmarkName: String) = Files.readAllLines(Path.of(\"results\", \"jmh\", fileName))\n",
    "        .parseBenchmarkData(Regex(\"$benchmarkName\\\\.(?<name>[^ ]+) +avgt +\\\\d+ +(?<score>[0-9.]+) +± +(?<error>[0-9.]+) +ns/op\"))\n",
    "\n",
    "fun readHotspotBenchmarkData(benchmarkName: String) = readJmhBenchmarkData(\"Hotspot.txt\", benchmarkName)\n",
    "\n",
    "fun readGraalBenchmarkData(benchmarkName: String) = readJmhBenchmarkData(\"Graal.txt\", benchmarkName)\n",
    "\n",
    "fun readValhallaHotspotBenchmarkData(benchmarkName: String) = readJmhBenchmarkData(\"Hotspot-Valhalla.txt\", benchmarkName)"
   ],
   "metadata": {
    "collapsed": false,
    "ExecuteTime": {
     "end_time": "2023-07-13T01:47:00.742559Z",
     "start_time": "2023-07-13T01:46:56.478322Z"
    }
   }
  },
  {
   "cell_type": "code",
   "execution_count": 3,
   "outputs": [
    {
     "data": {
      "text/html": "            <iframe onload=\"o_resize_iframe_out_1()\" style=\"width:100%;\" class=\"result_container\" id=\"iframe_out_1\" frameBorder=\"0\" srcdoc=\"        &lt;html theme='dark'&gt;\n        &lt;head&gt;\n            &lt;style type=&quot;text&sol;css&quot;&gt;\n                :root {\n    --background: #fff;\n    --background-odd: #f5f5f5;\n    --background-hover: #d9edfd;\n    --header-text-color: #474747;\n    --text-color: #848484;\n    --text-color-dark: #000;\n    --text-color-medium: #737373;\n    --text-color-pale: #b3b3b3;\n    --inner-border-color: #aaa;\n    --bold-border-color: #000;\n    --link-color: #296eaa;\n    --link-color-pale: #296eaa;\n    --link-hover: #1a466c;\n}\n\n:root[theme=&quot;dark&quot;], :root [data-jp-theme-light=&quot;false&quot;], .dataframe_dark{\n    --background: #303030;\n    --background-odd: #3c3c3c;\n    --background-hover: #464646;\n    --header-text-color: #dddddd;\n    --text-color: #b3b3b3;\n    --text-color-dark: #dddddd;\n    --text-color-medium: #b2b2b2;\n    --text-color-pale: #737373;\n    --inner-border-color: #707070;\n    --bold-border-color: #777777;\n    --link-color: #008dc0;\n    --link-color-pale: #97e1fb;\n    --link-hover: #00688e;\n}\n\np.dataframe_description {\n    color: var(--text-color-dark);\n}\n\ntable.dataframe {\n    font-family: &quot;Helvetica Neue&quot;, Helvetica, Arial, sans-serif;\n    font-size: 12px;\n    background-color: var(--background);\n    color: var(--text-color-dark);\n    border: none;\n    border-collapse: collapse;\n}\n\ntable.dataframe th, td {\n    padding: 6px;\n    border: 1px solid transparent;\n    text-align: left;\n}\n\ntable.dataframe th {\n    background-color: var(--background);\n    color: var(--header-text-color);\n}\n\ntable.dataframe td {\n    vertical-align: top;\n}\n\ntable.dataframe th.bottomBorder {\n    border-bottom-color: var(--bold-border-color);\n}\n\ntable.dataframe tbody &gt; tr:nth-child(odd) {\n    background: var(--background-odd);\n}\n\ntable.dataframe tbody &gt; tr:nth-child(even) {\n    background: var(--background);\n}\n\ntable.dataframe tbody &gt; tr:hover {\n    background: var(--background-hover);\n}\n\ntable.dataframe a {\n    cursor: pointer;\n    color: var(--link-color);\n    text-decoration: none;\n}\n\ntable.dataframe tr:hover &gt; td a {\n    color: var(--link-color-pale);\n}\n\ntable.dataframe a:hover {\n    color: var(--link-hover);\n    text-decoration: underline;\n}\n\ntable.dataframe img {\n    max-width: fit-content;\n}\n\ntable.dataframe th.complex {\n    background-color: var(--background);\n    border: 1px solid var(--background);\n}\n\ntable.dataframe .leftBorder {\n    border-left-color: var(--inner-border-color);\n}\n\ntable.dataframe .rightBorder {\n    border-right-color: var(--inner-border-color);\n}\n\ntable.dataframe .rightAlign {\n    text-align: right;\n}\n\ntable.dataframe .expanderSvg {\n    width: 8px;\n    height: 8px;\n    margin-right: 3px;\n}\n\ntable.dataframe .expander {\n    display: flex;\n    align-items: center;\n}\n\n&sol;* formatting *&sol;\n\ntable.dataframe .null {\n    color: var(--text-color-pale);\n}\n\ntable.dataframe .structural {\n    color: var(--text-color-medium);\n    font-weight: bold;\n}\n\ntable.dataframe .dataFrameCaption {\n    font-weight: bold;\n}\n\ntable.dataframe .numbers {\n    color: var(--text-color-dark);\n}\n\ntable.dataframe td:hover .formatted .structural, .null {\n    color: var(--text-color-dark);\n}\n\ntable.dataframe tr:hover .formatted .structural, .null {\n    color: var(--text-color-dark);\n}\n\n\n\n\n:root {\n    --scroll-bg: #f5f5f5;\n    --scroll-fg: #b3b3b3;\n}\n:root[theme=&quot;dark&quot;], :root [data-jp-theme-light=&quot;false&quot;]{\n    --scroll-bg: #3c3c3c;\n    --scroll-fg: #97e1fb;\n}\nbody {\n    scrollbar-color: var(--scroll-fg) var(--scroll-bg);\n}\nbody::-webkit-scrollbar {\n    width: 10px; &sol;* Mostly for vertical scrollbars *&sol;\n    height: 10px; &sol;* Mostly for horizontal scrollbars *&sol;\n}\nbody::-webkit-scrollbar-thumb {\n    background-color: var(--scroll-fg);\n}\nbody::-webkit-scrollbar-track {\n    background-color: var(--scroll-bg);\n}\n            &lt;&sol;style&gt;\n        &lt;&sol;head&gt;\n        &lt;body&gt;\n            \n&lt;table class=&quot;dataframe&quot; id=&quot;df_1593835520&quot;&gt;&lt;&sol;table&gt;\n\n&lt;p class=&quot;dataframe_description&quot;&gt;DataFrame: rowsCount = 20, columnsCount = 4&lt;&sol;p&gt;\n\n        &lt;&sol;body&gt;\n        &lt;script&gt;\n            (function () {\n    window.DataFrame = window.DataFrame || new (function () {\n        this.addTable = function (df) {\n            let cols = df.cols;\n            for (let i = 0; i &lt; cols.length; i++) {\n                for (let c of cols[i].children) {\n                    cols[c].parent = i;\n                }\n            }\n            df.nrow = 0\n            for (let i = 0; i &lt; df.cols.length; i++) {\n                if (df.cols[i].values.length &gt; df.nrow) df.nrow = df.cols[i].values.length\n            }\n            if (df.id === df.rootId) {\n                df.expandedFrames = new Set()\n                df.childFrames = {}\n                const table = this.getTableElement(df.id)\n                table.df = df\n                for (let i = 0; i &lt; df.cols.length; i++) {\n                    let col = df.cols[i]\n                    if (col.parent === undefined &amp;&amp; col.children.length &gt; 0) col.expanded = true\n                }\n            } else {\n                const rootDf = this.getTableData(df.rootId)\n                rootDf.childFrames[df.id] = df\n            }\n        }\n\n        this.computeRenderData = function (df) {\n            let result = []\n            let pos = 0\n            for (let col = 0; col &lt; df.cols.length; col++) {\n                if (df.cols[col].parent === undefined)\n                    pos += this.computeRenderDataRec(df.cols, col, pos, 0, result, false, false)\n            }\n            for (let i = 0; i &lt; result.length; i++) {\n                let row = result[i]\n                for (let j = 0; j &lt; row.length; j++) {\n                    let cell = row[j]\n                    if (j === 0)\n                        cell.leftBd = false\n                    if (j &lt; row.length - 1) {\n                        let nextData = row[j + 1]\n                        if (nextData.leftBd) cell.rightBd = true\n                        else if (cell.rightBd) nextData.leftBd = true\n                    } else cell.rightBd = false\n                }\n            }\n            return result\n        }\n\n        this.computeRenderDataRec = function (cols, colId, pos, depth, result, leftBorder, rightBorder) {\n            if (result.length === depth) {\n                const array = [];\n                if (pos &gt; 0) {\n                    let j = 0\n                    for (let i = 0; j &lt; pos; i++) {\n                        let c = result[depth - 1][i]\n                        j += c.span\n                        let copy = Object.assign({empty: true}, c)\n                        array.push(copy)\n                    }\n                }\n                result.push(array)\n            }\n            const col = cols[colId];\n            let size = 0;\n            if (col.expanded) {\n                let childPos = pos\n                for (let i = 0; i &lt; col.children.length; i++) {\n                    let child = col.children[i]\n                    let childLeft = i === 0 &amp;&amp; (col.children.length &gt; 1 || leftBorder)\n                    let childRight = i === col.children.length - 1 &amp;&amp; (col.children.length &gt; 1 || rightBorder)\n                    let childSize = this.computeRenderDataRec(cols, child, childPos, depth + 1, result, childLeft, childRight)\n                    childPos += childSize\n                    size += childSize\n                }\n            } else {\n                for (let i = depth + 1; i &lt; result.length; i++)\n                    result[i].push({id: colId, span: 1, leftBd: leftBorder, rightBd: rightBorder, empty: true})\n                size = 1\n            }\n            let left = leftBorder\n            let right = rightBorder\n            if (size &gt; 1) {\n                left = true\n                right = true\n            }\n            result[depth].push({id: colId, span: size, leftBd: left, rightBd: right})\n            return size\n        }\n\n        this.getTableElement = function (id) {\n            return document.getElementById(&quot;df_&quot; + id)\n        }\n\n        this.getTableData = function (id) {\n            return this.getTableElement(id).df\n        }\n\n        this.createExpander = function (isExpanded) {\n            const svgNs = &quot;http:&sol;&sol;www.w3.org&sol;2000&sol;svg&quot;\n            let svg = document.createElementNS(svgNs, &quot;svg&quot;)\n            svg.classList.add(&quot;expanderSvg&quot;)\n            let path = document.createElementNS(svgNs, &quot;path&quot;)\n            if (isExpanded) {\n                svg.setAttribute(&quot;viewBox&quot;, &quot;0 -2 8 8&quot;)\n                path.setAttribute(&quot;d&quot;, &quot;M1 0 l-1 1 4 4 4 -4 -1 -1 -3 3Z&quot;)\n            } else {\n                svg.setAttribute(&quot;viewBox&quot;, &quot;-2 0 8 8&quot;)\n                path.setAttribute(&quot;d&quot;, &quot;M1 0 l-1 1 3 3 -3 3 1 1 4 -4Z&quot;)\n            }\n            path.setAttribute(&quot;fill&quot;, &quot;currentColor&quot;)\n            svg.appendChild(path)\n            return svg\n        }\n\n        this.renderTable = function (id) {\n\n            let table = this.getTableElement(id)\n\n            if (table === null) return\n\n            table.innerHTML = &quot;&quot;\n\n            let df = table.df\n            let rootDf = df.rootId === df.id ? df : this.getTableData(df.rootId)\n\n            &sol;&sol; header\n            let header = document.createElement(&quot;thead&quot;)\n            table.appendChild(header)\n\n            let renderData = this.computeRenderData(df)\n            for (let j = 0; j &lt; renderData.length; j++) {\n                let rowData = renderData[j]\n                let tr = document.createElement(&quot;tr&quot;);\n                let isLastRow = j === renderData.length - 1\n                header.appendChild(tr);\n                for (let i = 0; i &lt; rowData.length; i++) {\n                    let cell = rowData[i]\n                    let th = document.createElement(&quot;th&quot;);\n                    th.setAttribute(&quot;colspan&quot;, cell.span)\n                    let colId = cell.id\n                    let col = df.cols[colId];\n                    if (!cell.empty) {\n                        if (col.children.length === 0) {\n                            th.innerHTML = col.name\n                        } else {\n                            let link = document.createElement(&quot;a&quot;)\n                            link.className = &quot;expander&quot;\n                            let that = this\n                            link.onclick = function () {\n                                col.expanded = !col.expanded\n                                that.renderTable(id)\n                            }\n                            link.appendChild(this.createExpander(col.expanded))\n                            link.innerHTML += col.name\n                            th.appendChild(link)\n                        }\n                    }\n                    let classes = (cell.leftBd ? &quot; leftBorder&quot; : &quot;&quot;) + (cell.rightBd ? &quot; rightBorder&quot; : &quot;&quot;)\n                    if (col.rightAlign)\n                        classes += &quot; rightAlign&quot;\n                    if (isLastRow)\n                        classes += &quot; bottomBorder&quot;\n                    if (classes.length &gt; 0)\n                        th.setAttribute(&quot;class&quot;, classes)\n                    tr.appendChild(th)\n                }\n            }\n\n            &sol;&sol; body\n            let body = document.createElement(&quot;tbody&quot;)\n            table.appendChild(body)\n\n            let columns = renderData.pop()\n            for (let row = 0; row &lt; df.nrow; row++) {\n                let tr = document.createElement(&quot;tr&quot;);\n                body.appendChild(tr)\n                for (let i = 0; i &lt; columns.length; i++) {\n                    let cell = columns[i]\n                    let td = document.createElement(&quot;td&quot;);\n                    let colId = cell.id\n                    let col = df.cols[colId]\n                    let classes = (cell.leftBd ? &quot; leftBorder&quot; : &quot;&quot;) + (cell.rightBd ? &quot; rightBorder&quot; : &quot;&quot;)\n                    if (col.rightAlign)\n                        classes += &quot; rightAlign&quot;\n                    if (classes.length &gt; 0)\n                        td.setAttribute(&quot;class&quot;, classes)\n                    tr.appendChild(td)\n                    let value = col.values[row]\n                    if (value.frameId !== undefined) {\n                        let frameId = value.frameId\n                        let expanded = rootDf.expandedFrames.has(frameId)\n                        let link = document.createElement(&quot;a&quot;)\n                        link.className = &quot;expander&quot;\n                        let that = this\n                        link.onclick = function () {\n                            if (rootDf.expandedFrames.has(frameId))\n                                rootDf.expandedFrames.delete(frameId)\n                            else rootDf.expandedFrames.add(frameId)\n                            that.renderTable(id)\n                        }\n                        link.appendChild(this.createExpander(expanded))\n                        link.innerHTML += value.value\n                        if (expanded) {\n                            td.appendChild(link)\n                            td.appendChild(document.createElement(&quot;p&quot;))\n                            const childTable = document.createElement(&quot;table&quot;)\n                            childTable.className = &quot;dataframe&quot;\n                            childTable.id = &quot;df_&quot; + frameId\n                            let childDf = rootDf.childFrames[frameId]\n                            childTable.df = childDf\n                            td.appendChild(childTable)\n                            this.renderTable(frameId)\n                            if (childDf.nrow !== childDf.totalRows) {\n                                const footer = document.createElement(&quot;p&quot;)\n                                footer.innerText = `... showing only top ${childDf.nrow} of ${childDf.totalRows} rows`\n                                td.appendChild(footer)\n                            }\n                        } else {\n                            td.appendChild(link)\n                        }\n                    } else if (value.style !== undefined) {\n                        td.innerHTML = value.value\n                        td.setAttribute(&quot;style&quot;, value.style)\n                    } else td.innerHTML = value\n                    this.nodeScriptReplace(td)\n                }\n            }\n        }\n\n        this.nodeScriptReplace = function (node) {\n            if (this.nodeScriptIs(node) === true) {\n                node.parentNode.replaceChild(this.nodeScriptClone(node), node);\n            } else {\n                let i = -1, children = node.childNodes;\n                while (++i &lt; children.length) {\n                    this.nodeScriptReplace(children[i]);\n                }\n            }\n\n            return node;\n        }\n\n        this.nodeScriptClone = function (node) {\n            let script = document.createElement(&quot;script&quot;);\n            script.text = node.innerHTML;\n\n            let i = -1, attrs = node.attributes, attr;\n            while (++i &lt; attrs.length) {\n                script.setAttribute((attr = attrs[i]).name, attr.value);\n            }\n            return script;\n        }\n\n        this.nodeScriptIs = function (node) {\n            return node.tagName === 'SCRIPT';\n        }\n    })()\n\n    window.call_DataFrame = function (f) {\n        return f();\n    };\n\n    let funQueue = window[&quot;kotlinQueues&quot;] &amp;&amp; window[&quot;kotlinQueues&quot;][&quot;DataFrame&quot;];\n    if (funQueue) {\n        funQueue.forEach(function (f) {\n            f();\n        });\n        funQueue = [];\n    }\n})()\n\n&sol;*&lt;!--*&sol;\ncall_DataFrame(function() { DataFrame.addTable({ cols: [{ name: &quot;&lt;span title=&bsol;&quot;name: String&bsol;&quot;&gt;name&lt;&sol;span&gt;&quot;, children: [], rightAlign: false, values: [&quot;baselineFloat&quot;,&quot;inlineFloat&quot;,&quot;longPackFloat&quot;,&quot;mutableSpecificRefFloat&quot;,&quot;mutableUniversalRefFloatIn1Long&quot;,&quot;mutableUniversalRefFloatIn2Longs&quot;,&quot;valueFloat&quot;,&quot;valueInlineFloat&quot;,&quot;valueInlineOnlyBodiesFloat&quot;,&quot;valueOnlyBodiesFloat&quot;,&quot;valuePreserveBoxFloat&quot;,&quot;baselineDouble&quot;,&quot;inlineDouble&quot;,&quot;mutableSpecificRefDouble&quot;,&quot;mutableUniversalRefDouble&quot;,&quot;valueDouble&quot;,&quot;valueInlineDouble&quot;,&quot;valueInlineOnlyBodiesDouble&quot;,&quot;valueOnlyBodiesDouble&quot;,&quot;valuePreserveBoxDouble&quot;] }, \n{ name: &quot;&lt;span title=&bsol;&quot;score: Double&bsol;&quot;&gt;score&lt;&sol;span&gt;&quot;, children: [], rightAlign: true, values: [&quot;&lt;span class=&bsol;&quot;formatted&bsol;&quot; title=&bsol;&quot;&bsol;&quot;&gt;&lt;span class=&bsol;&quot;numbers&bsol;&quot;&gt;32694228.886&lt;&sol;span&gt;&lt;&sol;span&gt;&quot;,&quot;&lt;span class=&bsol;&quot;formatted&bsol;&quot; title=&bsol;&quot;&bsol;&quot;&gt;&lt;span class=&bsol;&quot;numbers&bsol;&quot;&gt;32396695.076&lt;&sol;span&gt;&lt;&sol;span&gt;&quot;,&quot;&lt;span class=&bsol;&quot;formatted&bsol;&quot; title=&bsol;&quot;&bsol;&quot;&gt;&lt;span class=&bsol;&quot;numbers&bsol;&quot;&gt;56624040.109&lt;&sol;span&gt;&lt;&sol;span&gt;&quot;,&quot;&lt;span class=&bsol;&quot;formatted&bsol;&quot; title=&bsol;&quot;&bsol;&quot;&gt;&lt;span class=&bsol;&quot;numbers&bsol;&quot;&gt;23724753.345&lt;&sol;span&gt;&lt;&sol;span&gt;&quot;,&quot;&lt;span class=&bsol;&quot;formatted&bsol;&quot; title=&bsol;&quot;&bsol;&quot;&gt;&lt;span class=&bsol;&quot;numbers&bsol;&quot;&gt;63795524.443&lt;&sol;span&gt;&lt;&sol;span&gt;&quot;,&quot;&lt;span class=&bsol;&quot;formatted&bsol;&quot; title=&bsol;&quot;&bsol;&quot;&gt;&lt;span class=&bsol;&quot;numbers&bsol;&quot;&gt;38854480.624&lt;&sol;span&gt;&lt;&sol;span&gt;&quot;,&quot;&lt;span class=&bsol;&quot;formatted&bsol;&quot; title=&bsol;&quot;&bsol;&quot;&gt;&lt;span class=&bsol;&quot;numbers&bsol;&quot;&gt;24830635.395&lt;&sol;span&gt;&lt;&sol;span&gt;&quot;,&quot;&lt;span class=&bsol;&quot;formatted&bsol;&quot; title=&bsol;&quot;&bsol;&quot;&gt;&lt;span class=&bsol;&quot;numbers&bsol;&quot;&gt;24939189.072&lt;&sol;span&gt;&lt;&sol;span&gt;&quot;,&quot;&lt;span class=&bsol;&quot;formatted&bsol;&quot; title=&bsol;&quot;&bsol;&quot;&gt;&lt;span class=&bsol;&quot;numbers&bsol;&quot;&gt;24928993.285&lt;&sol;span&gt;&lt;&sol;span&gt;&quot;,&quot;&lt;span class=&bsol;&quot;formatted&bsol;&quot; title=&bsol;&quot;&bsol;&quot;&gt;&lt;span class=&bsol;&quot;numbers&bsol;&quot;&gt;24221018.516&lt;&sol;span&gt;&lt;&sol;span&gt;&quot;,&quot;&lt;span class=&bsol;&quot;formatted&bsol;&quot; title=&bsol;&quot;&bsol;&quot;&gt;&lt;span class=&bsol;&quot;numbers&bsol;&quot;&gt;24908862.374&lt;&sol;span&gt;&lt;&sol;span&gt;&quot;,&quot;&lt;span class=&bsol;&quot;formatted&bsol;&quot; title=&bsol;&quot;&bsol;&quot;&gt;&lt;span class=&bsol;&quot;numbers&bsol;&quot;&gt;33663881.320&lt;&sol;span&gt;&lt;&sol;span&gt;&quot;,&quot;&lt;span class=&bsol;&quot;formatted&bsol;&quot; title=&bsol;&quot;&bsol;&quot;&gt;&lt;span class=&bsol;&quot;numbers&bsol;&quot;&gt;34109828.591&lt;&sol;span&gt;&lt;&sol;span&gt;&quot;,&quot;&lt;span class=&bsol;&quot;formatted&bsol;&quot; title=&bsol;&quot;&bsol;&quot;&gt;&lt;span class=&bsol;&quot;numbers&bsol;&quot;&gt;23249615.559&lt;&sol;span&gt;&lt;&sol;span&gt;&quot;,&quot;&lt;span class=&bsol;&quot;formatted&bsol;&quot; title=&bsol;&quot;&bsol;&quot;&gt;&lt;span class=&bsol;&quot;numbers&bsol;&quot;&gt;40238919.124&lt;&sol;span&gt;&lt;&sol;span&gt;&quot;,&quot;&lt;span class=&bsol;&quot;formatted&bsol;&quot; title=&bsol;&quot;&bsol;&quot;&gt;&lt;span class=&bsol;&quot;numbers&bsol;&quot;&gt;24452700.476&lt;&sol;span&gt;&lt;&sol;span&gt;&quot;,&quot;&lt;span class=&bsol;&quot;formatted&bsol;&quot; title=&bsol;&quot;&bsol;&quot;&gt;&lt;span class=&bsol;&quot;numbers&bsol;&quot;&gt;24570896.238&lt;&sol;span&gt;&lt;&sol;span&gt;&quot;,&quot;&lt;span class=&bsol;&quot;formatted&bsol;&quot; title=&bsol;&quot;&bsol;&quot;&gt;&lt;span class=&bsol;&quot;numbers&bsol;&quot;&gt;24454601.154&lt;&sol;span&gt;&lt;&sol;span&gt;&quot;,&quot;&lt;span class=&bsol;&quot;formatted&bsol;&quot; title=&bsol;&quot;&bsol;&quot;&gt;&lt;span class=&bsol;&quot;numbers&bsol;&quot;&gt;24366158.971&lt;&sol;span&gt;&lt;&sol;span&gt;&quot;,&quot;&lt;span class=&bsol;&quot;formatted&bsol;&quot; title=&bsol;&quot;&bsol;&quot;&gt;&lt;span class=&bsol;&quot;numbers&bsol;&quot;&gt;24464381.554&lt;&sol;span&gt;&lt;&sol;span&gt;&quot;] }, \n{ name: &quot;&lt;span title=&bsol;&quot;error: Double&bsol;&quot;&gt;error&lt;&sol;span&gt;&quot;, children: [], rightAlign: true, values: [&quot;&lt;span class=&bsol;&quot;formatted&bsol;&quot; title=&bsol;&quot;&bsol;&quot;&gt;&lt;span class=&bsol;&quot;numbers&bsol;&quot;&gt;37294.913&lt;&sol;span&gt;&lt;&sol;span&gt;&quot;,&quot;&lt;span class=&bsol;&quot;formatted&bsol;&quot; title=&bsol;&quot;&bsol;&quot;&gt;&lt;span class=&bsol;&quot;numbers&bsol;&quot;&gt;48387.513&lt;&sol;span&gt;&lt;&sol;span&gt;&quot;,&quot;&lt;span class=&bsol;&quot;formatted&bsol;&quot; title=&bsol;&quot;&bsol;&quot;&gt;&lt;span class=&bsol;&quot;numbers&bsol;&quot;&gt;24925.099&lt;&sol;span&gt;&lt;&sol;span&gt;&quot;,&quot;&lt;span class=&bsol;&quot;formatted&bsol;&quot; title=&bsol;&quot;&bsol;&quot;&gt;&lt;span class=&bsol;&quot;numbers&bsol;&quot;&gt;61703.498&lt;&sol;span&gt;&lt;&sol;span&gt;&quot;,&quot;&lt;span class=&bsol;&quot;formatted&bsol;&quot; title=&bsol;&quot;&bsol;&quot;&gt;&lt;span class=&bsol;&quot;numbers&bsol;&quot;&gt;152620.592&lt;&sol;span&gt;&lt;&sol;span&gt;&quot;,&quot;&lt;span class=&bsol;&quot;formatted&bsol;&quot; title=&bsol;&quot;&bsol;&quot;&gt;&lt;span class=&bsol;&quot;numbers&bsol;&quot;&gt;231111.755&lt;&sol;span&gt;&lt;&sol;span&gt;&quot;,&quot;&lt;span class=&bsol;&quot;formatted&bsol;&quot; title=&bsol;&quot;&bsol;&quot;&gt;&lt;span class=&bsol;&quot;numbers&bsol;&quot;&gt;30254.027&lt;&sol;span&gt;&lt;&sol;span&gt;&quot;,&quot;&lt;span class=&bsol;&quot;formatted&bsol;&quot; title=&bsol;&quot;&bsol;&quot;&gt;&lt;span class=&bsol;&quot;numbers&bsol;&quot;&gt;23226.948&lt;&sol;span&gt;&lt;&sol;span&gt;&quot;,&quot;&lt;span class=&bsol;&quot;formatted&bsol;&quot; title=&bsol;&quot;&bsol;&quot;&gt;&lt;span class=&bsol;&quot;numbers&bsol;&quot;&gt;32471.336&lt;&sol;span&gt;&lt;&sol;span&gt;&quot;,&quot;&lt;span class=&bsol;&quot;formatted&bsol;&quot; title=&bsol;&quot;&bsol;&quot;&gt;&lt;span class=&bsol;&quot;numbers&bsol;&quot;&gt;33887.866&lt;&sol;span&gt;&lt;&sol;span&gt;&quot;,&quot;&lt;span class=&bsol;&quot;formatted&bsol;&quot; title=&bsol;&quot;&bsol;&quot;&gt;&lt;span class=&bsol;&quot;numbers&bsol;&quot;&gt;10057.936&lt;&sol;span&gt;&lt;&sol;span&gt;&quot;,&quot;&lt;span class=&bsol;&quot;formatted&bsol;&quot; title=&bsol;&quot;&bsol;&quot;&gt;&lt;span class=&bsol;&quot;numbers&bsol;&quot;&gt;23409.862&lt;&sol;span&gt;&lt;&sol;span&gt;&quot;,&quot;&lt;span class=&bsol;&quot;formatted&bsol;&quot; title=&bsol;&quot;&bsol;&quot;&gt;&lt;span class=&bsol;&quot;numbers&bsol;&quot;&gt;37623.161&lt;&sol;span&gt;&lt;&sol;span&gt;&quot;,&quot;&lt;span class=&bsol;&quot;formatted&bsol;&quot; title=&bsol;&quot;&bsol;&quot;&gt;&lt;span class=&bsol;&quot;numbers&bsol;&quot;&gt;20645.225&lt;&sol;span&gt;&lt;&sol;span&gt;&quot;,&quot;&lt;span class=&bsol;&quot;formatted&bsol;&quot; title=&bsol;&quot;&bsol;&quot;&gt;&lt;span class=&bsol;&quot;numbers&bsol;&quot;&gt;710517.596&lt;&sol;span&gt;&lt;&sol;span&gt;&quot;,&quot;&lt;span class=&bsol;&quot;formatted&bsol;&quot; title=&bsol;&quot;&bsol;&quot;&gt;&lt;span class=&bsol;&quot;numbers&bsol;&quot;&gt;34590.884&lt;&sol;span&gt;&lt;&sol;span&gt;&quot;,&quot;&lt;span class=&bsol;&quot;formatted&bsol;&quot; title=&bsol;&quot;&bsol;&quot;&gt;&lt;span class=&bsol;&quot;numbers&bsol;&quot;&gt;154019.612&lt;&sol;span&gt;&lt;&sol;span&gt;&quot;,&quot;&lt;span class=&bsol;&quot;formatted&bsol;&quot; title=&bsol;&quot;&bsol;&quot;&gt;&lt;span class=&bsol;&quot;numbers&bsol;&quot;&gt;38539.381&lt;&sol;span&gt;&lt;&sol;span&gt;&quot;,&quot;&lt;span class=&bsol;&quot;formatted&bsol;&quot; title=&bsol;&quot;&bsol;&quot;&gt;&lt;span class=&bsol;&quot;numbers&bsol;&quot;&gt;22070.542&lt;&sol;span&gt;&lt;&sol;span&gt;&quot;,&quot;&lt;span class=&bsol;&quot;formatted&bsol;&quot; title=&bsol;&quot;&bsol;&quot;&gt;&lt;span class=&bsol;&quot;numbers&bsol;&quot;&gt;20614.387&lt;&sol;span&gt;&lt;&sol;span&gt;&quot;] }, \n{ name: &quot;&lt;span title=&bsol;&quot;type: Line_9_jupyter.Type&bsol;&quot;&gt;type&lt;&sol;span&gt;&quot;, children: [], rightAlign: false, values: [&quot;Float&quot;,&quot;Float&quot;,&quot;Float&quot;,&quot;Float&quot;,&quot;Float&quot;,&quot;Float&quot;,&quot;Float&quot;,&quot;Float&quot;,&quot;Float&quot;,&quot;Float&quot;,&quot;Float&quot;,&quot;Double&quot;,&quot;Double&quot;,&quot;Double&quot;,&quot;Double&quot;,&quot;Double&quot;,&quot;Double&quot;,&quot;Double&quot;,&quot;Double&quot;,&quot;Double&quot;] }, \n], id: 1593835520, rootId: 1593835520, totalRows: 20 } ) });\n&sol;*--&gt;*&sol;\n\ncall_DataFrame(function() { DataFrame.renderTable(1593835520) });\n\n\n\n        &lt;&sol;script&gt;\n        &lt;&sol;html&gt;\"></iframe>\n            <script>\n                function o_resize_iframe_out_1() {\n                    let elem = document.getElementById(\"iframe_out_1\");\n                    resize_iframe_out_1(elem);\n                    setInterval(resize_iframe_out_1, 5000, elem);\n                }\n                function resize_iframe_out_1(el) {\n                    let h = el.contentWindow.document.body.scrollHeight;\n                    el.height = h === 0 ? 0 : h + 41;\n                }\n            </script>",
      "application/kotlindataframe+json": "{\"nrow\":20,\"ncol\":4,\"columns\":[\"name\",\"score\",\"error\",\"type\"],\"kotlin_dataframe\":[{\"name\":\"baselineFloat\",\"score\":3.2694228886E7,\"error\":37294.913,\"type\":\"Float\"},{\"name\":\"inlineFloat\",\"score\":3.2396695076E7,\"error\":48387.513,\"type\":\"Float\"},{\"name\":\"longPackFloat\",\"score\":5.6624040109E7,\"error\":24925.099,\"type\":\"Float\"},{\"name\":\"mutableSpecificRefFloat\",\"score\":2.3724753345E7,\"error\":61703.498,\"type\":\"Float\"},{\"name\":\"mutableUniversalRefFloatIn1Long\",\"score\":6.3795524443E7,\"error\":152620.592,\"type\":\"Float\"},{\"name\":\"mutableUniversalRefFloatIn2Longs\",\"score\":3.8854480624E7,\"error\":231111.755,\"type\":\"Float\"},{\"name\":\"valueFloat\",\"score\":2.4830635395E7,\"error\":30254.027,\"type\":\"Float\"},{\"name\":\"valueInlineFloat\",\"score\":2.4939189072E7,\"error\":23226.948,\"type\":\"Float\"},{\"name\":\"valueInlineOnlyBodiesFloat\",\"score\":2.4928993285E7,\"error\":32471.336,\"type\":\"Float\"},{\"name\":\"valueOnlyBodiesFloat\",\"score\":2.4221018516E7,\"error\":33887.866,\"type\":\"Float\"},{\"name\":\"valuePreserveBoxFloat\",\"score\":2.4908862374E7,\"error\":10057.936,\"type\":\"Float\"},{\"name\":\"baselineDouble\",\"score\":3.366388132E7,\"error\":23409.862,\"type\":\"Double\"},{\"name\":\"inlineDouble\",\"score\":3.4109828591E7,\"error\":37623.161,\"type\":\"Double\"},{\"name\":\"mutableSpecificRefDouble\",\"score\":2.3249615559E7,\"error\":20645.225,\"type\":\"Double\"},{\"name\":\"mutableUniversalRefDouble\",\"score\":4.0238919124E7,\"error\":710517.596,\"type\":\"Double\"},{\"name\":\"valueDouble\",\"score\":2.4452700476E7,\"error\":34590.884,\"type\":\"Double\"},{\"name\":\"valueInlineDouble\",\"score\":2.4570896238E7,\"error\":154019.612,\"type\":\"Double\"},{\"name\":\"valueInlineOnlyBodiesDouble\",\"score\":2.4454601154E7,\"error\":38539.381,\"type\":\"Double\"},{\"name\":\"valueOnlyBodiesDouble\",\"score\":2.4366158971E7,\"error\":22070.542,\"type\":\"Double\"},{\"name\":\"valuePreserveBoxDouble\",\"score\":2.4464381554E7,\"error\":20614.387,\"type\":\"Double\"}]}"
     },
     "execution_count": 3,
     "metadata": {},
     "output_type": "execute_result"
    }
   ],
   "source": [
    "readHotspotBenchmarkData(\"Wolf3dBenchmark\")"
   ],
   "metadata": {
    "collapsed": false,
    "ExecuteTime": {
     "end_time": "2023-07-13T01:47:01.145752Z",
     "start_time": "2023-07-13T01:47:00.735311Z"
    }
   }
  },
  {
   "cell_type": "code",
   "execution_count": 4,
   "outputs": [
    {
     "data": {
      "text/html": "            <iframe onload=\"o_resize_iframe_out_2()\" style=\"width:100%;\" class=\"result_container\" id=\"iframe_out_2\" frameBorder=\"0\" srcdoc=\"        &lt;html theme='dark'&gt;\n        &lt;head&gt;\n            &lt;style type=&quot;text&sol;css&quot;&gt;\n                :root {\n    --background: #fff;\n    --background-odd: #f5f5f5;\n    --background-hover: #d9edfd;\n    --header-text-color: #474747;\n    --text-color: #848484;\n    --text-color-dark: #000;\n    --text-color-medium: #737373;\n    --text-color-pale: #b3b3b3;\n    --inner-border-color: #aaa;\n    --bold-border-color: #000;\n    --link-color: #296eaa;\n    --link-color-pale: #296eaa;\n    --link-hover: #1a466c;\n}\n\n:root[theme=&quot;dark&quot;], :root [data-jp-theme-light=&quot;false&quot;], .dataframe_dark{\n    --background: #303030;\n    --background-odd: #3c3c3c;\n    --background-hover: #464646;\n    --header-text-color: #dddddd;\n    --text-color: #b3b3b3;\n    --text-color-dark: #dddddd;\n    --text-color-medium: #b2b2b2;\n    --text-color-pale: #737373;\n    --inner-border-color: #707070;\n    --bold-border-color: #777777;\n    --link-color: #008dc0;\n    --link-color-pale: #97e1fb;\n    --link-hover: #00688e;\n}\n\np.dataframe_description {\n    color: var(--text-color-dark);\n}\n\ntable.dataframe {\n    font-family: &quot;Helvetica Neue&quot;, Helvetica, Arial, sans-serif;\n    font-size: 12px;\n    background-color: var(--background);\n    color: var(--text-color-dark);\n    border: none;\n    border-collapse: collapse;\n}\n\ntable.dataframe th, td {\n    padding: 6px;\n    border: 1px solid transparent;\n    text-align: left;\n}\n\ntable.dataframe th {\n    background-color: var(--background);\n    color: var(--header-text-color);\n}\n\ntable.dataframe td {\n    vertical-align: top;\n}\n\ntable.dataframe th.bottomBorder {\n    border-bottom-color: var(--bold-border-color);\n}\n\ntable.dataframe tbody &gt; tr:nth-child(odd) {\n    background: var(--background-odd);\n}\n\ntable.dataframe tbody &gt; tr:nth-child(even) {\n    background: var(--background);\n}\n\ntable.dataframe tbody &gt; tr:hover {\n    background: var(--background-hover);\n}\n\ntable.dataframe a {\n    cursor: pointer;\n    color: var(--link-color);\n    text-decoration: none;\n}\n\ntable.dataframe tr:hover &gt; td a {\n    color: var(--link-color-pale);\n}\n\ntable.dataframe a:hover {\n    color: var(--link-hover);\n    text-decoration: underline;\n}\n\ntable.dataframe img {\n    max-width: fit-content;\n}\n\ntable.dataframe th.complex {\n    background-color: var(--background);\n    border: 1px solid var(--background);\n}\n\ntable.dataframe .leftBorder {\n    border-left-color: var(--inner-border-color);\n}\n\ntable.dataframe .rightBorder {\n    border-right-color: var(--inner-border-color);\n}\n\ntable.dataframe .rightAlign {\n    text-align: right;\n}\n\ntable.dataframe .expanderSvg {\n    width: 8px;\n    height: 8px;\n    margin-right: 3px;\n}\n\ntable.dataframe .expander {\n    display: flex;\n    align-items: center;\n}\n\n&sol;* formatting *&sol;\n\ntable.dataframe .null {\n    color: var(--text-color-pale);\n}\n\ntable.dataframe .structural {\n    color: var(--text-color-medium);\n    font-weight: bold;\n}\n\ntable.dataframe .dataFrameCaption {\n    font-weight: bold;\n}\n\ntable.dataframe .numbers {\n    color: var(--text-color-dark);\n}\n\ntable.dataframe td:hover .formatted .structural, .null {\n    color: var(--text-color-dark);\n}\n\ntable.dataframe tr:hover .formatted .structural, .null {\n    color: var(--text-color-dark);\n}\n\n\n\n\n:root {\n    --scroll-bg: #f5f5f5;\n    --scroll-fg: #b3b3b3;\n}\n:root[theme=&quot;dark&quot;], :root [data-jp-theme-light=&quot;false&quot;]{\n    --scroll-bg: #3c3c3c;\n    --scroll-fg: #97e1fb;\n}\nbody {\n    scrollbar-color: var(--scroll-fg) var(--scroll-bg);\n}\nbody::-webkit-scrollbar {\n    width: 10px; &sol;* Mostly for vertical scrollbars *&sol;\n    height: 10px; &sol;* Mostly for horizontal scrollbars *&sol;\n}\nbody::-webkit-scrollbar-thumb {\n    background-color: var(--scroll-fg);\n}\nbody::-webkit-scrollbar-track {\n    background-color: var(--scroll-bg);\n}\n            &lt;&sol;style&gt;\n        &lt;&sol;head&gt;\n        &lt;body&gt;\n            \n&lt;table class=&quot;dataframe&quot; id=&quot;df_1593835521&quot;&gt;&lt;&sol;table&gt;\n\n&lt;p class=&quot;dataframe_description&quot;&gt;DataFrame: rowsCount = 20, columnsCount = 4&lt;&sol;p&gt;\n\n        &lt;&sol;body&gt;\n        &lt;script&gt;\n            (function () {\n    window.DataFrame = window.DataFrame || new (function () {\n        this.addTable = function (df) {\n            let cols = df.cols;\n            for (let i = 0; i &lt; cols.length; i++) {\n                for (let c of cols[i].children) {\n                    cols[c].parent = i;\n                }\n            }\n            df.nrow = 0\n            for (let i = 0; i &lt; df.cols.length; i++) {\n                if (df.cols[i].values.length &gt; df.nrow) df.nrow = df.cols[i].values.length\n            }\n            if (df.id === df.rootId) {\n                df.expandedFrames = new Set()\n                df.childFrames = {}\n                const table = this.getTableElement(df.id)\n                table.df = df\n                for (let i = 0; i &lt; df.cols.length; i++) {\n                    let col = df.cols[i]\n                    if (col.parent === undefined &amp;&amp; col.children.length &gt; 0) col.expanded = true\n                }\n            } else {\n                const rootDf = this.getTableData(df.rootId)\n                rootDf.childFrames[df.id] = df\n            }\n        }\n\n        this.computeRenderData = function (df) {\n            let result = []\n            let pos = 0\n            for (let col = 0; col &lt; df.cols.length; col++) {\n                if (df.cols[col].parent === undefined)\n                    pos += this.computeRenderDataRec(df.cols, col, pos, 0, result, false, false)\n            }\n            for (let i = 0; i &lt; result.length; i++) {\n                let row = result[i]\n                for (let j = 0; j &lt; row.length; j++) {\n                    let cell = row[j]\n                    if (j === 0)\n                        cell.leftBd = false\n                    if (j &lt; row.length - 1) {\n                        let nextData = row[j + 1]\n                        if (nextData.leftBd) cell.rightBd = true\n                        else if (cell.rightBd) nextData.leftBd = true\n                    } else cell.rightBd = false\n                }\n            }\n            return result\n        }\n\n        this.computeRenderDataRec = function (cols, colId, pos, depth, result, leftBorder, rightBorder) {\n            if (result.length === depth) {\n                const array = [];\n                if (pos &gt; 0) {\n                    let j = 0\n                    for (let i = 0; j &lt; pos; i++) {\n                        let c = result[depth - 1][i]\n                        j += c.span\n                        let copy = Object.assign({empty: true}, c)\n                        array.push(copy)\n                    }\n                }\n                result.push(array)\n            }\n            const col = cols[colId];\n            let size = 0;\n            if (col.expanded) {\n                let childPos = pos\n                for (let i = 0; i &lt; col.children.length; i++) {\n                    let child = col.children[i]\n                    let childLeft = i === 0 &amp;&amp; (col.children.length &gt; 1 || leftBorder)\n                    let childRight = i === col.children.length - 1 &amp;&amp; (col.children.length &gt; 1 || rightBorder)\n                    let childSize = this.computeRenderDataRec(cols, child, childPos, depth + 1, result, childLeft, childRight)\n                    childPos += childSize\n                    size += childSize\n                }\n            } else {\n                for (let i = depth + 1; i &lt; result.length; i++)\n                    result[i].push({id: colId, span: 1, leftBd: leftBorder, rightBd: rightBorder, empty: true})\n                size = 1\n            }\n            let left = leftBorder\n            let right = rightBorder\n            if (size &gt; 1) {\n                left = true\n                right = true\n            }\n            result[depth].push({id: colId, span: size, leftBd: left, rightBd: right})\n            return size\n        }\n\n        this.getTableElement = function (id) {\n            return document.getElementById(&quot;df_&quot; + id)\n        }\n\n        this.getTableData = function (id) {\n            return this.getTableElement(id).df\n        }\n\n        this.createExpander = function (isExpanded) {\n            const svgNs = &quot;http:&sol;&sol;www.w3.org&sol;2000&sol;svg&quot;\n            let svg = document.createElementNS(svgNs, &quot;svg&quot;)\n            svg.classList.add(&quot;expanderSvg&quot;)\n            let path = document.createElementNS(svgNs, &quot;path&quot;)\n            if (isExpanded) {\n                svg.setAttribute(&quot;viewBox&quot;, &quot;0 -2 8 8&quot;)\n                path.setAttribute(&quot;d&quot;, &quot;M1 0 l-1 1 4 4 4 -4 -1 -1 -3 3Z&quot;)\n            } else {\n                svg.setAttribute(&quot;viewBox&quot;, &quot;-2 0 8 8&quot;)\n                path.setAttribute(&quot;d&quot;, &quot;M1 0 l-1 1 3 3 -3 3 1 1 4 -4Z&quot;)\n            }\n            path.setAttribute(&quot;fill&quot;, &quot;currentColor&quot;)\n            svg.appendChild(path)\n            return svg\n        }\n\n        this.renderTable = function (id) {\n\n            let table = this.getTableElement(id)\n\n            if (table === null) return\n\n            table.innerHTML = &quot;&quot;\n\n            let df = table.df\n            let rootDf = df.rootId === df.id ? df : this.getTableData(df.rootId)\n\n            &sol;&sol; header\n            let header = document.createElement(&quot;thead&quot;)\n            table.appendChild(header)\n\n            let renderData = this.computeRenderData(df)\n            for (let j = 0; j &lt; renderData.length; j++) {\n                let rowData = renderData[j]\n                let tr = document.createElement(&quot;tr&quot;);\n                let isLastRow = j === renderData.length - 1\n                header.appendChild(tr);\n                for (let i = 0; i &lt; rowData.length; i++) {\n                    let cell = rowData[i]\n                    let th = document.createElement(&quot;th&quot;);\n                    th.setAttribute(&quot;colspan&quot;, cell.span)\n                    let colId = cell.id\n                    let col = df.cols[colId];\n                    if (!cell.empty) {\n                        if (col.children.length === 0) {\n                            th.innerHTML = col.name\n                        } else {\n                            let link = document.createElement(&quot;a&quot;)\n                            link.className = &quot;expander&quot;\n                            let that = this\n                            link.onclick = function () {\n                                col.expanded = !col.expanded\n                                that.renderTable(id)\n                            }\n                            link.appendChild(this.createExpander(col.expanded))\n                            link.innerHTML += col.name\n                            th.appendChild(link)\n                        }\n                    }\n                    let classes = (cell.leftBd ? &quot; leftBorder&quot; : &quot;&quot;) + (cell.rightBd ? &quot; rightBorder&quot; : &quot;&quot;)\n                    if (col.rightAlign)\n                        classes += &quot; rightAlign&quot;\n                    if (isLastRow)\n                        classes += &quot; bottomBorder&quot;\n                    if (classes.length &gt; 0)\n                        th.setAttribute(&quot;class&quot;, classes)\n                    tr.appendChild(th)\n                }\n            }\n\n            &sol;&sol; body\n            let body = document.createElement(&quot;tbody&quot;)\n            table.appendChild(body)\n\n            let columns = renderData.pop()\n            for (let row = 0; row &lt; df.nrow; row++) {\n                let tr = document.createElement(&quot;tr&quot;);\n                body.appendChild(tr)\n                for (let i = 0; i &lt; columns.length; i++) {\n                    let cell = columns[i]\n                    let td = document.createElement(&quot;td&quot;);\n                    let colId = cell.id\n                    let col = df.cols[colId]\n                    let classes = (cell.leftBd ? &quot; leftBorder&quot; : &quot;&quot;) + (cell.rightBd ? &quot; rightBorder&quot; : &quot;&quot;)\n                    if (col.rightAlign)\n                        classes += &quot; rightAlign&quot;\n                    if (classes.length &gt; 0)\n                        td.setAttribute(&quot;class&quot;, classes)\n                    tr.appendChild(td)\n                    let value = col.values[row]\n                    if (value.frameId !== undefined) {\n                        let frameId = value.frameId\n                        let expanded = rootDf.expandedFrames.has(frameId)\n                        let link = document.createElement(&quot;a&quot;)\n                        link.className = &quot;expander&quot;\n                        let that = this\n                        link.onclick = function () {\n                            if (rootDf.expandedFrames.has(frameId))\n                                rootDf.expandedFrames.delete(frameId)\n                            else rootDf.expandedFrames.add(frameId)\n                            that.renderTable(id)\n                        }\n                        link.appendChild(this.createExpander(expanded))\n                        link.innerHTML += value.value\n                        if (expanded) {\n                            td.appendChild(link)\n                            td.appendChild(document.createElement(&quot;p&quot;))\n                            const childTable = document.createElement(&quot;table&quot;)\n                            childTable.className = &quot;dataframe&quot;\n                            childTable.id = &quot;df_&quot; + frameId\n                            let childDf = rootDf.childFrames[frameId]\n                            childTable.df = childDf\n                            td.appendChild(childTable)\n                            this.renderTable(frameId)\n                            if (childDf.nrow !== childDf.totalRows) {\n                                const footer = document.createElement(&quot;p&quot;)\n                                footer.innerText = `... showing only top ${childDf.nrow} of ${childDf.totalRows} rows`\n                                td.appendChild(footer)\n                            }\n                        } else {\n                            td.appendChild(link)\n                        }\n                    } else if (value.style !== undefined) {\n                        td.innerHTML = value.value\n                        td.setAttribute(&quot;style&quot;, value.style)\n                    } else td.innerHTML = value\n                    this.nodeScriptReplace(td)\n                }\n            }\n        }\n\n        this.nodeScriptReplace = function (node) {\n            if (this.nodeScriptIs(node) === true) {\n                node.parentNode.replaceChild(this.nodeScriptClone(node), node);\n            } else {\n                let i = -1, children = node.childNodes;\n                while (++i &lt; children.length) {\n                    this.nodeScriptReplace(children[i]);\n                }\n            }\n\n            return node;\n        }\n\n        this.nodeScriptClone = function (node) {\n            let script = document.createElement(&quot;script&quot;);\n            script.text = node.innerHTML;\n\n            let i = -1, attrs = node.attributes, attr;\n            while (++i &lt; attrs.length) {\n                script.setAttribute((attr = attrs[i]).name, attr.value);\n            }\n            return script;\n        }\n\n        this.nodeScriptIs = function (node) {\n            return node.tagName === 'SCRIPT';\n        }\n    })()\n\n    window.call_DataFrame = function (f) {\n        return f();\n    };\n\n    let funQueue = window[&quot;kotlinQueues&quot;] &amp;&amp; window[&quot;kotlinQueues&quot;][&quot;DataFrame&quot;];\n    if (funQueue) {\n        funQueue.forEach(function (f) {\n            f();\n        });\n        funQueue = [];\n    }\n})()\n\n&sol;*&lt;!--*&sol;\ncall_DataFrame(function() { DataFrame.addTable({ cols: [{ name: &quot;&lt;span title=&bsol;&quot;name: String&bsol;&quot;&gt;name&lt;&sol;span&gt;&quot;, children: [], rightAlign: false, values: [&quot;baselineFloat&quot;,&quot;inlineFloat&quot;,&quot;longPackFloat&quot;,&quot;mutableSpecificRefFloat&quot;,&quot;mutableUniversalRefFloatIn1Long&quot;,&quot;mutableUniversalRefFloatIn2Longs&quot;,&quot;valueFloat&quot;,&quot;valueInlineFloat&quot;,&quot;valueInlineOnlyBodiesFloat&quot;,&quot;valueOnlyBodiesFloat&quot;,&quot;valuePreserveBoxFloat&quot;,&quot;baselineDouble&quot;,&quot;inlineDouble&quot;,&quot;mutableSpecificRefDouble&quot;,&quot;mutableUniversalRefDouble&quot;,&quot;valueDouble&quot;,&quot;valueInlineDouble&quot;,&quot;valueInlineOnlyBodiesDouble&quot;,&quot;valueOnlyBodiesDouble&quot;,&quot;valuePreserveBoxDouble&quot;] }, \n{ name: &quot;&lt;span title=&bsol;&quot;score: Double&bsol;&quot;&gt;score&lt;&sol;span&gt;&quot;, children: [], rightAlign: true, values: [&quot;&lt;span class=&bsol;&quot;formatted&bsol;&quot; title=&bsol;&quot;&bsol;&quot;&gt;&lt;span class=&bsol;&quot;numbers&bsol;&quot;&gt;32220310.116&lt;&sol;span&gt;&lt;&sol;span&gt;&quot;,&quot;&lt;span class=&bsol;&quot;formatted&bsol;&quot; title=&bsol;&quot;&bsol;&quot;&gt;&lt;span class=&bsol;&quot;numbers&bsol;&quot;&gt;31130571.665&lt;&sol;span&gt;&lt;&sol;span&gt;&quot;,&quot;&lt;span class=&bsol;&quot;formatted&bsol;&quot; title=&bsol;&quot;&bsol;&quot;&gt;&lt;span class=&bsol;&quot;numbers&bsol;&quot;&gt;62687401.068&lt;&sol;span&gt;&lt;&sol;span&gt;&quot;,&quot;&lt;span class=&bsol;&quot;formatted&bsol;&quot; title=&bsol;&quot;&bsol;&quot;&gt;&lt;span class=&bsol;&quot;numbers&bsol;&quot;&gt;22558807.743&lt;&sol;span&gt;&lt;&sol;span&gt;&quot;,&quot;&lt;span class=&bsol;&quot;formatted&bsol;&quot; title=&bsol;&quot;&bsol;&quot;&gt;&lt;span class=&bsol;&quot;numbers&bsol;&quot;&gt;62339799.936&lt;&sol;span&gt;&lt;&sol;span&gt;&quot;,&quot;&lt;span class=&bsol;&quot;formatted&bsol;&quot; title=&bsol;&quot;&bsol;&quot;&gt;&lt;span class=&bsol;&quot;numbers&bsol;&quot;&gt;25633672.678&lt;&sol;span&gt;&lt;&sol;span&gt;&quot;,&quot;&lt;span class=&bsol;&quot;formatted&bsol;&quot; title=&bsol;&quot;&bsol;&quot;&gt;&lt;span class=&bsol;&quot;numbers&bsol;&quot;&gt;23696168.745&lt;&sol;span&gt;&lt;&sol;span&gt;&quot;,&quot;&lt;span class=&bsol;&quot;formatted&bsol;&quot; title=&bsol;&quot;&bsol;&quot;&gt;&lt;span class=&bsol;&quot;numbers&bsol;&quot;&gt;23675694.106&lt;&sol;span&gt;&lt;&sol;span&gt;&quot;,&quot;&lt;span class=&bsol;&quot;formatted&bsol;&quot; title=&bsol;&quot;&bsol;&quot;&gt;&lt;span class=&bsol;&quot;numbers&bsol;&quot;&gt;23653844.677&lt;&sol;span&gt;&lt;&sol;span&gt;&quot;,&quot;&lt;span class=&bsol;&quot;formatted&bsol;&quot; title=&bsol;&quot;&bsol;&quot;&gt;&lt;span class=&bsol;&quot;numbers&bsol;&quot;&gt;23936471.885&lt;&sol;span&gt;&lt;&sol;span&gt;&quot;,&quot;&lt;span class=&bsol;&quot;formatted&bsol;&quot; title=&bsol;&quot;&bsol;&quot;&gt;&lt;span class=&bsol;&quot;numbers&bsol;&quot;&gt;23606318.076&lt;&sol;span&gt;&lt;&sol;span&gt;&quot;,&quot;&lt;span class=&bsol;&quot;formatted&bsol;&quot; title=&bsol;&quot;&bsol;&quot;&gt;&lt;span class=&bsol;&quot;numbers&bsol;&quot;&gt;32623935.496&lt;&sol;span&gt;&lt;&sol;span&gt;&quot;,&quot;&lt;span class=&bsol;&quot;formatted&bsol;&quot; title=&bsol;&quot;&bsol;&quot;&gt;&lt;span class=&bsol;&quot;numbers&bsol;&quot;&gt;31926738.849&lt;&sol;span&gt;&lt;&sol;span&gt;&quot;,&quot;&lt;span class=&bsol;&quot;formatted&bsol;&quot; title=&bsol;&quot;&bsol;&quot;&gt;&lt;span class=&bsol;&quot;numbers&bsol;&quot;&gt;22872372.853&lt;&sol;span&gt;&lt;&sol;span&gt;&quot;,&quot;&lt;span class=&bsol;&quot;formatted&bsol;&quot; title=&bsol;&quot;&bsol;&quot;&gt;&lt;span class=&bsol;&quot;numbers&bsol;&quot;&gt;26056018.863&lt;&sol;span&gt;&lt;&sol;span&gt;&quot;,&quot;&lt;span class=&bsol;&quot;formatted&bsol;&quot; title=&bsol;&quot;&bsol;&quot;&gt;&lt;span class=&bsol;&quot;numbers&bsol;&quot;&gt;23803255.300&lt;&sol;span&gt;&lt;&sol;span&gt;&quot;,&quot;&lt;span class=&bsol;&quot;formatted&bsol;&quot; title=&bsol;&quot;&bsol;&quot;&gt;&lt;span class=&bsol;&quot;numbers&bsol;&quot;&gt;23780257.713&lt;&sol;span&gt;&lt;&sol;span&gt;&quot;,&quot;&lt;span class=&bsol;&quot;formatted&bsol;&quot; title=&bsol;&quot;&bsol;&quot;&gt;&lt;span class=&bsol;&quot;numbers&bsol;&quot;&gt;23730729.621&lt;&sol;span&gt;&lt;&sol;span&gt;&quot;,&quot;&lt;span class=&bsol;&quot;formatted&bsol;&quot; title=&bsol;&quot;&bsol;&quot;&gt;&lt;span class=&bsol;&quot;numbers&bsol;&quot;&gt;24059573.232&lt;&sol;span&gt;&lt;&sol;span&gt;&quot;,&quot;&lt;span class=&bsol;&quot;formatted&bsol;&quot; title=&bsol;&quot;&bsol;&quot;&gt;&lt;span class=&bsol;&quot;numbers&bsol;&quot;&gt;23859660.085&lt;&sol;span&gt;&lt;&sol;span&gt;&quot;] }, \n{ name: &quot;&lt;span title=&bsol;&quot;error: Double&bsol;&quot;&gt;error&lt;&sol;span&gt;&quot;, children: [], rightAlign: true, values: [&quot;&lt;span class=&bsol;&quot;formatted&bsol;&quot; title=&bsol;&quot;&bsol;&quot;&gt;&lt;span class=&bsol;&quot;numbers&bsol;&quot;&gt;327754.911&lt;&sol;span&gt;&lt;&sol;span&gt;&quot;,&quot;&lt;span class=&bsol;&quot;formatted&bsol;&quot; title=&bsol;&quot;&bsol;&quot;&gt;&lt;span class=&bsol;&quot;numbers&bsol;&quot;&gt;56038.715&lt;&sol;span&gt;&lt;&sol;span&gt;&quot;,&quot;&lt;span class=&bsol;&quot;formatted&bsol;&quot; title=&bsol;&quot;&bsol;&quot;&gt;&lt;span class=&bsol;&quot;numbers&bsol;&quot;&gt;64984.569&lt;&sol;span&gt;&lt;&sol;span&gt;&quot;,&quot;&lt;span class=&bsol;&quot;formatted&bsol;&quot; title=&bsol;&quot;&bsol;&quot;&gt;&lt;span class=&bsol;&quot;numbers&bsol;&quot;&gt;26850.543&lt;&sol;span&gt;&lt;&sol;span&gt;&quot;,&quot;&lt;span class=&bsol;&quot;formatted&bsol;&quot; title=&bsol;&quot;&bsol;&quot;&gt;&lt;span class=&bsol;&quot;numbers&bsol;&quot;&gt;98941.310&lt;&sol;span&gt;&lt;&sol;span&gt;&quot;,&quot;&lt;span class=&bsol;&quot;formatted&bsol;&quot; title=&bsol;&quot;&bsol;&quot;&gt;&lt;span class=&bsol;&quot;numbers&bsol;&quot;&gt;28514.386&lt;&sol;span&gt;&lt;&sol;span&gt;&quot;,&quot;&lt;span class=&bsol;&quot;formatted&bsol;&quot; title=&bsol;&quot;&bsol;&quot;&gt;&lt;span class=&bsol;&quot;numbers&bsol;&quot;&gt;81635.424&lt;&sol;span&gt;&lt;&sol;span&gt;&quot;,&quot;&lt;span class=&bsol;&quot;formatted&bsol;&quot; title=&bsol;&quot;&bsol;&quot;&gt;&lt;span class=&bsol;&quot;numbers&bsol;&quot;&gt;31013.696&lt;&sol;span&gt;&lt;&sol;span&gt;&quot;,&quot;&lt;span class=&bsol;&quot;formatted&bsol;&quot; title=&bsol;&quot;&bsol;&quot;&gt;&lt;span class=&bsol;&quot;numbers&bsol;&quot;&gt;23137.431&lt;&sol;span&gt;&lt;&sol;span&gt;&quot;,&quot;&lt;span class=&bsol;&quot;formatted&bsol;&quot; title=&bsol;&quot;&bsol;&quot;&gt;&lt;span class=&bsol;&quot;numbers&bsol;&quot;&gt;33369.830&lt;&sol;span&gt;&lt;&sol;span&gt;&quot;,&quot;&lt;span class=&bsol;&quot;formatted&bsol;&quot; title=&bsol;&quot;&bsol;&quot;&gt;&lt;span class=&bsol;&quot;numbers&bsol;&quot;&gt;69566.969&lt;&sol;span&gt;&lt;&sol;span&gt;&quot;,&quot;&lt;span class=&bsol;&quot;formatted&bsol;&quot; title=&bsol;&quot;&bsol;&quot;&gt;&lt;span class=&bsol;&quot;numbers&bsol;&quot;&gt;110687.747&lt;&sol;span&gt;&lt;&sol;span&gt;&quot;,&quot;&lt;span class=&bsol;&quot;formatted&bsol;&quot; title=&bsol;&quot;&bsol;&quot;&gt;&lt;span class=&bsol;&quot;numbers&bsol;&quot;&gt;482467.292&lt;&sol;span&gt;&lt;&sol;span&gt;&quot;,&quot;&lt;span class=&bsol;&quot;formatted&bsol;&quot; title=&bsol;&quot;&bsol;&quot;&gt;&lt;span class=&bsol;&quot;numbers&bsol;&quot;&gt;45486.211&lt;&sol;span&gt;&lt;&sol;span&gt;&quot;,&quot;&lt;span class=&bsol;&quot;formatted&bsol;&quot; title=&bsol;&quot;&bsol;&quot;&gt;&lt;span class=&bsol;&quot;numbers&bsol;&quot;&gt;62180.757&lt;&sol;span&gt;&lt;&sol;span&gt;&quot;,&quot;&lt;span class=&bsol;&quot;formatted&bsol;&quot; title=&bsol;&quot;&bsol;&quot;&gt;&lt;span class=&bsol;&quot;numbers&bsol;&quot;&gt;57848.201&lt;&sol;span&gt;&lt;&sol;span&gt;&quot;,&quot;&lt;span class=&bsol;&quot;formatted&bsol;&quot; title=&bsol;&quot;&bsol;&quot;&gt;&lt;span class=&bsol;&quot;numbers&bsol;&quot;&gt;49134.932&lt;&sol;span&gt;&lt;&sol;span&gt;&quot;,&quot;&lt;span class=&bsol;&quot;formatted&bsol;&quot; title=&bsol;&quot;&bsol;&quot;&gt;&lt;span class=&bsol;&quot;numbers&bsol;&quot;&gt;56966.994&lt;&sol;span&gt;&lt;&sol;span&gt;&quot;,&quot;&lt;span class=&bsol;&quot;formatted&bsol;&quot; title=&bsol;&quot;&bsol;&quot;&gt;&lt;span class=&bsol;&quot;numbers&bsol;&quot;&gt;43657.923&lt;&sol;span&gt;&lt;&sol;span&gt;&quot;,&quot;&lt;span class=&bsol;&quot;formatted&bsol;&quot; title=&bsol;&quot;&bsol;&quot;&gt;&lt;span class=&bsol;&quot;numbers&bsol;&quot;&gt;56283.644&lt;&sol;span&gt;&lt;&sol;span&gt;&quot;] }, \n{ name: &quot;&lt;span title=&bsol;&quot;type: Line_9_jupyter.Type&bsol;&quot;&gt;type&lt;&sol;span&gt;&quot;, children: [], rightAlign: false, values: [&quot;Float&quot;,&quot;Float&quot;,&quot;Float&quot;,&quot;Float&quot;,&quot;Float&quot;,&quot;Float&quot;,&quot;Float&quot;,&quot;Float&quot;,&quot;Float&quot;,&quot;Float&quot;,&quot;Float&quot;,&quot;Double&quot;,&quot;Double&quot;,&quot;Double&quot;,&quot;Double&quot;,&quot;Double&quot;,&quot;Double&quot;,&quot;Double&quot;,&quot;Double&quot;,&quot;Double&quot;] }, \n], id: 1593835521, rootId: 1593835521, totalRows: 20 } ) });\n&sol;*--&gt;*&sol;\n\ncall_DataFrame(function() { DataFrame.renderTable(1593835521) });\n\n\n\n        &lt;&sol;script&gt;\n        &lt;&sol;html&gt;\"></iframe>\n            <script>\n                function o_resize_iframe_out_2() {\n                    let elem = document.getElementById(\"iframe_out_2\");\n                    resize_iframe_out_2(elem);\n                    setInterval(resize_iframe_out_2, 5000, elem);\n                }\n                function resize_iframe_out_2(el) {\n                    let h = el.contentWindow.document.body.scrollHeight;\n                    el.height = h === 0 ? 0 : h + 41;\n                }\n            </script>",
      "application/kotlindataframe+json": "{\"nrow\":20,\"ncol\":4,\"columns\":[\"name\",\"score\",\"error\",\"type\"],\"kotlin_dataframe\":[{\"name\":\"baselineFloat\",\"score\":3.2220310116E7,\"error\":327754.911,\"type\":\"Float\"},{\"name\":\"inlineFloat\",\"score\":3.1130571665E7,\"error\":56038.715,\"type\":\"Float\"},{\"name\":\"longPackFloat\",\"score\":6.2687401068E7,\"error\":64984.569,\"type\":\"Float\"},{\"name\":\"mutableSpecificRefFloat\",\"score\":2.2558807743E7,\"error\":26850.543,\"type\":\"Float\"},{\"name\":\"mutableUniversalRefFloatIn1Long\",\"score\":6.2339799936E7,\"error\":98941.31,\"type\":\"Float\"},{\"name\":\"mutableUniversalRefFloatIn2Longs\",\"score\":2.5633672678E7,\"error\":28514.386,\"type\":\"Float\"},{\"name\":\"valueFloat\",\"score\":2.3696168745E7,\"error\":81635.424,\"type\":\"Float\"},{\"name\":\"valueInlineFloat\",\"score\":2.3675694106E7,\"error\":31013.696,\"type\":\"Float\"},{\"name\":\"valueInlineOnlyBodiesFloat\",\"score\":2.3653844677E7,\"error\":23137.431,\"type\":\"Float\"},{\"name\":\"valueOnlyBodiesFloat\",\"score\":2.3936471885E7,\"error\":33369.83,\"type\":\"Float\"},{\"name\":\"valuePreserveBoxFloat\",\"score\":2.3606318076E7,\"error\":69566.969,\"type\":\"Float\"},{\"name\":\"baselineDouble\",\"score\":3.2623935496E7,\"error\":110687.747,\"type\":\"Double\"},{\"name\":\"inlineDouble\",\"score\":3.1926738849E7,\"error\":482467.292,\"type\":\"Double\"},{\"name\":\"mutableSpecificRefDouble\",\"score\":2.2872372853E7,\"error\":45486.211,\"type\":\"Double\"},{\"name\":\"mutableUniversalRefDouble\",\"score\":2.6056018863E7,\"error\":62180.757,\"type\":\"Double\"},{\"name\":\"valueDouble\",\"score\":2.38032553E7,\"error\":57848.201,\"type\":\"Double\"},{\"name\":\"valueInlineDouble\",\"score\":2.3780257713E7,\"error\":49134.932,\"type\":\"Double\"},{\"name\":\"valueInlineOnlyBodiesDouble\",\"score\":2.3730729621E7,\"error\":56966.994,\"type\":\"Double\"},{\"name\":\"valueOnlyBodiesDouble\",\"score\":2.4059573232E7,\"error\":43657.923,\"type\":\"Double\"},{\"name\":\"valuePreserveBoxDouble\",\"score\":2.3859660085E7,\"error\":56283.644,\"type\":\"Double\"}]}"
     },
     "execution_count": 4,
     "metadata": {},
     "output_type": "execute_result"
    }
   ],
   "source": [
    "readGraalBenchmarkData(\"Wolf3dBenchmark\")"
   ],
   "metadata": {
    "collapsed": false,
    "ExecuteTime": {
     "end_time": "2023-07-13T01:47:01.423514Z",
     "start_time": "2023-07-13T01:47:01.129371Z"
    }
   }
  },
  {
   "cell_type": "code",
   "execution_count": 5,
   "outputs": [],
   "source": [
    "import org.jetbrains.kotlinx.kandy.ir.Plot\n",
    "import org.jetbrains.letsPlot.intern.PosKind\n",
    "import org.jetbrains.letsPlot.intern.StatKind\n",
    "import org.jetbrains.letsPlot.intern.layer.PosOptions\n",
    "import org.jetbrains.letsPlot.intern.layer.StatOptions\n",
    "import org.jetbrains.letsPlot.pos.positionIdentity\n",
    "\n",
    "fun makePlot(benchmarkName: String, platform: String, df: DataFrame<BenchmarkData>): Plot? {\n",
    "    if (df.isEmpty()) return null\n",
    "    val nameWithoutType by column<String>()\n",
    "\n",
    "    val data = df.add(nameWithoutType) {\n",
    "        name.replace(type.name, \"\")\n",
    "    }\n",
    "    val shortNames = data.map { name to it[nameWithoutType] }\n",
    "    val maxScore = data.maxOf { score + error }\n",
    "    return data.sortBy { type }.plot {\n",
    "        layout {\n",
    "            size = 800 to 600\n",
    "            title = benchmarkName\n",
    "            flavor = Flavor.SOLARIZED_LIGHT\n",
    "            subtitle = platform\n",
    "        }\n",
    "        bars {\n",
    "            x(name) {\n",
    "                axis {\n",
    "                    name = \"Benchmark\"\n",
    "                    breaksLabeled(*shortNames.toTypedArray())\n",
    "                }\n",
    "            }\n",
    "            y(score) { axis { name = \"ns/op\" } }\n",
    "            fillColor(type) {\n",
    "                legend {\n",
    "                    type = discreteLegend()\n",
    "                    name = \"Type\"\n",
    "                }\n",
    "                scale = categorical()\n",
    "            }\n",
    "            tooltips {\n",
    "                line(\"Type\", \"${value(type)}\")\n",
    "                line(\"Benchmark\", \"${value(name)}\")\n",
    "                line(\"Score\", \"${value(score)}\")\n",
    "            }\n",
    "        }\n",
    "        errorBar {\n",
    "            x(name)\n",
    "            width = 0.5\n",
    "            yMin(getColumn { expr { score - error } named \"minErr\" })\n",
    "            yMax(getColumn { expr { score + error } named \"maxErr\" })\n",
    "        }\n",
    "        text {\n",
    "            x(name)\n",
    "            y(getColumn {\n",
    "                expr {\n",
    "                    val threshold = 0.12\n",
    "                    if (score < maxScore * threshold) score + threshold * maxScore / 2\n",
    "                    else score / 2\n",
    "                } named \"textPosition\"\n",
    "            })\n",
    "            label(getColumn {\n",
    "                expr { currentRow ->\n",
    "                    val baselineScore = df().single {\n",
    "                        type == currentRow.type && it[nameWithoutType] == \"baseline\"\n",
    "                    }.score\n",
    "                    val score = score / baselineScore\n",
    "                    val error = error / baselineScore\n",
    "                    \"${String.format(\"%.0f\", score * 100)}%\\n±\\n${String.format(\"%.1f\", error * 100)}%\\n${type}\"\n",
    "                } named \"label\"\n",
    "            })\n",
    "            font.size = 8.0 - data.rowsCount().toDouble() / 5\n",
    "        }\n",
    "    }.apply { save(\"$benchmarkName ($platform).svg\") }\n",
    "}\n"
   ],
   "metadata": {
    "collapsed": false,
    "ExecuteTime": {
     "end_time": "2023-07-13T01:47:10.917476Z",
     "start_time": "2023-07-13T01:47:01.268661Z"
    }
   }
  },
  {
   "cell_type": "code",
   "execution_count": 6,
   "outputs": [
    {
     "data": {
      "text/html": "            <script type=\"text/javascript\" data-lets-plot-script=\"library\" src=\"https://cdn.jsdelivr.net/gh/JetBrains/lets-plot@v3.1.0/js-package/distr/lets-plot.min.js\"></script>    \n               <div id=\"9d39Rm\"></div>\n   <script type=\"text/javascript\" data-lets-plot-script=\"plot\">\n       var plotSpec={\n\"ggtitle\":{\n\"text\":\"Wolf3d\",\n\"subtitle\":\"Hotspot\"\n},\n\"mapping\":{\n},\n\"data\":{\n\"score\":[3.2694228886E7,3.2396695076E7,5.6624040109E7,2.3724753345E7,6.3795524443E7,3.8854480624E7,2.4830635395E7,2.4939189072E7,2.4928993285E7,2.4221018516E7,2.4908862374E7,3.366388132E7,3.4109828591E7,2.3249615559E7,4.0238919124E7,2.4452700476E7,2.4570896238E7,2.4454601154E7,2.4366158971E7,2.4464381554E7],\n\"textPosition\":[1.6347114443E7,1.6198347538E7,2.83120200545E7,1.18623766725E7,3.18977622215E7,1.9427240312E7,1.24153176975E7,1.2469594536E7,1.24644966425E7,1.2110509258E7,1.2454431187E7,1.683194066E7,1.70549142955E7,1.16248077795E7,2.0119459562E7,1.2226350238E7,1.2285448119E7,1.2227300577E7,1.21830794855E7,1.2232190777E7],\n\"name\":[\"baselineFloat\",\"inlineFloat\",\"longPackFloat\",\"mutableSpecificRefFloat\",\"mutableUniversalRefFloatIn1Long\",\"mutableUniversalRefFloatIn2Longs\",\"valueFloat\",\"valueInlineFloat\",\"valueInlineOnlyBodiesFloat\",\"valueOnlyBodiesFloat\",\"valuePreserveBoxFloat\",\"baselineDouble\",\"inlineDouble\",\"mutableSpecificRefDouble\",\"mutableUniversalRefDouble\",\"valueDouble\",\"valueInlineDouble\",\"valueInlineOnlyBodiesDouble\",\"valueOnlyBodiesDouble\",\"valuePreserveBoxDouble\"],\n\"minErr\":[3.2656933973E7,3.2348307563E7,5.659911501E7,2.3663049847E7,6.3642903851E7,3.8623368868999995E7,2.4800381368E7,2.4915962124E7,2.4896521949E7,2.418713065E7,2.4898804438E7,3.3640471458E7,3.407220543E7,2.3228970334E7,3.9528401528E7,2.4418109592E7,2.4416876626000002E7,2.4416061773E7,2.4344088429E7,2.4443767167000003E7],\n\"label\":[\"100%\\n±\\n0.1%\\nFloat\",\"99%\\n±\\n0.1%\\nFloat\",\"173%\\n±\\n0.1%\\nFloat\",\"73%\\n±\\n0.2%\\nFloat\",\"195%\\n±\\n0.5%\\nFloat\",\"119%\\n±\\n0.7%\\nFloat\",\"76%\\n±\\n0.1%\\nFloat\",\"76%\\n±\\n0.1%\\nFloat\",\"76%\\n±\\n0.1%\\nFloat\",\"74%\\n±\\n0.1%\\nFloat\",\"76%\\n±\\n0.0%\\nFloat\",\"100%\\n±\\n0.1%\\nDouble\",\"101%\\n±\\n0.1%\\nDouble\",\"69%\\n±\\n0.1%\\nDouble\",\"120%\\n±\\n2.1%\\nDouble\",\"73%\\n±\\n0.1%\\nDouble\",\"73%\\n±\\n0.5%\\nDouble\",\"73%\\n±\\n0.1%\\nDouble\",\"72%\\n±\\n0.1%\\nDouble\",\"73%\\n±\\n0.1%\\nDouble\"],\n\"type\":[\"Float\",\"Float\",\"Float\",\"Float\",\"Float\",\"Float\",\"Float\",\"Float\",\"Float\",\"Float\",\"Float\",\"Double\",\"Double\",\"Double\",\"Double\",\"Double\",\"Double\",\"Double\",\"Double\",\"Double\"],\n\"maxErr\":[3.2731523799E7,3.2445082589E7,5.6648965208E7,2.3786456843E7,6.3948145035000004E7,3.9085592379E7,2.4860889422E7,2.496241602E7,2.4961464621E7,2.4254906382E7,2.4918920310000002E7,3.3687291182000004E7,3.4147451752E7,2.3270260784E7,4.094943672E7,2.448729136E7,2.472491585E7,2.4493140535E7,2.4388229513E7,2.4484995941E7]\n},\n\"ggsize\":{\n\"width\":800.0,\n\"height\":600.0\n},\n\"kind\":\"plot\",\n\"scales\":[{\n\"aesthetic\":\"x\",\n\"breaks\":[\"baselineFloat\",\"inlineFloat\",\"longPackFloat\",\"mutableSpecificRefFloat\",\"mutableUniversalRefFloatIn1Long\",\"mutableUniversalRefFloatIn2Longs\",\"valueFloat\",\"valueInlineFloat\",\"valueInlineOnlyBodiesFloat\",\"valueOnlyBodiesFloat\",\"valuePreserveBoxFloat\",\"baselineDouble\",\"inlineDouble\",\"mutableSpecificRefDouble\",\"mutableUniversalRefDouble\",\"valueDouble\",\"valueInlineDouble\",\"valueInlineOnlyBodiesDouble\",\"valueOnlyBodiesDouble\",\"valuePreserveBoxDouble\"],\n\"name\":\"Benchmark\",\n\"labels\":[\"baseline\",\"inline\",\"longPack\",\"mutableSpecificRef\",\"mutableUniversalRefIn1Long\",\"mutableUniversalRefIn2Longs\",\"value\",\"valueInline\",\"valueInlineOnlyBodies\",\"valueOnlyBodies\",\"valuePreserveBox\",\"baseline\",\"inline\",\"mutableSpecificRef\",\"mutableUniversalRef\",\"value\",\"valueInline\",\"valueInlineOnlyBodies\",\"valueOnlyBodies\",\"valuePreserveBox\"]\n},{\n\"aesthetic\":\"y\",\n\"name\":\"ns/op\",\n\"limits\":[null,null]\n},{\n\"aesthetic\":\"fill\",\n\"discrete\":true,\n\"name\":\"Type\",\n\"guide\":{\n\"name\":\"legend\"\n}\n},{\n\"aesthetic\":\"x\"\n},{\n\"aesthetic\":\"x\"\n},{\n\"aesthetic\":\"y\",\n\"limits\":[null,null]\n}],\n\"layers\":[{\n\"mapping\":{\n\"x\":\"name\",\n\"y\":\"score\",\n\"fill\":\"type\"\n},\n\"stat\":\"identity\",\n\"sampling\":\"none\",\n\"position\":\"dodge\",\n\"geom\":\"bar\",\n\"tooltips\":{\n\"lines\":[\"Type|@type\",\"Benchmark|@name\",\"Score|@score\"]\n},\n\"data\":{\n}\n},{\n\"mapping\":{\n\"x\":\"name\",\n\"ymin\":\"minErr\",\n\"ymax\":\"maxErr\"\n},\n\"stat\":\"identity\",\n\"sampling\":\"none\",\n\"width\":0.5,\n\"position\":\"identity\",\n\"geom\":\"errorbar\",\n\"data\":{\n}\n},{\n\"mapping\":{\n\"x\":\"name\",\n\"y\":\"textPosition\",\n\"label\":\"label\"\n},\n\"stat\":\"identity\",\n\"size\":4.0,\n\"sampling\":\"none\",\n\"position\":\"identity\",\n\"geom\":\"text\",\n\"data\":{\n}\n}],\n\"theme\":{\n\"flavor\":\"solarized_light\"\n}\n};\n       var plotContainer = document.getElementById(\"9d39Rm\");\n       LetsPlot.buildPlotFromProcessedSpecs(plotSpec, -1, -1, plotContainer);\n   </script>    ",
      "application/plot+json": {
       "output_type": "lets_plot_spec",
       "output": {
        "ggtitle": {
         "text": "Wolf3d",
         "subtitle": "Hotspot"
        },
        "mapping": {},
        "data": {
         "score": [
          3.2694228E7,
          3.2396696E7,
          5.662404E7,
          2.3724754E7,
          6.3795524E7,
          3.885448E7,
          2.4830636E7,
          2.493919E7,
          2.4928994E7,
          2.4221018E7,
          2.4908862E7,
          3.366388E7,
          3.4109828E7,
          2.3249616E7,
          4.023892E7,
          2.44527E7,
          2.4570896E7,
          2.4454602E7,
          2.4366158E7,
          2.4464382E7
         ],
         "textPosition": [
          1.6347114E7,
          1.6198348E7,
          2.831202E7,
          1.1862377E7,
          3.1897762E7,
          1.942724E7,
          1.2415318E7,
          1.2469595E7,
          1.2464497E7,
          1.2110509E7,
          1.2454431E7,
          1.683194E7,
          1.7054914E7,
          1.1624808E7,
          2.011946E7,
          1.222635E7,
          1.2285448E7,
          1.2227301E7,
          1.2183079E7,
          1.2232191E7
         ],
         "name": [
          "baselineFloat",
          "inlineFloat",
          "longPackFloat",
          "mutableSpecificRefFloat",
          "mutableUniversalRefFloatIn1Long",
          "mutableUniversalRefFloatIn2Longs",
          "valueFloat",
          "valueInlineFloat",
          "valueInlineOnlyBodiesFloat",
          "valueOnlyBodiesFloat",
          "valuePreserveBoxFloat",
          "baselineDouble",
          "inlineDouble",
          "mutableSpecificRefDouble",
          "mutableUniversalRefDouble",
          "valueDouble",
          "valueInlineDouble",
          "valueInlineOnlyBodiesDouble",
          "valueOnlyBodiesDouble",
          "valuePreserveBoxDouble"
         ],
         "minErr": [
          3.2656934E7,
          3.2348308E7,
          5.6599116E7,
          2.366305E7,
          6.3642904E7,
          3.8623368E7,
          2.4800382E7,
          2.4915962E7,
          2.4896522E7,
          2.418713E7,
          2.4898804E7,
          3.3640472E7,
          3.4072204E7,
          2.322897E7,
          3.95284E7,
          2.441811E7,
          2.4416876E7,
          2.4416062E7,
          2.4344088E7,
          2.4443768E7
         ],
         "label": [
          "100%\n±\n0.1%\nFloat",
          "99%\n±\n0.1%\nFloat",
          "173%\n±\n0.1%\nFloat",
          "73%\n±\n0.2%\nFloat",
          "195%\n±\n0.5%\nFloat",
          "119%\n±\n0.7%\nFloat",
          "76%\n±\n0.1%\nFloat",
          "76%\n±\n0.1%\nFloat",
          "76%\n±\n0.1%\nFloat",
          "74%\n±\n0.1%\nFloat",
          "76%\n±\n0.0%\nFloat",
          "100%\n±\n0.1%\nDouble",
          "101%\n±\n0.1%\nDouble",
          "69%\n±\n0.1%\nDouble",
          "120%\n±\n2.1%\nDouble",
          "73%\n±\n0.1%\nDouble",
          "73%\n±\n0.5%\nDouble",
          "73%\n±\n0.1%\nDouble",
          "72%\n±\n0.1%\nDouble",
          "73%\n±\n0.1%\nDouble"
         ],
         "type": [
          "Float",
          "Float",
          "Float",
          "Float",
          "Float",
          "Float",
          "Float",
          "Float",
          "Float",
          "Float",
          "Float",
          "Double",
          "Double",
          "Double",
          "Double",
          "Double",
          "Double",
          "Double",
          "Double",
          "Double"
         ],
         "maxErr": [
          3.2731524E7,
          3.2445082E7,
          5.6648964E7,
          2.3786456E7,
          6.3948144E7,
          3.9085592E7,
          2.486089E7,
          2.4962416E7,
          2.4961464E7,
          2.4254906E7,
          2.491892E7,
          3.3687292E7,
          3.4147452E7,
          2.327026E7,
          4.0949436E7,
          2.4487292E7,
          2.4724916E7,
          2.449314E7,
          2.438823E7,
          2.4484996E7
         ]
        },
        "ggsize": {
         "width": 800.0,
         "height": 600.0
        },
        "kind": "plot",
        "scales": [
         {
          "aesthetic": "x",
          "breaks": [
           "baselineFloat",
           "inlineFloat",
           "longPackFloat",
           "mutableSpecificRefFloat",
           "mutableUniversalRefFloatIn1Long",
           "mutableUniversalRefFloatIn2Longs",
           "valueFloat",
           "valueInlineFloat",
           "valueInlineOnlyBodiesFloat",
           "valueOnlyBodiesFloat",
           "valuePreserveBoxFloat",
           "baselineDouble",
           "inlineDouble",
           "mutableSpecificRefDouble",
           "mutableUniversalRefDouble",
           "valueDouble",
           "valueInlineDouble",
           "valueInlineOnlyBodiesDouble",
           "valueOnlyBodiesDouble",
           "valuePreserveBoxDouble"
          ],
          "name": "Benchmark",
          "labels": [
           "baseline",
           "inline",
           "longPack",
           "mutableSpecificRef",
           "mutableUniversalRefIn1Long",
           "mutableUniversalRefIn2Longs",
           "value",
           "valueInline",
           "valueInlineOnlyBodies",
           "valueOnlyBodies",
           "valuePreserveBox",
           "baseline",
           "inline",
           "mutableSpecificRef",
           "mutableUniversalRef",
           "value",
           "valueInline",
           "valueInlineOnlyBodies",
           "valueOnlyBodies",
           "valuePreserveBox"
          ]
         },
         {
          "aesthetic": "y",
          "name": "ns/op",
          "limits": [
           null,
           null
          ]
         },
         {
          "aesthetic": "fill",
          "discrete": true,
          "name": "Type",
          "guide": {
           "name": "legend"
          }
         },
         {
          "aesthetic": "x"
         },
         {
          "aesthetic": "x"
         },
         {
          "aesthetic": "y",
          "limits": [
           null,
           null
          ]
         }
        ],
        "layers": [
         {
          "mapping": {
           "x": "name",
           "y": "score",
           "fill": "type"
          },
          "stat": "identity",
          "sampling": "none",
          "position": "dodge",
          "geom": "bar",
          "tooltips": {
           "lines": [
            "Type|@type",
            "Benchmark|@name",
            "Score|@score"
           ]
          }
         },
         {
          "mapping": {
           "x": "name",
           "ymin": "minErr",
           "ymax": "maxErr"
          },
          "stat": "identity",
          "sampling": "none",
          "width": 0.5,
          "position": "identity",
          "geom": "errorbar"
         },
         {
          "mapping": {
           "x": "name",
           "y": "textPosition",
           "label": "label"
          },
          "stat": "identity",
          "size": 4.0,
          "sampling": "none",
          "position": "identity",
          "geom": "text"
         }
        ],
        "theme": {
         "flavor": "solarized_light"
        }
       },
       "apply_color_scheme": true,
       "swing_enabled": true
      }
     },
     "metadata": {},
     "output_type": "display_data"
    },
    {
     "data": {
      "text/html": "            <script type=\"text/javascript\" data-lets-plot-script=\"library\" src=\"https://cdn.jsdelivr.net/gh/JetBrains/lets-plot@v3.1.0/js-package/distr/lets-plot.min.js\"></script>    \n               <div id=\"tqXKsq\"></div>\n   <script type=\"text/javascript\" data-lets-plot-script=\"plot\">\n       var plotSpec={\n\"ggtitle\":{\n\"text\":\"Ackermann\",\n\"subtitle\":\"Hotspot\"\n},\n\"mapping\":{\n},\n\"data\":{\n\"score\":[20316.805,8580.271,10033.301,10419.512,10450.416,12238.732,14829.162,12220.348,17360.479,10621.317,10578.558,14515.954,17077.59,14445.483,16671.175,16541.537,11450.104,21089.843,15940.603,13379.906,15472.369,13265.166,19238.684,12417.452,22188.682,14830.367,17100.776,14844.017],\n\"textPosition\":[10158.4025,4290.1355,5016.6505,5209.756,5225.208,6119.366,7414.581,6110.174,8680.2395,5310.6585,5289.279,7257.977,8538.795,7222.7415,8335.5875,8270.7685,5725.052,10544.9215,7970.3015,6689.953,7736.1845,6632.583,9619.342,6208.726,11094.341,7415.1835,8550.388,7422.0085],\n\"name\":[\"baselineInt\",\"longPackInt\",\"mutableSpecificRefInt\",\"mutableUniversalRefIntIn1Long\",\"mutableUniversalRefIntIn2Longs\",\"valueInt\",\"valueOnlyBodiesInt\",\"valuePreserveBoxInt\",\"baselineLong\",\"mutableSpecificRefLong\",\"mutableUniversalRefLong\",\"valueLong\",\"valueOnlyBodiesLong\",\"valuePreserveBoxLong\",\"baselineFloat\",\"longPackFloat\",\"mutableSpecificRefFloat\",\"mutableUniversalRefFloatIn1Long\",\"mutableUniversalRefFloatIn2Longs\",\"valueFloat\",\"valueOnlyBodiesFloat\",\"valuePreserveBoxFloat\",\"baselineDouble\",\"mutableSpecificRefDouble\",\"mutableUniversalRefDouble\",\"valueDouble\",\"valueOnlyBodiesDouble\",\"valuePreserveBoxDouble\"],\n\"minErr\":[14967.874,8562.175000000001,9952.865,10314.560000000001,10390.872,12096.78,14728.555,12093.471,17147.661,10579.862,10469.091,14217.85,16895.153,14155.028,16556.251,16525.349000000002,11343.338,17138.889,12432.678,13182.562000000002,15375.531,13113.686,19113.501,12316.98,18321.475000000002,14467.449,16912.936,14453.252],\n\"label\":[\"100%\\n±\\n26.3%\\nInt\",\"42%\\n±\\n0.1%\\nInt\",\"49%\\n±\\n0.4%\\nInt\",\"51%\\n±\\n0.5%\\nInt\",\"51%\\n±\\n0.3%\\nInt\",\"60%\\n±\\n0.7%\\nInt\",\"73%\\n±\\n0.5%\\nInt\",\"60%\\n±\\n0.6%\\nInt\",\"100%\\n±\\n1.2%\\nLong\",\"61%\\n±\\n0.2%\\nLong\",\"61%\\n±\\n0.6%\\nLong\",\"84%\\n±\\n1.7%\\nLong\",\"98%\\n±\\n1.1%\\nLong\",\"83%\\n±\\n1.7%\\nLong\",\"100%\\n±\\n0.7%\\nFloat\",\"99%\\n±\\n0.1%\\nFloat\",\"69%\\n±\\n0.6%\\nFloat\",\"127%\\n±\\n23.7%\\nFloat\",\"96%\\n±\\n21.0%\\nFloat\",\"80%\\n±\\n1.2%\\nFloat\",\"93%\\n±\\n0.6%\\nFloat\",\"80%\\n±\\n0.9%\\nFloat\",\"100%\\n±\\n0.7%\\nDouble\",\"65%\\n±\\n0.5%\\nDouble\",\"115%\\n±\\n20.1%\\nDouble\",\"77%\\n±\\n1.9%\\nDouble\",\"89%\\n±\\n1.0%\\nDouble\",\"77%\\n±\\n2.0%\\nDouble\"],\n\"type\":[\"Int\",\"Int\",\"Int\",\"Int\",\"Int\",\"Int\",\"Int\",\"Int\",\"Long\",\"Long\",\"Long\",\"Long\",\"Long\",\"Long\",\"Float\",\"Float\",\"Float\",\"Float\",\"Float\",\"Float\",\"Float\",\"Float\",\"Double\",\"Double\",\"Double\",\"Double\",\"Double\",\"Double\"],\n\"maxErr\":[25665.736,8598.367,10113.737,10524.464,10509.96,12380.684,14929.769,12347.225,17573.297,10662.771999999999,10688.025000000001,14814.057999999999,17260.027000000002,14735.938,16786.099,16557.725,11556.869999999999,25040.797000000002,19448.528,13577.25,15569.207,13416.645999999999,19363.867000000002,12517.923999999999,26055.889,15193.285,17288.616,15234.782]\n},\n\"ggsize\":{\n\"width\":800.0,\n\"height\":600.0\n},\n\"kind\":\"plot\",\n\"scales\":[{\n\"aesthetic\":\"x\",\n\"breaks\":[\"baselineInt\",\"longPackInt\",\"mutableSpecificRefInt\",\"mutableUniversalRefIntIn1Long\",\"mutableUniversalRefIntIn2Longs\",\"valueInt\",\"valueOnlyBodiesInt\",\"valuePreserveBoxInt\",\"baselineLong\",\"mutableSpecificRefLong\",\"mutableUniversalRefLong\",\"valueLong\",\"valueOnlyBodiesLong\",\"valuePreserveBoxLong\",\"baselineFloat\",\"longPackFloat\",\"mutableSpecificRefFloat\",\"mutableUniversalRefFloatIn1Long\",\"mutableUniversalRefFloatIn2Longs\",\"valueFloat\",\"valueOnlyBodiesFloat\",\"valuePreserveBoxFloat\",\"baselineDouble\",\"mutableSpecificRefDouble\",\"mutableUniversalRefDouble\",\"valueDouble\",\"valueOnlyBodiesDouble\",\"valuePreserveBoxDouble\"],\n\"name\":\"Benchmark\",\n\"labels\":[\"baseline\",\"longPack\",\"mutableSpecificRef\",\"mutableUniversalRefIn1Long\",\"mutableUniversalRefIn2Longs\",\"value\",\"valueOnlyBodies\",\"valuePreserveBox\",\"baseline\",\"mutableSpecificRef\",\"mutableUniversalRef\",\"value\",\"valueOnlyBodies\",\"valuePreserveBox\",\"baseline\",\"longPack\",\"mutableSpecificRef\",\"mutableUniversalRefIn1Long\",\"mutableUniversalRefIn2Longs\",\"value\",\"valueOnlyBodies\",\"valuePreserveBox\",\"baseline\",\"mutableSpecificRef\",\"mutableUniversalRef\",\"value\",\"valueOnlyBodies\",\"valuePreserveBox\"]\n},{\n\"aesthetic\":\"y\",\n\"name\":\"ns/op\",\n\"limits\":[null,null]\n},{\n\"aesthetic\":\"fill\",\n\"discrete\":true,\n\"name\":\"Type\",\n\"guide\":{\n\"name\":\"legend\"\n}\n},{\n\"aesthetic\":\"x\"\n},{\n\"aesthetic\":\"x\"\n},{\n\"aesthetic\":\"y\",\n\"limits\":[null,null]\n}],\n\"layers\":[{\n\"mapping\":{\n\"x\":\"name\",\n\"y\":\"score\",\n\"fill\":\"type\"\n},\n\"stat\":\"identity\",\n\"sampling\":\"none\",\n\"position\":\"dodge\",\n\"geom\":\"bar\",\n\"tooltips\":{\n\"lines\":[\"Type|@type\",\"Benchmark|@name\",\"Score|@score\"]\n},\n\"data\":{\n}\n},{\n\"mapping\":{\n\"x\":\"name\",\n\"ymin\":\"minErr\",\n\"ymax\":\"maxErr\"\n},\n\"stat\":\"identity\",\n\"sampling\":\"none\",\n\"width\":0.5,\n\"position\":\"identity\",\n\"geom\":\"errorbar\",\n\"data\":{\n}\n},{\n\"mapping\":{\n\"x\":\"name\",\n\"y\":\"textPosition\",\n\"label\":\"label\"\n},\n\"stat\":\"identity\",\n\"size\":2.4000000000000004,\n\"sampling\":\"none\",\n\"position\":\"identity\",\n\"geom\":\"text\",\n\"data\":{\n}\n}],\n\"theme\":{\n\"flavor\":\"solarized_light\"\n}\n};\n       var plotContainer = document.getElementById(\"tqXKsq\");\n       LetsPlot.buildPlotFromProcessedSpecs(plotSpec, -1, -1, plotContainer);\n   </script>    ",
      "application/plot+json": {
       "output_type": "lets_plot_spec",
       "output": {
        "ggtitle": {
         "text": "Ackermann",
         "subtitle": "Hotspot"
        },
        "mapping": {},
        "data": {
         "score": [
          20316.805,
          8580.271,
          10033.301,
          10419.512,
          10450.416,
          12238.732,
          14829.162,
          12220.348,
          17360.479,
          10621.317,
          10578.558,
          14515.954,
          17077.59,
          14445.483,
          16671.176,
          16541.537,
          11450.104,
          21089.844,
          15940.603,
          13379.906,
          15472.369,
          13265.166,
          19238.684,
          12417.452,
          22188.682,
          14830.367,
          17100.775,
          14844.017
         ],
         "textPosition": [
          10158.402,
          4290.1357,
          5016.6504,
          5209.756,
          5225.208,
          6119.366,
          7414.581,
          6110.174,
          8680.239,
          5310.6587,
          5289.279,
          7257.977,
          8538.795,
          7222.7417,
          8335.588,
          8270.769,
          5725.052,
          10544.922,
          7970.3013,
          6689.953,
          7736.1846,
          6632.583,
          9619.342,
          6208.726,
          11094.341,
          7415.1836,
          8550.388,
          7422.0083
         ],
         "name": [
          "baselineInt",
          "longPackInt",
          "mutableSpecificRefInt",
          "mutableUniversalRefIntIn1Long",
          "mutableUniversalRefIntIn2Longs",
          "valueInt",
          "valueOnlyBodiesInt",
          "valuePreserveBoxInt",
          "baselineLong",
          "mutableSpecificRefLong",
          "mutableUniversalRefLong",
          "valueLong",
          "valueOnlyBodiesLong",
          "valuePreserveBoxLong",
          "baselineFloat",
          "longPackFloat",
          "mutableSpecificRefFloat",
          "mutableUniversalRefFloatIn1Long",
          "mutableUniversalRefFloatIn2Longs",
          "valueFloat",
          "valueOnlyBodiesFloat",
          "valuePreserveBoxFloat",
          "baselineDouble",
          "mutableSpecificRefDouble",
          "mutableUniversalRefDouble",
          "valueDouble",
          "valueOnlyBodiesDouble",
          "valuePreserveBoxDouble"
         ],
         "minErr": [
          14967.874,
          8562.175,
          9952.865,
          10314.56,
          10390.872,
          12096.78,
          14728.555,
          12093.471,
          17147.66,
          10579.862,
          10469.091,
          14217.85,
          16895.152,
          14155.028,
          16556.252,
          16525.35,
          11343.338,
          17138.889,
          12432.678,
          13182.562,
          15375.531,
          13113.686,
          19113.502,
          12316.98,
          18321.475,
          14467.449,
          16912.936,
          14453.252
         ],
         "label": [
          "100%\n±\n26.3%\nInt",
          "42%\n±\n0.1%\nInt",
          "49%\n±\n0.4%\nInt",
          "51%\n±\n0.5%\nInt",
          "51%\n±\n0.3%\nInt",
          "60%\n±\n0.7%\nInt",
          "73%\n±\n0.5%\nInt",
          "60%\n±\n0.6%\nInt",
          "100%\n±\n1.2%\nLong",
          "61%\n±\n0.2%\nLong",
          "61%\n±\n0.6%\nLong",
          "84%\n±\n1.7%\nLong",
          "98%\n±\n1.1%\nLong",
          "83%\n±\n1.7%\nLong",
          "100%\n±\n0.7%\nFloat",
          "99%\n±\n0.1%\nFloat",
          "69%\n±\n0.6%\nFloat",
          "127%\n±\n23.7%\nFloat",
          "96%\n±\n21.0%\nFloat",
          "80%\n±\n1.2%\nFloat",
          "93%\n±\n0.6%\nFloat",
          "80%\n±\n0.9%\nFloat",
          "100%\n±\n0.7%\nDouble",
          "65%\n±\n0.5%\nDouble",
          "115%\n±\n20.1%\nDouble",
          "77%\n±\n1.9%\nDouble",
          "89%\n±\n1.0%\nDouble",
          "77%\n±\n2.0%\nDouble"
         ],
         "type": [
          "Int",
          "Int",
          "Int",
          "Int",
          "Int",
          "Int",
          "Int",
          "Int",
          "Long",
          "Long",
          "Long",
          "Long",
          "Long",
          "Long",
          "Float",
          "Float",
          "Float",
          "Float",
          "Float",
          "Float",
          "Float",
          "Float",
          "Double",
          "Double",
          "Double",
          "Double",
          "Double",
          "Double"
         ],
         "maxErr": [
          25665.736,
          8598.367,
          10113.737,
          10524.464,
          10509.96,
          12380.684,
          14929.769,
          12347.225,
          17573.297,
          10662.772,
          10688.025,
          14814.058,
          17260.027,
          14735.938,
          16786.1,
          16557.725,
          11556.87,
          25040.797,
          19448.527,
          13577.25,
          15569.207,
          13416.646,
          19363.867,
          12517.924,
          26055.889,
          15193.285,
          17288.615,
          15234.782
         ]
        },
        "ggsize": {
         "width": 800.0,
         "height": 600.0
        },
        "kind": "plot",
        "scales": [
         {
          "aesthetic": "x",
          "breaks": [
           "baselineInt",
           "longPackInt",
           "mutableSpecificRefInt",
           "mutableUniversalRefIntIn1Long",
           "mutableUniversalRefIntIn2Longs",
           "valueInt",
           "valueOnlyBodiesInt",
           "valuePreserveBoxInt",
           "baselineLong",
           "mutableSpecificRefLong",
           "mutableUniversalRefLong",
           "valueLong",
           "valueOnlyBodiesLong",
           "valuePreserveBoxLong",
           "baselineFloat",
           "longPackFloat",
           "mutableSpecificRefFloat",
           "mutableUniversalRefFloatIn1Long",
           "mutableUniversalRefFloatIn2Longs",
           "valueFloat",
           "valueOnlyBodiesFloat",
           "valuePreserveBoxFloat",
           "baselineDouble",
           "mutableSpecificRefDouble",
           "mutableUniversalRefDouble",
           "valueDouble",
           "valueOnlyBodiesDouble",
           "valuePreserveBoxDouble"
          ],
          "name": "Benchmark",
          "labels": [
           "baseline",
           "longPack",
           "mutableSpecificRef",
           "mutableUniversalRefIn1Long",
           "mutableUniversalRefIn2Longs",
           "value",
           "valueOnlyBodies",
           "valuePreserveBox",
           "baseline",
           "mutableSpecificRef",
           "mutableUniversalRef",
           "value",
           "valueOnlyBodies",
           "valuePreserveBox",
           "baseline",
           "longPack",
           "mutableSpecificRef",
           "mutableUniversalRefIn1Long",
           "mutableUniversalRefIn2Longs",
           "value",
           "valueOnlyBodies",
           "valuePreserveBox",
           "baseline",
           "mutableSpecificRef",
           "mutableUniversalRef",
           "value",
           "valueOnlyBodies",
           "valuePreserveBox"
          ]
         },
         {
          "aesthetic": "y",
          "name": "ns/op",
          "limits": [
           null,
           null
          ]
         },
         {
          "aesthetic": "fill",
          "discrete": true,
          "name": "Type",
          "guide": {
           "name": "legend"
          }
         },
         {
          "aesthetic": "x"
         },
         {
          "aesthetic": "x"
         },
         {
          "aesthetic": "y",
          "limits": [
           null,
           null
          ]
         }
        ],
        "layers": [
         {
          "mapping": {
           "x": "name",
           "y": "score",
           "fill": "type"
          },
          "stat": "identity",
          "sampling": "none",
          "position": "dodge",
          "geom": "bar",
          "tooltips": {
           "lines": [
            "Type|@type",
            "Benchmark|@name",
            "Score|@score"
           ]
          }
         },
         {
          "mapping": {
           "x": "name",
           "ymin": "minErr",
           "ymax": "maxErr"
          },
          "stat": "identity",
          "sampling": "none",
          "width": 0.5,
          "position": "identity",
          "geom": "errorbar"
         },
         {
          "mapping": {
           "x": "name",
           "y": "textPosition",
           "label": "label"
          },
          "stat": "identity",
          "size": 2.4,
          "sampling": "none",
          "position": "identity",
          "geom": "text"
         }
        ],
        "theme": {
         "flavor": "solarized_light"
        }
       },
       "apply_color_scheme": true,
       "swing_enabled": true
      }
     },
     "metadata": {},
     "output_type": "display_data"
    },
    {
     "data": {
      "text/html": "            <script type=\"text/javascript\" data-lets-plot-script=\"library\" src=\"https://cdn.jsdelivr.net/gh/JetBrains/lets-plot@v3.1.0/js-package/distr/lets-plot.min.js\"></script>    \n               <div id=\"rlFDRu\"></div>\n   <script type=\"text/javascript\" data-lets-plot-script=\"plot\">\n       var plotSpec={\n\"ggtitle\":{\n\"text\":\"BoxRecreation\",\n\"subtitle\":\"Hotspot\"\n},\n\"mapping\":{\n},\n\"data\":{\n\"score\":[63.374,592.887,618.361,61.756,65.203,645.538,66.187,64.436,610.506,620.422,60.965,67.054,644.713,63.668],\n\"textPosition\":[102.20042000000001,296.4435,309.1805,100.58242,104.02942,322.769,105.01342,103.26242,305.253,310.211,99.79142,105.88042,322.3565,102.49441999999999],\n\"name\":[\"baselineInt\",\"longPackInt\",\"valueInt\",\"valuePreserveBoxInt\",\"baselineLong\",\"valueLong\",\"valuePreserveBoxLong\",\"baselineFloat\",\"longPackFloat\",\"valueFloat\",\"valuePreserveBoxFloat\",\"baselineDouble\",\"valueDouble\",\"valuePreserveBoxDouble\"],\n\"minErr\":[63.29,592.5889999999999,618.049,61.722,65.123,643.969,66.097,64.33900000000001,608.79,619.8620000000001,60.92,66.95,643.1709999999999,63.51],\n\"label\":[\"100%\\n±\\n0.1%\\nInt\",\"936%\\n±\\n0.5%\\nInt\",\"976%\\n±\\n0.5%\\nInt\",\"97%\\n±\\n0.1%\\nInt\",\"100%\\n±\\n0.1%\\nLong\",\"990%\\n±\\n2.4%\\nLong\",\"102%\\n±\\n0.1%\\nLong\",\"100%\\n±\\n0.2%\\nFloat\",\"947%\\n±\\n2.7%\\nFloat\",\"963%\\n±\\n0.9%\\nFloat\",\"95%\\n±\\n0.1%\\nFloat\",\"100%\\n±\\n0.2%\\nDouble\",\"961%\\n±\\n2.3%\\nDouble\",\"95%\\n±\\n0.2%\\nDouble\"],\n\"type\":[\"Int\",\"Int\",\"Int\",\"Int\",\"Long\",\"Long\",\"Long\",\"Float\",\"Float\",\"Float\",\"Float\",\"Double\",\"Double\",\"Double\"],\n\"maxErr\":[63.458000000000006,593.185,618.673,61.79,65.283,647.107,66.277,64.533,612.222,620.982,61.010000000000005,67.158,646.255,63.826]\n},\n\"ggsize\":{\n\"width\":800.0,\n\"height\":600.0\n},\n\"kind\":\"plot\",\n\"scales\":[{\n\"aesthetic\":\"x\",\n\"breaks\":[\"baselineInt\",\"longPackInt\",\"valueInt\",\"valuePreserveBoxInt\",\"baselineLong\",\"valueLong\",\"valuePreserveBoxLong\",\"baselineFloat\",\"longPackFloat\",\"valueFloat\",\"valuePreserveBoxFloat\",\"baselineDouble\",\"valueDouble\",\"valuePreserveBoxDouble\"],\n\"name\":\"Benchmark\",\n\"labels\":[\"baseline\",\"longPack\",\"value\",\"valuePreserveBox\",\"baseline\",\"value\",\"valuePreserveBox\",\"baseline\",\"longPack\",\"value\",\"valuePreserveBox\",\"baseline\",\"value\",\"valuePreserveBox\"]\n},{\n\"aesthetic\":\"y\",\n\"name\":\"ns/op\",\n\"limits\":[null,null]\n},{\n\"aesthetic\":\"fill\",\n\"discrete\":true,\n\"name\":\"Type\",\n\"guide\":{\n\"name\":\"legend\"\n}\n},{\n\"aesthetic\":\"x\"\n},{\n\"aesthetic\":\"x\"\n},{\n\"aesthetic\":\"y\",\n\"limits\":[null,null]\n}],\n\"layers\":[{\n\"mapping\":{\n\"x\":\"name\",\n\"y\":\"score\",\n\"fill\":\"type\"\n},\n\"stat\":\"identity\",\n\"sampling\":\"none\",\n\"position\":\"dodge\",\n\"geom\":\"bar\",\n\"tooltips\":{\n\"lines\":[\"Type|@type\",\"Benchmark|@name\",\"Score|@score\"]\n},\n\"data\":{\n}\n},{\n\"mapping\":{\n\"x\":\"name\",\n\"ymin\":\"minErr\",\n\"ymax\":\"maxErr\"\n},\n\"stat\":\"identity\",\n\"sampling\":\"none\",\n\"width\":0.5,\n\"position\":\"identity\",\n\"geom\":\"errorbar\",\n\"data\":{\n}\n},{\n\"mapping\":{\n\"x\":\"name\",\n\"y\":\"textPosition\",\n\"label\":\"label\"\n},\n\"stat\":\"identity\",\n\"size\":5.2,\n\"sampling\":\"none\",\n\"position\":\"identity\",\n\"geom\":\"text\",\n\"data\":{\n}\n}],\n\"theme\":{\n\"flavor\":\"solarized_light\"\n}\n};\n       var plotContainer = document.getElementById(\"rlFDRu\");\n       LetsPlot.buildPlotFromProcessedSpecs(plotSpec, -1, -1, plotContainer);\n   </script>    ",
      "application/plot+json": {
       "output_type": "lets_plot_spec",
       "output": {
        "ggtitle": {
         "text": "BoxRecreation",
         "subtitle": "Hotspot"
        },
        "mapping": {},
        "data": {
         "score": [
          63.374,
          592.887,
          618.361,
          61.756,
          65.203,
          645.538,
          66.187,
          64.436,
          610.506,
          620.422,
          60.965,
          67.054,
          644.713,
          63.668
         ],
         "textPosition": [
          102.20042,
          296.4435,
          309.1805,
          100.58242,
          104.02942,
          322.769,
          105.01342,
          103.26242,
          305.253,
          310.211,
          99.79142,
          105.88042,
          322.3565,
          102.49442
         ],
         "name": [
          "baselineInt",
          "longPackInt",
          "valueInt",
          "valuePreserveBoxInt",
          "baselineLong",
          "valueLong",
          "valuePreserveBoxLong",
          "baselineFloat",
          "longPackFloat",
          "valueFloat",
          "valuePreserveBoxFloat",
          "baselineDouble",
          "valueDouble",
          "valuePreserveBoxDouble"
         ],
         "minErr": [
          63.29,
          592.589,
          618.049,
          61.722,
          65.123,
          643.969,
          66.097,
          64.339,
          608.79,
          619.862,
          60.92,
          66.95,
          643.171,
          63.51
         ],
         "label": [
          "100%\n±\n0.1%\nInt",
          "936%\n±\n0.5%\nInt",
          "976%\n±\n0.5%\nInt",
          "97%\n±\n0.1%\nInt",
          "100%\n±\n0.1%\nLong",
          "990%\n±\n2.4%\nLong",
          "102%\n±\n0.1%\nLong",
          "100%\n±\n0.2%\nFloat",
          "947%\n±\n2.7%\nFloat",
          "963%\n±\n0.9%\nFloat",
          "95%\n±\n0.1%\nFloat",
          "100%\n±\n0.2%\nDouble",
          "961%\n±\n2.3%\nDouble",
          "95%\n±\n0.2%\nDouble"
         ],
         "type": [
          "Int",
          "Int",
          "Int",
          "Int",
          "Long",
          "Long",
          "Long",
          "Float",
          "Float",
          "Float",
          "Float",
          "Double",
          "Double",
          "Double"
         ],
         "maxErr": [
          63.458,
          593.185,
          618.673,
          61.79,
          65.283,
          647.107,
          66.277,
          64.533,
          612.222,
          620.982,
          61.01,
          67.158,
          646.255,
          63.826
         ]
        },
        "ggsize": {
         "width": 800.0,
         "height": 600.0
        },
        "kind": "plot",
        "scales": [
         {
          "aesthetic": "x",
          "breaks": [
           "baselineInt",
           "longPackInt",
           "valueInt",
           "valuePreserveBoxInt",
           "baselineLong",
           "valueLong",
           "valuePreserveBoxLong",
           "baselineFloat",
           "longPackFloat",
           "valueFloat",
           "valuePreserveBoxFloat",
           "baselineDouble",
           "valueDouble",
           "valuePreserveBoxDouble"
          ],
          "name": "Benchmark",
          "labels": [
           "baseline",
           "longPack",
           "value",
           "valuePreserveBox",
           "baseline",
           "value",
           "valuePreserveBox",
           "baseline",
           "longPack",
           "value",
           "valuePreserveBox",
           "baseline",
           "value",
           "valuePreserveBox"
          ]
         },
         {
          "aesthetic": "y",
          "name": "ns/op",
          "limits": [
           null,
           null
          ]
         },
         {
          "aesthetic": "fill",
          "discrete": true,
          "name": "Type",
          "guide": {
           "name": "legend"
          }
         },
         {
          "aesthetic": "x"
         },
         {
          "aesthetic": "x"
         },
         {
          "aesthetic": "y",
          "limits": [
           null,
           null
          ]
         }
        ],
        "layers": [
         {
          "mapping": {
           "x": "name",
           "y": "score",
           "fill": "type"
          },
          "stat": "identity",
          "sampling": "none",
          "position": "dodge",
          "geom": "bar",
          "tooltips": {
           "lines": [
            "Type|@type",
            "Benchmark|@name",
            "Score|@score"
           ]
          }
         },
         {
          "mapping": {
           "x": "name",
           "ymin": "minErr",
           "ymax": "maxErr"
          },
          "stat": "identity",
          "sampling": "none",
          "width": 0.5,
          "position": "identity",
          "geom": "errorbar"
         },
         {
          "mapping": {
           "x": "name",
           "y": "textPosition",
           "label": "label"
          },
          "stat": "identity",
          "size": 5.2,
          "sampling": "none",
          "position": "identity",
          "geom": "text"
         }
        ],
        "theme": {
         "flavor": "solarized_light"
        }
       },
       "apply_color_scheme": true,
       "swing_enabled": true
      }
     },
     "metadata": {},
     "output_type": "display_data"
    }
   ],
   "source": [
    "makePlot(\"Wolf3d\", \"Hotspot\", readHotspotBenchmarkData(\"Wolf3dBenchmark\"))?.let { DISPLAY(it) }\n",
    "makePlot(\"Ackermann\", \"Hotspot\", readHotspotBenchmarkData(\"AckermannBenchmark\"))?.let { DISPLAY(it) }\n",
    "makePlot(\"BoxRecreation\", \"Hotspot\", readHotspotBenchmarkData(\"BoxRecreationBenchmark\"))?.let { DISPLAY(it) }"
   ],
   "metadata": {
    "collapsed": false,
    "ExecuteTime": {
     "end_time": "2023-07-13T01:47:10.981906Z",
     "start_time": "2023-07-13T01:47:05.610214Z"
    }
   }
  },
  {
   "cell_type": "code",
   "execution_count": 7,
   "outputs": [
    {
     "data": {
      "text/html": "            <script type=\"text/javascript\" data-lets-plot-script=\"library\" src=\"https://cdn.jsdelivr.net/gh/JetBrains/lets-plot@v3.1.0/js-package/distr/lets-plot.min.js\"></script>    \n               <div id=\"alXYXd\"></div>\n   <script type=\"text/javascript\" data-lets-plot-script=\"plot\">\n       var plotSpec={\n\"ggtitle\":{\n\"text\":\"Wolf3d\",\n\"subtitle\":\"Graal\"\n},\n\"mapping\":{\n},\n\"data\":{\n\"score\":[3.2220310116E7,3.1130571665E7,6.2687401068E7,2.2558807743E7,6.2339799936E7,2.5633672678E7,2.3696168745E7,2.3675694106E7,2.3653844677E7,2.3936471885E7,2.3606318076E7,3.2623935496E7,3.1926738849E7,2.2872372853E7,2.6056018863E7,2.38032553E7,2.3780257713E7,2.3730729621E7,2.4059573232E7,2.3859660085E7],\n\"textPosition\":[1.6110155058E7,1.55652858325E7,3.1343700534E7,1.12794038715E7,3.1169899968E7,1.2816836339E7,1.18480843725E7,1.1837847053E7,1.18269223385E7,1.19682359425E7,1.1803159038E7,1.6311967748E7,1.59633694245E7,1.14361864265E7,1.30280094315E7,1.190162765E7,1.18901288565E7,1.18653648105E7,1.2029786616E7,1.19298300425E7],\n\"name\":[\"baselineFloat\",\"inlineFloat\",\"longPackFloat\",\"mutableSpecificRefFloat\",\"mutableUniversalRefFloatIn1Long\",\"mutableUniversalRefFloatIn2Longs\",\"valueFloat\",\"valueInlineFloat\",\"valueInlineOnlyBodiesFloat\",\"valueOnlyBodiesFloat\",\"valuePreserveBoxFloat\",\"baselineDouble\",\"inlineDouble\",\"mutableSpecificRefDouble\",\"mutableUniversalRefDouble\",\"valueDouble\",\"valueInlineDouble\",\"valueInlineOnlyBodiesDouble\",\"valueOnlyBodiesDouble\",\"valuePreserveBoxDouble\"],\n\"minErr\":[3.1892555205000002E7,3.107453295E7,6.2622416499000005E7,2.25319572E7,6.2240858625999995E7,2.5605158292E7,2.3614533321000002E7,2.364468041E7,2.3630707246E7,2.3903102055000003E7,2.3536751107E7,3.2513247748999998E7,3.1444271557E7,2.2826886642E7,2.5993838106000002E7,2.3745407099E7,2.3731122781E7,2.3673762627E7,2.4015915309E7,2.3803376441E7],\n\"label\":[\"100%\\n±\\n1.0%\\nFloat\",\"97%\\n±\\n0.2%\\nFloat\",\"195%\\n±\\n0.2%\\nFloat\",\"70%\\n±\\n0.1%\\nFloat\",\"193%\\n±\\n0.3%\\nFloat\",\"80%\\n±\\n0.1%\\nFloat\",\"74%\\n±\\n0.3%\\nFloat\",\"73%\\n±\\n0.1%\\nFloat\",\"73%\\n±\\n0.1%\\nFloat\",\"74%\\n±\\n0.1%\\nFloat\",\"73%\\n±\\n0.2%\\nFloat\",\"100%\\n±\\n0.3%\\nDouble\",\"98%\\n±\\n1.5%\\nDouble\",\"70%\\n±\\n0.1%\\nDouble\",\"80%\\n±\\n0.2%\\nDouble\",\"73%\\n±\\n0.2%\\nDouble\",\"73%\\n±\\n0.2%\\nDouble\",\"73%\\n±\\n0.2%\\nDouble\",\"74%\\n±\\n0.1%\\nDouble\",\"73%\\n±\\n0.2%\\nDouble\"],\n\"type\":[\"Float\",\"Float\",\"Float\",\"Float\",\"Float\",\"Float\",\"Float\",\"Float\",\"Float\",\"Float\",\"Float\",\"Double\",\"Double\",\"Double\",\"Double\",\"Double\",\"Double\",\"Double\",\"Double\",\"Double\"],\n\"maxErr\":[3.2548065027E7,3.118661038E7,6.2752385637E7,2.2585658286000002E7,6.2438741246E7,2.5662187064E7,2.3777804169E7,2.3706707801999997E7,2.3676982108000003E7,2.3969841715E7,2.3675885045E7,3.2734623243E7,3.2409206141E7,2.2917859064E7,2.611819962E7,2.3861103501000002E7,2.3829392645E7,2.3787696615E7,2.4103231155E7,2.3915943729000002E7]\n},\n\"ggsize\":{\n\"width\":800.0,\n\"height\":600.0\n},\n\"kind\":\"plot\",\n\"scales\":[{\n\"aesthetic\":\"x\",\n\"breaks\":[\"baselineFloat\",\"inlineFloat\",\"longPackFloat\",\"mutableSpecificRefFloat\",\"mutableUniversalRefFloatIn1Long\",\"mutableUniversalRefFloatIn2Longs\",\"valueFloat\",\"valueInlineFloat\",\"valueInlineOnlyBodiesFloat\",\"valueOnlyBodiesFloat\",\"valuePreserveBoxFloat\",\"baselineDouble\",\"inlineDouble\",\"mutableSpecificRefDouble\",\"mutableUniversalRefDouble\",\"valueDouble\",\"valueInlineDouble\",\"valueInlineOnlyBodiesDouble\",\"valueOnlyBodiesDouble\",\"valuePreserveBoxDouble\"],\n\"name\":\"Benchmark\",\n\"labels\":[\"baseline\",\"inline\",\"longPack\",\"mutableSpecificRef\",\"mutableUniversalRefIn1Long\",\"mutableUniversalRefIn2Longs\",\"value\",\"valueInline\",\"valueInlineOnlyBodies\",\"valueOnlyBodies\",\"valuePreserveBox\",\"baseline\",\"inline\",\"mutableSpecificRef\",\"mutableUniversalRef\",\"value\",\"valueInline\",\"valueInlineOnlyBodies\",\"valueOnlyBodies\",\"valuePreserveBox\"]\n},{\n\"aesthetic\":\"y\",\n\"name\":\"ns/op\",\n\"limits\":[null,null]\n},{\n\"aesthetic\":\"fill\",\n\"discrete\":true,\n\"name\":\"Type\",\n\"guide\":{\n\"name\":\"legend\"\n}\n},{\n\"aesthetic\":\"x\"\n},{\n\"aesthetic\":\"x\"\n},{\n\"aesthetic\":\"y\",\n\"limits\":[null,null]\n}],\n\"layers\":[{\n\"mapping\":{\n\"x\":\"name\",\n\"y\":\"score\",\n\"fill\":\"type\"\n},\n\"stat\":\"identity\",\n\"sampling\":\"none\",\n\"position\":\"dodge\",\n\"geom\":\"bar\",\n\"tooltips\":{\n\"lines\":[\"Type|@type\",\"Benchmark|@name\",\"Score|@score\"]\n},\n\"data\":{\n}\n},{\n\"mapping\":{\n\"x\":\"name\",\n\"ymin\":\"minErr\",\n\"ymax\":\"maxErr\"\n},\n\"stat\":\"identity\",\n\"sampling\":\"none\",\n\"width\":0.5,\n\"position\":\"identity\",\n\"geom\":\"errorbar\",\n\"data\":{\n}\n},{\n\"mapping\":{\n\"x\":\"name\",\n\"y\":\"textPosition\",\n\"label\":\"label\"\n},\n\"stat\":\"identity\",\n\"size\":4.0,\n\"sampling\":\"none\",\n\"position\":\"identity\",\n\"geom\":\"text\",\n\"data\":{\n}\n}],\n\"theme\":{\n\"flavor\":\"solarized_light\"\n}\n};\n       var plotContainer = document.getElementById(\"alXYXd\");\n       LetsPlot.buildPlotFromProcessedSpecs(plotSpec, -1, -1, plotContainer);\n   </script>    ",
      "application/plot+json": {
       "output_type": "lets_plot_spec",
       "output": {
        "ggtitle": {
         "text": "Wolf3d",
         "subtitle": "Graal"
        },
        "mapping": {},
        "data": {
         "score": [
          3.222031E7,
          3.1130572E7,
          6.26874E7,
          2.2558808E7,
          6.23398E7,
          2.5633672E7,
          2.3696168E7,
          2.3675694E7,
          2.3653844E7,
          2.3936472E7,
          2.3606318E7,
          3.2623936E7,
          3.1926738E7,
          2.2872372E7,
          2.6056018E7,
          2.3803256E7,
          2.3780258E7,
          2.373073E7,
          2.4059574E7,
          2.385966E7
         ],
         "textPosition": [
          1.6110155E7,
          1.5565286E7,
          3.13437E7,
          1.1279404E7,
          3.11699E7,
          1.2816836E7,
          1.1848084E7,
          1.1837847E7,
          1.1826922E7,
          1.1968236E7,
          1.1803159E7,
          1.6311968E7,
          1.5963369E7,
          1.1436186E7,
          1.3028009E7,
          1.1901628E7,
          1.1890129E7,
          1.1865365E7,
          1.2029787E7,
          1.192983E7
         ],
         "name": [
          "baselineFloat",
          "inlineFloat",
          "longPackFloat",
          "mutableSpecificRefFloat",
          "mutableUniversalRefFloatIn1Long",
          "mutableUniversalRefFloatIn2Longs",
          "valueFloat",
          "valueInlineFloat",
          "valueInlineOnlyBodiesFloat",
          "valueOnlyBodiesFloat",
          "valuePreserveBoxFloat",
          "baselineDouble",
          "inlineDouble",
          "mutableSpecificRefDouble",
          "mutableUniversalRefDouble",
          "valueDouble",
          "valueInlineDouble",
          "valueInlineOnlyBodiesDouble",
          "valueOnlyBodiesDouble",
          "valuePreserveBoxDouble"
         ],
         "minErr": [
          3.1892556E7,
          3.1074532E7,
          6.2622416E7,
          2.2531958E7,
          6.224086E7,
          2.5605158E7,
          2.3614534E7,
          2.364468E7,
          2.3630708E7,
          2.3903102E7,
          2.3536752E7,
          3.2513248E7,
          3.1444272E7,
          2.2826886E7,
          2.5993838E7,
          2.3745408E7,
          2.3731122E7,
          2.3673762E7,
          2.4015916E7,
          2.3803376E7
         ],
         "label": [
          "100%\n±\n1.0%\nFloat",
          "97%\n±\n0.2%\nFloat",
          "195%\n±\n0.2%\nFloat",
          "70%\n±\n0.1%\nFloat",
          "193%\n±\n0.3%\nFloat",
          "80%\n±\n0.1%\nFloat",
          "74%\n±\n0.3%\nFloat",
          "73%\n±\n0.1%\nFloat",
          "73%\n±\n0.1%\nFloat",
          "74%\n±\n0.1%\nFloat",
          "73%\n±\n0.2%\nFloat",
          "100%\n±\n0.3%\nDouble",
          "98%\n±\n1.5%\nDouble",
          "70%\n±\n0.1%\nDouble",
          "80%\n±\n0.2%\nDouble",
          "73%\n±\n0.2%\nDouble",
          "73%\n±\n0.2%\nDouble",
          "73%\n±\n0.2%\nDouble",
          "74%\n±\n0.1%\nDouble",
          "73%\n±\n0.2%\nDouble"
         ],
         "type": [
          "Float",
          "Float",
          "Float",
          "Float",
          "Float",
          "Float",
          "Float",
          "Float",
          "Float",
          "Float",
          "Float",
          "Double",
          "Double",
          "Double",
          "Double",
          "Double",
          "Double",
          "Double",
          "Double",
          "Double"
         ],
         "maxErr": [
          3.2548066E7,
          3.118661E7,
          6.2752384E7,
          2.2585658E7,
          6.243874E7,
          2.5662188E7,
          2.3777804E7,
          2.3706708E7,
          2.3676982E7,
          2.3969842E7,
          2.3675886E7,
          3.2734624E7,
          3.2409206E7,
          2.291786E7,
          2.61182E7,
          2.3861104E7,
          2.3829392E7,
          2.3787696E7,
          2.4103232E7,
          2.3915944E7
         ]
        },
        "ggsize": {
         "width": 800.0,
         "height": 600.0
        },
        "kind": "plot",
        "scales": [
         {
          "aesthetic": "x",
          "breaks": [
           "baselineFloat",
           "inlineFloat",
           "longPackFloat",
           "mutableSpecificRefFloat",
           "mutableUniversalRefFloatIn1Long",
           "mutableUniversalRefFloatIn2Longs",
           "valueFloat",
           "valueInlineFloat",
           "valueInlineOnlyBodiesFloat",
           "valueOnlyBodiesFloat",
           "valuePreserveBoxFloat",
           "baselineDouble",
           "inlineDouble",
           "mutableSpecificRefDouble",
           "mutableUniversalRefDouble",
           "valueDouble",
           "valueInlineDouble",
           "valueInlineOnlyBodiesDouble",
           "valueOnlyBodiesDouble",
           "valuePreserveBoxDouble"
          ],
          "name": "Benchmark",
          "labels": [
           "baseline",
           "inline",
           "longPack",
           "mutableSpecificRef",
           "mutableUniversalRefIn1Long",
           "mutableUniversalRefIn2Longs",
           "value",
           "valueInline",
           "valueInlineOnlyBodies",
           "valueOnlyBodies",
           "valuePreserveBox",
           "baseline",
           "inline",
           "mutableSpecificRef",
           "mutableUniversalRef",
           "value",
           "valueInline",
           "valueInlineOnlyBodies",
           "valueOnlyBodies",
           "valuePreserveBox"
          ]
         },
         {
          "aesthetic": "y",
          "name": "ns/op",
          "limits": [
           null,
           null
          ]
         },
         {
          "aesthetic": "fill",
          "discrete": true,
          "name": "Type",
          "guide": {
           "name": "legend"
          }
         },
         {
          "aesthetic": "x"
         },
         {
          "aesthetic": "x"
         },
         {
          "aesthetic": "y",
          "limits": [
           null,
           null
          ]
         }
        ],
        "layers": [
         {
          "mapping": {
           "x": "name",
           "y": "score",
           "fill": "type"
          },
          "stat": "identity",
          "sampling": "none",
          "position": "dodge",
          "geom": "bar",
          "tooltips": {
           "lines": [
            "Type|@type",
            "Benchmark|@name",
            "Score|@score"
           ]
          }
         },
         {
          "mapping": {
           "x": "name",
           "ymin": "minErr",
           "ymax": "maxErr"
          },
          "stat": "identity",
          "sampling": "none",
          "width": 0.5,
          "position": "identity",
          "geom": "errorbar"
         },
         {
          "mapping": {
           "x": "name",
           "y": "textPosition",
           "label": "label"
          },
          "stat": "identity",
          "size": 4.0,
          "sampling": "none",
          "position": "identity",
          "geom": "text"
         }
        ],
        "theme": {
         "flavor": "solarized_light"
        }
       },
       "apply_color_scheme": true,
       "swing_enabled": true
      }
     },
     "metadata": {},
     "output_type": "display_data"
    },
    {
     "data": {
      "text/html": "            <script type=\"text/javascript\" data-lets-plot-script=\"library\" src=\"https://cdn.jsdelivr.net/gh/JetBrains/lets-plot@v3.1.0/js-package/distr/lets-plot.min.js\"></script>    \n               <div id=\"MUo02o\"></div>\n   <script type=\"text/javascript\" data-lets-plot-script=\"plot\">\n       var plotSpec={\n\"ggtitle\":{\n\"text\":\"Ackermann\",\n\"subtitle\":\"Graal\"\n},\n\"mapping\":{\n},\n\"data\":{\n\"score\":[12213.47,9099.179,7666.842,9747.194,7746.099,10205.683,12131.332,10182.473,14148.731,7626.798,7625.822,12224.308,14175.771,12147.699,12985.495,17057.635,9164.851,19019.907,11178.029,10785.743,12480.551,10807.352,14813.183,9285.787,9279.89,12712.512,14367.632,12890.688],\n\"textPosition\":[6106.735,4549.5895,3833.421,4873.597,3873.0495,5102.8415,6065.666,5091.2365,7074.3655,3813.399,3812.911,6112.154,7087.8855,6073.8495,6492.7475,8528.8175,4582.4255,9509.9535,5589.0145,5392.8715,6240.2755,5403.676,7406.5915,4642.8935,4639.945,6356.256,7183.816,6445.344],\n\"name\":[\"baselineInt\",\"longPackInt\",\"mutableSpecificRefInt\",\"mutableUniversalRefIntIn1Long\",\"mutableUniversalRefIntIn2Longs\",\"valueInt\",\"valueOnlyBodiesInt\",\"valuePreserveBoxInt\",\"baselineLong\",\"mutableSpecificRefLong\",\"mutableUniversalRefLong\",\"valueLong\",\"valueOnlyBodiesLong\",\"valuePreserveBoxLong\",\"baselineFloat\",\"longPackFloat\",\"mutableSpecificRefFloat\",\"mutableUniversalRefFloatIn1Long\",\"mutableUniversalRefFloatIn2Longs\",\"valueFloat\",\"valueOnlyBodiesFloat\",\"valuePreserveBoxFloat\",\"baselineDouble\",\"mutableSpecificRefDouble\",\"mutableUniversalRefDouble\",\"valueDouble\",\"valueOnlyBodiesDouble\",\"valuePreserveBoxDouble\"],\n\"minErr\":[12123.016,9063.667,7643.268,9685.181999999999,7720.679,10135.109,12071.332,10136.408,14101.610999999999,7612.463,7607.157,12070.577000000001,14146.827000000001,12029.495,12871.562,17042.915999999997,9149.171,19005.446,11162.265000000001,10761.828,12444.967999999999,10753.123000000001,14760.176000000001,9268.639000000001,9260.903999999999,12584.548,14233.701,12597.261],\n\"label\":[\"100%\\n±\\n0.7%\\nInt\",\"75%\\n±\\n0.3%\\nInt\",\"63%\\n±\\n0.2%\\nInt\",\"80%\\n±\\n0.5%\\nInt\",\"63%\\n±\\n0.2%\\nInt\",\"84%\\n±\\n0.6%\\nInt\",\"99%\\n±\\n0.5%\\nInt\",\"83%\\n±\\n0.4%\\nInt\",\"100%\\n±\\n0.3%\\nLong\",\"54%\\n±\\n0.1%\\nLong\",\"54%\\n±\\n0.1%\\nLong\",\"86%\\n±\\n1.1%\\nLong\",\"100%\\n±\\n0.2%\\nLong\",\"86%\\n±\\n0.8%\\nLong\",\"100%\\n±\\n0.9%\\nFloat\",\"131%\\n±\\n0.1%\\nFloat\",\"71%\\n±\\n0.1%\\nFloat\",\"146%\\n±\\n0.1%\\nFloat\",\"86%\\n±\\n0.1%\\nFloat\",\"83%\\n±\\n0.2%\\nFloat\",\"96%\\n±\\n0.3%\\nFloat\",\"83%\\n±\\n0.4%\\nFloat\",\"100%\\n±\\n0.4%\\nDouble\",\"63%\\n±\\n0.1%\\nDouble\",\"63%\\n±\\n0.1%\\nDouble\",\"86%\\n±\\n0.9%\\nDouble\",\"97%\\n±\\n0.9%\\nDouble\",\"87%\\n±\\n2.0%\\nDouble\"],\n\"type\":[\"Int\",\"Int\",\"Int\",\"Int\",\"Int\",\"Int\",\"Int\",\"Int\",\"Long\",\"Long\",\"Long\",\"Long\",\"Long\",\"Long\",\"Float\",\"Float\",\"Float\",\"Float\",\"Float\",\"Float\",\"Float\",\"Float\",\"Double\",\"Double\",\"Double\",\"Double\",\"Double\",\"Double\"],\n\"maxErr\":[12303.923999999999,9134.691,7690.415999999999,9809.206,7771.519,10276.257000000001,12191.332,10228.538,14195.851,7641.133,7644.487,12378.039,14204.715,12265.903,13099.428000000002,17072.354,9180.531,19034.368,11193.793,10809.658000000001,12516.134,10861.581,14866.19,9302.935,9298.876,12840.476,14501.563,13184.115]\n},\n\"ggsize\":{\n\"width\":800.0,\n\"height\":600.0\n},\n\"kind\":\"plot\",\n\"scales\":[{\n\"aesthetic\":\"x\",\n\"breaks\":[\"baselineInt\",\"longPackInt\",\"mutableSpecificRefInt\",\"mutableUniversalRefIntIn1Long\",\"mutableUniversalRefIntIn2Longs\",\"valueInt\",\"valueOnlyBodiesInt\",\"valuePreserveBoxInt\",\"baselineLong\",\"mutableSpecificRefLong\",\"mutableUniversalRefLong\",\"valueLong\",\"valueOnlyBodiesLong\",\"valuePreserveBoxLong\",\"baselineFloat\",\"longPackFloat\",\"mutableSpecificRefFloat\",\"mutableUniversalRefFloatIn1Long\",\"mutableUniversalRefFloatIn2Longs\",\"valueFloat\",\"valueOnlyBodiesFloat\",\"valuePreserveBoxFloat\",\"baselineDouble\",\"mutableSpecificRefDouble\",\"mutableUniversalRefDouble\",\"valueDouble\",\"valueOnlyBodiesDouble\",\"valuePreserveBoxDouble\"],\n\"name\":\"Benchmark\",\n\"labels\":[\"baseline\",\"longPack\",\"mutableSpecificRef\",\"mutableUniversalRefIn1Long\",\"mutableUniversalRefIn2Longs\",\"value\",\"valueOnlyBodies\",\"valuePreserveBox\",\"baseline\",\"mutableSpecificRef\",\"mutableUniversalRef\",\"value\",\"valueOnlyBodies\",\"valuePreserveBox\",\"baseline\",\"longPack\",\"mutableSpecificRef\",\"mutableUniversalRefIn1Long\",\"mutableUniversalRefIn2Longs\",\"value\",\"valueOnlyBodies\",\"valuePreserveBox\",\"baseline\",\"mutableSpecificRef\",\"mutableUniversalRef\",\"value\",\"valueOnlyBodies\",\"valuePreserveBox\"]\n},{\n\"aesthetic\":\"y\",\n\"name\":\"ns/op\",\n\"limits\":[null,null]\n},{\n\"aesthetic\":\"fill\",\n\"discrete\":true,\n\"name\":\"Type\",\n\"guide\":{\n\"name\":\"legend\"\n}\n},{\n\"aesthetic\":\"x\"\n},{\n\"aesthetic\":\"x\"\n},{\n\"aesthetic\":\"y\",\n\"limits\":[null,null]\n}],\n\"layers\":[{\n\"mapping\":{\n\"x\":\"name\",\n\"y\":\"score\",\n\"fill\":\"type\"\n},\n\"stat\":\"identity\",\n\"sampling\":\"none\",\n\"position\":\"dodge\",\n\"geom\":\"bar\",\n\"tooltips\":{\n\"lines\":[\"Type|@type\",\"Benchmark|@name\",\"Score|@score\"]\n},\n\"data\":{\n}\n},{\n\"mapping\":{\n\"x\":\"name\",\n\"ymin\":\"minErr\",\n\"ymax\":\"maxErr\"\n},\n\"stat\":\"identity\",\n\"sampling\":\"none\",\n\"width\":0.5,\n\"position\":\"identity\",\n\"geom\":\"errorbar\",\n\"data\":{\n}\n},{\n\"mapping\":{\n\"x\":\"name\",\n\"y\":\"textPosition\",\n\"label\":\"label\"\n},\n\"stat\":\"identity\",\n\"size\":2.4000000000000004,\n\"sampling\":\"none\",\n\"position\":\"identity\",\n\"geom\":\"text\",\n\"data\":{\n}\n}],\n\"theme\":{\n\"flavor\":\"solarized_light\"\n}\n};\n       var plotContainer = document.getElementById(\"MUo02o\");\n       LetsPlot.buildPlotFromProcessedSpecs(plotSpec, -1, -1, plotContainer);\n   </script>    ",
      "application/plot+json": {
       "output_type": "lets_plot_spec",
       "output": {
        "ggtitle": {
         "text": "Ackermann",
         "subtitle": "Graal"
        },
        "mapping": {},
        "data": {
         "score": [
          12213.47,
          9099.179,
          7666.842,
          9747.194,
          7746.099,
          10205.683,
          12131.332,
          10182.473,
          14148.731,
          7626.798,
          7625.822,
          12224.308,
          14175.771,
          12147.699,
          12985.495,
          17057.635,
          9164.851,
          19019.906,
          11178.029,
          10785.743,
          12480.551,
          10807.352,
          14813.183,
          9285.787,
          9279.89,
          12712.512,
          14367.632,
          12890.688
         ],
         "textPosition": [
          6106.735,
          4549.5894,
          3833.421,
          4873.597,
          3873.0496,
          5102.8413,
          6065.666,
          5091.2363,
          7074.3657,
          3813.399,
          3812.911,
          6112.154,
          7087.8857,
          6073.8496,
          6492.7476,
          8528.817,
          4582.4253,
          9509.953,
          5589.0146,
          5392.8716,
          6240.2754,
          5403.676,
          7406.5913,
          4642.8936,
          4639.945,
          6356.256,
          7183.816,
          6445.344
         ],
         "name": [
          "baselineInt",
          "longPackInt",
          "mutableSpecificRefInt",
          "mutableUniversalRefIntIn1Long",
          "mutableUniversalRefIntIn2Longs",
          "valueInt",
          "valueOnlyBodiesInt",
          "valuePreserveBoxInt",
          "baselineLong",
          "mutableSpecificRefLong",
          "mutableUniversalRefLong",
          "valueLong",
          "valueOnlyBodiesLong",
          "valuePreserveBoxLong",
          "baselineFloat",
          "longPackFloat",
          "mutableSpecificRefFloat",
          "mutableUniversalRefFloatIn1Long",
          "mutableUniversalRefFloatIn2Longs",
          "valueFloat",
          "valueOnlyBodiesFloat",
          "valuePreserveBoxFloat",
          "baselineDouble",
          "mutableSpecificRefDouble",
          "mutableUniversalRefDouble",
          "valueDouble",
          "valueOnlyBodiesDouble",
          "valuePreserveBoxDouble"
         ],
         "minErr": [
          12123.016,
          9063.667,
          7643.268,
          9685.182,
          7720.679,
          10135.109,
          12071.332,
          10136.408,
          14101.611,
          7612.463,
          7607.157,
          12070.577,
          14146.827,
          12029.495,
          12871.562,
          17042.916,
          9149.171,
          19005.445,
          11162.265,
          10761.828,
          12444.968,
          10753.123,
          14760.176,
          9268.639,
          9260.904,
          12584.548,
          14233.701,
          12597.261
         ],
         "label": [
          "100%\n±\n0.7%\nInt",
          "75%\n±\n0.3%\nInt",
          "63%\n±\n0.2%\nInt",
          "80%\n±\n0.5%\nInt",
          "63%\n±\n0.2%\nInt",
          "84%\n±\n0.6%\nInt",
          "99%\n±\n0.5%\nInt",
          "83%\n±\n0.4%\nInt",
          "100%\n±\n0.3%\nLong",
          "54%\n±\n0.1%\nLong",
          "54%\n±\n0.1%\nLong",
          "86%\n±\n1.1%\nLong",
          "100%\n±\n0.2%\nLong",
          "86%\n±\n0.8%\nLong",
          "100%\n±\n0.9%\nFloat",
          "131%\n±\n0.1%\nFloat",
          "71%\n±\n0.1%\nFloat",
          "146%\n±\n0.1%\nFloat",
          "86%\n±\n0.1%\nFloat",
          "83%\n±\n0.2%\nFloat",
          "96%\n±\n0.3%\nFloat",
          "83%\n±\n0.4%\nFloat",
          "100%\n±\n0.4%\nDouble",
          "63%\n±\n0.1%\nDouble",
          "63%\n±\n0.1%\nDouble",
          "86%\n±\n0.9%\nDouble",
          "97%\n±\n0.9%\nDouble",
          "87%\n±\n2.0%\nDouble"
         ],
         "type": [
          "Int",
          "Int",
          "Int",
          "Int",
          "Int",
          "Int",
          "Int",
          "Int",
          "Long",
          "Long",
          "Long",
          "Long",
          "Long",
          "Long",
          "Float",
          "Float",
          "Float",
          "Float",
          "Float",
          "Float",
          "Float",
          "Float",
          "Double",
          "Double",
          "Double",
          "Double",
          "Double",
          "Double"
         ],
         "maxErr": [
          12303.924,
          9134.691,
          7690.416,
          9809.206,
          7771.519,
          10276.257,
          12191.332,
          10228.538,
          14195.851,
          7641.133,
          7644.487,
          12378.039,
          14204.715,
          12265.903,
          13099.428,
          17072.354,
          9180.531,
          19034.367,
          11193.793,
          10809.658,
          12516.134,
          10861.581,
          14866.19,
          9302.935,
          9298.876,
          12840.476,
          14501.563,
          13184.115
         ]
        },
        "ggsize": {
         "width": 800.0,
         "height": 600.0
        },
        "kind": "plot",
        "scales": [
         {
          "aesthetic": "x",
          "breaks": [
           "baselineInt",
           "longPackInt",
           "mutableSpecificRefInt",
           "mutableUniversalRefIntIn1Long",
           "mutableUniversalRefIntIn2Longs",
           "valueInt",
           "valueOnlyBodiesInt",
           "valuePreserveBoxInt",
           "baselineLong",
           "mutableSpecificRefLong",
           "mutableUniversalRefLong",
           "valueLong",
           "valueOnlyBodiesLong",
           "valuePreserveBoxLong",
           "baselineFloat",
           "longPackFloat",
           "mutableSpecificRefFloat",
           "mutableUniversalRefFloatIn1Long",
           "mutableUniversalRefFloatIn2Longs",
           "valueFloat",
           "valueOnlyBodiesFloat",
           "valuePreserveBoxFloat",
           "baselineDouble",
           "mutableSpecificRefDouble",
           "mutableUniversalRefDouble",
           "valueDouble",
           "valueOnlyBodiesDouble",
           "valuePreserveBoxDouble"
          ],
          "name": "Benchmark",
          "labels": [
           "baseline",
           "longPack",
           "mutableSpecificRef",
           "mutableUniversalRefIn1Long",
           "mutableUniversalRefIn2Longs",
           "value",
           "valueOnlyBodies",
           "valuePreserveBox",
           "baseline",
           "mutableSpecificRef",
           "mutableUniversalRef",
           "value",
           "valueOnlyBodies",
           "valuePreserveBox",
           "baseline",
           "longPack",
           "mutableSpecificRef",
           "mutableUniversalRefIn1Long",
           "mutableUniversalRefIn2Longs",
           "value",
           "valueOnlyBodies",
           "valuePreserveBox",
           "baseline",
           "mutableSpecificRef",
           "mutableUniversalRef",
           "value",
           "valueOnlyBodies",
           "valuePreserveBox"
          ]
         },
         {
          "aesthetic": "y",
          "name": "ns/op",
          "limits": [
           null,
           null
          ]
         },
         {
          "aesthetic": "fill",
          "discrete": true,
          "name": "Type",
          "guide": {
           "name": "legend"
          }
         },
         {
          "aesthetic": "x"
         },
         {
          "aesthetic": "x"
         },
         {
          "aesthetic": "y",
          "limits": [
           null,
           null
          ]
         }
        ],
        "layers": [
         {
          "mapping": {
           "x": "name",
           "y": "score",
           "fill": "type"
          },
          "stat": "identity",
          "sampling": "none",
          "position": "dodge",
          "geom": "bar",
          "tooltips": {
           "lines": [
            "Type|@type",
            "Benchmark|@name",
            "Score|@score"
           ]
          }
         },
         {
          "mapping": {
           "x": "name",
           "ymin": "minErr",
           "ymax": "maxErr"
          },
          "stat": "identity",
          "sampling": "none",
          "width": 0.5,
          "position": "identity",
          "geom": "errorbar"
         },
         {
          "mapping": {
           "x": "name",
           "y": "textPosition",
           "label": "label"
          },
          "stat": "identity",
          "size": 2.4,
          "sampling": "none",
          "position": "identity",
          "geom": "text"
         }
        ],
        "theme": {
         "flavor": "solarized_light"
        }
       },
       "apply_color_scheme": true,
       "swing_enabled": true
      }
     },
     "metadata": {},
     "output_type": "display_data"
    },
    {
     "data": {
      "text/html": "            <script type=\"text/javascript\" data-lets-plot-script=\"library\" src=\"https://cdn.jsdelivr.net/gh/JetBrains/lets-plot@v3.1.0/js-package/distr/lets-plot.min.js\"></script>    \n               <div id=\"9cFAP0\"></div>\n   <script type=\"text/javascript\" data-lets-plot-script=\"plot\">\n       var plotSpec={\n\"ggtitle\":{\n\"text\":\"BoxRecreation\",\n\"subtitle\":\"Graal\"\n},\n\"mapping\":{\n},\n\"data\":{\n\"score\":[65.847,611.793,640.538,72.021,74.99,717.257,120.315,67.783,616.451,643.697,70.802,75.185,718.682,79.733],\n\"textPosition\":[109.15091999999999,305.8965,320.269,115.32491999999999,118.29391999999999,358.6285,60.1575,111.08691999999999,308.2255,321.8485,114.10592,118.48892000000001,359.341,123.03692000000001],\n\"name\":[\"baselineInt\",\"longPackInt\",\"valueInt\",\"valuePreserveBoxInt\",\"baselineLong\",\"valueLong\",\"valuePreserveBoxLong\",\"baselineFloat\",\"longPackFloat\",\"valueFloat\",\"valuePreserveBoxFloat\",\"baselineDouble\",\"valueDouble\",\"valuePreserveBoxDouble\"],\n\"minErr\":[63.81399999999999,608.82,636.5260000000001,70.309,73.40899999999999,714.303,99.585,65.288,615.428,641.202,69.30000000000001,73.533,715.6320000000001,79.637],\n\"label\":[\"100%\\n±\\n3.1%\\nInt\",\"929%\\n±\\n4.5%\\nInt\",\"973%\\n±\\n6.1%\\nInt\",\"109%\\n±\\n2.6%\\nInt\",\"100%\\n±\\n2.1%\\nLong\",\"956%\\n±\\n3.9%\\nLong\",\"160%\\n±\\n27.6%\\nLong\",\"100%\\n±\\n3.7%\\nFloat\",\"909%\\n±\\n1.5%\\nFloat\",\"950%\\n±\\n3.7%\\nFloat\",\"104%\\n±\\n2.2%\\nFloat\",\"100%\\n±\\n2.2%\\nDouble\",\"956%\\n±\\n4.1%\\nDouble\",\"106%\\n±\\n0.1%\\nDouble\"],\n\"type\":[\"Int\",\"Int\",\"Int\",\"Int\",\"Long\",\"Long\",\"Long\",\"Float\",\"Float\",\"Float\",\"Float\",\"Double\",\"Double\",\"Double\"],\n\"maxErr\":[67.88,614.766,644.55,73.733,76.571,720.2109999999999,141.045,70.278,617.474,646.192,72.304,76.837,721.732,79.82900000000001]\n},\n\"ggsize\":{\n\"width\":800.0,\n\"height\":600.0\n},\n\"kind\":\"plot\",\n\"scales\":[{\n\"aesthetic\":\"x\",\n\"breaks\":[\"baselineInt\",\"longPackInt\",\"valueInt\",\"valuePreserveBoxInt\",\"baselineLong\",\"valueLong\",\"valuePreserveBoxLong\",\"baselineFloat\",\"longPackFloat\",\"valueFloat\",\"valuePreserveBoxFloat\",\"baselineDouble\",\"valueDouble\",\"valuePreserveBoxDouble\"],\n\"name\":\"Benchmark\",\n\"labels\":[\"baseline\",\"longPack\",\"value\",\"valuePreserveBox\",\"baseline\",\"value\",\"valuePreserveBox\",\"baseline\",\"longPack\",\"value\",\"valuePreserveBox\",\"baseline\",\"value\",\"valuePreserveBox\"]\n},{\n\"aesthetic\":\"y\",\n\"name\":\"ns/op\",\n\"limits\":[null,null]\n},{\n\"aesthetic\":\"fill\",\n\"discrete\":true,\n\"name\":\"Type\",\n\"guide\":{\n\"name\":\"legend\"\n}\n},{\n\"aesthetic\":\"x\"\n},{\n\"aesthetic\":\"x\"\n},{\n\"aesthetic\":\"y\",\n\"limits\":[null,null]\n}],\n\"layers\":[{\n\"mapping\":{\n\"x\":\"name\",\n\"y\":\"score\",\n\"fill\":\"type\"\n},\n\"stat\":\"identity\",\n\"sampling\":\"none\",\n\"position\":\"dodge\",\n\"geom\":\"bar\",\n\"tooltips\":{\n\"lines\":[\"Type|@type\",\"Benchmark|@name\",\"Score|@score\"]\n},\n\"data\":{\n}\n},{\n\"mapping\":{\n\"x\":\"name\",\n\"ymin\":\"minErr\",\n\"ymax\":\"maxErr\"\n},\n\"stat\":\"identity\",\n\"sampling\":\"none\",\n\"width\":0.5,\n\"position\":\"identity\",\n\"geom\":\"errorbar\",\n\"data\":{\n}\n},{\n\"mapping\":{\n\"x\":\"name\",\n\"y\":\"textPosition\",\n\"label\":\"label\"\n},\n\"stat\":\"identity\",\n\"size\":5.2,\n\"sampling\":\"none\",\n\"position\":\"identity\",\n\"geom\":\"text\",\n\"data\":{\n}\n}],\n\"theme\":{\n\"flavor\":\"solarized_light\"\n}\n};\n       var plotContainer = document.getElementById(\"9cFAP0\");\n       LetsPlot.buildPlotFromProcessedSpecs(plotSpec, -1, -1, plotContainer);\n   </script>    ",
      "application/plot+json": {
       "output_type": "lets_plot_spec",
       "output": {
        "ggtitle": {
         "text": "BoxRecreation",
         "subtitle": "Graal"
        },
        "mapping": {},
        "data": {
         "score": [
          65.847,
          611.793,
          640.538,
          72.021,
          74.99,
          717.257,
          120.315,
          67.783,
          616.451,
          643.697,
          70.802,
          75.185,
          718.682,
          79.733
         ],
         "textPosition": [
          109.15092,
          305.8965,
          320.269,
          115.32492,
          118.29392,
          358.6285,
          60.1575,
          111.08692,
          308.2255,
          321.8485,
          114.10592,
          118.48892,
          359.341,
          123.03692
         ],
         "name": [
          "baselineInt",
          "longPackInt",
          "valueInt",
          "valuePreserveBoxInt",
          "baselineLong",
          "valueLong",
          "valuePreserveBoxLong",
          "baselineFloat",
          "longPackFloat",
          "valueFloat",
          "valuePreserveBoxFloat",
          "baselineDouble",
          "valueDouble",
          "valuePreserveBoxDouble"
         ],
         "minErr": [
          63.814,
          608.82,
          636.526,
          70.309,
          73.409,
          714.303,
          99.585,
          65.288,
          615.428,
          641.202,
          69.3,
          73.533,
          715.632,
          79.637
         ],
         "label": [
          "100%\n±\n3.1%\nInt",
          "929%\n±\n4.5%\nInt",
          "973%\n±\n6.1%\nInt",
          "109%\n±\n2.6%\nInt",
          "100%\n±\n2.1%\nLong",
          "956%\n±\n3.9%\nLong",
          "160%\n±\n27.6%\nLong",
          "100%\n±\n3.7%\nFloat",
          "909%\n±\n1.5%\nFloat",
          "950%\n±\n3.7%\nFloat",
          "104%\n±\n2.2%\nFloat",
          "100%\n±\n2.2%\nDouble",
          "956%\n±\n4.1%\nDouble",
          "106%\n±\n0.1%\nDouble"
         ],
         "type": [
          "Int",
          "Int",
          "Int",
          "Int",
          "Long",
          "Long",
          "Long",
          "Float",
          "Float",
          "Float",
          "Float",
          "Double",
          "Double",
          "Double"
         ],
         "maxErr": [
          67.88,
          614.766,
          644.55,
          73.733,
          76.571,
          720.211,
          141.045,
          70.278,
          617.474,
          646.192,
          72.304,
          76.837,
          721.732,
          79.829
         ]
        },
        "ggsize": {
         "width": 800.0,
         "height": 600.0
        },
        "kind": "plot",
        "scales": [
         {
          "aesthetic": "x",
          "breaks": [
           "baselineInt",
           "longPackInt",
           "valueInt",
           "valuePreserveBoxInt",
           "baselineLong",
           "valueLong",
           "valuePreserveBoxLong",
           "baselineFloat",
           "longPackFloat",
           "valueFloat",
           "valuePreserveBoxFloat",
           "baselineDouble",
           "valueDouble",
           "valuePreserveBoxDouble"
          ],
          "name": "Benchmark",
          "labels": [
           "baseline",
           "longPack",
           "value",
           "valuePreserveBox",
           "baseline",
           "value",
           "valuePreserveBox",
           "baseline",
           "longPack",
           "value",
           "valuePreserveBox",
           "baseline",
           "value",
           "valuePreserveBox"
          ]
         },
         {
          "aesthetic": "y",
          "name": "ns/op",
          "limits": [
           null,
           null
          ]
         },
         {
          "aesthetic": "fill",
          "discrete": true,
          "name": "Type",
          "guide": {
           "name": "legend"
          }
         },
         {
          "aesthetic": "x"
         },
         {
          "aesthetic": "x"
         },
         {
          "aesthetic": "y",
          "limits": [
           null,
           null
          ]
         }
        ],
        "layers": [
         {
          "mapping": {
           "x": "name",
           "y": "score",
           "fill": "type"
          },
          "stat": "identity",
          "sampling": "none",
          "position": "dodge",
          "geom": "bar",
          "tooltips": {
           "lines": [
            "Type|@type",
            "Benchmark|@name",
            "Score|@score"
           ]
          }
         },
         {
          "mapping": {
           "x": "name",
           "ymin": "minErr",
           "ymax": "maxErr"
          },
          "stat": "identity",
          "sampling": "none",
          "width": 0.5,
          "position": "identity",
          "geom": "errorbar"
         },
         {
          "mapping": {
           "x": "name",
           "y": "textPosition",
           "label": "label"
          },
          "stat": "identity",
          "size": 5.2,
          "sampling": "none",
          "position": "identity",
          "geom": "text"
         }
        ],
        "theme": {
         "flavor": "solarized_light"
        }
       },
       "apply_color_scheme": true,
       "swing_enabled": true
      }
     },
     "metadata": {},
     "output_type": "display_data"
    }
   ],
   "source": [
    "makePlot(\"Wolf3d\", \"Graal\", readGraalBenchmarkData(\"Wolf3dBenchmark\"))?.let { DISPLAY(it) }\n",
    "makePlot(\"Ackermann\", \"Graal\", readGraalBenchmarkData(\"AckermannBenchmark\"))?.let { DISPLAY(it) }\n",
    "makePlot(\"BoxRecreation\", \"Graal\", readGraalBenchmarkData(\"BoxRecreationBenchmark\"))?.let { DISPLAY(it) }"
   ],
   "metadata": {
    "collapsed": false,
    "ExecuteTime": {
     "end_time": "2023-07-13T01:47:10.986087Z",
     "start_time": "2023-07-13T01:47:07.079629Z"
    }
   }
  },
  {
   "cell_type": "code",
   "execution_count": 8,
   "outputs": [],
   "source": [
    "import java.io.FileFilter\n",
    "import kotlin.io.path.listDirectoryEntries\n",
    "\n",
    "fun readArtBenchmarkData(benchmarkName: String) = Path.of(\"android-benchmark/build/outputs/androidTest-results/connected\")\n",
    "    .toFile().listFiles(FileFilter { it.isDirectory })!!.single()\n",
    "    .listFiles { _, name -> name.startsWith(\"logcat-org.jetbrains.\") }!!.flatMap { it.readLines() }\n",
    "    .parseBenchmarkData(Regex(\"^\\\\d{2}-\\\\d{2} +\\\\d+:\\\\d+:\\\\d+.\\\\d+ +\\\\d+ +\\\\d+ +I +Benchmark: +$benchmarkName\\\\.(?<name>[^\\\\[]+)\\\\[Metric \\\\(timeNs\\\\) +results: +median +(?<score>[^,]+), +min [^,]+, +max [^,]+, +standardDeviation: +(?<error>[^,]+), +.*\"))"
   ],
   "metadata": {
    "collapsed": false,
    "ExecuteTime": {
     "end_time": "2023-07-13T01:47:10.986787Z",
     "start_time": "2023-07-13T01:47:07.792804Z"
    }
   }
  },
  {
   "cell_type": "code",
   "execution_count": 9,
   "outputs": [
    {
     "data": {
      "text/html": "            <iframe onload=\"o_resize_iframe_out_3()\" style=\"width:100%;\" class=\"result_container\" id=\"iframe_out_3\" frameBorder=\"0\" srcdoc=\"        &lt;html theme='dark'&gt;\n        &lt;head&gt;\n            &lt;style type=&quot;text&sol;css&quot;&gt;\n                :root {\n    --background: #fff;\n    --background-odd: #f5f5f5;\n    --background-hover: #d9edfd;\n    --header-text-color: #474747;\n    --text-color: #848484;\n    --text-color-dark: #000;\n    --text-color-medium: #737373;\n    --text-color-pale: #b3b3b3;\n    --inner-border-color: #aaa;\n    --bold-border-color: #000;\n    --link-color: #296eaa;\n    --link-color-pale: #296eaa;\n    --link-hover: #1a466c;\n}\n\n:root[theme=&quot;dark&quot;], :root [data-jp-theme-light=&quot;false&quot;], .dataframe_dark{\n    --background: #303030;\n    --background-odd: #3c3c3c;\n    --background-hover: #464646;\n    --header-text-color: #dddddd;\n    --text-color: #b3b3b3;\n    --text-color-dark: #dddddd;\n    --text-color-medium: #b2b2b2;\n    --text-color-pale: #737373;\n    --inner-border-color: #707070;\n    --bold-border-color: #777777;\n    --link-color: #008dc0;\n    --link-color-pale: #97e1fb;\n    --link-hover: #00688e;\n}\n\np.dataframe_description {\n    color: var(--text-color-dark);\n}\n\ntable.dataframe {\n    font-family: &quot;Helvetica Neue&quot;, Helvetica, Arial, sans-serif;\n    font-size: 12px;\n    background-color: var(--background);\n    color: var(--text-color-dark);\n    border: none;\n    border-collapse: collapse;\n}\n\ntable.dataframe th, td {\n    padding: 6px;\n    border: 1px solid transparent;\n    text-align: left;\n}\n\ntable.dataframe th {\n    background-color: var(--background);\n    color: var(--header-text-color);\n}\n\ntable.dataframe td {\n    vertical-align: top;\n}\n\ntable.dataframe th.bottomBorder {\n    border-bottom-color: var(--bold-border-color);\n}\n\ntable.dataframe tbody &gt; tr:nth-child(odd) {\n    background: var(--background-odd);\n}\n\ntable.dataframe tbody &gt; tr:nth-child(even) {\n    background: var(--background);\n}\n\ntable.dataframe tbody &gt; tr:hover {\n    background: var(--background-hover);\n}\n\ntable.dataframe a {\n    cursor: pointer;\n    color: var(--link-color);\n    text-decoration: none;\n}\n\ntable.dataframe tr:hover &gt; td a {\n    color: var(--link-color-pale);\n}\n\ntable.dataframe a:hover {\n    color: var(--link-hover);\n    text-decoration: underline;\n}\n\ntable.dataframe img {\n    max-width: fit-content;\n}\n\ntable.dataframe th.complex {\n    background-color: var(--background);\n    border: 1px solid var(--background);\n}\n\ntable.dataframe .leftBorder {\n    border-left-color: var(--inner-border-color);\n}\n\ntable.dataframe .rightBorder {\n    border-right-color: var(--inner-border-color);\n}\n\ntable.dataframe .rightAlign {\n    text-align: right;\n}\n\ntable.dataframe .expanderSvg {\n    width: 8px;\n    height: 8px;\n    margin-right: 3px;\n}\n\ntable.dataframe .expander {\n    display: flex;\n    align-items: center;\n}\n\n&sol;* formatting *&sol;\n\ntable.dataframe .null {\n    color: var(--text-color-pale);\n}\n\ntable.dataframe .structural {\n    color: var(--text-color-medium);\n    font-weight: bold;\n}\n\ntable.dataframe .dataFrameCaption {\n    font-weight: bold;\n}\n\ntable.dataframe .numbers {\n    color: var(--text-color-dark);\n}\n\ntable.dataframe td:hover .formatted .structural, .null {\n    color: var(--text-color-dark);\n}\n\ntable.dataframe tr:hover .formatted .structural, .null {\n    color: var(--text-color-dark);\n}\n\n\n\n\n:root {\n    --scroll-bg: #f5f5f5;\n    --scroll-fg: #b3b3b3;\n}\n:root[theme=&quot;dark&quot;], :root [data-jp-theme-light=&quot;false&quot;]{\n    --scroll-bg: #3c3c3c;\n    --scroll-fg: #97e1fb;\n}\nbody {\n    scrollbar-color: var(--scroll-fg) var(--scroll-bg);\n}\nbody::-webkit-scrollbar {\n    width: 10px; &sol;* Mostly for vertical scrollbars *&sol;\n    height: 10px; &sol;* Mostly for horizontal scrollbars *&sol;\n}\nbody::-webkit-scrollbar-thumb {\n    background-color: var(--scroll-fg);\n}\nbody::-webkit-scrollbar-track {\n    background-color: var(--scroll-bg);\n}\n            &lt;&sol;style&gt;\n        &lt;&sol;head&gt;\n        &lt;body&gt;\n            \n&lt;table class=&quot;dataframe&quot; id=&quot;df_1593835522&quot;&gt;&lt;&sol;table&gt;\n\n&lt;p class=&quot;dataframe_description&quot;&gt;DataFrame: rowsCount = 20, columnsCount = 4&lt;&sol;p&gt;\n\n        &lt;&sol;body&gt;\n        &lt;script&gt;\n            (function () {\n    window.DataFrame = window.DataFrame || new (function () {\n        this.addTable = function (df) {\n            let cols = df.cols;\n            for (let i = 0; i &lt; cols.length; i++) {\n                for (let c of cols[i].children) {\n                    cols[c].parent = i;\n                }\n            }\n            df.nrow = 0\n            for (let i = 0; i &lt; df.cols.length; i++) {\n                if (df.cols[i].values.length &gt; df.nrow) df.nrow = df.cols[i].values.length\n            }\n            if (df.id === df.rootId) {\n                df.expandedFrames = new Set()\n                df.childFrames = {}\n                const table = this.getTableElement(df.id)\n                table.df = df\n                for (let i = 0; i &lt; df.cols.length; i++) {\n                    let col = df.cols[i]\n                    if (col.parent === undefined &amp;&amp; col.children.length &gt; 0) col.expanded = true\n                }\n            } else {\n                const rootDf = this.getTableData(df.rootId)\n                rootDf.childFrames[df.id] = df\n            }\n        }\n\n        this.computeRenderData = function (df) {\n            let result = []\n            let pos = 0\n            for (let col = 0; col &lt; df.cols.length; col++) {\n                if (df.cols[col].parent === undefined)\n                    pos += this.computeRenderDataRec(df.cols, col, pos, 0, result, false, false)\n            }\n            for (let i = 0; i &lt; result.length; i++) {\n                let row = result[i]\n                for (let j = 0; j &lt; row.length; j++) {\n                    let cell = row[j]\n                    if (j === 0)\n                        cell.leftBd = false\n                    if (j &lt; row.length - 1) {\n                        let nextData = row[j + 1]\n                        if (nextData.leftBd) cell.rightBd = true\n                        else if (cell.rightBd) nextData.leftBd = true\n                    } else cell.rightBd = false\n                }\n            }\n            return result\n        }\n\n        this.computeRenderDataRec = function (cols, colId, pos, depth, result, leftBorder, rightBorder) {\n            if (result.length === depth) {\n                const array = [];\n                if (pos &gt; 0) {\n                    let j = 0\n                    for (let i = 0; j &lt; pos; i++) {\n                        let c = result[depth - 1][i]\n                        j += c.span\n                        let copy = Object.assign({empty: true}, c)\n                        array.push(copy)\n                    }\n                }\n                result.push(array)\n            }\n            const col = cols[colId];\n            let size = 0;\n            if (col.expanded) {\n                let childPos = pos\n                for (let i = 0; i &lt; col.children.length; i++) {\n                    let child = col.children[i]\n                    let childLeft = i === 0 &amp;&amp; (col.children.length &gt; 1 || leftBorder)\n                    let childRight = i === col.children.length - 1 &amp;&amp; (col.children.length &gt; 1 || rightBorder)\n                    let childSize = this.computeRenderDataRec(cols, child, childPos, depth + 1, result, childLeft, childRight)\n                    childPos += childSize\n                    size += childSize\n                }\n            } else {\n                for (let i = depth + 1; i &lt; result.length; i++)\n                    result[i].push({id: colId, span: 1, leftBd: leftBorder, rightBd: rightBorder, empty: true})\n                size = 1\n            }\n            let left = leftBorder\n            let right = rightBorder\n            if (size &gt; 1) {\n                left = true\n                right = true\n            }\n            result[depth].push({id: colId, span: size, leftBd: left, rightBd: right})\n            return size\n        }\n\n        this.getTableElement = function (id) {\n            return document.getElementById(&quot;df_&quot; + id)\n        }\n\n        this.getTableData = function (id) {\n            return this.getTableElement(id).df\n        }\n\n        this.createExpander = function (isExpanded) {\n            const svgNs = &quot;http:&sol;&sol;www.w3.org&sol;2000&sol;svg&quot;\n            let svg = document.createElementNS(svgNs, &quot;svg&quot;)\n            svg.classList.add(&quot;expanderSvg&quot;)\n            let path = document.createElementNS(svgNs, &quot;path&quot;)\n            if (isExpanded) {\n                svg.setAttribute(&quot;viewBox&quot;, &quot;0 -2 8 8&quot;)\n                path.setAttribute(&quot;d&quot;, &quot;M1 0 l-1 1 4 4 4 -4 -1 -1 -3 3Z&quot;)\n            } else {\n                svg.setAttribute(&quot;viewBox&quot;, &quot;-2 0 8 8&quot;)\n                path.setAttribute(&quot;d&quot;, &quot;M1 0 l-1 1 3 3 -3 3 1 1 4 -4Z&quot;)\n            }\n            path.setAttribute(&quot;fill&quot;, &quot;currentColor&quot;)\n            svg.appendChild(path)\n            return svg\n        }\n\n        this.renderTable = function (id) {\n\n            let table = this.getTableElement(id)\n\n            if (table === null) return\n\n            table.innerHTML = &quot;&quot;\n\n            let df = table.df\n            let rootDf = df.rootId === df.id ? df : this.getTableData(df.rootId)\n\n            &sol;&sol; header\n            let header = document.createElement(&quot;thead&quot;)\n            table.appendChild(header)\n\n            let renderData = this.computeRenderData(df)\n            for (let j = 0; j &lt; renderData.length; j++) {\n                let rowData = renderData[j]\n                let tr = document.createElement(&quot;tr&quot;);\n                let isLastRow = j === renderData.length - 1\n                header.appendChild(tr);\n                for (let i = 0; i &lt; rowData.length; i++) {\n                    let cell = rowData[i]\n                    let th = document.createElement(&quot;th&quot;);\n                    th.setAttribute(&quot;colspan&quot;, cell.span)\n                    let colId = cell.id\n                    let col = df.cols[colId];\n                    if (!cell.empty) {\n                        if (col.children.length === 0) {\n                            th.innerHTML = col.name\n                        } else {\n                            let link = document.createElement(&quot;a&quot;)\n                            link.className = &quot;expander&quot;\n                            let that = this\n                            link.onclick = function () {\n                                col.expanded = !col.expanded\n                                that.renderTable(id)\n                            }\n                            link.appendChild(this.createExpander(col.expanded))\n                            link.innerHTML += col.name\n                            th.appendChild(link)\n                        }\n                    }\n                    let classes = (cell.leftBd ? &quot; leftBorder&quot; : &quot;&quot;) + (cell.rightBd ? &quot; rightBorder&quot; : &quot;&quot;)\n                    if (col.rightAlign)\n                        classes += &quot; rightAlign&quot;\n                    if (isLastRow)\n                        classes += &quot; bottomBorder&quot;\n                    if (classes.length &gt; 0)\n                        th.setAttribute(&quot;class&quot;, classes)\n                    tr.appendChild(th)\n                }\n            }\n\n            &sol;&sol; body\n            let body = document.createElement(&quot;tbody&quot;)\n            table.appendChild(body)\n\n            let columns = renderData.pop()\n            for (let row = 0; row &lt; df.nrow; row++) {\n                let tr = document.createElement(&quot;tr&quot;);\n                body.appendChild(tr)\n                for (let i = 0; i &lt; columns.length; i++) {\n                    let cell = columns[i]\n                    let td = document.createElement(&quot;td&quot;);\n                    let colId = cell.id\n                    let col = df.cols[colId]\n                    let classes = (cell.leftBd ? &quot; leftBorder&quot; : &quot;&quot;) + (cell.rightBd ? &quot; rightBorder&quot; : &quot;&quot;)\n                    if (col.rightAlign)\n                        classes += &quot; rightAlign&quot;\n                    if (classes.length &gt; 0)\n                        td.setAttribute(&quot;class&quot;, classes)\n                    tr.appendChild(td)\n                    let value = col.values[row]\n                    if (value.frameId !== undefined) {\n                        let frameId = value.frameId\n                        let expanded = rootDf.expandedFrames.has(frameId)\n                        let link = document.createElement(&quot;a&quot;)\n                        link.className = &quot;expander&quot;\n                        let that = this\n                        link.onclick = function () {\n                            if (rootDf.expandedFrames.has(frameId))\n                                rootDf.expandedFrames.delete(frameId)\n                            else rootDf.expandedFrames.add(frameId)\n                            that.renderTable(id)\n                        }\n                        link.appendChild(this.createExpander(expanded))\n                        link.innerHTML += value.value\n                        if (expanded) {\n                            td.appendChild(link)\n                            td.appendChild(document.createElement(&quot;p&quot;))\n                            const childTable = document.createElement(&quot;table&quot;)\n                            childTable.className = &quot;dataframe&quot;\n                            childTable.id = &quot;df_&quot; + frameId\n                            let childDf = rootDf.childFrames[frameId]\n                            childTable.df = childDf\n                            td.appendChild(childTable)\n                            this.renderTable(frameId)\n                            if (childDf.nrow !== childDf.totalRows) {\n                                const footer = document.createElement(&quot;p&quot;)\n                                footer.innerText = `... showing only top ${childDf.nrow} of ${childDf.totalRows} rows`\n                                td.appendChild(footer)\n                            }\n                        } else {\n                            td.appendChild(link)\n                        }\n                    } else if (value.style !== undefined) {\n                        td.innerHTML = value.value\n                        td.setAttribute(&quot;style&quot;, value.style)\n                    } else td.innerHTML = value\n                    this.nodeScriptReplace(td)\n                }\n            }\n        }\n\n        this.nodeScriptReplace = function (node) {\n            if (this.nodeScriptIs(node) === true) {\n                node.parentNode.replaceChild(this.nodeScriptClone(node), node);\n            } else {\n                let i = -1, children = node.childNodes;\n                while (++i &lt; children.length) {\n                    this.nodeScriptReplace(children[i]);\n                }\n            }\n\n            return node;\n        }\n\n        this.nodeScriptClone = function (node) {\n            let script = document.createElement(&quot;script&quot;);\n            script.text = node.innerHTML;\n\n            let i = -1, attrs = node.attributes, attr;\n            while (++i &lt; attrs.length) {\n                script.setAttribute((attr = attrs[i]).name, attr.value);\n            }\n            return script;\n        }\n\n        this.nodeScriptIs = function (node) {\n            return node.tagName === 'SCRIPT';\n        }\n    })()\n\n    window.call_DataFrame = function (f) {\n        return f();\n    };\n\n    let funQueue = window[&quot;kotlinQueues&quot;] &amp;&amp; window[&quot;kotlinQueues&quot;][&quot;DataFrame&quot;];\n    if (funQueue) {\n        funQueue.forEach(function (f) {\n            f();\n        });\n        funQueue = [];\n    }\n})()\n\n&sol;*&lt;!--*&sol;\ncall_DataFrame(function() { DataFrame.addTable({ cols: [{ name: &quot;&lt;span title=&bsol;&quot;name: String&bsol;&quot;&gt;name&lt;&sol;span&gt;&quot;, children: [], rightAlign: false, values: [&quot;baselineFloat&quot;,&quot;inlineFloat&quot;,&quot;longPackFloat&quot;,&quot;mutableSpecificRefFloat&quot;,&quot;mutableUniversalRefFloatIn1Long&quot;,&quot;mutableUniversalRefFloatIn2Longs&quot;,&quot;valueFloat&quot;,&quot;valueInlineFloat&quot;,&quot;valueInlineOnlyBodiesFloat&quot;,&quot;valueOnlyBodiesFloat&quot;,&quot;valuePreserveBoxFloat&quot;,&quot;baselineDouble&quot;,&quot;inlineDouble&quot;,&quot;mutableSpecificRefDouble&quot;,&quot;mutableUniversalRefDouble&quot;,&quot;valueDouble&quot;,&quot;valueInlineDouble&quot;,&quot;valueInlineOnlyBodiesDouble&quot;,&quot;valueOnlyBodiesDouble&quot;,&quot;valuePreserveBoxDouble&quot;] }, \n{ name: &quot;&lt;span title=&bsol;&quot;score: Double&bsol;&quot;&gt;score&lt;&sol;span&gt;&quot;, children: [], rightAlign: true, values: [&quot;&lt;span class=&bsol;&quot;formatted&bsol;&quot; title=&bsol;&quot;&bsol;&quot;&gt;&lt;span class=&bsol;&quot;numbers&bsol;&quot;&gt;664315961.500000&lt;&sol;span&gt;&lt;&sol;span&gt;&quot;,&quot;&lt;span class=&bsol;&quot;formatted&bsol;&quot; title=&bsol;&quot;&bsol;&quot;&gt;&lt;span class=&bsol;&quot;numbers&bsol;&quot;&gt;1010070634.000000&lt;&sol;span&gt;&lt;&sol;span&gt;&quot;,&quot;&lt;span class=&bsol;&quot;formatted&bsol;&quot; title=&bsol;&quot;&bsol;&quot;&gt;&lt;span class=&bsol;&quot;numbers&bsol;&quot;&gt;108037711.500000&lt;&sol;span&gt;&lt;&sol;span&gt;&quot;,&quot;&lt;span class=&bsol;&quot;formatted&bsol;&quot; title=&bsol;&quot;&bsol;&quot;&gt;&lt;span class=&bsol;&quot;numbers&bsol;&quot;&gt;47537173.000000&lt;&sol;span&gt;&lt;&sol;span&gt;&quot;,&quot;&lt;span class=&bsol;&quot;formatted&bsol;&quot; title=&bsol;&quot;&bsol;&quot;&gt;&lt;span class=&bsol;&quot;numbers&bsol;&quot;&gt;221843557.000000&lt;&sol;span&gt;&lt;&sol;span&gt;&quot;,&quot;&lt;span class=&bsol;&quot;formatted&bsol;&quot; title=&bsol;&quot;&bsol;&quot;&gt;&lt;span class=&bsol;&quot;numbers&bsol;&quot;&gt;141524923.000000&lt;&sol;span&gt;&lt;&sol;span&gt;&quot;,&quot;&lt;span class=&bsol;&quot;formatted&bsol;&quot; title=&bsol;&quot;&bsol;&quot;&gt;&lt;span class=&bsol;&quot;numbers&bsol;&quot;&gt;628109673.000000&lt;&sol;span&gt;&lt;&sol;span&gt;&quot;,&quot;&lt;span class=&bsol;&quot;formatted&bsol;&quot; title=&bsol;&quot;&bsol;&quot;&gt;&lt;span class=&bsol;&quot;numbers&bsol;&quot;&gt;24548711.500000&lt;&sol;span&gt;&lt;&sol;span&gt;&quot;,&quot;&lt;span class=&bsol;&quot;formatted&bsol;&quot; title=&bsol;&quot;&bsol;&quot;&gt;&lt;span class=&bsol;&quot;numbers&bsol;&quot;&gt;17606746.200000&lt;&sol;span&gt;&lt;&sol;span&gt;&quot;,&quot;&lt;span class=&bsol;&quot;formatted&bsol;&quot; title=&bsol;&quot;&bsol;&quot;&gt;&lt;span class=&bsol;&quot;numbers&bsol;&quot;&gt;1390633787.000000&lt;&sol;span&gt;&lt;&sol;span&gt;&quot;,&quot;&lt;span class=&bsol;&quot;formatted&bsol;&quot; title=&bsol;&quot;&bsol;&quot;&gt;&lt;span class=&bsol;&quot;numbers&bsol;&quot;&gt;638426999.500000&lt;&sol;span&gt;&lt;&sol;span&gt;&quot;,&quot;&lt;span class=&bsol;&quot;formatted&bsol;&quot; title=&bsol;&quot;&bsol;&quot;&gt;&lt;span class=&bsol;&quot;numbers&bsol;&quot;&gt;633921442.000000&lt;&sol;span&gt;&lt;&sol;span&gt;&quot;,&quot;&lt;span class=&bsol;&quot;formatted&bsol;&quot; title=&bsol;&quot;&bsol;&quot;&gt;&lt;span class=&bsol;&quot;numbers&bsol;&quot;&gt;1334886095.500000&lt;&sol;span&gt;&lt;&sol;span&gt;&quot;,&quot;&lt;span class=&bsol;&quot;formatted&bsol;&quot; title=&bsol;&quot;&bsol;&quot;&gt;&lt;span class=&bsol;&quot;numbers&bsol;&quot;&gt;113176250.000000&lt;&sol;span&gt;&lt;&sol;span&gt;&quot;,&quot;&lt;span class=&bsol;&quot;formatted&bsol;&quot; title=&bsol;&quot;&bsol;&quot;&gt;&lt;span class=&bsol;&quot;numbers&bsol;&quot;&gt;106683865.000000&lt;&sol;span&gt;&lt;&sol;span&gt;&quot;,&quot;&lt;span class=&bsol;&quot;formatted&bsol;&quot; title=&bsol;&quot;&bsol;&quot;&gt;&lt;span class=&bsol;&quot;numbers&bsol;&quot;&gt;720487576.500000&lt;&sol;span&gt;&lt;&sol;span&gt;&quot;,&quot;&lt;span class=&bsol;&quot;formatted&bsol;&quot; title=&bsol;&quot;&bsol;&quot;&gt;&lt;span class=&bsol;&quot;numbers&bsol;&quot;&gt;18618511.500000&lt;&sol;span&gt;&lt;&sol;span&gt;&quot;,&quot;&lt;span class=&bsol;&quot;formatted&bsol;&quot; title=&bsol;&quot;&bsol;&quot;&gt;&lt;span class=&bsol;&quot;numbers&bsol;&quot;&gt;18626369.200000&lt;&sol;span&gt;&lt;&sol;span&gt;&quot;,&quot;&lt;span class=&bsol;&quot;formatted&bsol;&quot; title=&bsol;&quot;&bsol;&quot;&gt;&lt;span class=&bsol;&quot;numbers&bsol;&quot;&gt;2029673729.000000&lt;&sol;span&gt;&lt;&sol;span&gt;&quot;,&quot;&lt;span class=&bsol;&quot;formatted&bsol;&quot; title=&bsol;&quot;&bsol;&quot;&gt;&lt;span class=&bsol;&quot;numbers&bsol;&quot;&gt;712563115.000000&lt;&sol;span&gt;&lt;&sol;span&gt;&quot;] }, \n{ name: &quot;&lt;span title=&bsol;&quot;error: Double&bsol;&quot;&gt;error&lt;&sol;span&gt;&quot;, children: [], rightAlign: true, values: [&quot;&lt;span class=&bsol;&quot;formatted&bsol;&quot; title=&bsol;&quot;&bsol;&quot;&gt;&lt;span class=&bsol;&quot;numbers&bsol;&quot;&gt;8675834.695724&lt;&sol;span&gt;&lt;&sol;span&gt;&quot;,&quot;&lt;span class=&bsol;&quot;formatted&bsol;&quot; title=&bsol;&quot;&bsol;&quot;&gt;&lt;span class=&bsol;&quot;numbers&bsol;&quot;&gt;17400785.082061&lt;&sol;span&gt;&lt;&sol;span&gt;&quot;,&quot;&lt;span class=&bsol;&quot;formatted&bsol;&quot; title=&bsol;&quot;&bsol;&quot;&gt;&lt;span class=&bsol;&quot;numbers&bsol;&quot;&gt;491341.591666&lt;&sol;span&gt;&lt;&sol;span&gt;&quot;,&quot;&lt;span class=&bsol;&quot;formatted&bsol;&quot; title=&bsol;&quot;&bsol;&quot;&gt;&lt;span class=&bsol;&quot;numbers&bsol;&quot;&gt;389832.012704&lt;&sol;span&gt;&lt;&sol;span&gt;&quot;,&quot;&lt;span class=&bsol;&quot;formatted&bsol;&quot; title=&bsol;&quot;&bsol;&quot;&gt;&lt;span class=&bsol;&quot;numbers&bsol;&quot;&gt;887825.482426&lt;&sol;span&gt;&lt;&sol;span&gt;&quot;,&quot;&lt;span class=&bsol;&quot;formatted&bsol;&quot; title=&bsol;&quot;&bsol;&quot;&gt;&lt;span class=&bsol;&quot;numbers&bsol;&quot;&gt;931787.016499&lt;&sol;span&gt;&lt;&sol;span&gt;&quot;,&quot;&lt;span class=&bsol;&quot;formatted&bsol;&quot; title=&bsol;&quot;&bsol;&quot;&gt;&lt;span class=&bsol;&quot;numbers&bsol;&quot;&gt;9553323.536096&lt;&sol;span&gt;&lt;&sol;span&gt;&quot;,&quot;&lt;span class=&bsol;&quot;formatted&bsol;&quot; title=&bsol;&quot;&bsol;&quot;&gt;&lt;span class=&bsol;&quot;numbers&bsol;&quot;&gt;65768.824165&lt;&sol;span&gt;&lt;&sol;span&gt;&quot;,&quot;&lt;span class=&bsol;&quot;formatted&bsol;&quot; title=&bsol;&quot;&bsol;&quot;&gt;&lt;span class=&bsol;&quot;numbers&bsol;&quot;&gt;42120.746128&lt;&sol;span&gt;&lt;&sol;span&gt;&quot;,&quot;&lt;span class=&bsol;&quot;formatted&bsol;&quot; title=&bsol;&quot;&bsol;&quot;&gt;&lt;span class=&bsol;&quot;numbers&bsol;&quot;&gt;75337063.381481&lt;&sol;span&gt;&lt;&sol;span&gt;&quot;,&quot;&lt;span class=&bsol;&quot;formatted&bsol;&quot; title=&bsol;&quot;&bsol;&quot;&gt;&lt;span class=&bsol;&quot;numbers&bsol;&quot;&gt;8378028.047384&lt;&sol;span&gt;&lt;&sol;span&gt;&quot;,&quot;&lt;span class=&bsol;&quot;formatted&bsol;&quot; title=&bsol;&quot;&bsol;&quot;&gt;&lt;span class=&bsol;&quot;numbers&bsol;&quot;&gt;11521810.711259&lt;&sol;span&gt;&lt;&sol;span&gt;&quot;,&quot;&lt;span class=&bsol;&quot;formatted&bsol;&quot; title=&bsol;&quot;&bsol;&quot;&gt;&lt;span class=&bsol;&quot;numbers&bsol;&quot;&gt;18901750.747743&lt;&sol;span&gt;&lt;&sol;span&gt;&quot;,&quot;&lt;span class=&bsol;&quot;formatted&bsol;&quot; title=&bsol;&quot;&bsol;&quot;&gt;&lt;span class=&bsol;&quot;numbers&bsol;&quot;&gt;240324.332014&lt;&sol;span&gt;&lt;&sol;span&gt;&quot;,&quot;&lt;span class=&bsol;&quot;formatted&bsol;&quot; title=&bsol;&quot;&bsol;&quot;&gt;&lt;span class=&bsol;&quot;numbers&bsol;&quot;&gt;454563.885105&lt;&sol;span&gt;&lt;&sol;span&gt;&quot;,&quot;&lt;span class=&bsol;&quot;formatted&bsol;&quot; title=&bsol;&quot;&bsol;&quot;&gt;&lt;span class=&bsol;&quot;numbers&bsol;&quot;&gt;10721436.221889&lt;&sol;span&gt;&lt;&sol;span&gt;&quot;,&quot;&lt;span class=&bsol;&quot;formatted&bsol;&quot; title=&bsol;&quot;&bsol;&quot;&gt;&lt;span class=&bsol;&quot;numbers&bsol;&quot;&gt;287620.328875&lt;&sol;span&gt;&lt;&sol;span&gt;&quot;,&quot;&lt;span class=&bsol;&quot;formatted&bsol;&quot; title=&bsol;&quot;&bsol;&quot;&gt;&lt;span class=&bsol;&quot;numbers&bsol;&quot;&gt;13936.116855&lt;&sol;span&gt;&lt;&sol;span&gt;&quot;,&quot;&lt;span class=&bsol;&quot;formatted&bsol;&quot; title=&bsol;&quot;&bsol;&quot;&gt;&lt;span class=&bsol;&quot;numbers&bsol;&quot;&gt;14044193.744607&lt;&sol;span&gt;&lt;&sol;span&gt;&quot;,&quot;&lt;span class=&bsol;&quot;formatted&bsol;&quot; title=&bsol;&quot;&bsol;&quot;&gt;&lt;span class=&bsol;&quot;numbers&bsol;&quot;&gt;8390807.708272&lt;&sol;span&gt;&lt;&sol;span&gt;&quot;] }, \n{ name: &quot;&lt;span title=&bsol;&quot;type: Line_9_jupyter.Type&bsol;&quot;&gt;type&lt;&sol;span&gt;&quot;, children: [], rightAlign: false, values: [&quot;Float&quot;,&quot;Float&quot;,&quot;Float&quot;,&quot;Float&quot;,&quot;Float&quot;,&quot;Float&quot;,&quot;Float&quot;,&quot;Float&quot;,&quot;Float&quot;,&quot;Float&quot;,&quot;Float&quot;,&quot;Double&quot;,&quot;Double&quot;,&quot;Double&quot;,&quot;Double&quot;,&quot;Double&quot;,&quot;Double&quot;,&quot;Double&quot;,&quot;Double&quot;,&quot;Double&quot;] }, \n], id: 1593835522, rootId: 1593835522, totalRows: 20 } ) });\n&sol;*--&gt;*&sol;\n\ncall_DataFrame(function() { DataFrame.renderTable(1593835522) });\n\n\n\n        &lt;&sol;script&gt;\n        &lt;&sol;html&gt;\"></iframe>\n            <script>\n                function o_resize_iframe_out_3() {\n                    let elem = document.getElementById(\"iframe_out_3\");\n                    resize_iframe_out_3(elem);\n                    setInterval(resize_iframe_out_3, 5000, elem);\n                }\n                function resize_iframe_out_3(el) {\n                    let h = el.contentWindow.document.body.scrollHeight;\n                    el.height = h === 0 ? 0 : h + 41;\n                }\n            </script>",
      "application/kotlindataframe+json": "{\"nrow\":20,\"ncol\":4,\"columns\":[\"name\",\"score\",\"error\",\"type\"],\"kotlin_dataframe\":[{\"name\":\"baselineFloat\",\"score\":6.643159615E8,\"error\":8675834.695723519,\"type\":\"Float\"},{\"name\":\"inlineFloat\",\"score\":1.010070634E9,\"error\":1.7400785082061045E7,\"type\":\"Float\"},{\"name\":\"longPackFloat\",\"score\":1.080377115E8,\"error\":491341.59166624263,\"type\":\"Float\"},{\"name\":\"mutableSpecificRefFloat\",\"score\":4.7537173E7,\"error\":389832.01270368724,\"type\":\"Float\"},{\"name\":\"mutableUniversalRefFloatIn1Long\",\"score\":2.21843557E8,\"error\":887825.4824263995,\"type\":\"Float\"},{\"name\":\"mutableUniversalRefFloatIn2Longs\",\"score\":1.41524923E8,\"error\":931787.0164986277,\"type\":\"Float\"},{\"name\":\"valueFloat\",\"score\":6.28109673E8,\"error\":9553323.536096055,\"type\":\"Float\"},{\"name\":\"valueInlineFloat\",\"score\":2.45487115E7,\"error\":65768.82416460026,\"type\":\"Float\"},{\"name\":\"valueInlineOnlyBodiesFloat\",\"score\":1.7606746200000003E7,\"error\":42120.746128016464,\"type\":\"Float\"},{\"name\":\"valueOnlyBodiesFloat\",\"score\":1.390633787E9,\"error\":7.533706338148098E7,\"type\":\"Float\"},{\"name\":\"valuePreserveBoxFloat\",\"score\":6.384269995E8,\"error\":8378028.047383778,\"type\":\"Float\"},{\"name\":\"baselineDouble\",\"score\":6.33921442E8,\"error\":1.1521810711259264E7,\"type\":\"Double\"},{\"name\":\"inlineDouble\",\"score\":1.3348860955E9,\"error\":1.8901750747742884E7,\"type\":\"Double\"},{\"name\":\"mutableSpecificRefDouble\",\"score\":1.1317625E8,\"error\":240324.33201417368,\"type\":\"Double\"},{\"name\":\"mutableUniversalRefDouble\",\"score\":1.06683865E8,\"error\":454563.8851053432,\"type\":\"Double\"},{\"name\":\"valueDouble\",\"score\":7.204875765E8,\"error\":1.0721436221888984E7,\"type\":\"Double\"},{\"name\":\"valueInlineDouble\",\"score\":1.86185115E7,\"error\":287620.3288754494,\"type\":\"Double\"},{\"name\":\"valueInlineOnlyBodiesDouble\",\"score\":1.86263692E7,\"error\":13936.116854652584,\"type\":\"Double\"},{\"name\":\"valueOnlyBodiesDouble\",\"score\":2.029673729E9,\"error\":1.4044193744607028E7,\"type\":\"Double\"},{\"name\":\"valuePreserveBoxDouble\",\"score\":7.12563115E8,\"error\":8390807.708271757,\"type\":\"Double\"}]}"
     },
     "execution_count": 9,
     "metadata": {},
     "output_type": "execute_result"
    }
   ],
   "source": [
    "readArtBenchmarkData(\"Wolf3dBenchmark\")"
   ],
   "metadata": {
    "collapsed": false,
    "ExecuteTime": {
     "end_time": "2023-07-13T01:47:11.007742Z",
     "start_time": "2023-07-13T01:47:08.640322Z"
    }
   }
  },
  {
   "cell_type": "code",
   "execution_count": 10,
   "outputs": [
    {
     "data": {
      "text/html": "            <script type=\"text/javascript\" data-lets-plot-script=\"library\" src=\"https://cdn.jsdelivr.net/gh/JetBrains/lets-plot@v3.1.0/js-package/distr/lets-plot.min.js\"></script>    \n               <div id=\"OaeAC5\"></div>\n   <script type=\"text/javascript\" data-lets-plot-script=\"plot\">\n       var plotSpec={\n\"ggtitle\":{\n\"text\":\"Wolf3d\",\n\"subtitle\":\"ART\"\n},\n\"mapping\":{\n},\n\"data\":{\n\"score\":[6.643159615E8,1.010070634E9,1.080377115E8,4.7537173E7,2.21843557E8,1.41524923E8,6.28109673E8,2.45487115E7,1.7606746200000003E7,1.390633787E9,6.384269995E8,6.33921442E8,1.3348860955E9,1.1317625E8,1.06683865E8,7.204875765E8,1.86185115E7,1.86263692E7,2.029673729E9,7.12563115E8],\n\"textPosition\":[3.3215798075E8,5.05035317E8,2.3066078686467642E8,1.7016024836467642E8,3.444666323646764E8,2.6414799836467642E8,3.140548365E8,1.4717178686467642E8,1.402298215646764E8,6.953168935E8,3.1921349975E8,3.16960721E8,6.6744304775E8,2.3579932536467642E8,2.2930694036467642E8,3.6024378825E8,1.4124158686467642E8,1.412494445646764E8,1.0148368645E9,3.562815575E8],\n\"name\":[\"baselineFloat\",\"inlineFloat\",\"longPackFloat\",\"mutableSpecificRefFloat\",\"mutableUniversalRefFloatIn1Long\",\"mutableUniversalRefFloatIn2Longs\",\"valueFloat\",\"valueInlineFloat\",\"valueInlineOnlyBodiesFloat\",\"valueOnlyBodiesFloat\",\"valuePreserveBoxFloat\",\"baselineDouble\",\"inlineDouble\",\"mutableSpecificRefDouble\",\"mutableUniversalRefDouble\",\"valueDouble\",\"valueInlineDouble\",\"valueInlineOnlyBodiesDouble\",\"valueOnlyBodiesDouble\",\"valuePreserveBoxDouble\"],\n\"minErr\":[6.556401268042765E8,9.92669848917939E8,1.0754636990833376E8,4.714734098729631E7,2.209557315175736E8,1.4059313598350137E8,6.185563494639039E8,2.44829426758354E7,1.7564625453871988E7,1.315296723618519E9,6.300489714526162E8,6.223996312887408E8,1.315984344752257E9,1.1293592566798583E8,1.0622930111489466E8,7.09766140278111E8,1.833089117112455E7,1.8612433083145346E7,2.015629535255393E9,7.041723072917283E8],\n\"label\":[\"100%\\n±\\n1.3%\\nFloat\",\"152%\\n±\\n2.6%\\nFloat\",\"16%\\n±\\n0.1%\\nFloat\",\"7%\\n±\\n0.1%\\nFloat\",\"33%\\n±\\n0.1%\\nFloat\",\"21%\\n±\\n0.1%\\nFloat\",\"95%\\n±\\n1.4%\\nFloat\",\"4%\\n±\\n0.0%\\nFloat\",\"3%\\n±\\n0.0%\\nFloat\",\"209%\\n±\\n11.3%\\nFloat\",\"96%\\n±\\n1.3%\\nFloat\",\"100%\\n±\\n1.8%\\nDouble\",\"211%\\n±\\n3.0%\\nDouble\",\"18%\\n±\\n0.0%\\nDouble\",\"17%\\n±\\n0.1%\\nDouble\",\"114%\\n±\\n1.7%\\nDouble\",\"3%\\n±\\n0.0%\\nDouble\",\"3%\\n±\\n0.0%\\nDouble\",\"320%\\n±\\n2.2%\\nDouble\",\"112%\\n±\\n1.3%\\nDouble\"],\n\"type\":[\"Float\",\"Float\",\"Float\",\"Float\",\"Float\",\"Float\",\"Float\",\"Float\",\"Float\",\"Float\",\"Float\",\"Double\",\"Double\",\"Double\",\"Double\",\"Double\",\"Double\",\"Double\",\"Double\",\"Double\"],\n\"maxErr\":[6.729917961957235E8,1.027471419082061E9,1.0852905309166624E8,4.792700501270369E7,2.227313824824264E8,1.4245671001649863E8,6.376629965360961E8,2.46144803241646E7,1.764886694612802E7,1.465970850381481E9,6.468050275473838E8,6.454432527112592E8,1.353787846247743E9,1.1341657433201417E8,1.0713842888510534E8,7.31209012721889E8,1.890613182887545E7,1.8640305316854652E7,2.043717922744607E9,7.209539227082717E8]\n},\n\"ggsize\":{\n\"width\":800.0,\n\"height\":600.0\n},\n\"kind\":\"plot\",\n\"scales\":[{\n\"aesthetic\":\"x\",\n\"breaks\":[\"baselineFloat\",\"inlineFloat\",\"longPackFloat\",\"mutableSpecificRefFloat\",\"mutableUniversalRefFloatIn1Long\",\"mutableUniversalRefFloatIn2Longs\",\"valueFloat\",\"valueInlineFloat\",\"valueInlineOnlyBodiesFloat\",\"valueOnlyBodiesFloat\",\"valuePreserveBoxFloat\",\"baselineDouble\",\"inlineDouble\",\"mutableSpecificRefDouble\",\"mutableUniversalRefDouble\",\"valueDouble\",\"valueInlineDouble\",\"valueInlineOnlyBodiesDouble\",\"valueOnlyBodiesDouble\",\"valuePreserveBoxDouble\"],\n\"name\":\"Benchmark\",\n\"labels\":[\"baseline\",\"inline\",\"longPack\",\"mutableSpecificRef\",\"mutableUniversalRefIn1Long\",\"mutableUniversalRefIn2Longs\",\"value\",\"valueInline\",\"valueInlineOnlyBodies\",\"valueOnlyBodies\",\"valuePreserveBox\",\"baseline\",\"inline\",\"mutableSpecificRef\",\"mutableUniversalRef\",\"value\",\"valueInline\",\"valueInlineOnlyBodies\",\"valueOnlyBodies\",\"valuePreserveBox\"]\n},{\n\"aesthetic\":\"y\",\n\"name\":\"ns/op\",\n\"limits\":[null,null]\n},{\n\"aesthetic\":\"fill\",\n\"discrete\":true,\n\"name\":\"Type\",\n\"guide\":{\n\"name\":\"legend\"\n}\n},{\n\"aesthetic\":\"x\"\n},{\n\"aesthetic\":\"x\"\n},{\n\"aesthetic\":\"y\",\n\"limits\":[null,null]\n}],\n\"layers\":[{\n\"mapping\":{\n\"x\":\"name\",\n\"y\":\"score\",\n\"fill\":\"type\"\n},\n\"stat\":\"identity\",\n\"sampling\":\"none\",\n\"position\":\"dodge\",\n\"geom\":\"bar\",\n\"tooltips\":{\n\"lines\":[\"Type|@type\",\"Benchmark|@name\",\"Score|@score\"]\n},\n\"data\":{\n}\n},{\n\"mapping\":{\n\"x\":\"name\",\n\"ymin\":\"minErr\",\n\"ymax\":\"maxErr\"\n},\n\"stat\":\"identity\",\n\"sampling\":\"none\",\n\"width\":0.5,\n\"position\":\"identity\",\n\"geom\":\"errorbar\",\n\"data\":{\n}\n},{\n\"mapping\":{\n\"x\":\"name\",\n\"y\":\"textPosition\",\n\"label\":\"label\"\n},\n\"stat\":\"identity\",\n\"size\":4.0,\n\"sampling\":\"none\",\n\"position\":\"identity\",\n\"geom\":\"text\",\n\"data\":{\n}\n}],\n\"theme\":{\n\"flavor\":\"solarized_light\"\n}\n};\n       var plotContainer = document.getElementById(\"OaeAC5\");\n       LetsPlot.buildPlotFromProcessedSpecs(plotSpec, -1, -1, plotContainer);\n   </script>    ",
      "application/plot+json": {
       "output_type": "lets_plot_spec",
       "output": {
        "ggtitle": {
         "text": "Wolf3d",
         "subtitle": "ART"
        },
        "mapping": {},
        "data": {
         "score": [
          6.6431597E8,
          1.01007066E9,
          1.08037712E8,
          4.7537172E7,
          2.21843552E8,
          1.41524928E8,
          6.281097E8,
          2.4548712E7,
          1.7606746E7,
          1.39063373E9,
          6.3842701E8,
          6.3392147E8,
          1.33488614E9,
          1.13176248E8,
          1.06683864E8,
          7.2048755E8,
          1.8618512E7,
          1.862637E7,
          2.02967373E9,
          7.1256314E8
         ],
         "textPosition": [
          3.32157984E8,
          5.05035328E8,
          2.30660784E8,
          1.70160256E8,
          3.44466624E8,
          2.64148E8,
          3.14054848E8,
          1.47171792E8,
          1.40229824E8,
          6.9531686E8,
          3.19213504E8,
          3.16960736E8,
          6.6744307E8,
          2.35799328E8,
          2.29306944E8,
          3.60243776E8,
          1.41241584E8,
          1.4124944E8,
          1.01483686E9,
          3.56281568E8
         ],
         "name": [
          "baselineFloat",
          "inlineFloat",
          "longPackFloat",
          "mutableSpecificRefFloat",
          "mutableUniversalRefFloatIn1Long",
          "mutableUniversalRefFloatIn2Longs",
          "valueFloat",
          "valueInlineFloat",
          "valueInlineOnlyBodiesFloat",
          "valueOnlyBodiesFloat",
          "valuePreserveBoxFloat",
          "baselineDouble",
          "inlineDouble",
          "mutableSpecificRefDouble",
          "mutableUniversalRefDouble",
          "valueDouble",
          "valueInlineDouble",
          "valueInlineOnlyBodiesDouble",
          "valueOnlyBodiesDouble",
          "valuePreserveBoxDouble"
         ],
         "minErr": [
          6.5564013E8,
          9.9266982E8,
          1.07546368E8,
          4.714734E7,
          2.20955728E8,
          1.40593136E8,
          6.1855635E8,
          2.4482942E7,
          1.7564626E7,
          1.31529677E9,
          6.3004896E8,
          6.2239962E8,
          1.31598438E9,
          1.12935928E8,
          1.06229304E8,
          7.0976614E8,
          1.8330892E7,
          1.8612434E7,
          2.01562957E9,
          7.0417229E8
         ],
         "label": [
          "100%\n±\n1.3%\nFloat",
          "152%\n±\n2.6%\nFloat",
          "16%\n±\n0.1%\nFloat",
          "7%\n±\n0.1%\nFloat",
          "33%\n±\n0.1%\nFloat",
          "21%\n±\n0.1%\nFloat",
          "95%\n±\n1.4%\nFloat",
          "4%\n±\n0.0%\nFloat",
          "3%\n±\n0.0%\nFloat",
          "209%\n±\n11.3%\nFloat",
          "96%\n±\n1.3%\nFloat",
          "100%\n±\n1.8%\nDouble",
          "211%\n±\n3.0%\nDouble",
          "18%\n±\n0.0%\nDouble",
          "17%\n±\n0.1%\nDouble",
          "114%\n±\n1.7%\nDouble",
          "3%\n±\n0.0%\nDouble",
          "3%\n±\n0.0%\nDouble",
          "320%\n±\n2.2%\nDouble",
          "112%\n±\n1.3%\nDouble"
         ],
         "type": [
          "Float",
          "Float",
          "Float",
          "Float",
          "Float",
          "Float",
          "Float",
          "Float",
          "Float",
          "Float",
          "Float",
          "Double",
          "Double",
          "Double",
          "Double",
          "Double",
          "Double",
          "Double",
          "Double",
          "Double"
         ],
         "maxErr": [
          6.7299181E8,
          1.02747142E9,
          1.08529056E8,
          4.7927004E7,
          2.22731376E8,
          1.42456704E8,
          6.3766298E8,
          2.461448E7,
          1.7648866E7,
          1.46597082E9,
          6.4680506E8,
          6.4544326E8,
          1.3537879E9,
          1.13416576E8,
          1.07138432E8,
          7.3120902E8,
          1.8906132E7,
          1.8640306E7,
          2.04371789E9,
          7.2095392E8
         ]
        },
        "ggsize": {
         "width": 800.0,
         "height": 600.0
        },
        "kind": "plot",
        "scales": [
         {
          "aesthetic": "x",
          "breaks": [
           "baselineFloat",
           "inlineFloat",
           "longPackFloat",
           "mutableSpecificRefFloat",
           "mutableUniversalRefFloatIn1Long",
           "mutableUniversalRefFloatIn2Longs",
           "valueFloat",
           "valueInlineFloat",
           "valueInlineOnlyBodiesFloat",
           "valueOnlyBodiesFloat",
           "valuePreserveBoxFloat",
           "baselineDouble",
           "inlineDouble",
           "mutableSpecificRefDouble",
           "mutableUniversalRefDouble",
           "valueDouble",
           "valueInlineDouble",
           "valueInlineOnlyBodiesDouble",
           "valueOnlyBodiesDouble",
           "valuePreserveBoxDouble"
          ],
          "name": "Benchmark",
          "labels": [
           "baseline",
           "inline",
           "longPack",
           "mutableSpecificRef",
           "mutableUniversalRefIn1Long",
           "mutableUniversalRefIn2Longs",
           "value",
           "valueInline",
           "valueInlineOnlyBodies",
           "valueOnlyBodies",
           "valuePreserveBox",
           "baseline",
           "inline",
           "mutableSpecificRef",
           "mutableUniversalRef",
           "value",
           "valueInline",
           "valueInlineOnlyBodies",
           "valueOnlyBodies",
           "valuePreserveBox"
          ]
         },
         {
          "aesthetic": "y",
          "name": "ns/op",
          "limits": [
           null,
           null
          ]
         },
         {
          "aesthetic": "fill",
          "discrete": true,
          "name": "Type",
          "guide": {
           "name": "legend"
          }
         },
         {
          "aesthetic": "x"
         },
         {
          "aesthetic": "x"
         },
         {
          "aesthetic": "y",
          "limits": [
           null,
           null
          ]
         }
        ],
        "layers": [
         {
          "mapping": {
           "x": "name",
           "y": "score",
           "fill": "type"
          },
          "stat": "identity",
          "sampling": "none",
          "position": "dodge",
          "geom": "bar",
          "tooltips": {
           "lines": [
            "Type|@type",
            "Benchmark|@name",
            "Score|@score"
           ]
          }
         },
         {
          "mapping": {
           "x": "name",
           "ymin": "minErr",
           "ymax": "maxErr"
          },
          "stat": "identity",
          "sampling": "none",
          "width": 0.5,
          "position": "identity",
          "geom": "errorbar"
         },
         {
          "mapping": {
           "x": "name",
           "y": "textPosition",
           "label": "label"
          },
          "stat": "identity",
          "size": 4.0,
          "sampling": "none",
          "position": "identity",
          "geom": "text"
         }
        ],
        "theme": {
         "flavor": "solarized_light"
        }
       },
       "apply_color_scheme": true,
       "swing_enabled": true
      }
     },
     "metadata": {},
     "output_type": "display_data"
    },
    {
     "data": {
      "text/html": "            <script type=\"text/javascript\" data-lets-plot-script=\"library\" src=\"https://cdn.jsdelivr.net/gh/JetBrains/lets-plot@v3.1.0/js-package/distr/lets-plot.min.js\"></script>    \n               <div id=\"A9QQnv\"></div>\n   <script type=\"text/javascript\" data-lets-plot-script=\"plot\">\n       var plotSpec={\n\"ggtitle\":{\n\"text\":\"Ackermann\",\n\"subtitle\":\"ART\"\n},\n\"mapping\":{\n},\n\"data\":{\n\"score\":[113673.77375,14081.95652563643,23216.454243353783,28291.019181585678,23998.09432962374,64670.741905354924,116467.87012195121,63640.80650459921,152290.22544283414,37934.269135188864,37040.69533762058,152526.20558002937,156221.79079159937,155631.30215343204,115607.17224880384,21297.049591002047,25352.15907421014,27613.473333333335,26998.004374057316,66358.96980854197,119542.45167525773,66845.61915297093,156983.54817275747,36173.99000416493,37529.23218911917,159724.29210526316,155643.8127090301,161119.37786259543],\n\"textPosition\":[56836.886875,24099.050375474282,11608.227121676891,14145.509590792839,11999.04716481187,32335.370952677462,58233.93506097561,31820.403252299606,76145.11272141707,18967.134567594432,18520.34766881029,76263.10279001469,78110.89539579969,77815.65107671602,57803.58612440192,10648.524795501024,12676.07953710507,13806.736666666668,13499.002187028658,33179.48490427098,59771.22583762887,33422.809576485466,78491.77408637873,18086.995002082465,18764.616094559584,79862.14605263158,77821.90635451506,80559.68893129771],\n\"name\":[\"baselineInt\",\"longPackInt\",\"mutableSpecificRefInt\",\"mutableUniversalRefIntIn1Long\",\"mutableUniversalRefIntIn2Longs\",\"valueInt\",\"valueOnlyBodiesInt\",\"valuePreserveBoxInt\",\"baselineLong\",\"mutableSpecificRefLong\",\"mutableUniversalRefLong\",\"valueLong\",\"valueOnlyBodiesLong\",\"valuePreserveBoxLong\",\"baselineFloat\",\"longPackFloat\",\"mutableSpecificRefFloat\",\"mutableUniversalRefFloatIn1Long\",\"mutableUniversalRefFloatIn2Longs\",\"valueFloat\",\"valueOnlyBodiesFloat\",\"valuePreserveBoxFloat\",\"baselineDouble\",\"mutableSpecificRefDouble\",\"mutableUniversalRefDouble\",\"valueDouble\",\"valueOnlyBodiesDouble\",\"valuePreserveBoxDouble\"],\n\"minErr\":[108856.14986353033,13999.920404379882,22770.304058541,26286.89006740612,23513.10607518331,62603.8999385605,111002.16159677936,61086.672457824716,147062.24517090575,36195.43048756307,36268.497282739845,146045.6472037655,148853.75453287474,150458.65340194135,111854.42329737509,21169.98549814608,24629.152259239545,27093.732133772555,26462.892694252052,63975.76113906406,114831.92796985841,64873.332724429405,149739.7634452727,35351.14919707154,36230.43077075476,153049.56870947027,149034.33213444808,155287.19156122667],\n\"label\":[\"100%\\n±\\n4.2%\\nInt\",\"12%\\n±\\n0.1%\\nInt\",\"20%\\n±\\n0.4%\\nInt\",\"25%\\n±\\n1.8%\\nInt\",\"21%\\n±\\n0.4%\\nInt\",\"57%\\n±\\n1.8%\\nInt\",\"102%\\n±\\n4.8%\\nInt\",\"56%\\n±\\n2.2%\\nInt\",\"100%\\n±\\n3.4%\\nLong\",\"25%\\n±\\n1.1%\\nLong\",\"24%\\n±\\n0.5%\\nLong\",\"100%\\n±\\n4.3%\\nLong\",\"103%\\n±\\n4.8%\\nLong\",\"102%\\n±\\n3.4%\\nLong\",\"100%\\n±\\n3.2%\\nFloat\",\"18%\\n±\\n0.1%\\nFloat\",\"22%\\n±\\n0.6%\\nFloat\",\"24%\\n±\\n0.4%\\nFloat\",\"23%\\n±\\n0.5%\\nFloat\",\"57%\\n±\\n2.1%\\nFloat\",\"103%\\n±\\n4.1%\\nFloat\",\"58%\\n±\\n1.7%\\nFloat\",\"100%\\n±\\n4.6%\\nDouble\",\"23%\\n±\\n0.5%\\nDouble\",\"24%\\n±\\n0.8%\\nDouble\",\"102%\\n±\\n4.3%\\nDouble\",\"99%\\n±\\n4.2%\\nDouble\",\"103%\\n±\\n3.7%\\nDouble\"],\n\"type\":[\"Int\",\"Int\",\"Int\",\"Int\",\"Int\",\"Int\",\"Int\",\"Int\",\"Long\",\"Long\",\"Long\",\"Long\",\"Long\",\"Long\",\"Float\",\"Float\",\"Float\",\"Float\",\"Float\",\"Float\",\"Float\",\"Float\",\"Double\",\"Double\",\"Double\",\"Double\",\"Double\",\"Double\"],\n\"maxErr\":[118491.39763646966,14163.992646892977,23662.604428166564,30295.148295765237,24483.082584064166,66737.58387214935,121933.57864712307,66194.94055137371,157518.20571476253,39673.10778281466,37812.89339250131,159006.76395629326,163589.827050324,160803.95090492273,119359.92120023258,21424.113683858013,26075.165889180735,28133.214532894115,27533.11605386258,68742.17847801988,124252.97538065705,68817.90558151246,164227.33290024224,36996.83081125832,38828.03360748357,166399.01550105604,162253.29328361215,166951.56416396418]\n},\n\"ggsize\":{\n\"width\":800.0,\n\"height\":600.0\n},\n\"kind\":\"plot\",\n\"scales\":[{\n\"aesthetic\":\"x\",\n\"breaks\":[\"baselineInt\",\"longPackInt\",\"mutableSpecificRefInt\",\"mutableUniversalRefIntIn1Long\",\"mutableUniversalRefIntIn2Longs\",\"valueInt\",\"valueOnlyBodiesInt\",\"valuePreserveBoxInt\",\"baselineLong\",\"mutableSpecificRefLong\",\"mutableUniversalRefLong\",\"valueLong\",\"valueOnlyBodiesLong\",\"valuePreserveBoxLong\",\"baselineFloat\",\"longPackFloat\",\"mutableSpecificRefFloat\",\"mutableUniversalRefFloatIn1Long\",\"mutableUniversalRefFloatIn2Longs\",\"valueFloat\",\"valueOnlyBodiesFloat\",\"valuePreserveBoxFloat\",\"baselineDouble\",\"mutableSpecificRefDouble\",\"mutableUniversalRefDouble\",\"valueDouble\",\"valueOnlyBodiesDouble\",\"valuePreserveBoxDouble\"],\n\"name\":\"Benchmark\",\n\"labels\":[\"baseline\",\"longPack\",\"mutableSpecificRef\",\"mutableUniversalRefIn1Long\",\"mutableUniversalRefIn2Longs\",\"value\",\"valueOnlyBodies\",\"valuePreserveBox\",\"baseline\",\"mutableSpecificRef\",\"mutableUniversalRef\",\"value\",\"valueOnlyBodies\",\"valuePreserveBox\",\"baseline\",\"longPack\",\"mutableSpecificRef\",\"mutableUniversalRefIn1Long\",\"mutableUniversalRefIn2Longs\",\"value\",\"valueOnlyBodies\",\"valuePreserveBox\",\"baseline\",\"mutableSpecificRef\",\"mutableUniversalRef\",\"value\",\"valueOnlyBodies\",\"valuePreserveBox\"]\n},{\n\"aesthetic\":\"y\",\n\"name\":\"ns/op\",\n\"limits\":[null,null]\n},{\n\"aesthetic\":\"fill\",\n\"discrete\":true,\n\"name\":\"Type\",\n\"guide\":{\n\"name\":\"legend\"\n}\n},{\n\"aesthetic\":\"x\"\n},{\n\"aesthetic\":\"x\"\n},{\n\"aesthetic\":\"y\",\n\"limits\":[null,null]\n}],\n\"layers\":[{\n\"mapping\":{\n\"x\":\"name\",\n\"y\":\"score\",\n\"fill\":\"type\"\n},\n\"stat\":\"identity\",\n\"sampling\":\"none\",\n\"position\":\"dodge\",\n\"geom\":\"bar\",\n\"tooltips\":{\n\"lines\":[\"Type|@type\",\"Benchmark|@name\",\"Score|@score\"]\n},\n\"data\":{\n}\n},{\n\"mapping\":{\n\"x\":\"name\",\n\"ymin\":\"minErr\",\n\"ymax\":\"maxErr\"\n},\n\"stat\":\"identity\",\n\"sampling\":\"none\",\n\"width\":0.5,\n\"position\":\"identity\",\n\"geom\":\"errorbar\",\n\"data\":{\n}\n},{\n\"mapping\":{\n\"x\":\"name\",\n\"y\":\"textPosition\",\n\"label\":\"label\"\n},\n\"stat\":\"identity\",\n\"size\":2.4000000000000004,\n\"sampling\":\"none\",\n\"position\":\"identity\",\n\"geom\":\"text\",\n\"data\":{\n}\n}],\n\"theme\":{\n\"flavor\":\"solarized_light\"\n}\n};\n       var plotContainer = document.getElementById(\"A9QQnv\");\n       LetsPlot.buildPlotFromProcessedSpecs(plotSpec, -1, -1, plotContainer);\n   </script>    ",
      "application/plot+json": {
       "output_type": "lets_plot_spec",
       "output": {
        "ggtitle": {
         "text": "Ackermann",
         "subtitle": "ART"
        },
        "mapping": {},
        "data": {
         "score": [
          113673.77,
          14081.956,
          23216.455,
          28291.02,
          23998.094,
          64670.742,
          116467.87,
          63640.805,
          152290.22,
          37934.27,
          37040.695,
          152526.2,
          156221.8,
          155631.3,
          115607.17,
          21297.049,
          25352.158,
          27613.473,
          26998.004,
          66358.97,
          119542.45,
          66845.62,
          156983.55,
          36173.99,
          37529.23,
          159724.3,
          155643.81,
          161119.38
         ],
         "textPosition": [
          56836.887,
          24099.05,
          11608.228,
          14145.51,
          11999.047,
          32335.371,
          58233.934,
          31820.402,
          76145.11,
          18967.135,
          18520.348,
          76263.1,
          78110.9,
          77815.65,
          57803.586,
          10648.524,
          12676.079,
          13806.736,
          13499.002,
          33179.484,
          59771.227,
          33422.81,
          78491.77,
          18086.994,
          18764.615,
          79862.15,
          77821.91,
          80559.69
         ],
         "name": [
          "baselineInt",
          "longPackInt",
          "mutableSpecificRefInt",
          "mutableUniversalRefIntIn1Long",
          "mutableUniversalRefIntIn2Longs",
          "valueInt",
          "valueOnlyBodiesInt",
          "valuePreserveBoxInt",
          "baselineLong",
          "mutableSpecificRefLong",
          "mutableUniversalRefLong",
          "valueLong",
          "valueOnlyBodiesLong",
          "valuePreserveBoxLong",
          "baselineFloat",
          "longPackFloat",
          "mutableSpecificRefFloat",
          "mutableUniversalRefFloatIn1Long",
          "mutableUniversalRefFloatIn2Longs",
          "valueFloat",
          "valueOnlyBodiesFloat",
          "valuePreserveBoxFloat",
          "baselineDouble",
          "mutableSpecificRefDouble",
          "mutableUniversalRefDouble",
          "valueDouble",
          "valueOnlyBodiesDouble",
          "valuePreserveBoxDouble"
         ],
         "minErr": [
          108856.15,
          13999.92,
          22770.305,
          26286.89,
          23513.105,
          62603.9,
          111002.164,
          61086.67,
          147062.25,
          36195.43,
          36268.496,
          146045.64,
          148853.75,
          150458.66,
          111854.42,
          21169.986,
          24629.152,
          27093.732,
          26462.893,
          63975.76,
          114831.93,
          64873.332,
          149739.77,
          35351.15,
          36230.43,
          153049.56,
          149034.33,
          155287.19
         ],
         "label": [
          "100%\n±\n4.2%\nInt",
          "12%\n±\n0.1%\nInt",
          "20%\n±\n0.4%\nInt",
          "25%\n±\n1.8%\nInt",
          "21%\n±\n0.4%\nInt",
          "57%\n±\n1.8%\nInt",
          "102%\n±\n4.8%\nInt",
          "56%\n±\n2.2%\nInt",
          "100%\n±\n3.4%\nLong",
          "25%\n±\n1.1%\nLong",
          "24%\n±\n0.5%\nLong",
          "100%\n±\n4.3%\nLong",
          "103%\n±\n4.8%\nLong",
          "102%\n±\n3.4%\nLong",
          "100%\n±\n3.2%\nFloat",
          "18%\n±\n0.1%\nFloat",
          "22%\n±\n0.6%\nFloat",
          "24%\n±\n0.4%\nFloat",
          "23%\n±\n0.5%\nFloat",
          "57%\n±\n2.1%\nFloat",
          "103%\n±\n4.1%\nFloat",
          "58%\n±\n1.7%\nFloat",
          "100%\n±\n4.6%\nDouble",
          "23%\n±\n0.5%\nDouble",
          "24%\n±\n0.8%\nDouble",
          "102%\n±\n4.3%\nDouble",
          "99%\n±\n4.2%\nDouble",
          "103%\n±\n3.7%\nDouble"
         ],
         "type": [
          "Int",
          "Int",
          "Int",
          "Int",
          "Int",
          "Int",
          "Int",
          "Int",
          "Long",
          "Long",
          "Long",
          "Long",
          "Long",
          "Long",
          "Float",
          "Float",
          "Float",
          "Float",
          "Float",
          "Float",
          "Float",
          "Float",
          "Double",
          "Double",
          "Double",
          "Double",
          "Double",
          "Double"
         ],
         "maxErr": [
          118491.4,
          14163.992,
          23662.604,
          30295.148,
          24483.082,
          66737.586,
          121933.58,
          66194.94,
          157518.2,
          39673.11,
          37812.895,
          159006.77,
          163589.83,
          160803.95,
          119359.92,
          21424.113,
          26075.166,
          28133.215,
          27533.115,
          68742.18,
          124252.98,
          68817.91,
          164227.33,
          36996.832,
          38828.035,
          166399.02,
          162253.3,
          166951.56
         ]
        },
        "ggsize": {
         "width": 800.0,
         "height": 600.0
        },
        "kind": "plot",
        "scales": [
         {
          "aesthetic": "x",
          "breaks": [
           "baselineInt",
           "longPackInt",
           "mutableSpecificRefInt",
           "mutableUniversalRefIntIn1Long",
           "mutableUniversalRefIntIn2Longs",
           "valueInt",
           "valueOnlyBodiesInt",
           "valuePreserveBoxInt",
           "baselineLong",
           "mutableSpecificRefLong",
           "mutableUniversalRefLong",
           "valueLong",
           "valueOnlyBodiesLong",
           "valuePreserveBoxLong",
           "baselineFloat",
           "longPackFloat",
           "mutableSpecificRefFloat",
           "mutableUniversalRefFloatIn1Long",
           "mutableUniversalRefFloatIn2Longs",
           "valueFloat",
           "valueOnlyBodiesFloat",
           "valuePreserveBoxFloat",
           "baselineDouble",
           "mutableSpecificRefDouble",
           "mutableUniversalRefDouble",
           "valueDouble",
           "valueOnlyBodiesDouble",
           "valuePreserveBoxDouble"
          ],
          "name": "Benchmark",
          "labels": [
           "baseline",
           "longPack",
           "mutableSpecificRef",
           "mutableUniversalRefIn1Long",
           "mutableUniversalRefIn2Longs",
           "value",
           "valueOnlyBodies",
           "valuePreserveBox",
           "baseline",
           "mutableSpecificRef",
           "mutableUniversalRef",
           "value",
           "valueOnlyBodies",
           "valuePreserveBox",
           "baseline",
           "longPack",
           "mutableSpecificRef",
           "mutableUniversalRefIn1Long",
           "mutableUniversalRefIn2Longs",
           "value",
           "valueOnlyBodies",
           "valuePreserveBox",
           "baseline",
           "mutableSpecificRef",
           "mutableUniversalRef",
           "value",
           "valueOnlyBodies",
           "valuePreserveBox"
          ]
         },
         {
          "aesthetic": "y",
          "name": "ns/op",
          "limits": [
           null,
           null
          ]
         },
         {
          "aesthetic": "fill",
          "discrete": true,
          "name": "Type",
          "guide": {
           "name": "legend"
          }
         },
         {
          "aesthetic": "x"
         },
         {
          "aesthetic": "x"
         },
         {
          "aesthetic": "y",
          "limits": [
           null,
           null
          ]
         }
        ],
        "layers": [
         {
          "mapping": {
           "x": "name",
           "y": "score",
           "fill": "type"
          },
          "stat": "identity",
          "sampling": "none",
          "position": "dodge",
          "geom": "bar",
          "tooltips": {
           "lines": [
            "Type|@type",
            "Benchmark|@name",
            "Score|@score"
           ]
          }
         },
         {
          "mapping": {
           "x": "name",
           "ymin": "minErr",
           "ymax": "maxErr"
          },
          "stat": "identity",
          "sampling": "none",
          "width": 0.5,
          "position": "identity",
          "geom": "errorbar"
         },
         {
          "mapping": {
           "x": "name",
           "y": "textPosition",
           "label": "label"
          },
          "stat": "identity",
          "size": 2.4,
          "sampling": "none",
          "position": "identity",
          "geom": "text"
         }
        ],
        "theme": {
         "flavor": "solarized_light"
        }
       },
       "apply_color_scheme": true,
       "swing_enabled": true
      }
     },
     "metadata": {},
     "output_type": "display_data"
    },
    {
     "data": {
      "text/html": "            <script type=\"text/javascript\" data-lets-plot-script=\"library\" src=\"https://cdn.jsdelivr.net/gh/JetBrains/lets-plot@v3.1.0/js-package/distr/lets-plot.min.js\"></script>    \n               <div id=\"XzmYSm\"></div>\n   <script type=\"text/javascript\" data-lets-plot-script=\"plot\">\n       var plotSpec={\n\"ggtitle\":{\n\"text\":\"BoxRecreation\",\n\"subtitle\":\"ART\"\n},\n\"mapping\":{\n},\n\"data\":{\n\"score\":[715.9809060415055,4953.775394045534,4896.209866930918,703.1905597568477,925.4236683141132,6830.196030183727,893.1798002064904,745.467112854835,4827.338890838891,4985.934530938124,697.8725936836336,932.5006813729665,6808.827328750889,912.2006393482425],\n\"textPosition\":[1147.241179266935,2476.887697022767,2448.104933465459,1134.4508329822775,462.7118341570566,3415.0980150918635,446.5899001032452,1176.7273860802648,2413.6694454194453,2492.967265469062,1129.132866909063,466.25034068648324,3404.4136643754446,456.10031967412124],\n\"name\":[\"baselineInt\",\"longPackInt\",\"valueInt\",\"valuePreserveBoxInt\",\"baselineLong\",\"valueLong\",\"valuePreserveBoxLong\",\"baselineFloat\",\"longPackFloat\",\"valueFloat\",\"valuePreserveBoxFloat\",\"baselineDouble\",\"valueDouble\",\"valuePreserveBoxDouble\"],\n\"minErr\":[666.1771529777222,4721.143768529991,4593.502606964436,651.7966031554798,863.9140968400503,6472.720839943627,843.7862769224984,670.6371316890014,4602.723786215714,4789.763481240812,666.5569239737899,870.6523443719067,6479.043871242923,857.4895508731405],\n\"label\":[\"100%\\n±\\n7.0%\\nInt\",\"692%\\n±\\n32.5%\\nInt\",\"684%\\n±\\n42.3%\\nInt\",\"98%\\n±\\n7.2%\\nInt\",\"100%\\n±\\n6.6%\\nLong\",\"738%\\n±\\n38.6%\\nLong\",\"97%\\n±\\n5.3%\\nLong\",\"100%\\n±\\n10.0%\\nFloat\",\"648%\\n±\\n30.1%\\nFloat\",\"669%\\n±\\n26.3%\\nFloat\",\"94%\\n±\\n4.2%\\nFloat\",\"100%\\n±\\n6.6%\\nDouble\",\"730%\\n±\\n35.4%\\nDouble\",\"98%\\n±\\n5.9%\\nDouble\"],\n\"type\":[\"Int\",\"Int\",\"Int\",\"Int\",\"Long\",\"Long\",\"Long\",\"Float\",\"Float\",\"Float\",\"Float\",\"Double\",\"Double\",\"Double\"],\n\"maxErr\":[765.7846591052887,5186.4070195610775,5198.9171268974,754.5845163582156,986.9332397881761,7187.671220423827,942.5733234904825,820.2970940206686,5051.953995462067,5182.105580635436,729.1882633934772,994.3490183740263,7138.610786258855,966.9117278233444]\n},\n\"ggsize\":{\n\"width\":800.0,\n\"height\":600.0\n},\n\"kind\":\"plot\",\n\"scales\":[{\n\"aesthetic\":\"x\",\n\"breaks\":[\"baselineInt\",\"longPackInt\",\"valueInt\",\"valuePreserveBoxInt\",\"baselineLong\",\"valueLong\",\"valuePreserveBoxLong\",\"baselineFloat\",\"longPackFloat\",\"valueFloat\",\"valuePreserveBoxFloat\",\"baselineDouble\",\"valueDouble\",\"valuePreserveBoxDouble\"],\n\"name\":\"Benchmark\",\n\"labels\":[\"baseline\",\"longPack\",\"value\",\"valuePreserveBox\",\"baseline\",\"value\",\"valuePreserveBox\",\"baseline\",\"longPack\",\"value\",\"valuePreserveBox\",\"baseline\",\"value\",\"valuePreserveBox\"]\n},{\n\"aesthetic\":\"y\",\n\"name\":\"ns/op\",\n\"limits\":[null,null]\n},{\n\"aesthetic\":\"fill\",\n\"discrete\":true,\n\"name\":\"Type\",\n\"guide\":{\n\"name\":\"legend\"\n}\n},{\n\"aesthetic\":\"x\"\n},{\n\"aesthetic\":\"x\"\n},{\n\"aesthetic\":\"y\",\n\"limits\":[null,null]\n}],\n\"layers\":[{\n\"mapping\":{\n\"x\":\"name\",\n\"y\":\"score\",\n\"fill\":\"type\"\n},\n\"stat\":\"identity\",\n\"sampling\":\"none\",\n\"position\":\"dodge\",\n\"geom\":\"bar\",\n\"tooltips\":{\n\"lines\":[\"Type|@type\",\"Benchmark|@name\",\"Score|@score\"]\n},\n\"data\":{\n}\n},{\n\"mapping\":{\n\"x\":\"name\",\n\"ymin\":\"minErr\",\n\"ymax\":\"maxErr\"\n},\n\"stat\":\"identity\",\n\"sampling\":\"none\",\n\"width\":0.5,\n\"position\":\"identity\",\n\"geom\":\"errorbar\",\n\"data\":{\n}\n},{\n\"mapping\":{\n\"x\":\"name\",\n\"y\":\"textPosition\",\n\"label\":\"label\"\n},\n\"stat\":\"identity\",\n\"size\":5.2,\n\"sampling\":\"none\",\n\"position\":\"identity\",\n\"geom\":\"text\",\n\"data\":{\n}\n}],\n\"theme\":{\n\"flavor\":\"solarized_light\"\n}\n};\n       var plotContainer = document.getElementById(\"XzmYSm\");\n       LetsPlot.buildPlotFromProcessedSpecs(plotSpec, -1, -1, plotContainer);\n   </script>    ",
      "application/plot+json": {
       "output_type": "lets_plot_spec",
       "output": {
        "ggtitle": {
         "text": "BoxRecreation",
         "subtitle": "ART"
        },
        "mapping": {},
        "data": {
         "score": [
          715.9809,
          4953.7754,
          4896.21,
          703.19055,
          925.42365,
          6830.196,
          893.1798,
          745.4671,
          4827.339,
          4985.9346,
          697.8726,
          932.5007,
          6808.827,
          912.2006
         ],
         "textPosition": [
          1147.2412,
          2476.8877,
          2448.105,
          1134.4508,
          462.71182,
          3415.098,
          446.5899,
          1176.7274,
          2413.6694,
          2492.9673,
          1129.1328,
          466.25034,
          3404.4136,
          456.1003
         ],
         "name": [
          "baselineInt",
          "longPackInt",
          "valueInt",
          "valuePreserveBoxInt",
          "baselineLong",
          "valueLong",
          "valuePreserveBoxLong",
          "baselineFloat",
          "longPackFloat",
          "valueFloat",
          "valuePreserveBoxFloat",
          "baselineDouble",
          "valueDouble",
          "valuePreserveBoxDouble"
         ],
         "minErr": [
          666.1771,
          4721.1436,
          4593.5024,
          651.79663,
          863.9141,
          6472.7207,
          843.78625,
          670.63715,
          4602.7236,
          4789.7637,
          666.55695,
          870.65234,
          6479.044,
          857.48956
         ],
         "label": [
          "100%\n±\n7.0%\nInt",
          "692%\n±\n32.5%\nInt",
          "684%\n±\n42.3%\nInt",
          "98%\n±\n7.2%\nInt",
          "100%\n±\n6.6%\nLong",
          "738%\n±\n38.6%\nLong",
          "97%\n±\n5.3%\nLong",
          "100%\n±\n10.0%\nFloat",
          "648%\n±\n30.1%\nFloat",
          "669%\n±\n26.3%\nFloat",
          "94%\n±\n4.2%\nFloat",
          "100%\n±\n6.6%\nDouble",
          "730%\n±\n35.4%\nDouble",
          "98%\n±\n5.9%\nDouble"
         ],
         "type": [
          "Int",
          "Int",
          "Int",
          "Int",
          "Long",
          "Long",
          "Long",
          "Float",
          "Float",
          "Float",
          "Float",
          "Double",
          "Double",
          "Double"
         ],
         "maxErr": [
          765.78467,
          5186.407,
          5198.917,
          754.58453,
          986.9332,
          7187.6714,
          942.5733,
          820.2971,
          5051.954,
          5182.1055,
          729.1883,
          994.349,
          7138.611,
          966.91174
         ]
        },
        "ggsize": {
         "width": 800.0,
         "height": 600.0
        },
        "kind": "plot",
        "scales": [
         {
          "aesthetic": "x",
          "breaks": [
           "baselineInt",
           "longPackInt",
           "valueInt",
           "valuePreserveBoxInt",
           "baselineLong",
           "valueLong",
           "valuePreserveBoxLong",
           "baselineFloat",
           "longPackFloat",
           "valueFloat",
           "valuePreserveBoxFloat",
           "baselineDouble",
           "valueDouble",
           "valuePreserveBoxDouble"
          ],
          "name": "Benchmark",
          "labels": [
           "baseline",
           "longPack",
           "value",
           "valuePreserveBox",
           "baseline",
           "value",
           "valuePreserveBox",
           "baseline",
           "longPack",
           "value",
           "valuePreserveBox",
           "baseline",
           "value",
           "valuePreserveBox"
          ]
         },
         {
          "aesthetic": "y",
          "name": "ns/op",
          "limits": [
           null,
           null
          ]
         },
         {
          "aesthetic": "fill",
          "discrete": true,
          "name": "Type",
          "guide": {
           "name": "legend"
          }
         },
         {
          "aesthetic": "x"
         },
         {
          "aesthetic": "x"
         },
         {
          "aesthetic": "y",
          "limits": [
           null,
           null
          ]
         }
        ],
        "layers": [
         {
          "mapping": {
           "x": "name",
           "y": "score",
           "fill": "type"
          },
          "stat": "identity",
          "sampling": "none",
          "position": "dodge",
          "geom": "bar",
          "tooltips": {
           "lines": [
            "Type|@type",
            "Benchmark|@name",
            "Score|@score"
           ]
          }
         },
         {
          "mapping": {
           "x": "name",
           "ymin": "minErr",
           "ymax": "maxErr"
          },
          "stat": "identity",
          "sampling": "none",
          "width": 0.5,
          "position": "identity",
          "geom": "errorbar"
         },
         {
          "mapping": {
           "x": "name",
           "y": "textPosition",
           "label": "label"
          },
          "stat": "identity",
          "size": 5.2,
          "sampling": "none",
          "position": "identity",
          "geom": "text"
         }
        ],
        "theme": {
         "flavor": "solarized_light"
        }
       },
       "apply_color_scheme": true,
       "swing_enabled": true
      }
     },
     "metadata": {},
     "output_type": "display_data"
    }
   ],
   "source": [
    "makePlot(\"Wolf3d\", \"ART\", readArtBenchmarkData(\"Wolf3dBenchmark\"))?.let { DISPLAY(it) }\n",
    "makePlot(\"Ackermann\", \"ART\", readArtBenchmarkData(\"AckermannBenchmark\"))?.let { DISPLAY(it) }\n",
    "makePlot(\"BoxRecreation\", \"ART\", readArtBenchmarkData(\"BoxRecreationBenchmark\"))?.let { DISPLAY(it) }"
   ],
   "metadata": {
    "collapsed": false,
    "ExecuteTime": {
     "end_time": "2023-07-13T01:47:11.012833Z",
     "start_time": "2023-07-13T01:47:08.905483Z"
    }
   }
  },
  {
   "cell_type": "code",
   "execution_count": 11,
   "outputs": [
    {
     "data": {
      "text/html": "            <iframe onload=\"o_resize_iframe_out_4()\" style=\"width:100%;\" class=\"result_container\" id=\"iframe_out_4\" frameBorder=\"0\" srcdoc=\"        &lt;html theme='dark'&gt;\n        &lt;head&gt;\n            &lt;style type=&quot;text&sol;css&quot;&gt;\n                :root {\n    --background: #fff;\n    --background-odd: #f5f5f5;\n    --background-hover: #d9edfd;\n    --header-text-color: #474747;\n    --text-color: #848484;\n    --text-color-dark: #000;\n    --text-color-medium: #737373;\n    --text-color-pale: #b3b3b3;\n    --inner-border-color: #aaa;\n    --bold-border-color: #000;\n    --link-color: #296eaa;\n    --link-color-pale: #296eaa;\n    --link-hover: #1a466c;\n}\n\n:root[theme=&quot;dark&quot;], :root [data-jp-theme-light=&quot;false&quot;], .dataframe_dark{\n    --background: #303030;\n    --background-odd: #3c3c3c;\n    --background-hover: #464646;\n    --header-text-color: #dddddd;\n    --text-color: #b3b3b3;\n    --text-color-dark: #dddddd;\n    --text-color-medium: #b2b2b2;\n    --text-color-pale: #737373;\n    --inner-border-color: #707070;\n    --bold-border-color: #777777;\n    --link-color: #008dc0;\n    --link-color-pale: #97e1fb;\n    --link-hover: #00688e;\n}\n\np.dataframe_description {\n    color: var(--text-color-dark);\n}\n\ntable.dataframe {\n    font-family: &quot;Helvetica Neue&quot;, Helvetica, Arial, sans-serif;\n    font-size: 12px;\n    background-color: var(--background);\n    color: var(--text-color-dark);\n    border: none;\n    border-collapse: collapse;\n}\n\ntable.dataframe th, td {\n    padding: 6px;\n    border: 1px solid transparent;\n    text-align: left;\n}\n\ntable.dataframe th {\n    background-color: var(--background);\n    color: var(--header-text-color);\n}\n\ntable.dataframe td {\n    vertical-align: top;\n}\n\ntable.dataframe th.bottomBorder {\n    border-bottom-color: var(--bold-border-color);\n}\n\ntable.dataframe tbody &gt; tr:nth-child(odd) {\n    background: var(--background-odd);\n}\n\ntable.dataframe tbody &gt; tr:nth-child(even) {\n    background: var(--background);\n}\n\ntable.dataframe tbody &gt; tr:hover {\n    background: var(--background-hover);\n}\n\ntable.dataframe a {\n    cursor: pointer;\n    color: var(--link-color);\n    text-decoration: none;\n}\n\ntable.dataframe tr:hover &gt; td a {\n    color: var(--link-color-pale);\n}\n\ntable.dataframe a:hover {\n    color: var(--link-hover);\n    text-decoration: underline;\n}\n\ntable.dataframe img {\n    max-width: fit-content;\n}\n\ntable.dataframe th.complex {\n    background-color: var(--background);\n    border: 1px solid var(--background);\n}\n\ntable.dataframe .leftBorder {\n    border-left-color: var(--inner-border-color);\n}\n\ntable.dataframe .rightBorder {\n    border-right-color: var(--inner-border-color);\n}\n\ntable.dataframe .rightAlign {\n    text-align: right;\n}\n\ntable.dataframe .expanderSvg {\n    width: 8px;\n    height: 8px;\n    margin-right: 3px;\n}\n\ntable.dataframe .expander {\n    display: flex;\n    align-items: center;\n}\n\n&sol;* formatting *&sol;\n\ntable.dataframe .null {\n    color: var(--text-color-pale);\n}\n\ntable.dataframe .structural {\n    color: var(--text-color-medium);\n    font-weight: bold;\n}\n\ntable.dataframe .dataFrameCaption {\n    font-weight: bold;\n}\n\ntable.dataframe .numbers {\n    color: var(--text-color-dark);\n}\n\ntable.dataframe td:hover .formatted .structural, .null {\n    color: var(--text-color-dark);\n}\n\ntable.dataframe tr:hover .formatted .structural, .null {\n    color: var(--text-color-dark);\n}\n\n\n\n\n:root {\n    --scroll-bg: #f5f5f5;\n    --scroll-fg: #b3b3b3;\n}\n:root[theme=&quot;dark&quot;], :root [data-jp-theme-light=&quot;false&quot;]{\n    --scroll-bg: #3c3c3c;\n    --scroll-fg: #97e1fb;\n}\nbody {\n    scrollbar-color: var(--scroll-fg) var(--scroll-bg);\n}\nbody::-webkit-scrollbar {\n    width: 10px; &sol;* Mostly for vertical scrollbars *&sol;\n    height: 10px; &sol;* Mostly for horizontal scrollbars *&sol;\n}\nbody::-webkit-scrollbar-thumb {\n    background-color: var(--scroll-fg);\n}\nbody::-webkit-scrollbar-track {\n    background-color: var(--scroll-bg);\n}\n            &lt;&sol;style&gt;\n        &lt;&sol;head&gt;\n        &lt;body&gt;\n            \n&lt;table class=&quot;dataframe&quot; id=&quot;df_1593835523&quot;&gt;&lt;&sol;table&gt;\n\n&lt;p class=&quot;dataframe_description&quot;&gt;... showing only top 20 of 22 rows&lt;&sol;p&gt;&lt;p class=&quot;dataframe_description&quot;&gt;DataFrame: rowsCount = 22, columnsCount = 4&lt;&sol;p&gt;\n\n        &lt;&sol;body&gt;\n        &lt;script&gt;\n            (function () {\n    window.DataFrame = window.DataFrame || new (function () {\n        this.addTable = function (df) {\n            let cols = df.cols;\n            for (let i = 0; i &lt; cols.length; i++) {\n                for (let c of cols[i].children) {\n                    cols[c].parent = i;\n                }\n            }\n            df.nrow = 0\n            for (let i = 0; i &lt; df.cols.length; i++) {\n                if (df.cols[i].values.length &gt; df.nrow) df.nrow = df.cols[i].values.length\n            }\n            if (df.id === df.rootId) {\n                df.expandedFrames = new Set()\n                df.childFrames = {}\n                const table = this.getTableElement(df.id)\n                table.df = df\n                for (let i = 0; i &lt; df.cols.length; i++) {\n                    let col = df.cols[i]\n                    if (col.parent === undefined &amp;&amp; col.children.length &gt; 0) col.expanded = true\n                }\n            } else {\n                const rootDf = this.getTableData(df.rootId)\n                rootDf.childFrames[df.id] = df\n            }\n        }\n\n        this.computeRenderData = function (df) {\n            let result = []\n            let pos = 0\n            for (let col = 0; col &lt; df.cols.length; col++) {\n                if (df.cols[col].parent === undefined)\n                    pos += this.computeRenderDataRec(df.cols, col, pos, 0, result, false, false)\n            }\n            for (let i = 0; i &lt; result.length; i++) {\n                let row = result[i]\n                for (let j = 0; j &lt; row.length; j++) {\n                    let cell = row[j]\n                    if (j === 0)\n                        cell.leftBd = false\n                    if (j &lt; row.length - 1) {\n                        let nextData = row[j + 1]\n                        if (nextData.leftBd) cell.rightBd = true\n                        else if (cell.rightBd) nextData.leftBd = true\n                    } else cell.rightBd = false\n                }\n            }\n            return result\n        }\n\n        this.computeRenderDataRec = function (cols, colId, pos, depth, result, leftBorder, rightBorder) {\n            if (result.length === depth) {\n                const array = [];\n                if (pos &gt; 0) {\n                    let j = 0\n                    for (let i = 0; j &lt; pos; i++) {\n                        let c = result[depth - 1][i]\n                        j += c.span\n                        let copy = Object.assign({empty: true}, c)\n                        array.push(copy)\n                    }\n                }\n                result.push(array)\n            }\n            const col = cols[colId];\n            let size = 0;\n            if (col.expanded) {\n                let childPos = pos\n                for (let i = 0; i &lt; col.children.length; i++) {\n                    let child = col.children[i]\n                    let childLeft = i === 0 &amp;&amp; (col.children.length &gt; 1 || leftBorder)\n                    let childRight = i === col.children.length - 1 &amp;&amp; (col.children.length &gt; 1 || rightBorder)\n                    let childSize = this.computeRenderDataRec(cols, child, childPos, depth + 1, result, childLeft, childRight)\n                    childPos += childSize\n                    size += childSize\n                }\n            } else {\n                for (let i = depth + 1; i &lt; result.length; i++)\n                    result[i].push({id: colId, span: 1, leftBd: leftBorder, rightBd: rightBorder, empty: true})\n                size = 1\n            }\n            let left = leftBorder\n            let right = rightBorder\n            if (size &gt; 1) {\n                left = true\n                right = true\n            }\n            result[depth].push({id: colId, span: size, leftBd: left, rightBd: right})\n            return size\n        }\n\n        this.getTableElement = function (id) {\n            return document.getElementById(&quot;df_&quot; + id)\n        }\n\n        this.getTableData = function (id) {\n            return this.getTableElement(id).df\n        }\n\n        this.createExpander = function (isExpanded) {\n            const svgNs = &quot;http:&sol;&sol;www.w3.org&sol;2000&sol;svg&quot;\n            let svg = document.createElementNS(svgNs, &quot;svg&quot;)\n            svg.classList.add(&quot;expanderSvg&quot;)\n            let path = document.createElementNS(svgNs, &quot;path&quot;)\n            if (isExpanded) {\n                svg.setAttribute(&quot;viewBox&quot;, &quot;0 -2 8 8&quot;)\n                path.setAttribute(&quot;d&quot;, &quot;M1 0 l-1 1 4 4 4 -4 -1 -1 -3 3Z&quot;)\n            } else {\n                svg.setAttribute(&quot;viewBox&quot;, &quot;-2 0 8 8&quot;)\n                path.setAttribute(&quot;d&quot;, &quot;M1 0 l-1 1 3 3 -3 3 1 1 4 -4Z&quot;)\n            }\n            path.setAttribute(&quot;fill&quot;, &quot;currentColor&quot;)\n            svg.appendChild(path)\n            return svg\n        }\n\n        this.renderTable = function (id) {\n\n            let table = this.getTableElement(id)\n\n            if (table === null) return\n\n            table.innerHTML = &quot;&quot;\n\n            let df = table.df\n            let rootDf = df.rootId === df.id ? df : this.getTableData(df.rootId)\n\n            &sol;&sol; header\n            let header = document.createElement(&quot;thead&quot;)\n            table.appendChild(header)\n\n            let renderData = this.computeRenderData(df)\n            for (let j = 0; j &lt; renderData.length; j++) {\n                let rowData = renderData[j]\n                let tr = document.createElement(&quot;tr&quot;);\n                let isLastRow = j === renderData.length - 1\n                header.appendChild(tr);\n                for (let i = 0; i &lt; rowData.length; i++) {\n                    let cell = rowData[i]\n                    let th = document.createElement(&quot;th&quot;);\n                    th.setAttribute(&quot;colspan&quot;, cell.span)\n                    let colId = cell.id\n                    let col = df.cols[colId];\n                    if (!cell.empty) {\n                        if (col.children.length === 0) {\n                            th.innerHTML = col.name\n                        } else {\n                            let link = document.createElement(&quot;a&quot;)\n                            link.className = &quot;expander&quot;\n                            let that = this\n                            link.onclick = function () {\n                                col.expanded = !col.expanded\n                                that.renderTable(id)\n                            }\n                            link.appendChild(this.createExpander(col.expanded))\n                            link.innerHTML += col.name\n                            th.appendChild(link)\n                        }\n                    }\n                    let classes = (cell.leftBd ? &quot; leftBorder&quot; : &quot;&quot;) + (cell.rightBd ? &quot; rightBorder&quot; : &quot;&quot;)\n                    if (col.rightAlign)\n                        classes += &quot; rightAlign&quot;\n                    if (isLastRow)\n                        classes += &quot; bottomBorder&quot;\n                    if (classes.length &gt; 0)\n                        th.setAttribute(&quot;class&quot;, classes)\n                    tr.appendChild(th)\n                }\n            }\n\n            &sol;&sol; body\n            let body = document.createElement(&quot;tbody&quot;)\n            table.appendChild(body)\n\n            let columns = renderData.pop()\n            for (let row = 0; row &lt; df.nrow; row++) {\n                let tr = document.createElement(&quot;tr&quot;);\n                body.appendChild(tr)\n                for (let i = 0; i &lt; columns.length; i++) {\n                    let cell = columns[i]\n                    let td = document.createElement(&quot;td&quot;);\n                    let colId = cell.id\n                    let col = df.cols[colId]\n                    let classes = (cell.leftBd ? &quot; leftBorder&quot; : &quot;&quot;) + (cell.rightBd ? &quot; rightBorder&quot; : &quot;&quot;)\n                    if (col.rightAlign)\n                        classes += &quot; rightAlign&quot;\n                    if (classes.length &gt; 0)\n                        td.setAttribute(&quot;class&quot;, classes)\n                    tr.appendChild(td)\n                    let value = col.values[row]\n                    if (value.frameId !== undefined) {\n                        let frameId = value.frameId\n                        let expanded = rootDf.expandedFrames.has(frameId)\n                        let link = document.createElement(&quot;a&quot;)\n                        link.className = &quot;expander&quot;\n                        let that = this\n                        link.onclick = function () {\n                            if (rootDf.expandedFrames.has(frameId))\n                                rootDf.expandedFrames.delete(frameId)\n                            else rootDf.expandedFrames.add(frameId)\n                            that.renderTable(id)\n                        }\n                        link.appendChild(this.createExpander(expanded))\n                        link.innerHTML += value.value\n                        if (expanded) {\n                            td.appendChild(link)\n                            td.appendChild(document.createElement(&quot;p&quot;))\n                            const childTable = document.createElement(&quot;table&quot;)\n                            childTable.className = &quot;dataframe&quot;\n                            childTable.id = &quot;df_&quot; + frameId\n                            let childDf = rootDf.childFrames[frameId]\n                            childTable.df = childDf\n                            td.appendChild(childTable)\n                            this.renderTable(frameId)\n                            if (childDf.nrow !== childDf.totalRows) {\n                                const footer = document.createElement(&quot;p&quot;)\n                                footer.innerText = `... showing only top ${childDf.nrow} of ${childDf.totalRows} rows`\n                                td.appendChild(footer)\n                            }\n                        } else {\n                            td.appendChild(link)\n                        }\n                    } else if (value.style !== undefined) {\n                        td.innerHTML = value.value\n                        td.setAttribute(&quot;style&quot;, value.style)\n                    } else td.innerHTML = value\n                    this.nodeScriptReplace(td)\n                }\n            }\n        }\n\n        this.nodeScriptReplace = function (node) {\n            if (this.nodeScriptIs(node) === true) {\n                node.parentNode.replaceChild(this.nodeScriptClone(node), node);\n            } else {\n                let i = -1, children = node.childNodes;\n                while (++i &lt; children.length) {\n                    this.nodeScriptReplace(children[i]);\n                }\n            }\n\n            return node;\n        }\n\n        this.nodeScriptClone = function (node) {\n            let script = document.createElement(&quot;script&quot;);\n            script.text = node.innerHTML;\n\n            let i = -1, attrs = node.attributes, attr;\n            while (++i &lt; attrs.length) {\n                script.setAttribute((attr = attrs[i]).name, attr.value);\n            }\n            return script;\n        }\n\n        this.nodeScriptIs = function (node) {\n            return node.tagName === 'SCRIPT';\n        }\n    })()\n\n    window.call_DataFrame = function (f) {\n        return f();\n    };\n\n    let funQueue = window[&quot;kotlinQueues&quot;] &amp;&amp; window[&quot;kotlinQueues&quot;][&quot;DataFrame&quot;];\n    if (funQueue) {\n        funQueue.forEach(function (f) {\n            f();\n        });\n        funQueue = [];\n    }\n})()\n\n&sol;*&lt;!--*&sol;\ncall_DataFrame(function() { DataFrame.addTable({ cols: [{ name: &quot;&lt;span title=&bsol;&quot;name: String&bsol;&quot;&gt;name&lt;&sol;span&gt;&quot;, children: [], rightAlign: false, values: [&quot;baselineFloat&quot;,&quot;inlineFloat&quot;,&quot;longPackFloat&quot;,&quot;mutableSpecificRefFloat&quot;,&quot;mutableUniversalRefFloatIn1Long&quot;,&quot;mutableUniversalRefFloatIn2Longs&quot;,&quot;valhallaFloat&quot;,&quot;valueFloat&quot;,&quot;valueInlineFloat&quot;,&quot;valueInlineOnlyBodiesFloat&quot;,&quot;valueOnlyBodiesFloat&quot;,&quot;valuePreserveBoxFloat&quot;,&quot;baselineDouble&quot;,&quot;inlineDouble&quot;,&quot;mutableSpecificRefDouble&quot;,&quot;mutableUniversalRefDouble&quot;,&quot;valhallaDouble&quot;,&quot;valueDouble&quot;,&quot;valueInlineDouble&quot;,&quot;valueInlineOnlyBodiesDouble&quot;] }, \n{ name: &quot;&lt;span title=&bsol;&quot;score: Double&bsol;&quot;&gt;score&lt;&sol;span&gt;&quot;, children: [], rightAlign: true, values: [&quot;&lt;span class=&bsol;&quot;formatted&bsol;&quot; title=&bsol;&quot;&bsol;&quot;&gt;&lt;span class=&bsol;&quot;numbers&bsol;&quot;&gt;33508392.897&lt;&sol;span&gt;&lt;&sol;span&gt;&quot;,&quot;&lt;span class=&bsol;&quot;formatted&bsol;&quot; title=&bsol;&quot;&bsol;&quot;&gt;&lt;span class=&bsol;&quot;numbers&bsol;&quot;&gt;39698036.569&lt;&sol;span&gt;&lt;&sol;span&gt;&quot;,&quot;&lt;span class=&bsol;&quot;formatted&bsol;&quot; title=&bsol;&quot;&bsol;&quot;&gt;&lt;span class=&bsol;&quot;numbers&bsol;&quot;&gt;55641991.930&lt;&sol;span&gt;&lt;&sol;span&gt;&quot;,&quot;&lt;span class=&bsol;&quot;formatted&bsol;&quot; title=&bsol;&quot;&bsol;&quot;&gt;&lt;span class=&bsol;&quot;numbers&bsol;&quot;&gt;23431524.348&lt;&sol;span&gt;&lt;&sol;span&gt;&quot;,&quot;&lt;span class=&bsol;&quot;formatted&bsol;&quot; title=&bsol;&quot;&bsol;&quot;&gt;&lt;span class=&bsol;&quot;numbers&bsol;&quot;&gt;64040135.311&lt;&sol;span&gt;&lt;&sol;span&gt;&quot;,&quot;&lt;span class=&bsol;&quot;formatted&bsol;&quot; title=&bsol;&quot;&bsol;&quot;&gt;&lt;span class=&bsol;&quot;numbers&bsol;&quot;&gt;36569917.063&lt;&sol;span&gt;&lt;&sol;span&gt;&quot;,&quot;&lt;span class=&bsol;&quot;formatted&bsol;&quot; title=&bsol;&quot;&bsol;&quot;&gt;&lt;span class=&bsol;&quot;numbers&bsol;&quot;&gt;23946619.645&lt;&sol;span&gt;&lt;&sol;span&gt;&quot;,&quot;&lt;span class=&bsol;&quot;formatted&bsol;&quot; title=&bsol;&quot;&bsol;&quot;&gt;&lt;span class=&bsol;&quot;numbers&bsol;&quot;&gt;24417403.228&lt;&sol;span&gt;&lt;&sol;span&gt;&quot;,&quot;&lt;span class=&bsol;&quot;formatted&bsol;&quot; title=&bsol;&quot;&bsol;&quot;&gt;&lt;span class=&bsol;&quot;numbers&bsol;&quot;&gt;24643679.610&lt;&sol;span&gt;&lt;&sol;span&gt;&quot;,&quot;&lt;span class=&bsol;&quot;formatted&bsol;&quot; title=&bsol;&quot;&bsol;&quot;&gt;&lt;span class=&bsol;&quot;numbers&bsol;&quot;&gt;24681510.043&lt;&sol;span&gt;&lt;&sol;span&gt;&quot;,&quot;&lt;span class=&bsol;&quot;formatted&bsol;&quot; title=&bsol;&quot;&bsol;&quot;&gt;&lt;span class=&bsol;&quot;numbers&bsol;&quot;&gt;24139438.375&lt;&sol;span&gt;&lt;&sol;span&gt;&quot;,&quot;&lt;span class=&bsol;&quot;formatted&bsol;&quot; title=&bsol;&quot;&bsol;&quot;&gt;&lt;span class=&bsol;&quot;numbers&bsol;&quot;&gt;24787352.291&lt;&sol;span&gt;&lt;&sol;span&gt;&quot;,&quot;&lt;span class=&bsol;&quot;formatted&bsol;&quot; title=&bsol;&quot;&bsol;&quot;&gt;&lt;span class=&bsol;&quot;numbers&bsol;&quot;&gt;34492134.128&lt;&sol;span&gt;&lt;&sol;span&gt;&quot;,&quot;&lt;span class=&bsol;&quot;formatted&bsol;&quot; title=&bsol;&quot;&bsol;&quot;&gt;&lt;span class=&bsol;&quot;numbers&bsol;&quot;&gt;34032916.869&lt;&sol;span&gt;&lt;&sol;span&gt;&quot;,&quot;&lt;span class=&bsol;&quot;formatted&bsol;&quot; title=&bsol;&quot;&bsol;&quot;&gt;&lt;span class=&bsol;&quot;numbers&bsol;&quot;&gt;23234207.834&lt;&sol;span&gt;&lt;&sol;span&gt;&quot;,&quot;&lt;span class=&bsol;&quot;formatted&bsol;&quot; title=&bsol;&quot;&bsol;&quot;&gt;&lt;span class=&bsol;&quot;numbers&bsol;&quot;&gt;39701648.616&lt;&sol;span&gt;&lt;&sol;span&gt;&quot;,&quot;&lt;span class=&bsol;&quot;formatted&bsol;&quot; title=&bsol;&quot;&bsol;&quot;&gt;&lt;span class=&bsol;&quot;numbers&bsol;&quot;&gt;24537659.794&lt;&sol;span&gt;&lt;&sol;span&gt;&quot;,&quot;&lt;span class=&bsol;&quot;formatted&bsol;&quot; title=&bsol;&quot;&bsol;&quot;&gt;&lt;span class=&bsol;&quot;numbers&bsol;&quot;&gt;24340670.426&lt;&sol;span&gt;&lt;&sol;span&gt;&quot;,&quot;&lt;span class=&bsol;&quot;formatted&bsol;&quot; title=&bsol;&quot;&bsol;&quot;&gt;&lt;span class=&bsol;&quot;numbers&bsol;&quot;&gt;24424303.158&lt;&sol;span&gt;&lt;&sol;span&gt;&quot;,&quot;&lt;span class=&bsol;&quot;formatted&bsol;&quot; title=&bsol;&quot;&bsol;&quot;&gt;&lt;span class=&bsol;&quot;numbers&bsol;&quot;&gt;24493755.313&lt;&sol;span&gt;&lt;&sol;span&gt;&quot;] }, \n{ name: &quot;&lt;span title=&bsol;&quot;error: Double&bsol;&quot;&gt;error&lt;&sol;span&gt;&quot;, children: [], rightAlign: true, values: [&quot;&lt;span class=&bsol;&quot;formatted&bsol;&quot; title=&bsol;&quot;&bsol;&quot;&gt;&lt;span class=&bsol;&quot;numbers&bsol;&quot;&gt;100352.733&lt;&sol;span&gt;&lt;&sol;span&gt;&quot;,&quot;&lt;span class=&bsol;&quot;formatted&bsol;&quot; title=&bsol;&quot;&bsol;&quot;&gt;&lt;span class=&bsol;&quot;numbers&bsol;&quot;&gt;82721.526&lt;&sol;span&gt;&lt;&sol;span&gt;&quot;,&quot;&lt;span class=&bsol;&quot;formatted&bsol;&quot; title=&bsol;&quot;&bsol;&quot;&gt;&lt;span class=&bsol;&quot;numbers&bsol;&quot;&gt;58705.011&lt;&sol;span&gt;&lt;&sol;span&gt;&quot;,&quot;&lt;span class=&bsol;&quot;formatted&bsol;&quot; title=&bsol;&quot;&bsol;&quot;&gt;&lt;span class=&bsol;&quot;numbers&bsol;&quot;&gt;48641.793&lt;&sol;span&gt;&lt;&sol;span&gt;&quot;,&quot;&lt;span class=&bsol;&quot;formatted&bsol;&quot; title=&bsol;&quot;&bsol;&quot;&gt;&lt;span class=&bsol;&quot;numbers&bsol;&quot;&gt;67365.613&lt;&sol;span&gt;&lt;&sol;span&gt;&quot;,&quot;&lt;span class=&bsol;&quot;formatted&bsol;&quot; title=&bsol;&quot;&bsol;&quot;&gt;&lt;span class=&bsol;&quot;numbers&bsol;&quot;&gt;498997.167&lt;&sol;span&gt;&lt;&sol;span&gt;&quot;,&quot;&lt;span class=&bsol;&quot;formatted&bsol;&quot; title=&bsol;&quot;&bsol;&quot;&gt;&lt;span class=&bsol;&quot;numbers&bsol;&quot;&gt;275609.572&lt;&sol;span&gt;&lt;&sol;span&gt;&quot;,&quot;&lt;span class=&bsol;&quot;formatted&bsol;&quot; title=&bsol;&quot;&bsol;&quot;&gt;&lt;span class=&bsol;&quot;numbers&bsol;&quot;&gt;48954.498&lt;&sol;span&gt;&lt;&sol;span&gt;&quot;,&quot;&lt;span class=&bsol;&quot;formatted&bsol;&quot; title=&bsol;&quot;&bsol;&quot;&gt;&lt;span class=&bsol;&quot;numbers&bsol;&quot;&gt;11814.748&lt;&sol;span&gt;&lt;&sol;span&gt;&quot;,&quot;&lt;span class=&bsol;&quot;formatted&bsol;&quot; title=&bsol;&quot;&bsol;&quot;&gt;&lt;span class=&bsol;&quot;numbers&bsol;&quot;&gt;19832.347&lt;&sol;span&gt;&lt;&sol;span&gt;&quot;,&quot;&lt;span class=&bsol;&quot;formatted&bsol;&quot; title=&bsol;&quot;&bsol;&quot;&gt;&lt;span class=&bsol;&quot;numbers&bsol;&quot;&gt;28704.680&lt;&sol;span&gt;&lt;&sol;span&gt;&quot;,&quot;&lt;span class=&bsol;&quot;formatted&bsol;&quot; title=&bsol;&quot;&bsol;&quot;&gt;&lt;span class=&bsol;&quot;numbers&bsol;&quot;&gt;40147.038&lt;&sol;span&gt;&lt;&sol;span&gt;&quot;,&quot;&lt;span class=&bsol;&quot;formatted&bsol;&quot; title=&bsol;&quot;&bsol;&quot;&gt;&lt;span class=&bsol;&quot;numbers&bsol;&quot;&gt;140732.772&lt;&sol;span&gt;&lt;&sol;span&gt;&quot;,&quot;&lt;span class=&bsol;&quot;formatted&bsol;&quot; title=&bsol;&quot;&bsol;&quot;&gt;&lt;span class=&bsol;&quot;numbers&bsol;&quot;&gt;81843.995&lt;&sol;span&gt;&lt;&sol;span&gt;&quot;,&quot;&lt;span class=&bsol;&quot;formatted&bsol;&quot; title=&bsol;&quot;&bsol;&quot;&gt;&lt;span class=&bsol;&quot;numbers&bsol;&quot;&gt;24392.741&lt;&sol;span&gt;&lt;&sol;span&gt;&quot;,&quot;&lt;span class=&bsol;&quot;formatted&bsol;&quot; title=&bsol;&quot;&bsol;&quot;&gt;&lt;span class=&bsol;&quot;numbers&bsol;&quot;&gt;5031636.463&lt;&sol;span&gt;&lt;&sol;span&gt;&quot;,&quot;&lt;span class=&bsol;&quot;formatted&bsol;&quot; title=&bsol;&quot;&bsol;&quot;&gt;&lt;span class=&bsol;&quot;numbers&bsol;&quot;&gt;149853.392&lt;&sol;span&gt;&lt;&sol;span&gt;&quot;,&quot;&lt;span class=&bsol;&quot;formatted&bsol;&quot; title=&bsol;&quot;&bsol;&quot;&gt;&lt;span class=&bsol;&quot;numbers&bsol;&quot;&gt;56676.640&lt;&sol;span&gt;&lt;&sol;span&gt;&quot;,&quot;&lt;span class=&bsol;&quot;formatted&bsol;&quot; title=&bsol;&quot;&bsol;&quot;&gt;&lt;span class=&bsol;&quot;numbers&bsol;&quot;&gt;23132.021&lt;&sol;span&gt;&lt;&sol;span&gt;&quot;,&quot;&lt;span class=&bsol;&quot;formatted&bsol;&quot; title=&bsol;&quot;&bsol;&quot;&gt;&lt;span class=&bsol;&quot;numbers&bsol;&quot;&gt;60579.786&lt;&sol;span&gt;&lt;&sol;span&gt;&quot;] }, \n{ name: &quot;&lt;span title=&bsol;&quot;type: Line_9_jupyter.Type&bsol;&quot;&gt;type&lt;&sol;span&gt;&quot;, children: [], rightAlign: false, values: [&quot;Float&quot;,&quot;Float&quot;,&quot;Float&quot;,&quot;Float&quot;,&quot;Float&quot;,&quot;Float&quot;,&quot;Float&quot;,&quot;Float&quot;,&quot;Float&quot;,&quot;Float&quot;,&quot;Float&quot;,&quot;Float&quot;,&quot;Double&quot;,&quot;Double&quot;,&quot;Double&quot;,&quot;Double&quot;,&quot;Double&quot;,&quot;Double&quot;,&quot;Double&quot;,&quot;Double&quot;] }, \n], id: 1593835523, rootId: 1593835523, totalRows: 22 } ) });\n&sol;*--&gt;*&sol;\n\ncall_DataFrame(function() { DataFrame.renderTable(1593835523) });\n\n\n\n        &lt;&sol;script&gt;\n        &lt;&sol;html&gt;\"></iframe>\n            <script>\n                function o_resize_iframe_out_4() {\n                    let elem = document.getElementById(\"iframe_out_4\");\n                    resize_iframe_out_4(elem);\n                    setInterval(resize_iframe_out_4, 5000, elem);\n                }\n                function resize_iframe_out_4(el) {\n                    let h = el.contentWindow.document.body.scrollHeight;\n                    el.height = h === 0 ? 0 : h + 41;\n                }\n            </script>",
      "application/kotlindataframe+json": "{\"nrow\":22,\"ncol\":4,\"columns\":[\"name\",\"score\",\"error\",\"type\"],\"kotlin_dataframe\":[{\"name\":\"baselineFloat\",\"score\":3.3508392897E7,\"error\":100352.733,\"type\":\"Float\"},{\"name\":\"inlineFloat\",\"score\":3.9698036569E7,\"error\":82721.526,\"type\":\"Float\"},{\"name\":\"longPackFloat\",\"score\":5.564199193E7,\"error\":58705.011,\"type\":\"Float\"},{\"name\":\"mutableSpecificRefFloat\",\"score\":2.3431524348E7,\"error\":48641.793,\"type\":\"Float\"},{\"name\":\"mutableUniversalRefFloatIn1Long\",\"score\":6.4040135311E7,\"error\":67365.613,\"type\":\"Float\"},{\"name\":\"mutableUniversalRefFloatIn2Longs\",\"score\":3.6569917063E7,\"error\":498997.167,\"type\":\"Float\"},{\"name\":\"valhallaFloat\",\"score\":2.3946619645E7,\"error\":275609.572,\"type\":\"Float\"},{\"name\":\"valueFloat\",\"score\":2.4417403228E7,\"error\":48954.498,\"type\":\"Float\"},{\"name\":\"valueInlineFloat\",\"score\":2.464367961E7,\"error\":11814.748,\"type\":\"Float\"},{\"name\":\"valueInlineOnlyBodiesFloat\",\"score\":2.4681510043E7,\"error\":19832.347,\"type\":\"Float\"},{\"name\":\"valueOnlyBodiesFloat\",\"score\":2.4139438375E7,\"error\":28704.68,\"type\":\"Float\"},{\"name\":\"valuePreserveBoxFloat\",\"score\":2.4787352291E7,\"error\":40147.038,\"type\":\"Float\"},{\"name\":\"baselineDouble\",\"score\":3.4492134128E7,\"error\":140732.772,\"type\":\"Double\"},{\"name\":\"inlineDouble\",\"score\":3.4032916869E7,\"error\":81843.995,\"type\":\"Double\"},{\"name\":\"mutableSpecificRefDouble\",\"score\":2.3234207834E7,\"error\":24392.741,\"type\":\"Double\"},{\"name\":\"mutableUniversalRefDouble\",\"score\":3.9701648616E7,\"error\":5031636.463,\"type\":\"Double\"},{\"name\":\"valhallaDouble\",\"score\":2.4537659794E7,\"error\":149853.392,\"type\":\"Double\"},{\"name\":\"valueDouble\",\"score\":2.4340670426E7,\"error\":56676.64,\"type\":\"Double\"},{\"name\":\"valueInlineDouble\",\"score\":2.4424303158E7,\"error\":23132.021,\"type\":\"Double\"},{\"name\":\"valueInlineOnlyBodiesDouble\",\"score\":2.4493755313E7,\"error\":60579.786,\"type\":\"Double\"}]}"
     },
     "execution_count": 11,
     "metadata": {},
     "output_type": "execute_result"
    }
   ],
   "source": [
    "readValhallaHotspotBenchmarkData(\"Wolf3dBenchmark\")"
   ],
   "metadata": {
    "collapsed": false,
    "ExecuteTime": {
     "end_time": "2023-07-13T01:47:11.024520Z",
     "start_time": "2023-07-13T01:47:09.601551Z"
    }
   }
  },
  {
   "cell_type": "code",
   "execution_count": 12,
   "outputs": [
    {
     "data": {
      "text/html": "            <script type=\"text/javascript\" data-lets-plot-script=\"library\" src=\"https://cdn.jsdelivr.net/gh/JetBrains/lets-plot@v3.1.0/js-package/distr/lets-plot.min.js\"></script>    \n               <div id=\"6R5pvi\"></div>\n   <script type=\"text/javascript\" data-lets-plot-script=\"plot\">\n       var plotSpec={\n\"ggtitle\":{\n\"text\":\"Wolf3d\",\n\"subtitle\":\"Hotspot with Valhalla\"\n},\n\"mapping\":{\n},\n\"data\":{\n\"score\":[3.3508392897E7,3.9698036569E7,5.564199193E7,2.3431524348E7,6.4040135311E7,3.6569917063E7,2.3946619645E7,2.4417403228E7,2.464367961E7,2.4681510043E7,2.4139438375E7,2.4787352291E7,3.4492134128E7,3.4032916869E7,2.3234207834E7,3.9701648616E7,2.4537659794E7,2.4340670426E7,2.4424303158E7,2.4493755313E7,2.3610842874E7,2.4417131676E7],\n\"textPosition\":[1.67541964485E7,1.98490182845E7,2.7820995965E7,1.1715762174E7,3.20200676555E7,1.82849585315E7,1.19733098225E7,1.2208701614E7,1.2321839805E7,1.23407550215E7,1.20697191875E7,1.23936761455E7,1.7246067064E7,1.70164584345E7,1.1617103917E7,1.9850824308E7,1.2268829897E7,1.2170335213E7,1.2212151579E7,1.22468776565E7,1.1805421437E7,1.2208565838E7],\n\"name\":[\"baselineFloat\",\"inlineFloat\",\"longPackFloat\",\"mutableSpecificRefFloat\",\"mutableUniversalRefFloatIn1Long\",\"mutableUniversalRefFloatIn2Longs\",\"valhallaFloat\",\"valueFloat\",\"valueInlineFloat\",\"valueInlineOnlyBodiesFloat\",\"valueOnlyBodiesFloat\",\"valuePreserveBoxFloat\",\"baselineDouble\",\"inlineDouble\",\"mutableSpecificRefDouble\",\"mutableUniversalRefDouble\",\"valhallaDouble\",\"valueDouble\",\"valueInlineDouble\",\"valueInlineOnlyBodiesDouble\",\"valueOnlyBodiesDouble\",\"valuePreserveBoxDouble\"],\n\"minErr\":[3.3408040164E7,3.9615315043E7,5.5583286919E7,2.3382882555E7,6.3972769698E7,3.6070919896E7,2.3671010073E7,2.436844873E7,2.4631864862E7,2.4661677696000002E7,2.4110733695E7,2.4747205253000002E7,3.4351401356E7,3.3951072874000005E7,2.3209815093E7,3.4670012153E7,2.4387806402E7,2.4283993786E7,2.4401171137E7,2.4433175527000003E7,2.3526936833E7,2.4348700314999998E7],\n\"label\":[\"100%\\n±\\n0.3%\\nFloat\",\"118%\\n±\\n0.2%\\nFloat\",\"166%\\n±\\n0.2%\\nFloat\",\"70%\\n±\\n0.1%\\nFloat\",\"191%\\n±\\n0.2%\\nFloat\",\"109%\\n±\\n1.5%\\nFloat\",\"71%\\n±\\n0.8%\\nFloat\",\"73%\\n±\\n0.1%\\nFloat\",\"74%\\n±\\n0.0%\\nFloat\",\"74%\\n±\\n0.1%\\nFloat\",\"72%\\n±\\n0.1%\\nFloat\",\"74%\\n±\\n0.1%\\nFloat\",\"100%\\n±\\n0.4%\\nDouble\",\"99%\\n±\\n0.2%\\nDouble\",\"67%\\n±\\n0.1%\\nDouble\",\"115%\\n±\\n14.6%\\nDouble\",\"71%\\n±\\n0.4%\\nDouble\",\"71%\\n±\\n0.2%\\nDouble\",\"71%\\n±\\n0.1%\\nDouble\",\"71%\\n±\\n0.2%\\nDouble\",\"68%\\n±\\n0.2%\\nDouble\",\"71%\\n±\\n0.2%\\nDouble\"],\n\"type\":[\"Float\",\"Float\",\"Float\",\"Float\",\"Float\",\"Float\",\"Float\",\"Float\",\"Float\",\"Float\",\"Float\",\"Float\",\"Double\",\"Double\",\"Double\",\"Double\",\"Double\",\"Double\",\"Double\",\"Double\",\"Double\",\"Double\"],\n\"maxErr\":[3.360874563E7,3.9780758095E7,5.5700696941E7,2.3480166141000003E7,6.4107500923999995E7,3.7068914230000004E7,2.4222229217E7,2.4466357726E7,2.4655494358E7,2.470134239E7,2.4168143055E7,2.4827499329E7,3.46328669E7,3.4114760864E7,2.3258600575E7,4.4733285078999996E7,2.4687513186E7,2.4397347066E7,2.4447435179E7,2.4554335099E7,2.3694748915000003E7,2.4485563037E7]\n},\n\"ggsize\":{\n\"width\":800.0,\n\"height\":600.0\n},\n\"kind\":\"plot\",\n\"scales\":[{\n\"aesthetic\":\"x\",\n\"breaks\":[\"baselineFloat\",\"inlineFloat\",\"longPackFloat\",\"mutableSpecificRefFloat\",\"mutableUniversalRefFloatIn1Long\",\"mutableUniversalRefFloatIn2Longs\",\"valhallaFloat\",\"valueFloat\",\"valueInlineFloat\",\"valueInlineOnlyBodiesFloat\",\"valueOnlyBodiesFloat\",\"valuePreserveBoxFloat\",\"baselineDouble\",\"inlineDouble\",\"mutableSpecificRefDouble\",\"mutableUniversalRefDouble\",\"valhallaDouble\",\"valueDouble\",\"valueInlineDouble\",\"valueInlineOnlyBodiesDouble\",\"valueOnlyBodiesDouble\",\"valuePreserveBoxDouble\"],\n\"name\":\"Benchmark\",\n\"labels\":[\"baseline\",\"inline\",\"longPack\",\"mutableSpecificRef\",\"mutableUniversalRefIn1Long\",\"mutableUniversalRefIn2Longs\",\"valhalla\",\"value\",\"valueInline\",\"valueInlineOnlyBodies\",\"valueOnlyBodies\",\"valuePreserveBox\",\"baseline\",\"inline\",\"mutableSpecificRef\",\"mutableUniversalRef\",\"valhalla\",\"value\",\"valueInline\",\"valueInlineOnlyBodies\",\"valueOnlyBodies\",\"valuePreserveBox\"]\n},{\n\"aesthetic\":\"y\",\n\"name\":\"ns/op\",\n\"limits\":[null,null]\n},{\n\"aesthetic\":\"fill\",\n\"discrete\":true,\n\"name\":\"Type\",\n\"guide\":{\n\"name\":\"legend\"\n}\n},{\n\"aesthetic\":\"x\"\n},{\n\"aesthetic\":\"x\"\n},{\n\"aesthetic\":\"y\",\n\"limits\":[null,null]\n}],\n\"layers\":[{\n\"mapping\":{\n\"x\":\"name\",\n\"y\":\"score\",\n\"fill\":\"type\"\n},\n\"stat\":\"identity\",\n\"sampling\":\"none\",\n\"position\":\"dodge\",\n\"geom\":\"bar\",\n\"tooltips\":{\n\"lines\":[\"Type|@type\",\"Benchmark|@name\",\"Score|@score\"]\n},\n\"data\":{\n}\n},{\n\"mapping\":{\n\"x\":\"name\",\n\"ymin\":\"minErr\",\n\"ymax\":\"maxErr\"\n},\n\"stat\":\"identity\",\n\"sampling\":\"none\",\n\"width\":0.5,\n\"position\":\"identity\",\n\"geom\":\"errorbar\",\n\"data\":{\n}\n},{\n\"mapping\":{\n\"x\":\"name\",\n\"y\":\"textPosition\",\n\"label\":\"label\"\n},\n\"stat\":\"identity\",\n\"size\":3.5999999999999996,\n\"sampling\":\"none\",\n\"position\":\"identity\",\n\"geom\":\"text\",\n\"data\":{\n}\n}],\n\"theme\":{\n\"flavor\":\"solarized_light\"\n}\n};\n       var plotContainer = document.getElementById(\"6R5pvi\");\n       LetsPlot.buildPlotFromProcessedSpecs(plotSpec, -1, -1, plotContainer);\n   </script>    ",
      "application/plot+json": {
       "output_type": "lets_plot_spec",
       "output": {
        "ggtitle": {
         "text": "Wolf3d",
         "subtitle": "Hotspot with Valhalla"
        },
        "mapping": {},
        "data": {
         "score": [
          3.3508392E7,
          3.9698036E7,
          5.5641992E7,
          2.3431524E7,
          6.4040136E7,
          3.6569916E7,
          2.394662E7,
          2.4417404E7,
          2.464368E7,
          2.468151E7,
          2.4139438E7,
          2.4787352E7,
          3.4492136E7,
          3.4032916E7,
          2.3234208E7,
          3.9701648E7,
          2.453766E7,
          2.434067E7,
          2.4424304E7,
          2.4493756E7,
          2.3610842E7,
          2.4417132E7
         ],
         "textPosition": [
          1.6754196E7,
          1.9849018E7,
          2.7820996E7,
          1.1715762E7,
          3.2020068E7,
          1.8284958E7,
          1.197331E7,
          1.2208702E7,
          1.232184E7,
          1.2340755E7,
          1.2069719E7,
          1.2393676E7,
          1.7246068E7,
          1.7016458E7,
          1.1617104E7,
          1.9850824E7,
          1.226883E7,
          1.2170335E7,
          1.2212152E7,
          1.2246878E7,
          1.1805421E7,
          1.2208566E7
         ],
         "name": [
          "baselineFloat",
          "inlineFloat",
          "longPackFloat",
          "mutableSpecificRefFloat",
          "mutableUniversalRefFloatIn1Long",
          "mutableUniversalRefFloatIn2Longs",
          "valhallaFloat",
          "valueFloat",
          "valueInlineFloat",
          "valueInlineOnlyBodiesFloat",
          "valueOnlyBodiesFloat",
          "valuePreserveBoxFloat",
          "baselineDouble",
          "inlineDouble",
          "mutableSpecificRefDouble",
          "mutableUniversalRefDouble",
          "valhallaDouble",
          "valueDouble",
          "valueInlineDouble",
          "valueInlineOnlyBodiesDouble",
          "valueOnlyBodiesDouble",
          "valuePreserveBoxDouble"
         ],
         "minErr": [
          3.340804E7,
          3.9615316E7,
          5.5583288E7,
          2.3382882E7,
          6.3972768E7,
          3.607092E7,
          2.367101E7,
          2.4368448E7,
          2.4631864E7,
          2.4661678E7,
          2.4110734E7,
          2.4747206E7,
          3.43514E7,
          3.3951072E7,
          2.3209816E7,
          3.4670012E7,
          2.4387806E7,
          2.4283994E7,
          2.4401172E7,
          2.4433176E7,
          2.3526936E7,
          2.43487E7
         ],
         "label": [
          "100%\n±\n0.3%\nFloat",
          "118%\n±\n0.2%\nFloat",
          "166%\n±\n0.2%\nFloat",
          "70%\n±\n0.1%\nFloat",
          "191%\n±\n0.2%\nFloat",
          "109%\n±\n1.5%\nFloat",
          "71%\n±\n0.8%\nFloat",
          "73%\n±\n0.1%\nFloat",
          "74%\n±\n0.0%\nFloat",
          "74%\n±\n0.1%\nFloat",
          "72%\n±\n0.1%\nFloat",
          "74%\n±\n0.1%\nFloat",
          "100%\n±\n0.4%\nDouble",
          "99%\n±\n0.2%\nDouble",
          "67%\n±\n0.1%\nDouble",
          "115%\n±\n14.6%\nDouble",
          "71%\n±\n0.4%\nDouble",
          "71%\n±\n0.2%\nDouble",
          "71%\n±\n0.1%\nDouble",
          "71%\n±\n0.2%\nDouble",
          "68%\n±\n0.2%\nDouble",
          "71%\n±\n0.2%\nDouble"
         ],
         "type": [
          "Float",
          "Float",
          "Float",
          "Float",
          "Float",
          "Float",
          "Float",
          "Float",
          "Float",
          "Float",
          "Float",
          "Float",
          "Double",
          "Double",
          "Double",
          "Double",
          "Double",
          "Double",
          "Double",
          "Double",
          "Double",
          "Double"
         ],
         "maxErr": [
          3.3608744E7,
          3.978076E7,
          5.5700696E7,
          2.3480166E7,
          6.41075E7,
          3.7068916E7,
          2.422223E7,
          2.4466358E7,
          2.4655494E7,
          2.4701342E7,
          2.4168144E7,
          2.48275E7,
          3.4632868E7,
          3.411476E7,
          2.32586E7,
          4.4733284E7,
          2.4687514E7,
          2.4397348E7,
          2.4447436E7,
          2.4554336E7,
          2.3694748E7,
          2.4485564E7
         ]
        },
        "ggsize": {
         "width": 800.0,
         "height": 600.0
        },
        "kind": "plot",
        "scales": [
         {
          "aesthetic": "x",
          "breaks": [
           "baselineFloat",
           "inlineFloat",
           "longPackFloat",
           "mutableSpecificRefFloat",
           "mutableUniversalRefFloatIn1Long",
           "mutableUniversalRefFloatIn2Longs",
           "valhallaFloat",
           "valueFloat",
           "valueInlineFloat",
           "valueInlineOnlyBodiesFloat",
           "valueOnlyBodiesFloat",
           "valuePreserveBoxFloat",
           "baselineDouble",
           "inlineDouble",
           "mutableSpecificRefDouble",
           "mutableUniversalRefDouble",
           "valhallaDouble",
           "valueDouble",
           "valueInlineDouble",
           "valueInlineOnlyBodiesDouble",
           "valueOnlyBodiesDouble",
           "valuePreserveBoxDouble"
          ],
          "name": "Benchmark",
          "labels": [
           "baseline",
           "inline",
           "longPack",
           "mutableSpecificRef",
           "mutableUniversalRefIn1Long",
           "mutableUniversalRefIn2Longs",
           "valhalla",
           "value",
           "valueInline",
           "valueInlineOnlyBodies",
           "valueOnlyBodies",
           "valuePreserveBox",
           "baseline",
           "inline",
           "mutableSpecificRef",
           "mutableUniversalRef",
           "valhalla",
           "value",
           "valueInline",
           "valueInlineOnlyBodies",
           "valueOnlyBodies",
           "valuePreserveBox"
          ]
         },
         {
          "aesthetic": "y",
          "name": "ns/op",
          "limits": [
           null,
           null
          ]
         },
         {
          "aesthetic": "fill",
          "discrete": true,
          "name": "Type",
          "guide": {
           "name": "legend"
          }
         },
         {
          "aesthetic": "x"
         },
         {
          "aesthetic": "x"
         },
         {
          "aesthetic": "y",
          "limits": [
           null,
           null
          ]
         }
        ],
        "layers": [
         {
          "mapping": {
           "x": "name",
           "y": "score",
           "fill": "type"
          },
          "stat": "identity",
          "sampling": "none",
          "position": "dodge",
          "geom": "bar",
          "tooltips": {
           "lines": [
            "Type|@type",
            "Benchmark|@name",
            "Score|@score"
           ]
          }
         },
         {
          "mapping": {
           "x": "name",
           "ymin": "minErr",
           "ymax": "maxErr"
          },
          "stat": "identity",
          "sampling": "none",
          "width": 0.5,
          "position": "identity",
          "geom": "errorbar"
         },
         {
          "mapping": {
           "x": "name",
           "y": "textPosition",
           "label": "label"
          },
          "stat": "identity",
          "size": 3.6,
          "sampling": "none",
          "position": "identity",
          "geom": "text"
         }
        ],
        "theme": {
         "flavor": "solarized_light"
        }
       },
       "apply_color_scheme": true,
       "swing_enabled": true
      }
     },
     "metadata": {},
     "output_type": "display_data"
    },
    {
     "data": {
      "text/html": "            <script type=\"text/javascript\" data-lets-plot-script=\"library\" src=\"https://cdn.jsdelivr.net/gh/JetBrains/lets-plot@v3.1.0/js-package/distr/lets-plot.min.js\"></script>    \n               <div id=\"O0vmIR\"></div>\n   <script type=\"text/javascript\" data-lets-plot-script=\"plot\">\n       var plotSpec={\n\"ggtitle\":{\n\"text\":\"Ackermann\",\n\"subtitle\":\"Hotspot with Valhalla\"\n},\n\"mapping\":{\n},\n\"data\":{\n\"score\":[16441.922,8317.066,9972.941,10472.17,10868.468,12826.061,13031.105,14832.122,13111.345,17616.836,10596.252,10657.979,13847.497,13592.294,16282.392,13707.938,16776.124,16823.066,11083.632,18614.284,13599.757,10324.676,13434.403,15668.893,13434.034,18293.832,11458.898,11426.356,10799.866,14999.24,17162.633,14793.805],\n\"textPosition\":[8220.961,4158.533,4986.4705,5236.085,5434.234,6413.0305,6515.5525,7416.061,6555.6725,8808.418,5298.126,5328.9895,6923.7485,6796.147,8141.196,6853.969,8388.062,8411.533,5541.816,9307.142,6799.8785,5162.338,6717.2015,7834.4465,6717.017,9146.916,5729.449,5713.178,5399.933,7499.62,8581.3165,7396.9025],\n\"name\":[\"baselineInt\",\"longPackInt\",\"mutableSpecificRefInt\",\"mutableUniversalRefIntIn1Long\",\"mutableUniversalRefIntIn2Longs\",\"valhallaInt\",\"valueInt\",\"valueOnlyBodiesInt\",\"valuePreserveBoxInt\",\"baselineLong\",\"mutableSpecificRefLong\",\"mutableUniversalRefLong\",\"valhallaLong\",\"valueLong\",\"valueOnlyBodiesLong\",\"valuePreserveBoxLong\",\"baselineFloat\",\"longPackFloat\",\"mutableSpecificRefFloat\",\"mutableUniversalRefFloatIn1Long\",\"mutableUniversalRefFloatIn2Longs\",\"valhallaFloat\",\"valueFloat\",\"valueOnlyBodiesFloat\",\"valuePreserveBoxFloat\",\"baselineDouble\",\"mutableSpecificRefDouble\",\"mutableUniversalRefDouble\",\"valhallaDouble\",\"valueDouble\",\"valueOnlyBodiesDouble\",\"valuePreserveBoxDouble\"],\n\"minErr\":[16321.292,8277.95,9922.976,10373.558,10819.648000000001,12782.384,12785.434,14776.020999999999,12853.059,17507.115999999998,10539.761,10513.636999999999,13818.627999999999,13506.296,16200.896999999999,13415.487000000001,16683.821,16806.01,11025.201,18596.39,13568.714,10285.921,13155.841,15534.781,13230.072,18060.25,11401.872,11358.418,10742.56,14667.485999999999,16939.459000000003,14615.142],\n\"label\":[\"100%\\n±\\n0.7%\\nInt\",\"51%\\n±\\n0.2%\\nInt\",\"61%\\n±\\n0.3%\\nInt\",\"64%\\n±\\n0.6%\\nInt\",\"66%\\n±\\n0.3%\\nInt\",\"78%\\n±\\n0.3%\\nInt\",\"79%\\n±\\n1.5%\\nInt\",\"90%\\n±\\n0.3%\\nInt\",\"80%\\n±\\n1.6%\\nInt\",\"100%\\n±\\n0.6%\\nLong\",\"60%\\n±\\n0.3%\\nLong\",\"60%\\n±\\n0.8%\\nLong\",\"79%\\n±\\n0.2%\\nLong\",\"77%\\n±\\n0.5%\\nLong\",\"92%\\n±\\n0.5%\\nLong\",\"78%\\n±\\n1.7%\\nLong\",\"100%\\n±\\n0.6%\\nFloat\",\"100%\\n±\\n0.1%\\nFloat\",\"66%\\n±\\n0.3%\\nFloat\",\"111%\\n±\\n0.1%\\nFloat\",\"81%\\n±\\n0.2%\\nFloat\",\"62%\\n±\\n0.2%\\nFloat\",\"80%\\n±\\n1.7%\\nFloat\",\"93%\\n±\\n0.8%\\nFloat\",\"80%\\n±\\n1.2%\\nFloat\",\"100%\\n±\\n1.3%\\nDouble\",\"63%\\n±\\n0.3%\\nDouble\",\"62%\\n±\\n0.4%\\nDouble\",\"59%\\n±\\n0.3%\\nDouble\",\"82%\\n±\\n1.8%\\nDouble\",\"94%\\n±\\n1.2%\\nDouble\",\"81%\\n±\\n1.0%\\nDouble\"],\n\"type\":[\"Int\",\"Int\",\"Int\",\"Int\",\"Int\",\"Int\",\"Int\",\"Int\",\"Int\",\"Long\",\"Long\",\"Long\",\"Long\",\"Long\",\"Long\",\"Long\",\"Float\",\"Float\",\"Float\",\"Float\",\"Float\",\"Float\",\"Float\",\"Float\",\"Float\",\"Double\",\"Double\",\"Double\",\"Double\",\"Double\",\"Double\",\"Double\"],\n\"maxErr\":[16562.552,8356.182,10022.906,10570.782,10917.288,12869.738,13276.776,14888.223,13369.631,17726.556,10652.743,10802.321,13876.366,13678.292,16363.887,14000.389,16868.427,16840.122,11142.063,18632.178,13630.8,10363.430999999999,13712.965,15803.005,13637.996,18527.413999999997,11515.923999999999,11494.294,10857.172,15330.994,17385.807,14972.468]\n},\n\"ggsize\":{\n\"width\":800.0,\n\"height\":600.0\n},\n\"kind\":\"plot\",\n\"scales\":[{\n\"aesthetic\":\"x\",\n\"breaks\":[\"baselineInt\",\"longPackInt\",\"mutableSpecificRefInt\",\"mutableUniversalRefIntIn1Long\",\"mutableUniversalRefIntIn2Longs\",\"valhallaInt\",\"valueInt\",\"valueOnlyBodiesInt\",\"valuePreserveBoxInt\",\"baselineLong\",\"mutableSpecificRefLong\",\"mutableUniversalRefLong\",\"valhallaLong\",\"valueLong\",\"valueOnlyBodiesLong\",\"valuePreserveBoxLong\",\"baselineFloat\",\"longPackFloat\",\"mutableSpecificRefFloat\",\"mutableUniversalRefFloatIn1Long\",\"mutableUniversalRefFloatIn2Longs\",\"valhallaFloat\",\"valueFloat\",\"valueOnlyBodiesFloat\",\"valuePreserveBoxFloat\",\"baselineDouble\",\"mutableSpecificRefDouble\",\"mutableUniversalRefDouble\",\"valhallaDouble\",\"valueDouble\",\"valueOnlyBodiesDouble\",\"valuePreserveBoxDouble\"],\n\"name\":\"Benchmark\",\n\"labels\":[\"baseline\",\"longPack\",\"mutableSpecificRef\",\"mutableUniversalRefIn1Long\",\"mutableUniversalRefIn2Longs\",\"valhalla\",\"value\",\"valueOnlyBodies\",\"valuePreserveBox\",\"baseline\",\"mutableSpecificRef\",\"mutableUniversalRef\",\"valhalla\",\"value\",\"valueOnlyBodies\",\"valuePreserveBox\",\"baseline\",\"longPack\",\"mutableSpecificRef\",\"mutableUniversalRefIn1Long\",\"mutableUniversalRefIn2Longs\",\"valhalla\",\"value\",\"valueOnlyBodies\",\"valuePreserveBox\",\"baseline\",\"mutableSpecificRef\",\"mutableUniversalRef\",\"valhalla\",\"value\",\"valueOnlyBodies\",\"valuePreserveBox\"]\n},{\n\"aesthetic\":\"y\",\n\"name\":\"ns/op\",\n\"limits\":[null,null]\n},{\n\"aesthetic\":\"fill\",\n\"discrete\":true,\n\"name\":\"Type\",\n\"guide\":{\n\"name\":\"legend\"\n}\n},{\n\"aesthetic\":\"x\"\n},{\n\"aesthetic\":\"x\"\n},{\n\"aesthetic\":\"y\",\n\"limits\":[null,null]\n}],\n\"layers\":[{\n\"mapping\":{\n\"x\":\"name\",\n\"y\":\"score\",\n\"fill\":\"type\"\n},\n\"stat\":\"identity\",\n\"sampling\":\"none\",\n\"position\":\"dodge\",\n\"geom\":\"bar\",\n\"tooltips\":{\n\"lines\":[\"Type|@type\",\"Benchmark|@name\",\"Score|@score\"]\n},\n\"data\":{\n}\n},{\n\"mapping\":{\n\"x\":\"name\",\n\"ymin\":\"minErr\",\n\"ymax\":\"maxErr\"\n},\n\"stat\":\"identity\",\n\"sampling\":\"none\",\n\"width\":0.5,\n\"position\":\"identity\",\n\"geom\":\"errorbar\",\n\"data\":{\n}\n},{\n\"mapping\":{\n\"x\":\"name\",\n\"y\":\"textPosition\",\n\"label\":\"label\"\n},\n\"stat\":\"identity\",\n\"size\":1.5999999999999996,\n\"sampling\":\"none\",\n\"position\":\"identity\",\n\"geom\":\"text\",\n\"data\":{\n}\n}],\n\"theme\":{\n\"flavor\":\"solarized_light\"\n}\n};\n       var plotContainer = document.getElementById(\"O0vmIR\");\n       LetsPlot.buildPlotFromProcessedSpecs(plotSpec, -1, -1, plotContainer);\n   </script>    ",
      "application/plot+json": {
       "output_type": "lets_plot_spec",
       "output": {
        "ggtitle": {
         "text": "Ackermann",
         "subtitle": "Hotspot with Valhalla"
        },
        "mapping": {},
        "data": {
         "score": [
          16441.922,
          8317.066,
          9972.941,
          10472.17,
          10868.468,
          12826.061,
          13031.105,
          14832.122,
          13111.345,
          17616.836,
          10596.252,
          10657.979,
          13847.497,
          13592.294,
          16282.392,
          13707.938,
          16776.123,
          16823.066,
          11083.632,
          18614.283,
          13599.757,
          10324.676,
          13434.403,
          15668.893,
          13434.034,
          18293.832,
          11458.898,
          11426.356,
          10799.866,
          14999.24,
          17162.633,
          14793.805
         ],
         "textPosition": [
          8220.961,
          4158.533,
          4986.4707,
          5236.085,
          5434.234,
          6413.0303,
          6515.5527,
          7416.061,
          6555.6724,
          8808.418,
          5298.126,
          5328.9893,
          6923.7485,
          6796.147,
          8141.196,
          6853.969,
          8388.062,
          8411.533,
          5541.816,
          9307.142,
          6799.8784,
          5162.338,
          6717.2017,
          7834.4463,
          6717.017,
          9146.916,
          5729.449,
          5713.178,
          5399.933,
          7499.62,
          8581.316,
          7396.9023
         ],
         "name": [
          "baselineInt",
          "longPackInt",
          "mutableSpecificRefInt",
          "mutableUniversalRefIntIn1Long",
          "mutableUniversalRefIntIn2Longs",
          "valhallaInt",
          "valueInt",
          "valueOnlyBodiesInt",
          "valuePreserveBoxInt",
          "baselineLong",
          "mutableSpecificRefLong",
          "mutableUniversalRefLong",
          "valhallaLong",
          "valueLong",
          "valueOnlyBodiesLong",
          "valuePreserveBoxLong",
          "baselineFloat",
          "longPackFloat",
          "mutableSpecificRefFloat",
          "mutableUniversalRefFloatIn1Long",
          "mutableUniversalRefFloatIn2Longs",
          "valhallaFloat",
          "valueFloat",
          "valueOnlyBodiesFloat",
          "valuePreserveBoxFloat",
          "baselineDouble",
          "mutableSpecificRefDouble",
          "mutableUniversalRefDouble",
          "valhallaDouble",
          "valueDouble",
          "valueOnlyBodiesDouble",
          "valuePreserveBoxDouble"
         ],
         "minErr": [
          16321.292,
          8277.95,
          9922.976,
          10373.558,
          10819.648,
          12782.384,
          12785.434,
          14776.021,
          12853.059,
          17507.115,
          10539.761,
          10513.637,
          13818.628,
          13506.296,
          16200.897,
          13415.487,
          16683.82,
          16806.01,
          11025.201,
          18596.39,
          13568.714,
          10285.921,
          13155.841,
          15534.781,
          13230.072,
          18060.25,
          11401.872,
          11358.418,
          10742.56,
          14667.486,
          16939.459,
          14615.142
         ],
         "label": [
          "100%\n±\n0.7%\nInt",
          "51%\n±\n0.2%\nInt",
          "61%\n±\n0.3%\nInt",
          "64%\n±\n0.6%\nInt",
          "66%\n±\n0.3%\nInt",
          "78%\n±\n0.3%\nInt",
          "79%\n±\n1.5%\nInt",
          "90%\n±\n0.3%\nInt",
          "80%\n±\n1.6%\nInt",
          "100%\n±\n0.6%\nLong",
          "60%\n±\n0.3%\nLong",
          "60%\n±\n0.8%\nLong",
          "79%\n±\n0.2%\nLong",
          "77%\n±\n0.5%\nLong",
          "92%\n±\n0.5%\nLong",
          "78%\n±\n1.7%\nLong",
          "100%\n±\n0.6%\nFloat",
          "100%\n±\n0.1%\nFloat",
          "66%\n±\n0.3%\nFloat",
          "111%\n±\n0.1%\nFloat",
          "81%\n±\n0.2%\nFloat",
          "62%\n±\n0.2%\nFloat",
          "80%\n±\n1.7%\nFloat",
          "93%\n±\n0.8%\nFloat",
          "80%\n±\n1.2%\nFloat",
          "100%\n±\n1.3%\nDouble",
          "63%\n±\n0.3%\nDouble",
          "62%\n±\n0.4%\nDouble",
          "59%\n±\n0.3%\nDouble",
          "82%\n±\n1.8%\nDouble",
          "94%\n±\n1.2%\nDouble",
          "81%\n±\n1.0%\nDouble"
         ],
         "type": [
          "Int",
          "Int",
          "Int",
          "Int",
          "Int",
          "Int",
          "Int",
          "Int",
          "Int",
          "Long",
          "Long",
          "Long",
          "Long",
          "Long",
          "Long",
          "Long",
          "Float",
          "Float",
          "Float",
          "Float",
          "Float",
          "Float",
          "Float",
          "Float",
          "Float",
          "Double",
          "Double",
          "Double",
          "Double",
          "Double",
          "Double",
          "Double"
         ],
         "maxErr": [
          16562.553,
          8356.182,
          10022.906,
          10570.782,
          10917.288,
          12869.738,
          13276.776,
          14888.223,
          13369.631,
          17726.557,
          10652.743,
          10802.321,
          13876.366,
          13678.292,
          16363.887,
          14000.389,
          16868.428,
          16840.121,
          11142.063,
          18632.178,
          13630.8,
          10363.431,
          13712.965,
          15803.005,
          13637.996,
          18527.414,
          11515.924,
          11494.294,
          10857.172,
          15330.994,
          17385.807,
          14972.468
         ]
        },
        "ggsize": {
         "width": 800.0,
         "height": 600.0
        },
        "kind": "plot",
        "scales": [
         {
          "aesthetic": "x",
          "breaks": [
           "baselineInt",
           "longPackInt",
           "mutableSpecificRefInt",
           "mutableUniversalRefIntIn1Long",
           "mutableUniversalRefIntIn2Longs",
           "valhallaInt",
           "valueInt",
           "valueOnlyBodiesInt",
           "valuePreserveBoxInt",
           "baselineLong",
           "mutableSpecificRefLong",
           "mutableUniversalRefLong",
           "valhallaLong",
           "valueLong",
           "valueOnlyBodiesLong",
           "valuePreserveBoxLong",
           "baselineFloat",
           "longPackFloat",
           "mutableSpecificRefFloat",
           "mutableUniversalRefFloatIn1Long",
           "mutableUniversalRefFloatIn2Longs",
           "valhallaFloat",
           "valueFloat",
           "valueOnlyBodiesFloat",
           "valuePreserveBoxFloat",
           "baselineDouble",
           "mutableSpecificRefDouble",
           "mutableUniversalRefDouble",
           "valhallaDouble",
           "valueDouble",
           "valueOnlyBodiesDouble",
           "valuePreserveBoxDouble"
          ],
          "name": "Benchmark",
          "labels": [
           "baseline",
           "longPack",
           "mutableSpecificRef",
           "mutableUniversalRefIn1Long",
           "mutableUniversalRefIn2Longs",
           "valhalla",
           "value",
           "valueOnlyBodies",
           "valuePreserveBox",
           "baseline",
           "mutableSpecificRef",
           "mutableUniversalRef",
           "valhalla",
           "value",
           "valueOnlyBodies",
           "valuePreserveBox",
           "baseline",
           "longPack",
           "mutableSpecificRef",
           "mutableUniversalRefIn1Long",
           "mutableUniversalRefIn2Longs",
           "valhalla",
           "value",
           "valueOnlyBodies",
           "valuePreserveBox",
           "baseline",
           "mutableSpecificRef",
           "mutableUniversalRef",
           "valhalla",
           "value",
           "valueOnlyBodies",
           "valuePreserveBox"
          ]
         },
         {
          "aesthetic": "y",
          "name": "ns/op",
          "limits": [
           null,
           null
          ]
         },
         {
          "aesthetic": "fill",
          "discrete": true,
          "name": "Type",
          "guide": {
           "name": "legend"
          }
         },
         {
          "aesthetic": "x"
         },
         {
          "aesthetic": "x"
         },
         {
          "aesthetic": "y",
          "limits": [
           null,
           null
          ]
         }
        ],
        "layers": [
         {
          "mapping": {
           "x": "name",
           "y": "score",
           "fill": "type"
          },
          "stat": "identity",
          "sampling": "none",
          "position": "dodge",
          "geom": "bar",
          "tooltips": {
           "lines": [
            "Type|@type",
            "Benchmark|@name",
            "Score|@score"
           ]
          }
         },
         {
          "mapping": {
           "x": "name",
           "ymin": "minErr",
           "ymax": "maxErr"
          },
          "stat": "identity",
          "sampling": "none",
          "width": 0.5,
          "position": "identity",
          "geom": "errorbar"
         },
         {
          "mapping": {
           "x": "name",
           "y": "textPosition",
           "label": "label"
          },
          "stat": "identity",
          "size": 1.6,
          "sampling": "none",
          "position": "identity",
          "geom": "text"
         }
        ],
        "theme": {
         "flavor": "solarized_light"
        }
       },
       "apply_color_scheme": true,
       "swing_enabled": true
      }
     },
     "metadata": {},
     "output_type": "display_data"
    }
   ],
   "source": [
    "makePlot(\"Wolf3d\", \"Hotspot with Valhalla\", readValhallaHotspotBenchmarkData(\"Wolf3dBenchmark\"))?.let { DISPLAY(it) }\n",
    "makePlot(\"Ackermann\", \"Hotspot with Valhalla\", readValhallaHotspotBenchmarkData(\"AckermannBenchmark\"))?.let { DISPLAY(it) }"
   ],
   "metadata": {
    "collapsed": false,
    "ExecuteTime": {
     "end_time": "2023-07-13T01:47:11.029684Z",
     "start_time": "2023-07-13T01:47:10.006191Z"
    }
   }
  }
 ],
 "metadata": {
  "kernelspec": {
   "display_name": "Kotlin",
   "language": "kotlin",
   "name": "kotlin"
  },
  "language_info": {
   "name": "kotlin",
   "version": "1.8.0",
   "mimetype": "text/x-kotlin",
   "file_extension": ".kt",
   "pygments_lexer": "kotlin",
   "codemirror_mode": "text/x-kotlin",
   "nbconvert_exporter": ""
  },
  "ktnbPluginMetadata": {
   "projectLibraries": []
  }
 },
 "nbformat": 4,
 "nbformat_minor": 0
}
